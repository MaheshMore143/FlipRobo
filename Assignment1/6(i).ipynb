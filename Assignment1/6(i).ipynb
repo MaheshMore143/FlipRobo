{
 "cells": [
  {
   "cell_type": "code",
   "execution_count": 1,
   "metadata": {},
   "outputs": [],
   "source": [
    "import pandas as pd\n",
    "from bs4 import BeautifulSoup\n",
    "import requests\n",
    "import selenium\n",
    "from selenium import webdriver\n",
    "import time"
   ]
  },
  {
   "cell_type": "code",
   "execution_count": 2,
   "metadata": {},
   "outputs": [],
   "source": [
    "def Top_10_Women_ODI_team(url):\n",
    "    r=requests.get(url)\n",
    "    soup=BeautifulSoup(r.content,'html.parser')\n",
    "    team=[]\n",
    "    match=[]\n",
    "    rating=[]\n",
    "    for i in soup.find_all('span',attrs={'u-hide-phablet'}):\n",
    "        team.append(i.text)\n",
    "    match.append(soup.find('td',attrs={'rankings-block__banner--matches'}).text)\n",
    "    rating.append(soup.find('td',attrs={'rankings-block__banner--points'}).text)\n",
    "    count=0\n",
    "    for i in list(soup.find_all('td',attrs={'table-body__cell u-center-text'}))[:18]:\n",
    "        if count%2==0:\n",
    "            match.append(i.text)\n",
    "        else:\n",
    "            rating.append(i.text)\n",
    "        count+=1\n",
    "    df=pd.DataFrame({'Team':team[:10],\n",
    "                     'Match':match,\n",
    "                     'Points':rating})\n",
    "    df.to_csv('top_10_women_odi_teams.csv', index = False)\n",
    "    print(df)"
   ]
  },
  {
   "cell_type": "code",
   "execution_count": 3,
   "metadata": {},
   "outputs": [
    {
     "name": "stdout",
     "output_type": "stream",
     "text": [
      "           Team Match Points\n",
      "0     Australia    15  2,436\n",
      "1         India    15  1,812\n",
      "2       England    14  1,670\n",
      "3  South Africa    19  2,090\n",
      "4   New Zealand    15  1,384\n",
      "5   West Indies    12  1,025\n",
      "6      Pakistan    15  1,101\n",
      "7    Bangladesh     5    306\n",
      "8     Sri Lanka    11    519\n",
      "9       Ireland     2     25\n"
     ]
    }
   ],
   "source": [
    "Top_10_Women_ODI_team('https://www.icc-cricket.com/rankings/womens/team-rankings/odi')"
   ]
  },
  {
   "cell_type": "markdown",
   "metadata": {},
   "source": [
    "(ii)"
   ]
  },
  {
   "cell_type": "code",
   "execution_count": 4,
   "metadata": {},
   "outputs": [],
   "source": [
    "import pandas as pd\n",
    "from bs4 import BeautifulSoup\n",
    "import requests\n",
    "import selenium\n",
    "from selenium import webdriver\n",
    "import time"
   ]
  },
  {
   "cell_type": "code",
   "execution_count": 5,
   "metadata": {},
   "outputs": [],
   "source": [
    "def Top_10_Women_ODI_player(url):\n",
    "    r=requests.get(url)\n",
    "    soup=BeautifulSoup(r.content,'html.parser')\n",
    "    name=[]\n",
    "    team=[]\n",
    "    point=[]\n",
    "    name.append(soup.find('div',attrs={\"rankings-block__banner--name-large\"}).text)\n",
    "    for i in list(soup.find_all('td',attrs={'table-body__cell rankings-table__name name'}))[:9]:\n",
    "        name.append(i.text.replace('\\n',''))\n",
    "    team.append(soup.find('div',attrs={\"rankings-block__banner--nationality\"}).text)\n",
    "    for i in list(soup.find_all('td',attrs={'table-body__cell nationality-logo rankings-table__team'}))[:9]:\n",
    "        team.append(i.text.replace('\\n',''))\n",
    "    point.append(soup.find('div',attrs={\"rankings-block__banner--rating\"}).text)\n",
    "    for i in list(soup.find_all('td',attrs={'table-body__cell rating'}))[:9]:\n",
    "        point.append(i.text)\n",
    "    df=pd.DataFrame({'Name': name,\n",
    "                     'Team':team,\n",
    "                     'points':point})\n",
    "    df.to_csv('top_10_women_odi_player.csv', index = False)\n",
    "    print(df)"
   ]
  },
  {
   "cell_type": "code",
   "execution_count": 6,
   "metadata": {},
   "outputs": [
    {
     "name": "stdout",
     "output_type": "stream",
     "text": [
      "                Name     Team points\n",
      "0        Meg Lanning  \\n\\nAUS    749\n",
      "1    Stafanie Taylor       WI    746\n",
      "2       Alyssa Healy      AUS    741\n",
      "3    Smriti Mandhana      IND    732\n",
      "4  Amy Satterthwaite       NZ    723\n",
      "5     Tammy Beaumont      ENG    716\n",
      "6    Laura Wolvaardt       SA    691\n",
      "7       Ellyse Perry      AUS    691\n",
      "8        Mithali Raj      IND    687\n",
      "9        Lizelle Lee       SA    681\n"
     ]
    }
   ],
   "source": [
    "Top_10_Women_ODI_player(\"https://www.icc-cricket.com/rankings/womens/player-rankings/odi/batting\")"
   ]
  },
  {
   "cell_type": "markdown",
   "metadata": {},
   "source": [
    "(iii)"
   ]
  },
  {
   "cell_type": "code",
   "execution_count": 7,
   "metadata": {},
   "outputs": [],
   "source": [
    "import pandas as pd\n",
    "from bs4 import BeautifulSoup\n",
    "import requests\n",
    "import selenium\n",
    "from selenium import webdriver\n",
    "import time"
   ]
  },
  {
   "cell_type": "code",
   "execution_count": 8,
   "metadata": {},
   "outputs": [],
   "source": [
    "def Top_10_Women_ODI_Allrounder(url):\n",
    "    r=requests.get(url)\n",
    "    soup=BeautifulSoup(r.content,'html.parser')\n",
    "    name=[]\n",
    "    team=[]\n",
    "    point=[]\n",
    "    name.append(soup.find('div',attrs={\"rankings-block__banner--name-large\"}).text)\n",
    "    for i in list(soup.find_all('td',attrs={'table-body__cell rankings-table__name name'}))[:9]:\n",
    "        name.append(i.text.replace('\\n',''))\n",
    "    team.append(soup.find('div',attrs={\"rankings-block__banner--nationality\"}).text)\n",
    "    for i in list(soup.find_all('td',attrs={'table-body__cell nationality-logo rankings-table__team'}))[:9]:\n",
    "        team.append(i.text.replace('\\n',''))\n",
    "    point.append(soup.find('div',attrs={\"rankings-block__banner--rating\"}).text)\n",
    "    for i in list(soup.find_all('td',attrs={'table-body__cell rating'}))[:9]:\n",
    "        point.append(i.text)\n",
    "    df=pd.DataFrame({'Name': name,\n",
    "                     'Team':team,\n",
    "                     'points':point})\n",
    "    df.to_csv('top_10_women_odi_allrounder.csv', index = False)\n",
    "    print(df)"
   ]
  },
  {
   "cell_type": "code",
   "execution_count": 9,
   "metadata": {},
   "outputs": [
    {
     "name": "stdout",
     "output_type": "stream",
     "text": [
      "               Name     Team points\n",
      "0      Ellyse Perry  \\n\\nAUS    460\n",
      "1   Stafanie Taylor       WI    410\n",
      "2    Marizanne Kapp       SA    396\n",
      "3     Deepti Sharma      IND    359\n",
      "4     Jess Jonassen      AUS    301\n",
      "5  Dane van Niekerk       SA    297\n",
      "6     Sophie Devine       NZ    289\n",
      "7    Natalie Sciver      ENG    273\n",
      "8     Shikha Pandey      IND    250\n",
      "9   Katherine Brunt      ENG    232\n"
     ]
    }
   ],
   "source": [
    "Top_10_Women_ODI_Allrounder(\"https://www.icc-cricket.com/rankings/womens/player-rankings/odi/all-rounder\")"
   ]
  },
  {
   "cell_type": "code",
   "execution_count": null,
   "metadata": {},
   "outputs": [],
   "source": []
  }
 ],
 "metadata": {
  "kernelspec": {
   "display_name": "Python 3",
   "language": "python",
   "name": "python3"
  },
  "language_info": {
   "codemirror_mode": {
    "name": "ipython",
    "version": 3
   },
   "file_extension": ".py",
   "mimetype": "text/x-python",
   "name": "python",
   "nbconvert_exporter": "python",
   "pygments_lexer": "ipython3",
   "version": "3.8.3"
  }
 },
 "nbformat": 4,
 "nbformat_minor": 4
}
