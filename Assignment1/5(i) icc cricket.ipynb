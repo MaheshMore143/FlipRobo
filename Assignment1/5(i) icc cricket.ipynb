{
 "cells": [
  {
   "cell_type": "code",
   "execution_count": 1,
   "metadata": {},
   "outputs": [],
   "source": [
    "import pandas as pd\n",
    "from bs4 import BeautifulSoup\n",
    "import requests\n",
    "import selenium\n",
    "from selenium import webdriver\n",
    "import time"
   ]
  },
  {
   "cell_type": "code",
   "execution_count": 2,
   "metadata": {},
   "outputs": [],
   "source": [
    "def Top_10_ODI_team(url):\n",
    "    r=requests.get(url)\n",
    "    soup=BeautifulSoup(r.content,'html.parser')\n",
    "    team=[]\n",
    "    match=[]\n",
    "    rating=[]\n",
    "    for i in soup.find_all('span',attrs={'u-hide-phablet'}):\n",
    "        team.append(i.text)\n",
    "    match.append(soup.find('td',attrs={'rankings-block__banner--matches'}).text)\n",
    "    rating.append(soup.find('td',attrs={'rankings-block__banner--points'}).text)\n",
    "    count=0\n",
    "    for i in list(soup.find_all('td',attrs={'table-body__cell u-center-text'}))[:18]:\n",
    "        if count%2==0:\n",
    "            match.append(i.text)\n",
    "        else:\n",
    "            rating.append(i.text)\n",
    "        count+=1\n",
    "    df=pd.DataFrame({'Team':team[:10],\n",
    "                     'Match':match,\n",
    "                     'Points':rating})\n",
    "    df.to_csv('top_10_odi_teams_men.csv', index = False)\n",
    "    print(df)"
   ]
  },
  {
   "cell_type": "code",
   "execution_count": 3,
   "metadata": {},
   "outputs": [
    {
     "name": "stdout",
     "output_type": "stream",
     "text": [
      "           Team Match Points\n",
      "0       England    44  5,405\n",
      "1         India    52  6,102\n",
      "2   New Zealand    32  3,716\n",
      "3     Australia    39  4,344\n",
      "4  South Africa    31  3,345\n",
      "5      Pakistan    35  3,490\n",
      "6    Bangladesh    37  3,366\n",
      "7     Sri Lanka    39  3,297\n",
      "8   West Indies    46  3,402\n",
      "9   Afghanistan    31  1,844\n"
     ]
    }
   ],
   "source": [
    "Top_10_ODI_team('https://www.icc-cricket.com/rankings/mens/team-rankings/odi')"
   ]
  },
  {
   "cell_type": "markdown",
   "metadata": {},
   "source": [
    "(ii)"
   ]
  },
  {
   "cell_type": "code",
   "execution_count": 4,
   "metadata": {},
   "outputs": [],
   "source": [
    "import pandas as pd\n",
    "from bs4 import BeautifulSoup\n",
    "import requests\n",
    "import selenium\n",
    "from selenium import webdriver\n",
    "import time"
   ]
  },
  {
   "cell_type": "code",
   "execution_count": 5,
   "metadata": {},
   "outputs": [],
   "source": [
    "def Top_10_ODI_batsman(url):\n",
    "    r=requests.get(url)\n",
    "    soup=BeautifulSoup(r.content,'html.parser')\n",
    "    name=[]\n",
    "    team=[]\n",
    "    point=[]\n",
    "    name.append(soup.find('div',attrs={\"rankings-block__banner--name-large\"}).text)\n",
    "    for i in list(soup.find_all('td',attrs={'table-body__cell rankings-table__name name'}))[:9]:\n",
    "        name.append(i.text.replace('\\n',''))\n",
    "    team.append(soup.find('div',attrs={\"rankings-block__banner--nationality\"}).text)\n",
    "    for i in list(soup.find_all('td',attrs={'table-body__cell nationality-logo rankings-table__team'}))[:9]:\n",
    "        team.append(i.text.replace('\\n',''))\n",
    "    point.append(soup.find('div',attrs={\"rankings-block__banner--rating\"}).text)\n",
    "    for i in list(soup.find_all('td',attrs={'table-body__cell rating'}))[:9]:\n",
    "        point.append(i.text)\n",
    "    df=pd.DataFrame({'Name': name,\n",
    "                     'Team':team,\n",
    "                     'points':point})\n",
    "    df.to_csv('top_10_odi_batsman.csv', index = False)\n",
    "    print(df)"
   ]
  },
  {
   "cell_type": "code",
   "execution_count": 6,
   "metadata": {},
   "outputs": [
    {
     "name": "stdout",
     "output_type": "stream",
     "text": [
      "                  Name     Team points\n",
      "0          Virat Kohli  \\n\\nIND    870\n",
      "1         Rohit Sharma      IND    842\n",
      "2           Babar Azam      PAK    837\n",
      "3          Ross Taylor       NZ    818\n",
      "4          Aaron Finch      AUS    791\n",
      "5  Francois du Plessis       SA    790\n",
      "6         David Warner      AUS    773\n",
      "7      Kane Williamson       NZ    765\n",
      "8      Quinton de Kock       SA    755\n",
      "9       Jonny Bairstow      ENG    754\n"
     ]
    }
   ],
   "source": [
    "Top_10_ODI_batsman(\"https://www.icc-cricket.com/rankings/mens/player-rankings/odi/batting\")"
   ]
  },
  {
   "cell_type": "markdown",
   "metadata": {},
   "source": [
    "(iii)"
   ]
  },
  {
   "cell_type": "code",
   "execution_count": 7,
   "metadata": {},
   "outputs": [],
   "source": [
    "import pandas as pd\n",
    "from bs4 import BeautifulSoup\n",
    "import requests\n",
    "import selenium\n",
    "from selenium import webdriver\n",
    "import time"
   ]
  },
  {
   "cell_type": "code",
   "execution_count": 8,
   "metadata": {},
   "outputs": [],
   "source": [
    "def Top_10_ODI_bowler(url):\n",
    "    r=requests.get(url)\n",
    "    soup=BeautifulSoup(r.content,'html.parser')\n",
    "    name=[]\n",
    "    team=[]\n",
    "    point=[]\n",
    "    name.append(soup.find('div',attrs={\"rankings-block__banner--name-large\"}).text)\n",
    "    for i in list(soup.find_all('td',attrs={'table-body__cell rankings-table__name name'}))[:9]:\n",
    "        name.append(i.text.replace('\\n',''))\n",
    "    team.append(soup.find('div',attrs={\"rankings-block__banner--nationality\"}).text)\n",
    "    for i in list(soup.find_all('td',attrs={'table-body__cell nationality-logo rankings-table__team'}))[:9]:\n",
    "        team.append(i.text.replace('\\n',''))\n",
    "    point.append(soup.find('div',attrs={\"rankings-block__banner--rating\"}).text)\n",
    "    for i in list(soup.find_all('td',attrs={'table-body__cell rating'}))[:9]:\n",
    "        point.append(i.text)\n",
    "    df=pd.DataFrame({'Name': name,\n",
    "                     'Team':team,\n",
    "                     'points':point})\n",
    "    df.to_csv('top_10_odi_bowler.csv', index = False)\n",
    "    print(df)"
   ]
  },
  {
   "cell_type": "code",
   "execution_count": 9,
   "metadata": {},
   "outputs": [
    {
     "name": "stdout",
     "output_type": "stream",
     "text": [
      "                Name    Team points\n",
      "0        Trent Boult  \\n\\nNZ    722\n",
      "1   Mujeeb Ur Rahman     AFG    708\n",
      "2     Jasprit Bumrah     IND    700\n",
      "3       Mehedi Hasan     BAN    694\n",
      "4       Chris Woakes     ENG    675\n",
      "5      Kagiso Rabada      SA    665\n",
      "6     Josh Hazlewood     AUS    660\n",
      "7  Mustafizur Rahman     BAN    658\n",
      "8      Mohammad Amir     PAK    647\n",
      "9        Pat Cummins     AUS    646\n"
     ]
    }
   ],
   "source": [
    "Top_10_ODI_batsman(\"https://www.icc-cricket.com/rankings/mens/player-rankings/odi/bowling\")"
   ]
  },
  {
   "cell_type": "code",
   "execution_count": null,
   "metadata": {},
   "outputs": [],
   "source": []
  }
 ],
 "metadata": {
  "kernelspec": {
   "display_name": "Python 3",
   "language": "python",
   "name": "python3"
  },
  "language_info": {
   "codemirror_mode": {
    "name": "ipython",
    "version": 3
   },
   "file_extension": ".py",
   "mimetype": "text/x-python",
   "name": "python",
   "nbconvert_exporter": "python",
   "pygments_lexer": "ipython3",
   "version": "3.8.3"
  }
 },
 "nbformat": 4,
 "nbformat_minor": 4
}
