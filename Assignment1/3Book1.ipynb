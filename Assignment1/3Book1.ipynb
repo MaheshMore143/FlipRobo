{
 "cells": [
  {
   "cell_type": "code",
   "execution_count": 1,
   "metadata": {},
   "outputs": [],
   "source": [
    "from bs4 import BeautifulSoup\n",
    "import requests"
   ]
  },
  {
   "cell_type": "code",
   "execution_count": 2,
   "metadata": {},
   "outputs": [],
   "source": [
    "page=requests.get('https://bookpage.com/reviews')"
   ]
  },
  {
   "cell_type": "code",
   "execution_count": 3,
   "metadata": {},
   "outputs": [
    {
     "data": {
      "text/plain": [
       "b'<!DOCTYPE html>\\n<html lang=\\'en\\' xmlns:fb=\\'http://www.facebook.com/2008/fbml\\' xmlns:og=\\'http://opengraphprotocol.org/schema/\\'>\\n<head>\\n<title>Book Reviews | BookPage</title>\\n<meta name=\"description\" content=\"Book recommendations of the best new books by genre and more.\">\\n<meta name=\"keywords\" content=\"book reviews, books and literature, writing and writers\">\\n<link rel=\"canonical\" href=\"https://bookpage.com/reviews\">\\n<meta property=\"og:site_name\" content=\"BookPage.com\">\\n<meta property=\"og:title\" content=\"Book Reviews\">\\n<meta property=\"og:description\" content=\"Book recommendations of the best new books by genre and more.\">\\n<meta property=\"og:type\" content=\"website\">\\n<meta property=\"og:url\" content=\"https://bookpage.com/reviews\">\\n<meta property=\"og:image\" content=\"//www.bookpage.com/default_image.jpg\">\\n<meta name=\"twitter:card\" content=\"summary\">\\n<meta name=\"twitter:site\" content=\"@bookpage\">\\n<meta name=\"twitter:creator\" content=\"@bookpage\">\\n<meta name=\"robots\" content=\"index,follow\">\\n<meta name=\"application-name\" content=\"BookPage\">\\n<meta name=\"msapplication-tooltip\" content=\"BookPage\">\\n<meta name=\"msapplication-starturl\" content=\"https://bookpage.com/\">\\n<meta name=\"msapplication-task\" content=\"name=BookPage;action-uri=https://bookpage.com;icon-uri=https://bookpage.com/favicon.ico\">\\n<meta name=\"msapplication-task\" content=\"name=BookPage on Twitter;action-uri=http://twitter.com/bookpage;icon-uri=http://twitter.com/favicon.ico\">\\n<meta name=\"msapplication-task\" content=\"name=BookPage on Facebook;action-uri=https://www.facebook.com/pages/BookPage/116675947874;icon-uri=https://s-static.ak.facebook.com/rsrc.php/yi/r/q9U99v3_saj.ico\">\\n<meta name=\"msapplication-task\" content=\"name=BookPage on Pinterest;action-uri=http://www.pinterest.com/bookpage/;icon-uri=http://www.pinterest.com/favicon.ico\">\\n<meta name=\"msapplication-task\" content=\"name=BookPage on YouTube;action-uri=http://www.youtube.com/BookPagedotcom;icon-uri=http://www.youtube.com/favicon.ico\">\\n<meta charset=\\'utf-8\\'>\\n<meta content=\\'IE=Edge,chrome=1\\' http-equiv=\\'X-UA-Compatible\\'>\\n<meta content=\\'width=device-width, initial-scale=1.0\\' name=\\'viewport\\'>\\n<meta name=\"csrf-param\" content=\"authenticity_token\" />\\n<meta name=\"csrf-token\" content=\"oaqWIMgbPzYvIUb4wimbFuSy63yNk/to3ZH48ZCkQ6nqhzPNm/JcgYIm81tJE9Csuwh9QaRz2x1UVHIH5yiqTQ==\" />\\n<!-- Le HTML5 shim, for IE6-8 support of HTML elements -->\\n<!--[if lt IE 9]>\\n<script src=\"//html5shim.googlecode.com/svn/trunk/html5.js\"></script>\\n<![endif]-->\\n<link rel=\"stylesheet\" media=\"all\" href=\"/assets/application-b9f5cab7c2033d0b769ae1f7564d5c096ad9f82f5950241003f1b5d1bdae77ee.css\" />\\n<link href=\\'/apple-touch-icon-180x180.png\\' rel=\\'apple-touch-icon\\' sizes=\\'180x180\\'>\\n<link href=\\'/apple-touch-icon-152x152.png\\' rel=\\'apple-touch-icon\\' sizes=\\'152x152\\'>\\n<link href=\\'/apple-touch-icon-144x144.png\\' rel=\\'apple-touch-icon\\' sizes=\\'144x144\\'>\\n<link href=\\'/apple-touch-icon-120x120.png\\' rel=\\'apple-touch-icon\\' sizes=\\'120x120\\'>\\n<link href=\\'/apple-touch-icon-114x114.png\\' rel=\\'apple-touch-icon\\' sizes=\\'114x114\\'>\\n<link href=\\'/apple-touch-icon-76x76.png\\' rel=\\'apple-touch-icon\\' sizes=\\'76x76\\'>\\n<link href=\\'/apple-touch-icon-72x72.png\\' rel=\\'apple-touch-icon\\' sizes=\\'72x72\\'>\\n<link href=\\'/apple-touch-icon.png\\' rel=\\'apple-touch-icon\\'>\\n<link href=\\'/favicon.ico\\' rel=\\'shortcut icon\\'>\\n<meta content=\\'BookPage\\' name=\\'apple-mobile-web-app-title\\'>\\n<link rel=\"alternate\" type=\"application/atom+xml\" title=\"ATOM\" href=\"/feed\" />\\n<link rel=\"alternate\" type=\"application/rss+xml\" title=\"RSS\" href=\"/feed.rss\" />\\n<link href=\\'//fonts.googleapis.com/css?family=Open+Sans:400,600,700,800\\' rel=\\'stylesheet\\' type=\\'text/css\\'>\\n<link href=\\'//fonts.googleapis.com/css?family=Open+Sans+Condensed:700\\' rel=\\'stylesheet\\' type=\\'text/css\\'>\\n<script async=\\'async\\' src=\\'https://www.googletagservices.com/tag/js/gpt.js\\'></script>\\n<script>\\n var googletag = googletag || {};\\n googletag.cmd = googletag.cmd || [];\\n</script>\\n\\n<script>\\n googletag.cmd.push(function() {\\n   googletag.defineSlot(\\'/4655871/ATL\\', [970, 250], \\'div-gpt-ad-1515619791087-0\\').addService(googletag.pubads());\\n   googletag.pubads().enableSingleRequest();\\n   googletag.enableServices();\\n });\\n</script>\\n\\n<script src=\\'//d3c3cq33003psk.cloudfront.net/opentag-123939-1670854.js\\' async defer></script><script type=\"text/javascript\">\\n var googletag = googletag || {};\\ngoogletag.cmd = googletag.cmd || [];\\n(function() {\\nvar gads = document.createElement(\"script\");\\ngads.async = true;\\ngads.type = \"text/javascript\";\\nvar useSSL = \"https:\" == document.location.protocol;\\ngads.src = (useSSL ? \"https:\" : \"http:\") + \"//www.googletagservices.com/tag/js/gpt.js\";\\nvar node =document.getElementsByTagName(\"script\")[0];\\nnode.parentNode.insertBefore(gads, node);\\n})();\\n</script>\\n\\n<!-- Global site tag (gtag.js) - Google Analytics -->\\n<script async src=\"https://www.googletagmanager.com/gtag/js?id=GTM-P85NP22\"></script>\\n<script>\\n  window.dataLayer = window.dataLayer || [];\\n  function gtag(){dataLayer.push(arguments);}\\n  gtag(\\'js\\', new Date());\\n\\n  gtag(\\'config\\', \\'GTM-P85NP22\\');\\n</script>\\n\\n<script>\\n  (function(i,s,o,g,r,a,m){i[\\'GoogleAnalyticsObject\\']=r;i[r]=i[r]||function(){\\n  (i[r].q=i[r].q||[]).push(arguments)},i[r].l=1*new Date();a=s.createElement(o),\\n  m=s.getElementsByTagName(o)[0];a.async=1;a.src=g;m.parentNode.insertBefore(a,m)\\n  })(window,document,\\'script\\',\\'//www.google-analytics.com/analytics.js\\',\\'ga\\');\\n\\n  ga(\\'create\\', \\'UA-9261499-1\\', \\'auto\\');\\n  ga(\\'send\\', \\'pageview\\');\\n</script>\\n<!-- Google Tag Manager -->\\n<script>(function(w,d,s,l,i){w[l]=w[l]||[];w[l].push({\\'gtm.start\\':\\nnew Date().getTime(),event:\\'gtm.js\\'});var f=d.getElementsByTagName(s)[0],\\nj=d.createElement(s),dl=l!=\\'dataLayer\\'?\\'&l=\\'+l:\\'\\';j.async=true;j.src=\\n\\'https://www.googletagmanager.com/gtm.js?id=\\'+i+dl;f.parentNode.insertBefore(j,f);\\n})(window,document,\\'script\\',\\'dataLayer\\',\\'GTM-P85NP22\\');</script>\\n<!-- End Google Tag Manager -->\\n\\n<!-- Facebook Pixel Code -->\\n<script>\\n!function(f,b,e,v,n,t,s){if(f.fbq)return;n=f.fbq=function(){n.callMethod?\\nn.callMethod.apply(n,arguments):n.queue.push(arguments)};if(!f._fbq)f._fbq=n;\\nn.push=n;n.loaded=!0;n.version=\\'2.0\\';n.queue=[];t=b.createElement(e);t.async=!0;\\nt.src=v;s=b.getElementsByTagName(e)[0];s.parentNode.insertBefore(t,s)}(window,\\ndocument,\\'script\\',\\'//connect.facebook.net/en_US/fbevents.js\\');\\n\\nfbq(\\'init\\', \\'1746518832242335\\');\\nfbq(\\'track\\', \"PageView\");</script>\\n<noscript><img height=\"1\" width=\"1\" style=\"display:none\"\\nsrc=\"https://www.facebook.com/tr?id=1746518832242335&ev=PageView&noscript=1\"\\n/></noscript>\\n<!-- End Facebook Pixel Code -->\\n\\n<script>\\n    (function(h,o,t,j,a,r){\\n        h.hj=h.hj||function(){(h.hj.q=h.hj.q||[]).push(arguments)};\\n        h._hjSettings={hjid:1209228,hjsv:6};\\n        a=o.getElementsByTagName(\\'head\\')[0];\\n        r=o.createElement(\\'script\\');r.async=1;\\n        r.src=t+h._hjSettings.hjid+j+h._hjSettings.hjsv;\\n        a.appendChild(r);\\n    })(window,document,\\'https://static.hotjar.com/c/hotjar-\\',\\'.js?sv=\\');\\n</script>\\n\\n<!-- Facebook Pixel Code -->\\n<script>(function(){var s = document.createElement(\\'script\\'),e = ! document.body ? document.querySelector(\\'head\\') : document.body;s.src = \\'https://acsbapp.com/apps/app/assets/js/acsb.js\\';s.async = s.defer = true;s.onload = function(){acsbJS.init({statementLink : \\'\\',feedbackLink : \\'\\',footerHtml : \\'\\',hideMobile : false,hideTrigger : false,language : \\'en\\',position : \\'right\\',leadColor : \\'#146FF8\\',triggerColor : \\'#146FF8\\',triggerRadius : \\'50%\\',triggerPositionX : \\'right\\',triggerPositionY : \\'bottom\\',triggerIcon : \\'default\\',triggerSize : \\'medium\\',triggerOffsetX : 20,triggerOffsetY : 20,mobile : {triggerSize : \\'small\\',triggerPositionX : \\'right\\',triggerPositionY : \\'center\\',triggerOffsetX : 0,triggerOffsetY : 0,triggerRadius : \\'50%\\'}});};e.appendChild(s);}());</script>\\n<!-- End Facebook Pixel Code -->\\n\\n</head>\\n\\n<body>\\n<!-- Google Tag Manager -->\\n<noscript><iframe src=\"//www.googletagmanager.com/ns.html?id=GTM-T5GJ4V\"\\nheight=\"0\" width=\"0\" style=\"display:none;visibility:hidden\"></iframe></noscript>\\n<script>(function(w,d,s,l,i){w[l]=w[l]||[];w[l].push({\\'gtm.start\\':\\nnew Date().getTime(),event:\\'gtm.js\\'});var f=d.getElementsByTagName(s)[0],\\nj=d.createElement(s),dl=l!=\\'dataLayer\\'?\\'&l=\\'+l:\\'\\';j.async=true;j.src=\\n\\'//www.googletagmanager.com/gtm.js?id=\\'+i+dl;f.parentNode.insertBefore(j,f);\\n})(window,document,\\'script\\',\\'dataLayer\\',\\'GTM-T5GJ4V\\');</script>\\n<!-- End Google Tag Manager -->\\n\\n<!-- Google Tag Manager (noscript) -->\\n<noscript><iframe src=\"https://www.googletagmanager.com/ns.html?id=GTM-P85NP22\"\\nheight=\"0\" width=\"0\" style=\"display:none;visibility:hidden\"></iframe></noscript>\\n<!-- End Google Tag Manager (noscript) -->\\n\\n<!-- google ads -->\\n<script data-ad-client=\"ca-pub-1933750090033622\" async src=\"https://pagead2.googlesyndication.com/pagead/js/adsbygoogle.js\"></script>\\n\\n<div class=\\'container-fluid\\'>\\n<div class=\\'header\\'>\\n<div class=\\'navbar navbar-default navbar-fixed-top bp-nav\\'>\\n<div class=\\'row-fluid subscribe\\'>\\n<a class=\\'button\\' href=\\'https://signup.e2ma.net/signup/1896962/28888/\\' onclick=\"window.open(\\'https://signup.e2ma.net/signup/1896962/28888/\\', \\'signup\\', \\'menubar=no, location=no, toolbar=no, scrollbars=yes, height=800, width=500\\'); return false;\">Sign up for our newsletters!</a>\\n</div>\\n<div class=\\'navbar-inner\\'>\\n<a class=\\'btn btn-navbar\\' data-target=\\'.nav-collapse\\' data-toggle=\\'collapse\\'>\\n<i class=\\'zmdi zmdi-menu\\'></i>\\n</a>\\n<a href=\\'/\\'>\\n<img class=\"brand\" src=\"/assets/logos/logo_large-d48d8b33b2656c699a6815c500d328a7d0ee40edfde8536e957bfb739cfbf611.png\" alt=\"Logo large\" />\\n</a>\\n<div class=\\'nav-collapse\\'>\\n<ul class=\\'nav bp-navtext\\'>\\n<li class=\\'\\'><a href=\"/print-edition\">Print Edition</a></li>\\n<li class=\\'current dropdown\\'>\\n<a aria-expanded=\\'false\\' aria-haspopup=\\'true\\' class=\\'dropdown-toggle\\' data-toggle=\\'dropdown\\' href=\\'/reviews\\' role=\\'button\\'>Book Reviews</a>\\n<ul class=\\'dropdown-menu\\'>\\n<li><a href=\"/reviews\">All Reviews</a></li>\\n<li><a href=\"/reviews?book_genre=fiction&amp;page=1\">Fiction</a></li>\\n<li><a href=\"/reviews?book_genre=nonfiction&amp;page=1\">Nonfiction</a></li>\\n<li><a href=\"/reviews?book_genre=children_s&amp;page=1\">Children&#39;s</a></li>\\n<li><a href=\"/reviews?book_genre=ya&amp;page=1\">YA</a></li>\\n<li><a href=\"/reviews?book_genre=mystery_suspense&amp;page=1\">Mystery</a></li>\\n<li><a href=\"/reviews?book_genre=romance&amp;page=1\">Romance</a></li>\\n</ul>\\n</li>\\n<li class=\\'\\'><a href=\"/interviews\">Interviews</a></li>\\n<li class=\\'\\'><a href=\"/features\">Features</a></li>\\n<li class=\\'nav-last dropdown\\'>\\n<a aria-expanded=\\'false\\' aria-haspopup=\\'true\\' class=\\'dropdown-toggle\\' data-toggle=\\'dropdown\\' href=\\'/reviews\\' role=\\'button\\'>Subscribe</a>\\n<ul class=\\'dropdown-menu\\'>\\n<li><a target=\"_blank\" href=\"http://www.subscriptions.bookpage.com/library\">Library</a></li>\\n<li><a target=\"_blank\" href=\"http://www.subscriptions.bookpage.com/bookstore\">Bookstore</a></li>\\n<li><a target=\"_blank\" href=\"http://MIurl.cc/Z6eD1pmI\">Individual</a></li>\\n</ul>\\n</li>\\n<div class=\\'search-box\\'>\\n<form class=\"search-form\" action=\"/search/\" accept-charset=\"UTF-8\" method=\"get\"><input name=\"utf8\" type=\"hidden\" value=\"&#x2713;\" />\\n<div class=\\'input-prepend\\'>\\n<span class=\\'add-on add-on-custom\\'>\\n<i class=\\'fa fa-search\\'></i>\\n</span>\\n<input type=\"text\" name=\"query\" id=\"query\" class=\"input-medium query-input\" placeholder=\"Search BookPage\" />\\n</div>\\n</form>\\n\\n</div>\\n\\n</ul>\\n</div>\\n</div>\\n</div>\\n\\n</div>\\n<div class=\\'page-content\\'>\\n<!-- Main Content -->\\n<div class=\\'row-fluid articles-index\\'>\\n<div class=\\'row-fluid\\'>\\n<div class=\\'search-bar\\'>\\n<div class=\\'breadcrumbs\\'>\\n<p>\\n<a href=\"/\">Home</a>\\n&nbsp;<i class=\\'zmdi zmdi-chevron-right\\'></i>\\n<h1 class=\\'sans\\'>\\nBook reviews\\n</h1>\\n</p>\\n</div>\\n<br class=\\'clear\\'>\\n</div>\\n\\n</div>\\n<div class=\\'row-fluid\\'>\\n<!-- Articles Column -->\\n<div class=\\'span9\\'>\\n<div class=\\'bp-well\\'>\\n<div class=\\'row-fluid article-row\\'>\\n<div class=\\'bp-block article-info\\'>\\n<div class=\\'article-list-left\\'>\\n<a href=\"/reviews/25779-daniel-loedel-hades-argentina-fiction\"><img src=\"https://t1.bookpage.com/books/images/6043eaf89e5dea3359a9881d62fc1102/medium.jpg\" alt=\"Medium\" /></a>\\n</div>\\n<div class=\\'flex-article-content\\'>\\n<h4 class=\\'italic\\'>\\n<a href=\"/reviews/25779-daniel-loedel-hades-argentina-fiction\">Hades, Argentina</a>\\n</h4>\\n<p class=\\'sans bold\\'>\\nDaniel Loedel\\n</p>\\n<p class=\\'genre-links hidden-phone\\'>\\n<a href=\"/search?book_genre=fiction\">Fiction</a>\\n / \\n<a href=\"/search?book_genre=literary_fiction\">Literary Fiction</a>\\n</p>\\n\\n<p class=\\'excerpt\\'>\\nAs Tom\\xc3\\xa1s reenters the world of Argentina\\xe2\\x80\\x99s dirty war, time blurs, and the surreal blends with reality. As he relives trauma and torture, readers experience it with him, seeing a slice of history that is rarely talked about and feeling immersed in the ways that love, guilt and regret drive so many...\\n</p>\\n<div class=\\'read-full\\'>\\n<a href=\"/reviews/25779-daniel-loedel-hades-argentina-fiction\">Read the Review <i class=\\'zmdi zmdi-chevron-right\\'></i></a>\\n</div>\\n</div>\\n<br class=\\'clear\\'>\\n</div>\\n\\n</div>\\n<div class=\\'row-fluid article-row\\'>\\n<div class=\\'bp-block article-info\\'>\\n<div class=\\'article-list-left\\'>\\n<a href=\"/reviews/25822-anna-north-outlawed-fiction\"><img src=\"https://t1.bookpage.com/books/images/8fab44496c0d75b18a512caa354eb4e6/medium.jpg\" alt=\"Medium\" /></a>\\n</div>\\n<div class=\\'flex-article-content\\'>\\n<h4 class=\\'italic\\'>\\n<a href=\"/reviews/25822-anna-north-outlawed-fiction\">Outlawed</a>\\n</h4>\\n<p class=\\'sans bold\\'>\\nAnna North\\n</p>\\n<p class=\\'genre-links hidden-phone\\'>\\n<a href=\"/search?book_genre=fiction\">Fiction</a>\\n / \\n<a href=\"/search?book_genre=dystopian_fiction\">Dystopian Fiction</a>\\n / \\n<a href=\"/search?book_genre=western\">Western</a>\\n</p>\\n\\n<p class=\\'excerpt\\'>\\n<p>This ain&rsquo;t no Louis L&rsquo;Amour tale of the Wild West. <strong>Outlawed</strong>, the third novel by Anna North, is a gender-bending, genre-hopping yarn that&rsquo;s part frontier novel, part <em>Handmaid&rsquo;s Tale </em>and all ripsnorting fun.</p>\\n</p>\\n<div class=\\'read-full\\'>\\n<a href=\"/reviews/25822-anna-north-outlawed-fiction\">Read the Review <i class=\\'zmdi zmdi-chevron-right\\'></i></a>\\n</div>\\n</div>\\n<br class=\\'clear\\'>\\n</div>\\n\\n</div>\\n<div class=\\'row-fluid article-row\\'>\\n<div class=\\'bp-block article-info\\'>\\n<div class=\\'article-list-left\\'>\\n<a href=\"/reviews/25848-leuyen-pham-outside-inside-childrens\"><img src=\"https://t1.bookpage.com/books/images/08deca2a23b442a447e916f3f2ab8fbe/medium.jpg\" alt=\"Medium\" /></a>\\n</div>\\n<div class=\\'flex-article-content\\'>\\n<h4 class=\\'italic\\'>\\n<a href=\"/reviews/25848-leuyen-pham-outside-inside-childrens\">Outside, Inside</a>\\n</h4>\\n<p class=\\'sans bold\\'>\\nLeUyen Pham\\n</p>\\n<p class=\\'genre-links hidden-phone\\'>\\n<a href=\"/search?book_genre=children_s\">Children&#39;s</a>\\n / \\n<a href=\"/search?book_genre=children_s_picture_book\">Children&#39;s Picture Book</a>\\n</p>\\n\\n<p class=\\'excerpt\\'>\\n<p>LeUyen Pham&rsquo;s <strong>Outside, Inside </strong>addresses the subject of the COVID-19 pandemic for young readers with sensitivity and compassion.</p>\\n</p>\\n<div class=\\'read-full\\'>\\n<a href=\"/reviews/25848-leuyen-pham-outside-inside-childrens\">Read the Review <i class=\\'zmdi zmdi-chevron-right\\'></i></a>\\n</div>\\n</div>\\n<br class=\\'clear\\'>\\n</div>\\n\\n</div>\\n<div class=\\'row-fluid article-row\\'>\\n<div class=\\'bp-block article-info\\'>\\n<div class=\\'article-list-left\\'>\\n<a href=\"/reviews/25786-ashley-audrain-push-fiction\"><img src=\"https://t1.bookpage.com/books/images/3c0a5b3212c750b8a30872fa43bc29a4/medium.jpg\" alt=\"Medium\" /></a>\\n</div>\\n<div class=\\'flex-article-content\\'>\\n<h4 class=\\'italic\\'>\\n<a href=\"/reviews/25786-ashley-audrain-push-fiction\">The Push</a>\\n</h4>\\n<p class=\\'sans bold\\'>\\nAshley Audrain\\n</p>\\n<p class=\\'genre-links hidden-phone\\'>\\n<a href=\"/search?book_genre=fiction\">Fiction</a>\\n / \\n<a href=\"/search?book_genre=family_drama\">Family Drama</a>\\n</p>\\n\\n<p class=\\'excerpt\\'>\\n<p>It&rsquo;s easy to think of intimate, single-POV novels as somewhat simple narrative exercises, but Ashley Audrain&rsquo;s gripping debut is proof that this is an illusion. In the hands of the right storyteller, even the most compact novels can be works of great complexity.</p>\\n</p>\\n<div class=\\'read-full\\'>\\n<a href=\"/reviews/25786-ashley-audrain-push-fiction\">Read the Review <i class=\\'zmdi zmdi-chevron-right\\'></i></a>\\n</div>\\n</div>\\n<br class=\\'clear\\'>\\n</div>\\n\\n</div>\\n<div class=\\'row-fluid article-row\\'>\\n<div class=\\'bp-block article-info\\'>\\n<div class=\\'article-list-left\\'>\\n<a href=\"/reviews/25840-livia-blackburne-i-dream-popo-childrens\"><img src=\"https://t1.bookpage.com/books/images/8ef31eaa1c81753d6ff62bcdffaa4254/medium.jpg\" alt=\"Medium\" /></a>\\n</div>\\n<div class=\\'flex-article-content\\'>\\n<h4 class=\\'italic\\'>\\n<a href=\"/reviews/25840-livia-blackburne-i-dream-popo-childrens\">I Dream of Popo</a>\\n</h4>\\n<p class=\\'sans bold\\'>\\nLivia Blackburne, Julia Kuo\\n</p>\\n<p class=\\'genre-links hidden-phone\\'>\\n<a href=\"/search?book_genre=children_s\">Children&#39;s</a>\\n / \\n<a href=\"/search?book_genre=children_s_picture_book\">Children&#39;s Picture Book</a>\\n</p>\\n\\n<p class=\\'excerpt\\'>\\n<p>A young girl stays in touch with her beloved grandmother, Popo, when her family moves to the United States from Taiwan in this exuberant picture book.</p>\\n</p>\\n<div class=\\'read-full\\'>\\n<a href=\"/reviews/25840-livia-blackburne-i-dream-popo-childrens\">Read the Review <i class=\\'zmdi zmdi-chevron-right\\'></i></a>\\n</div>\\n</div>\\n<br class=\\'clear\\'>\\n</div>\\n\\n</div>\\n<div class=\\'row-fluid article-row\\'>\\n<div class=\\'bp-block article-info\\'>\\n<div class=\\'article-list-left\\'>\\n<a href=\"/reviews/25820-charlie-gilmour-featherhood-biography-memoir\"><img src=\"https://t1.bookpage.com/books/images/b102384467968a4adbad3b06541894a6/medium.jpg\" alt=\"Medium\" /></a>\\n</div>\\n<div class=\\'flex-article-content\\'>\\n<h4 class=\\'italic\\'>\\n<a href=\"/reviews/25820-charlie-gilmour-featherhood-biography-memoir\"> <span style=\\'font-style:normal;\\'>&#x2605 </span>Featherhood</a>\\n</h4>\\n<p class=\\'sans bold\\'>\\nCharlie Gilmour\\n</p>\\n<p class=\\'genre-links hidden-phone\\'>\\n<a href=\"/search?book_genre=nonfiction\">Nonfiction</a>\\n / \\n<a href=\"/search?book_genre=biography_memoir\">Biography &amp; Memoir</a>\\n / \\n<a href=\"/search?book_genre=memoir\">Memoir</a>\\n</p>\\n\\n<p class=\\'excerpt\\'>\\nIn folklore, magpies are said to bring bad luck, but that certainly wasn\\xe2\\x80\\x99t the case for Charlie Gilmour. An abandoned baby bird helped this young British author finally exorcise the long shadow cast by his biological father, whoabandoned him as an infant.\\n</p>\\n<div class=\\'read-full\\'>\\n<a href=\"/reviews/25820-charlie-gilmour-featherhood-nonfiction\">Read the Review <i class=\\'zmdi zmdi-chevron-right\\'></i></a>\\n</div>\\n</div>\\n<br class=\\'clear\\'>\\n</div>\\n\\n</div>\\n<div class=\\'row-fluid article-row\\'>\\n<div class=\\'bp-block article-info\\'>\\n<div class=\\'article-list-left\\'>\\n<a href=\"/reviews/25812-jane-johnson-sea-gate-fiction\"><img src=\"https://t1.bookpage.com/books/images/49b73ef6c380100666575408068f12bd/medium.jpg\" alt=\"Medium\" /></a>\\n</div>\\n<div class=\\'flex-article-content\\'>\\n<h4 class=\\'italic\\'>\\n<a href=\"/reviews/25812-jane-johnson-sea-gate-fiction\">The Sea Gate</a>\\n</h4>\\n<p class=\\'sans bold\\'>\\nJane Johnson\\n</p>\\n<p class=\\'genre-links hidden-phone\\'>\\n<a href=\"/search?book_genre=fiction\">Fiction</a>\\n / \\n<a href=\"/search?book_genre=family_saga\">Family Saga</a>\\n</p>\\n\\n<p class=\\'excerpt\\'>\\nJane Johnson&rsquo;s latest novel, <strong>The Sea Gate</strong>, is beautiful story of love, loss and pain, bouncing between wartime memories of the 1940s and present day.\\n</p>\\n<div class=\\'read-full\\'>\\n<a href=\"/reviews/25812-jane-johnson-sea-gate-fiction\">Read the Review <i class=\\'zmdi zmdi-chevron-right\\'></i></a>\\n</div>\\n</div>\\n<br class=\\'clear\\'>\\n</div>\\n\\n</div>\\n<div class=\\'row-fluid article-row\\'>\\n<div class=\\'bp-block article-info\\'>\\n<div class=\\'article-list-left\\'>\\n<a href=\"/reviews/25788-una-mannion-crooked-tree-fiction\"><img src=\"https://t1.bookpage.com/books/images/5f6946511ac6da3d06d357a5e19b6c5a/medium.jpg\" alt=\"Medium\" /></a>\\n</div>\\n<div class=\\'flex-article-content\\'>\\n<h4 class=\\'italic\\'>\\n<a href=\"/reviews/25788-una-mannion-crooked-tree-fiction\">A Crooked Tree</a>\\n</h4>\\n<p class=\\'sans bold\\'>\\nUna Mannion\\n</p>\\n<p class=\\'genre-links hidden-phone\\'>\\n<a href=\"/search?book_genre=fiction\">Fiction</a>\\n / \\n<a href=\"/search?book_genre=coming_of_age\">Coming of Age</a>\\n</p>\\n\\n<p class=\\'excerpt\\'>\\n<p>As 15-year-old Libby Gallagher ponders several dark moments in rock &rsquo;n&rsquo; roll history, she muses, &ldquo;It all said to me that chaotic and dark forces were spinning around us. One foot wrong, and you&rsquo;d be pulled into the vortex.&rdquo; Unfortunately, a multitude of missteps have...</p>\\n</p>\\n<div class=\\'read-full\\'>\\n<a href=\"/reviews/25788-una-mannion-crooked-tree-fiction\">Read the Review <i class=\\'zmdi zmdi-chevron-right\\'></i></a>\\n</div>\\n</div>\\n<br class=\\'clear\\'>\\n</div>\\n\\n</div>\\n<div class=\\'row-fluid article-row\\'>\\n<div class=\\'bp-block article-info\\'>\\n<div class=\\'article-list-left\\'>\\n<a href=\"/reviews/25787-claudia-hernandez-slash-burn-fiction\"><img src=\"https://t1.bookpage.com/books/images/a9bd55b1190f456c7695a657b496160e/medium.jpg\" alt=\"Medium\" /></a>\\n</div>\\n<div class=\\'flex-article-content\\'>\\n<h4 class=\\'italic\\'>\\n<a href=\"/reviews/25787-claudia-hernandez-slash-burn-fiction\">Slash and Burn</a>\\n</h4>\\n<p class=\\'sans bold\\'>\\nClaudia Hern\\xc3\\xa1ndez, Julia Sanches\\n</p>\\n<p class=\\'genre-links hidden-phone\\'>\\n<a href=\"/search?book_genre=fiction\">Fiction</a>\\n / \\n<a href=\"/search?book_genre=historical_fiction\">Historical Fiction</a>\\n</p>\\n\\n<p class=\\'excerpt\\'>\\n<p><strong>Slash and Burn</strong> is an ember of a novel. Originally published in Spanish, this restrained narrative about a mother&rsquo;s sacrifice surges with hot undercurrents of danger and memory.</p>\\n</p>\\n<div class=\\'read-full\\'>\\n<a href=\"/reviews/25787-claudia-hernandez-slash-burn-fiction\">Read the Review <i class=\\'zmdi zmdi-chevron-right\\'></i></a>\\n</div>\\n</div>\\n<br class=\\'clear\\'>\\n</div>\\n\\n</div>\\n<div class=\\'row-fluid article-row\\'>\\n<div class=\\'bp-block article-info\\'>\\n<div class=\\'article-list-left\\'>\\n<a href=\"/reviews/25818-molly-greeley-heiress-fiction\"><img src=\"https://t1.bookpage.com/books/images/c0e9fff32ba57c50321f2d859aff9aba/medium.jpg\" alt=\"Medium\" /></a>\\n</div>\\n<div class=\\'flex-article-content\\'>\\n<h4 class=\\'italic\\'>\\n<a href=\"/reviews/25818-molly-greeley-heiress-fiction\">The Heiress</a>\\n</h4>\\n<p class=\\'sans bold\\'>\\nMolly Greeley\\n</p>\\n<p class=\\'genre-links hidden-phone\\'>\\n<a href=\"/search?book_genre=fiction\">Fiction</a>\\n / \\n<a href=\"/search?book_genre=literary_fiction\">Literary Fiction</a>\\n</p>\\n\\n<p class=\\'excerpt\\'>\\n<p>Enter Molly Greeley&rsquo;s novel <strong>The Heiress</strong>, an entertaining elaboration to satisfy generations of readers who have wondered and theorized about Anne de Bourgh. In perfectly Austenesque style, Greeley reveals the backstory of the Rosings Park heiress and just what made her so sickly, so...</p>\\n</p>\\n<div class=\\'read-full\\'>\\n<a href=\"/reviews/25818-molly-greeley-heiress-fiction\">Read the Review <i class=\\'zmdi zmdi-chevron-right\\'></i></a>\\n</div>\\n</div>\\n<br class=\\'clear\\'>\\n</div>\\n\\n</div>\\n<div class=\\'pagination\\'>\\n<ul>\\n\\n\\n<li class=\\'active\\'>\\n<a href=\"#\">1</a>\\n</li>\\n\\n<li class=\\'\\'>\\n<a rel=\"next\" href=\"/reviews?page=2\">2</a>\\n</li>\\n\\n<li class=\\'\\'>\\n<a href=\"/reviews?page=3\">3</a>\\n</li>\\n\\n<li class=\\'disabled\\'>\\n<a href=\"#\">&hellip;</a>\\n</li>\\n\\n<li>\\n<a rel=\"next\" href=\"/reviews?page=2\">Next &rsaquo;</a>\\n</li>\\n\\n<li>\\n<a href=\"/reviews?page=1000\">Last &raquo;</a>\\n</li>\\n\\n</ul>\\n</div>\\n\\n</div>\\n</div>\\n<!-- Refinements Column -->\\n<div class=\\'span3\\'>\\n<div id=\\'facet-box\\'>\\n<div class=\\'hidden-phone\\'>\\n<div class=\\'sidebar-header facet-header\\'>\\n<span>\\nBrowse Book reviews\\n</span>\\n</div>\\n<div class=\\'sidebar-body\\'>\\n<div class=\\'facets\\'>\\n<p aria-controls=\\'Genres\\' aria-expanded=\\'false\\' data-target=\\'#Genres\\' data-toggle=\\'collapse\\'>\\nGenres <i class=\\'zmdi zmdi-chevron-down\\'></i>\\n</p>\\n<ul class=\\'collapse\\' id=\\'Genres\\'>\\n<li>\\n<a href=\"/reviews?book_genre=fiction&amp;page=1\">Fiction</a>\\n</li>\\n<li>\\n<a href=\"/reviews?book_genre=children_s&amp;page=1\">Children&#39;s</a>\\n</li>\\n<li>\\n<a href=\"/reviews?book_genre=nonfiction&amp;page=1\">Nonfiction</a>\\n</li>\\n<li>\\n<a href=\"/reviews?book_genre=biography_memoir&amp;page=1\">Biography Memoir</a>\\n</li>\\n<li>\\n<a href=\"/reviews?book_genre=ya&amp;page=1\">YA</a>\\n</li>\\n<li>\\n<a href=\"/reviews?book_genre=ya_fiction&amp;page=1\">YA Fiction</a>\\n</li>\\n<li>\\n<a href=\"/reviews?book_genre=memoir&amp;page=1\">Memoir</a>\\n</li>\\n<li>\\n<a href=\"/reviews?book_genre=mystery_suspense&amp;page=1\">Mystery Suspense</a>\\n</li>\\n<li>\\n<a href=\"/reviews?book_genre=children_s_chapter&amp;page=1\">Children&#39;s Chapter</a>\\n</li>\\n<li>\\n<a href=\"/reviews?book_genre=history&amp;page=1\">History</a>\\n</li>\\n<li>\\n<a href=\"/reviews?book_genre=children_s_picture&amp;page=1\">Children&#39;s Picture</a>\\n</li>\\n<li>\\n<a href=\"/reviews?book_genre=historical_fiction&amp;page=1\">Historical Fiction</a>\\n</li>\\n<li>\\n<a href=\"/reviews?book_genre=biography&amp;page=1\">Biography</a>\\n</li>\\n<li>\\n<a href=\"/reviews?book_genre=debut_fiction&amp;page=1\">Debut Fiction</a>\\n</li>\\n<li>\\n<a href=\"/reviews?book_genre=literary_fiction&amp;page=1\">Literary Fiction</a>\\n</li>\\n<li>\\n<a href=\"/reviews?book_genre=business_finance&amp;page=1\">Business Finance</a>\\n</li>\\n<li>\\n<a href=\"/reviews?book_genre=science_fiction_fantasy&amp;page=1\">Science Fiction Fantasy</a>\\n</li>\\n<li>\\n<a href=\"/reviews?book_genre=arts_culture&amp;page=1\">Arts Culture</a>\\n</li>\\n<li>\\n<a href=\"/reviews?book_genre=suspense&amp;page=1\">Suspense</a>\\n</li>\\n<li>\\n<a href=\"/reviews?book_genre=lifestyles&amp;page=1\">Lifestyles</a>\\n</li>\\n<li>\\n<a href=\"/reviews?book_genre=mystery&amp;page=1\">Mystery</a>\\n</li>\\n<li>\\n<a href=\"/reviews?book_genre=science_nature&amp;page=1\">Science Nature</a>\\n</li>\\n<li>\\n<a href=\"/reviews?book_genre=romance&amp;page=1\">Romance</a>\\n</li>\\n<li>\\n<a href=\"/reviews?book_genre=women_s_fiction&amp;page=1\">Women&#39;s Fiction</a>\\n</li>\\n<li>\\n<a href=\"/reviews?book_genre=fantasy&amp;page=1\">Fantasy</a>\\n</li>\\n<li>\\n<a href=\"/reviews?book_genre=sports&amp;page=1\">Sports</a>\\n</li>\\n<li>\\n<a href=\"/reviews?book_genre=science&amp;page=1\">Science</a>\\n</li>\\n<li>\\n<a href=\"/reviews?book_genre=family_relationships&amp;page=1\">Family Relationships</a>\\n</li>\\n<li>\\n<a href=\"/reviews?book_genre=travel&amp;page=1\">Travel</a>\\n</li>\\n<li>\\n<a href=\"/reviews?book_genre=science_fiction&amp;page=1\">Science Fiction</a>\\n</li>\\n</ul>\\n</div>\\n\\n\\n</div>\\n\\n</div>\\n<div class=\\'bp-well email-bar sidebar\\'>\\n<div class=\\'row-fluid text-content\\'>\\n<div class=\\'col\\'>\\n<a class=\\'button\\' href=\\'https://signup.e2ma.net/signup/1896962/28888/\\' onclick=\"window.open(\\'https://signup.e2ma.net/signup/1896962/28888/\\', \\'signup\\', \\'menubar=no, location=no, toolbar=no, scrollbars=yes, height=800, width=500\\'); return false;\">\\n<p>Sign up for our newsletters!</p>\\n</a>\\n</div>\\n</div>\\n</div>\\n\\n\\n</div>\\n<div class=\\'sq-ad btm-margin\\'>\\n<script type=\"text/javascript\" language=\"JavaScript\">\\n aj_server = \\'https://litbreaker.nui.media/pipeline/\\'; aj_tagver = \\'1.0\\';\\n aj_zone = \\'litbreaker\\'; aj_adspot = \\'519024\\'; aj_page = \\'0\\'; aj_dim =\\'514841\\'; aj_ch = \\'\\'; aj_ct = \\'\\'; aj_kw = \\'\\';\\n aj_pv = true; aj_click = \\'\\';\\n</script><script type=\"text/javascript\" language=\"JavaScript\" src=\"https://img.nui.media/banners/ajtg.js\"></script>\\n\\n</div>\\n</div>\\n</div>\\n<div class=\\'row-fluid button-row\\'>\\n\\n<!-- billboard size -->\\n<script type=\"text/javascript\" language=\"JavaScript\">\\nif (window.innerWidth <= 600) {\\nvar aj_dim = 514841;\\n} else if (window.innerWidth >= 1000) {\\nvar aj_dim = \\'514838,514839\\';\\n} else {\\nvar aj_dim = 514839;\\n};\\naj_server = \\'https://litbreaker.nui.media/pipeline/\\'; aj_tagver = \\'1.0\\';\\naj_zone = \\'litbreaker\\'; aj_adspot = \\'518299\\'; aj_page = \\'0\\'; aj_ch = \\'\\'; aj_kw = \\'\\';\\naj_pv = true; aj_click = \\'\\';\\n</script><script type=\"text/javascript\" language=\"JavaScript\" src=\"https://img.nui.media/banners/ajtg.js\"></script>\\n\\n<!-- <script type=\"text/javascript\" language=\"JavaScript\">\\naj_server = \\'https://litbreaker.nui.media/pipeline/\\'; aj_tagver = \\'1.0\\';\\naj_zone = \\'litbreaker\\'; aj_adspot = \\'518299\\'; aj_page = \\'0\\'; aj_dim =\\'514838,514839\\'; aj_ch = \\'\\'; aj_ct = \\'\\'; aj_kw = \\'\\';\\naj_pv = true; aj_click = \\'\\';\\n</script><script type=\"text/javascript\" language=\"JavaScript\" src=\"https://img.nui.media/banners/ajtg.js\"></script>\\n-->\\n\\n<!-- <script type=\"text/javascript\" language=\"JavaScript\">\\naj_server = \\'https://litbreaker.nui.media/pipeline/\\'; aj_tagver = \\'1.0\\';\\naj_zone = \\'litbreaker\\'; aj_adspot = \\'557205\\'; aj_page = \\'0\\'; aj_dim =\\'514838\\'; aj_ch = \\'\\'; aj_ct = \\'\\'; aj_kw = \\'\\';\\naj_pv = true; aj_click = \\'\\';\\n</script><script type=\"text/javascript\" language=\"JavaScript\" src=\"https://img.nui.media/banners/ajtg.js\"></script> -->\\n\\n</div>\\n</div>\\n\\n</div>\\n</div>\\n<div class=\\'container-fluid no-padding\\'>\\n<div class=\\'footer row-fluid\\'>\\n<div class=\\'dark-block span12\\'>\\n<footer>\\n<div class=\\'row-fluid brand\\'>\\n<div class=\\'span3\\'></div>\\n<div class=\\'span6 middle\\'>\\n<img width=\"156\" height=\"36\" class=\"brand\" src=\"/assets/logos/logo_gray-895f864507d68e549bee2b02a0872a197ce42fe59b407ad4651db8acf446f06b.png\" alt=\"Logo gray\" />\\n</div>\\n</div>\\n<div class=\\'row-fluid\\'>\\n<p class=\\'list-header\\'>Subscriptions</p>\\n<p class=\\'sitemap\\'>\\n<a target=\"_blank\" href=\"http://www.subscriptions.bookpage.com/bookstore\">Bookstore</a>\\n\\xe2\\x80\\xa2\\n<a target=\"_blank\" href=\"http://www.subscriptions.bookpage.com/library\">Library</a>\\n\\xe2\\x80\\xa2\\n<a target=\"_blank\" href=\"http://MIurl.cc/Z6eD1pmI\">Individual</a>\\n\\xe2\\x80\\xa2\\n<a href=\"https://www.amazon.com/BookPage/dp/B00ATRKG30/ref=sr_1_1?ie=UTF8&amp;qid=1533306733&amp;sr=8-1&amp;keywords=bookpage\">Digital\\n</a>\\xe2\\x80\\xa2\\n<a href=\"/content/locations\">Find BookPage\\n</a></p>\\n</div>\\n<div class=\\'row-fluid\\'>\\n<p class=\\'list-header\\'>Company</p>\\n<p class=\\'sitemap\\'>\\n<a href=\"/content/about-us\">About BookPage\\n</a>\\xe2\\x80\\xa2\\n<a href=\"/content/advertise\">Advertise\\n</a>\\xe2\\x80\\xa2\\n<a href=\"/content/contact-us\">Contact Us\\n</a>\\xe2\\x80\\xa2\\n<a href=\"/content/privacy\">Privacy Policy\\n</a>\\xe2\\x80\\xa2\\n<a href=\"/content/submission-guidelines\">Submission Guidelines\\n</a></p>\\n</div>\\n<div class=\\'row-fluid\\'>\\n<div class=\\'social-block\\'>\\n<a href=\"https://www.facebook.com/pages/BookPage/116675947874\"><i class=\\'zmdi zmdi-facebook-box\\'></i></a>\\n<a href=\"https://twitter.com/bookpage\"><i class=\\'zmdi zmdi-twitter-box\\'></i></a>\\n<a href=\"https://www.instagram.com/readbookpage/?hl=en\"><i class=\\'zmdi zmdi-instagram\\'></i></a>\\n</div>\\n</div>\\n<div class=\\'row-fluid copyright\\'>\\n<p>&copy; 1996-2021 BookPage and ProMotion, inc. | 2143 Belcourt Avenue, Nashville, TN 37212</p>\\n</div>\\n</footer>\\n</div>\\n</div>\\n\\n</div>\\n<script src=\"/assets/application-8a7d9ed6d528157c163702ce8da91235bc386358e07d32fbb4658ae48c768826.js\"></script>\\n<script id=\"e2ma-embed\" type=\"text/javascript\">window.e2ma=window.e2ma||{};e2ma.accountId=\\'28888\\';</script>\\n<script src=\"//dk98ddgl0znzm.cloudfront.net/e2ma.js\" async=\"async\"></script>\\n\\n</body>\\n</html>\\n'"
      ]
     },
     "execution_count": 3,
     "metadata": {},
     "output_type": "execute_result"
    }
   ],
   "source": [
    "page.content"
   ]
  },
  {
   "cell_type": "code",
   "execution_count": 4,
   "metadata": {},
   "outputs": [],
   "source": [
    "soup=BeautifulSoup(page.content,'html.parser')"
   ]
  },
  {
   "cell_type": "code",
   "execution_count": 5,
   "metadata": {},
   "outputs": [
    {
     "data": {
      "text/plain": [
       "'Book Reviews | BookPage'"
      ]
     },
     "execution_count": 5,
     "metadata": {},
     "output_type": "execute_result"
    }
   ],
   "source": [
    "soup.title.text"
   ]
  },
  {
   "cell_type": "code",
   "execution_count": 6,
   "metadata": {},
   "outputs": [],
   "source": [
    "book_name=[]\n",
    "genre_name=[]\n",
    "book_review=[]"
   ]
  },
  {
   "cell_type": "code",
   "execution_count": 7,
   "metadata": {},
   "outputs": [],
   "source": [
    "book=soup.find_all('h4',{'class':'italic'})"
   ]
  },
  {
   "cell_type": "code",
   "execution_count": 8,
   "metadata": {},
   "outputs": [
    {
     "data": {
      "text/plain": [
       "[<h4 class=\"italic\">\n",
       " <a href=\"/reviews/25779-daniel-loedel-hades-argentina-fiction\">Hades, Argentina</a>\n",
       " </h4>,\n",
       " <h4 class=\"italic\">\n",
       " <a href=\"/reviews/25822-anna-north-outlawed-fiction\">Outlawed</a>\n",
       " </h4>,\n",
       " <h4 class=\"italic\">\n",
       " <a href=\"/reviews/25848-leuyen-pham-outside-inside-childrens\">Outside, Inside</a>\n",
       " </h4>,\n",
       " <h4 class=\"italic\">\n",
       " <a href=\"/reviews/25786-ashley-audrain-push-fiction\">The Push</a>\n",
       " </h4>,\n",
       " <h4 class=\"italic\">\n",
       " <a href=\"/reviews/25840-livia-blackburne-i-dream-popo-childrens\">I Dream of Popo</a>\n",
       " </h4>]"
      ]
     },
     "execution_count": 8,
     "metadata": {},
     "output_type": "execute_result"
    }
   ],
   "source": [
    "book[0:5]"
   ]
  },
  {
   "cell_type": "code",
   "execution_count": 9,
   "metadata": {},
   "outputs": [
    {
     "data": {
      "text/plain": [
       "['Hades, Argentina',\n",
       " 'Outlawed',\n",
       " 'Outside, Inside',\n",
       " 'The Push',\n",
       " 'I Dream of Popo',\n",
       " ' ★ Featherhood',\n",
       " 'The Sea Gate',\n",
       " 'A Crooked Tree',\n",
       " 'Slash and Burn',\n",
       " 'The Heiress']"
      ]
     },
     "execution_count": 9,
     "metadata": {},
     "output_type": "execute_result"
    }
   ],
   "source": [
    "for i in book:\n",
    "    \n",
    "    book_name.append(i.get_text().replace('\\n',''))\n",
    "book_name    "
   ]
  },
  {
   "cell_type": "code",
   "execution_count": 10,
   "metadata": {},
   "outputs": [
    {
     "data": {
      "text/plain": [
       "'Hades, Argentina'"
      ]
     },
     "execution_count": 10,
     "metadata": {},
     "output_type": "execute_result"
    }
   ],
   "source": [
    "book[0].get_text().replace('\\n','')"
   ]
  },
  {
   "cell_type": "code",
   "execution_count": 11,
   "metadata": {},
   "outputs": [],
   "source": [
    "review=soup.find_all('p',{'class':'sans bold'})"
   ]
  },
  {
   "cell_type": "code",
   "execution_count": 12,
   "metadata": {},
   "outputs": [
    {
     "data": {
      "text/plain": [
       "[<p class=\"sans bold\">\n",
       " Daniel Loedel\n",
       " </p>,\n",
       " <p class=\"sans bold\">\n",
       " Anna North\n",
       " </p>,\n",
       " <p class=\"sans bold\">\n",
       " LeUyen Pham\n",
       " </p>,\n",
       " <p class=\"sans bold\">\n",
       " Ashley Audrain\n",
       " </p>,\n",
       " <p class=\"sans bold\">\n",
       " Livia Blackburne, Julia Kuo\n",
       " </p>]"
      ]
     },
     "execution_count": 12,
     "metadata": {},
     "output_type": "execute_result"
    }
   ],
   "source": [
    "review[0:5]"
   ]
  },
  {
   "cell_type": "code",
   "execution_count": 13,
   "metadata": {},
   "outputs": [
    {
     "data": {
      "text/plain": [
       "['Daniel Loedel',\n",
       " 'Anna North',\n",
       " 'LeUyen Pham',\n",
       " 'Ashley Audrain',\n",
       " 'Livia Blackburne, Julia Kuo',\n",
       " 'Charlie Gilmour',\n",
       " 'Jane Johnson',\n",
       " 'Una Mannion',\n",
       " 'Claudia Hernández, Julia Sanches',\n",
       " 'Molly Greeley']"
      ]
     },
     "execution_count": 13,
     "metadata": {},
     "output_type": "execute_result"
    }
   ],
   "source": [
    "for i in review:\n",
    "    \n",
    "    book_review.append(i.get_text().replace('\\n',''))\n",
    "book_review   "
   ]
  },
  {
   "cell_type": "code",
   "execution_count": 18,
   "metadata": {},
   "outputs": [],
   "source": [
    "genre=soup.find_all('p',{'class':'genre-links hidden-phone'})"
   ]
  },
  {
   "cell_type": "code",
   "execution_count": 19,
   "metadata": {},
   "outputs": [
    {
     "data": {
      "text/plain": [
       "[<p class=\"genre-links hidden-phone\">\n",
       " <a href=\"/search?book_genre=fiction\">Fiction</a>\n",
       "  / \n",
       " <a href=\"/search?book_genre=literary_fiction\">Literary Fiction</a>\n",
       " </p>,\n",
       " <p class=\"genre-links hidden-phone\">\n",
       " <a href=\"/search?book_genre=fiction\">Fiction</a>\n",
       "  / \n",
       " <a href=\"/search?book_genre=dystopian_fiction\">Dystopian Fiction</a>\n",
       "  / \n",
       " <a href=\"/search?book_genre=western\">Western</a>\n",
       " </p>,\n",
       " <p class=\"genre-links hidden-phone\">\n",
       " <a href=\"/search?book_genre=children_s\">Children's</a>\n",
       "  / \n",
       " <a href=\"/search?book_genre=children_s_picture_book\">Children's Picture Book</a>\n",
       " </p>,\n",
       " <p class=\"genre-links hidden-phone\">\n",
       " <a href=\"/search?book_genre=fiction\">Fiction</a>\n",
       "  / \n",
       " <a href=\"/search?book_genre=family_drama\">Family Drama</a>\n",
       " </p>,\n",
       " <p class=\"genre-links hidden-phone\">\n",
       " <a href=\"/search?book_genre=children_s\">Children's</a>\n",
       "  / \n",
       " <a href=\"/search?book_genre=children_s_picture_book\">Children's Picture Book</a>\n",
       " </p>]"
      ]
     },
     "execution_count": 19,
     "metadata": {},
     "output_type": "execute_result"
    }
   ],
   "source": [
    "genre[0:5]"
   ]
  },
  {
   "cell_type": "code",
   "execution_count": 20,
   "metadata": {},
   "outputs": [
    {
     "data": {
      "text/plain": [
       "['Fiction / Literary Fiction',\n",
       " 'Fiction / Dystopian Fiction / Western',\n",
       " \"Children's / Children's Picture Book\",\n",
       " 'Fiction / Family Drama',\n",
       " \"Children's / Children's Picture Book\",\n",
       " 'Nonfiction / Biography & Memoir / Memoir',\n",
       " 'Fiction / Family Saga',\n",
       " 'Fiction / Coming of Age',\n",
       " 'Fiction / Historical Fiction',\n",
       " 'Fiction / Literary Fiction']"
      ]
     },
     "execution_count": 20,
     "metadata": {},
     "output_type": "execute_result"
    }
   ],
   "source": [
    "for i in genre:\n",
    "    \n",
    "    genre_name.append(i.get_text().replace('\\n',''))\n",
    "genre_name  "
   ]
  },
  {
   "cell_type": "code",
   "execution_count": 21,
   "metadata": {},
   "outputs": [
    {
     "name": "stdout",
     "output_type": "stream",
     "text": [
      "10 10 10\n"
     ]
    }
   ],
   "source": [
    "print(len(book_name),len(genre_name),len(book_review))"
   ]
  },
  {
   "cell_type": "code",
   "execution_count": 25,
   "metadata": {},
   "outputs": [],
   "source": [
    "import pandas as pd\n",
    "Books=pd.DataFrame({})\n",
    "Books['book']=book_name\n",
    "Books['review']=book_review\n",
    "Books['genre']=genre_name"
   ]
  },
  {
   "cell_type": "code",
   "execution_count": 26,
   "metadata": {},
   "outputs": [
    {
     "data": {
      "text/html": [
       "<div>\n",
       "<style scoped>\n",
       "    .dataframe tbody tr th:only-of-type {\n",
       "        vertical-align: middle;\n",
       "    }\n",
       "\n",
       "    .dataframe tbody tr th {\n",
       "        vertical-align: top;\n",
       "    }\n",
       "\n",
       "    .dataframe thead th {\n",
       "        text-align: right;\n",
       "    }\n",
       "</style>\n",
       "<table border=\"1\" class=\"dataframe\">\n",
       "  <thead>\n",
       "    <tr style=\"text-align: right;\">\n",
       "      <th></th>\n",
       "      <th>book</th>\n",
       "      <th>review</th>\n",
       "      <th>genre</th>\n",
       "    </tr>\n",
       "  </thead>\n",
       "  <tbody>\n",
       "    <tr>\n",
       "      <th>0</th>\n",
       "      <td>Hades, Argentina</td>\n",
       "      <td>Daniel Loedel</td>\n",
       "      <td>Fiction / Literary Fiction</td>\n",
       "    </tr>\n",
       "    <tr>\n",
       "      <th>1</th>\n",
       "      <td>Outlawed</td>\n",
       "      <td>Anna North</td>\n",
       "      <td>Fiction / Dystopian Fiction / Western</td>\n",
       "    </tr>\n",
       "    <tr>\n",
       "      <th>2</th>\n",
       "      <td>Outside, Inside</td>\n",
       "      <td>LeUyen Pham</td>\n",
       "      <td>Children's / Children's Picture Book</td>\n",
       "    </tr>\n",
       "    <tr>\n",
       "      <th>3</th>\n",
       "      <td>The Push</td>\n",
       "      <td>Ashley Audrain</td>\n",
       "      <td>Fiction / Family Drama</td>\n",
       "    </tr>\n",
       "    <tr>\n",
       "      <th>4</th>\n",
       "      <td>I Dream of Popo</td>\n",
       "      <td>Livia Blackburne, Julia Kuo</td>\n",
       "      <td>Children's / Children's Picture Book</td>\n",
       "    </tr>\n",
       "    <tr>\n",
       "      <th>5</th>\n",
       "      <td>★ Featherhood</td>\n",
       "      <td>Charlie Gilmour</td>\n",
       "      <td>Nonfiction / Biography &amp; Memoir / Memoir</td>\n",
       "    </tr>\n",
       "    <tr>\n",
       "      <th>6</th>\n",
       "      <td>The Sea Gate</td>\n",
       "      <td>Jane Johnson</td>\n",
       "      <td>Fiction / Family Saga</td>\n",
       "    </tr>\n",
       "    <tr>\n",
       "      <th>7</th>\n",
       "      <td>A Crooked Tree</td>\n",
       "      <td>Una Mannion</td>\n",
       "      <td>Fiction / Coming of Age</td>\n",
       "    </tr>\n",
       "    <tr>\n",
       "      <th>8</th>\n",
       "      <td>Slash and Burn</td>\n",
       "      <td>Claudia Hernández, Julia Sanches</td>\n",
       "      <td>Fiction / Historical Fiction</td>\n",
       "    </tr>\n",
       "    <tr>\n",
       "      <th>9</th>\n",
       "      <td>The Heiress</td>\n",
       "      <td>Molly Greeley</td>\n",
       "      <td>Fiction / Literary Fiction</td>\n",
       "    </tr>\n",
       "  </tbody>\n",
       "</table>\n",
       "</div>"
      ],
      "text/plain": [
       "               book                            review  \\\n",
       "0  Hades, Argentina                     Daniel Loedel   \n",
       "1          Outlawed                        Anna North   \n",
       "2   Outside, Inside                       LeUyen Pham   \n",
       "3          The Push                    Ashley Audrain   \n",
       "4   I Dream of Popo       Livia Blackburne, Julia Kuo   \n",
       "5     ★ Featherhood                   Charlie Gilmour   \n",
       "6      The Sea Gate                      Jane Johnson   \n",
       "7    A Crooked Tree                       Una Mannion   \n",
       "8    Slash and Burn  Claudia Hernández, Julia Sanches   \n",
       "9       The Heiress                     Molly Greeley   \n",
       "\n",
       "                                      genre  \n",
       "0                Fiction / Literary Fiction  \n",
       "1     Fiction / Dystopian Fiction / Western  \n",
       "2      Children's / Children's Picture Book  \n",
       "3                    Fiction / Family Drama  \n",
       "4      Children's / Children's Picture Book  \n",
       "5  Nonfiction / Biography & Memoir / Memoir  \n",
       "6                     Fiction / Family Saga  \n",
       "7                   Fiction / Coming of Age  \n",
       "8              Fiction / Historical Fiction  \n",
       "9                Fiction / Literary Fiction  "
      ]
     },
     "execution_count": 26,
     "metadata": {},
     "output_type": "execute_result"
    }
   ],
   "source": [
    "Books"
   ]
  },
  {
   "cell_type": "code",
   "execution_count": null,
   "metadata": {},
   "outputs": [],
   "source": []
  }
 ],
 "metadata": {
  "kernelspec": {
   "display_name": "Python 3",
   "language": "python",
   "name": "python3"
  },
  "language_info": {
   "codemirror_mode": {
    "name": "ipython",
    "version": 3
   },
   "file_extension": ".py",
   "mimetype": "text/x-python",
   "name": "python",
   "nbconvert_exporter": "python",
   "pygments_lexer": "ipython3",
   "version": "3.8.3"
  }
 },
 "nbformat": 4,
 "nbformat_minor": 4
}
