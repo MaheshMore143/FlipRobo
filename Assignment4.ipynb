{
 "cells": [
  {
   "cell_type": "code",
   "execution_count": 1,
   "metadata": {},
   "outputs": [],
   "source": [
    "import selenium\n",
    "import pandas as pd\n",
    "import time\n",
    "from bs4 import BeautifulSoup \n",
    "from selenium import webdriver\n",
    "\n",
    "from selenium.common.exceptions import StaleElementReferenceException, NoSuchElementException\n",
    "import requests\n",
    "import re"
   ]
  },
  {
   "cell_type": "code",
   "execution_count": 2,
   "metadata": {},
   "outputs": [],
   "source": [
    "driver=webdriver.Chrome(r'C:\\Users\\DELL\\Downloads\\chromedriver.exe')"
   ]
  },
  {
   "cell_type": "code",
   "execution_count": 3,
   "metadata": {},
   "outputs": [],
   "source": [
    "url='https://www.bcci.tv/'"
   ]
  },
  {
   "cell_type": "code",
   "execution_count": 4,
   "metadata": {},
   "outputs": [],
   "source": [
    "driver.get(url)"
   ]
  },
  {
   "cell_type": "code",
   "execution_count": 5,
   "metadata": {},
   "outputs": [],
   "source": [
    "Title=[]\n",
    "Series=[]\n",
    "Place=[]\n",
    "Date=[]\n",
    "Time=[]"
   ]
  },
  {
   "cell_type": "code",
   "execution_count": 6,
   "metadata": {},
   "outputs": [
    {
     "ename": "InvalidArgumentException",
     "evalue": "Message: invalid argument: 'url' must be a string\n  (Session info: chrome=88.0.4324.104)\n",
     "output_type": "error",
     "traceback": [
      "\u001b[1;31m---------------------------------------------------------------------------\u001b[0m",
      "\u001b[1;31mInvalidArgumentException\u001b[0m                  Traceback (most recent call last)",
      "\u001b[1;32m<ipython-input-6-33e58bf39b76>\u001b[0m in \u001b[0;36m<module>\u001b[1;34m\u001b[0m\n\u001b[0;32m      1\u001b[0m \u001b[0mbutton\u001b[0m \u001b[1;33m=\u001b[0m \u001b[0mdriver\u001b[0m\u001b[1;33m.\u001b[0m\u001b[0mfind_element_by_xpath\u001b[0m\u001b[1;33m(\u001b[0m\u001b[1;34m'//li[@class=\"navigation__item  \"]/div[1]'\u001b[0m\u001b[1;33m)\u001b[0m\u001b[1;33m\u001b[0m\u001b[1;33m\u001b[0m\u001b[0m\n\u001b[1;32m----> 2\u001b[1;33m \u001b[0mdriver\u001b[0m\u001b[1;33m.\u001b[0m\u001b[0mget\u001b[0m\u001b[1;33m(\u001b[0m\u001b[0mbutton\u001b[0m\u001b[1;33m)\u001b[0m\u001b[1;33m\u001b[0m\u001b[1;33m\u001b[0m\u001b[0m\n\u001b[0m",
      "\u001b[1;32m~\\anaconda3\\lib\\site-packages\\selenium\\webdriver\\remote\\webdriver.py\u001b[0m in \u001b[0;36mget\u001b[1;34m(self, url)\u001b[0m\n\u001b[0;32m    331\u001b[0m         \u001b[0mLoads\u001b[0m \u001b[0ma\u001b[0m \u001b[0mweb\u001b[0m \u001b[0mpage\u001b[0m \u001b[1;32min\u001b[0m \u001b[0mthe\u001b[0m \u001b[0mcurrent\u001b[0m \u001b[0mbrowser\u001b[0m \u001b[0msession\u001b[0m\u001b[1;33m.\u001b[0m\u001b[1;33m\u001b[0m\u001b[1;33m\u001b[0m\u001b[0m\n\u001b[0;32m    332\u001b[0m         \"\"\"\n\u001b[1;32m--> 333\u001b[1;33m         \u001b[0mself\u001b[0m\u001b[1;33m.\u001b[0m\u001b[0mexecute\u001b[0m\u001b[1;33m(\u001b[0m\u001b[0mCommand\u001b[0m\u001b[1;33m.\u001b[0m\u001b[0mGET\u001b[0m\u001b[1;33m,\u001b[0m \u001b[1;33m{\u001b[0m\u001b[1;34m'url'\u001b[0m\u001b[1;33m:\u001b[0m \u001b[0murl\u001b[0m\u001b[1;33m}\u001b[0m\u001b[1;33m)\u001b[0m\u001b[1;33m\u001b[0m\u001b[1;33m\u001b[0m\u001b[0m\n\u001b[0m\u001b[0;32m    334\u001b[0m \u001b[1;33m\u001b[0m\u001b[0m\n\u001b[0;32m    335\u001b[0m     \u001b[1;33m@\u001b[0m\u001b[0mproperty\u001b[0m\u001b[1;33m\u001b[0m\u001b[1;33m\u001b[0m\u001b[0m\n",
      "\u001b[1;32m~\\anaconda3\\lib\\site-packages\\selenium\\webdriver\\remote\\webdriver.py\u001b[0m in \u001b[0;36mexecute\u001b[1;34m(self, driver_command, params)\u001b[0m\n\u001b[0;32m    319\u001b[0m         \u001b[0mresponse\u001b[0m \u001b[1;33m=\u001b[0m \u001b[0mself\u001b[0m\u001b[1;33m.\u001b[0m\u001b[0mcommand_executor\u001b[0m\u001b[1;33m.\u001b[0m\u001b[0mexecute\u001b[0m\u001b[1;33m(\u001b[0m\u001b[0mdriver_command\u001b[0m\u001b[1;33m,\u001b[0m \u001b[0mparams\u001b[0m\u001b[1;33m)\u001b[0m\u001b[1;33m\u001b[0m\u001b[1;33m\u001b[0m\u001b[0m\n\u001b[0;32m    320\u001b[0m         \u001b[1;32mif\u001b[0m \u001b[0mresponse\u001b[0m\u001b[1;33m:\u001b[0m\u001b[1;33m\u001b[0m\u001b[1;33m\u001b[0m\u001b[0m\n\u001b[1;32m--> 321\u001b[1;33m             \u001b[0mself\u001b[0m\u001b[1;33m.\u001b[0m\u001b[0merror_handler\u001b[0m\u001b[1;33m.\u001b[0m\u001b[0mcheck_response\u001b[0m\u001b[1;33m(\u001b[0m\u001b[0mresponse\u001b[0m\u001b[1;33m)\u001b[0m\u001b[1;33m\u001b[0m\u001b[1;33m\u001b[0m\u001b[0m\n\u001b[0m\u001b[0;32m    322\u001b[0m             response['value'] = self._unwrap_value(\n\u001b[0;32m    323\u001b[0m                 response.get('value', None))\n",
      "\u001b[1;32m~\\anaconda3\\lib\\site-packages\\selenium\\webdriver\\remote\\errorhandler.py\u001b[0m in \u001b[0;36mcheck_response\u001b[1;34m(self, response)\u001b[0m\n\u001b[0;32m    240\u001b[0m                 \u001b[0malert_text\u001b[0m \u001b[1;33m=\u001b[0m \u001b[0mvalue\u001b[0m\u001b[1;33m[\u001b[0m\u001b[1;34m'alert'\u001b[0m\u001b[1;33m]\u001b[0m\u001b[1;33m.\u001b[0m\u001b[0mget\u001b[0m\u001b[1;33m(\u001b[0m\u001b[1;34m'text'\u001b[0m\u001b[1;33m)\u001b[0m\u001b[1;33m\u001b[0m\u001b[1;33m\u001b[0m\u001b[0m\n\u001b[0;32m    241\u001b[0m             \u001b[1;32mraise\u001b[0m \u001b[0mexception_class\u001b[0m\u001b[1;33m(\u001b[0m\u001b[0mmessage\u001b[0m\u001b[1;33m,\u001b[0m \u001b[0mscreen\u001b[0m\u001b[1;33m,\u001b[0m \u001b[0mstacktrace\u001b[0m\u001b[1;33m,\u001b[0m \u001b[0malert_text\u001b[0m\u001b[1;33m)\u001b[0m\u001b[1;33m\u001b[0m\u001b[1;33m\u001b[0m\u001b[0m\n\u001b[1;32m--> 242\u001b[1;33m         \u001b[1;32mraise\u001b[0m \u001b[0mexception_class\u001b[0m\u001b[1;33m(\u001b[0m\u001b[0mmessage\u001b[0m\u001b[1;33m,\u001b[0m \u001b[0mscreen\u001b[0m\u001b[1;33m,\u001b[0m \u001b[0mstacktrace\u001b[0m\u001b[1;33m)\u001b[0m\u001b[1;33m\u001b[0m\u001b[1;33m\u001b[0m\u001b[0m\n\u001b[0m\u001b[0;32m    243\u001b[0m \u001b[1;33m\u001b[0m\u001b[0m\n\u001b[0;32m    244\u001b[0m     \u001b[1;32mdef\u001b[0m \u001b[0m_value_or_default\u001b[0m\u001b[1;33m(\u001b[0m\u001b[0mself\u001b[0m\u001b[1;33m,\u001b[0m \u001b[0mobj\u001b[0m\u001b[1;33m,\u001b[0m \u001b[0mkey\u001b[0m\u001b[1;33m,\u001b[0m \u001b[0mdefault\u001b[0m\u001b[1;33m)\u001b[0m\u001b[1;33m:\u001b[0m\u001b[1;33m\u001b[0m\u001b[1;33m\u001b[0m\u001b[0m\n",
      "\u001b[1;31mInvalidArgumentException\u001b[0m: Message: invalid argument: 'url' must be a string\n  (Session info: chrome=88.0.4324.104)\n"
     ]
    }
   ],
   "source": [
    "button = driver.find_element_by_xpath('//li[@class=\"navigation__item  \"]/div[1]')\n",
    "driver.get(button)"
   ]
  },
  {
   "cell_type": "code",
   "execution_count": 7,
   "metadata": {},
   "outputs": [],
   "source": [
    "import selenium\n",
    "import pandas as pd\n",
    "import time\n",
    "from bs4 import BeautifulSoup \n",
    "from selenium import webdriver\n",
    "\n",
    "from selenium.webdriver.support.ui import WebDriverWait\n",
    "from selenium.webdriver.support import expected_conditions as EC\n",
    "from selenium.webdriver.common.by import By\n",
    "from selenium.common.exceptions import StaleElementReferenceException, NoSuchElementException\n",
    "import requests\n",
    "import re"
   ]
  },
  {
   "cell_type": "code",
   "execution_count": 8,
   "metadata": {},
   "outputs": [],
   "source": [
    "driver=webdriver.Chrome(r'C:\\Users\\DELL\\Downloads\\chromedriver.exe')"
   ]
  },
  {
   "cell_type": "code",
   "execution_count": 9,
   "metadata": {},
   "outputs": [],
   "source": [
    "url='https://www.guru99.com/'"
   ]
  },
  {
   "cell_type": "code",
   "execution_count": 10,
   "metadata": {},
   "outputs": [],
   "source": [
    "driver.get(url)"
   ]
  },
  {
   "cell_type": "code",
   "execution_count": 11,
   "metadata": {},
   "outputs": [],
   "source": [
    "Name=[]\n",
    "description=[]"
   ]
  },
  {
   "cell_type": "code",
   "execution_count": 12,
   "metadata": {},
   "outputs": [],
   "source": [
    "try:\n",
    "    element=driver.find_element_by_xpath(\"https://www.guru99.com/\")\n",
    "    print(element.text)\n",
    "except NoSuchElementException:\n",
    "    Name.append('No details available')\n",
    "except StaleElementReferenceException:\n",
    "    Name.append('No details available')\n",
    "    print(len(Name))\n",
    "    \n",
    "    "
   ]
  },
  {
   "cell_type": "code",
   "execution_count": 14,
   "metadata": {},
   "outputs": [],
   "source": [
    "try:\n",
    "        name = driver.find_element_by_xpath('//a[@class=\"si130\"]/span')  \n",
    "        Name.append(name.text)\n",
    "except NoSuchElementException:\n",
    "        Name.append('-')\n",
    "    \n",
    "try:\n",
    "        des = driver.find_element_by_xpath('//span[@class=\"lc_ styleable-description \"]')      \n",
    "        description.append(des.text)\n",
    "except NoSuchElementException:\n",
    "        description.append('-')\n",
    "    "
   ]
  },
  {
   "cell_type": "code",
   "execution_count": 15,
   "metadata": {},
   "outputs": [
    {
     "name": "stdout",
     "output_type": "stream",
     "text": [
      "3 1\n"
     ]
    }
   ],
   "source": [
    "print(len(Name),len(description))"
   ]
  },
  {
   "cell_type": "code",
   "execution_count": 16,
   "metadata": {},
   "outputs": [],
   "source": [
    "import selenium\n",
    "import pandas as pd\n",
    "import time\n",
    "from bs4 import BeautifulSoup \n",
    "from selenium import webdriver\n",
    "\n",
    "from selenium.webdriver.support.ui import WebDriverWait\n",
    "from selenium.webdriver.support import expected_conditions as EC\n",
    "from selenium.webdriver.common.by import By\n",
    "from selenium.common.exceptions import StaleElementReferenceException, NoSuchElementException\n",
    "import requests\n",
    "import re"
   ]
  },
  {
   "cell_type": "code",
   "execution_count": 17,
   "metadata": {},
   "outputs": [],
   "source": [
    "driver=webdriver.Chrome(r'C:\\Users\\DELL\\Downloads\\chromedriver.exe')"
   ]
  },
  {
   "cell_type": "code",
   "execution_count": 18,
   "metadata": {},
   "outputs": [],
   "source": [
    "page =requests.get('http://statisticstimes.com/')"
   ]
  },
  {
   "cell_type": "code",
   "execution_count": 19,
   "metadata": {},
   "outputs": [
    {
     "data": {
      "text/plain": [
       "b'<!DOCTYPE html>\\r\\n<html lang=\"en\">\\r\\n<head>\\r\\n<script>\\r\\n<!--\\r\\nif (screen.width <= 699) {\\r\\ndocument.location = \"https://m.statisticstimes.com/index.php\";\\r\\n}\\r\\n//-->\\r\\n</script>\\r\\n<title>StatisticsTimes.com | Collection of Statistics and charts</title>\\r\\n<meta http-equiv=\"Content-Type\" content=\"text/html; charset=UTF-8\">\\r\\n<meta name=\"description\" content=\"Collection of Latest Statistics and charts on economy, population,\\r\\n      geography, sports etc.\">\\r\\n<link rel=\"alternate\" media=\"only screen and (max-width: 699px)\" href=\"https://m.statisticstimes.com/index.php\">\\r\\n<link rel=\"canonical\" href=\"https://statisticstimes.com/index.php\">\\r\\n<link rel=\"apple-touch-icon\" sizes=\"180x180\" href=\"favicon_io/apple-touch-icon.png\">\\r\\n<link rel=\"icon\" type=\"image/png\" sizes=\"32x32\" href=\"favicon_io/favicon-32x32.png\">\\r\\n<link rel=\"icon\" type=\"image/png\" sizes=\"16x16\" href=\"favicon_io/favicon-16x16.png\">\\r\\n<link rel=\"manifest\" href=\"favicon_io/site.webmanifest\">\\r\\n<link rel=\"stylesheet\" type=\"text/css\" href=\"css_new.css\">\\r\\n<link rel=\"stylesheet\" type=\"text/css\" href=\"table.css\">\\r\\n<link rel=\"stylesheet\" type=\"text/css\" href=\"table_simple.css\">\\r\\n<link rel=\"stylesheet\" href=\"https://cdnjs.cloudflare.com/ajax/libs/font-awesome/4.7.0/css/font-awesome.min.css\">\\r\\n<link rel=\"stylesheet\" type=\"text/css\" href=\"DataTables-1.10.4/media/css/jquery.dataTables.css\">\\r\\n<script src=\"DataTables-1.10.4/media/js/jquery.js\"></script>  \\r\\n<script src=\"DataTables-1.10.4/media/js/jquery.dataTables.js\"></script>\\r\\n<style>\\r\\n.content-separator {\\r\\n\\tbackground: #ff9933;\\r\\n\\tclear: both;\\r\\n\\tcolor: #ff9933;\\r\\n\\tdisplay: block;\\r\\n\\tfont-size: 0;\\r\\n\\tline-height: 0;\\r\\n\\theight: 3px;\\t\\r\\n}\\r\\na.more {\\r\\n\\tcolor: #579;\\r\\n\\tfont-weight: bold;\\r\\n}\\r\\na.more:hover {color: #234;}\\r\\np,caption{\\r\\n  font-family: Arial, Helvetica, sans-serif;\\r\\n}\\r\\n</style>\\r\\n<script>\\r\\n$(document).ready( function () {\\r\\n    $(\\'#table_id\\').DataTable({\\r\\n        \"order\": []\\r\\n    });\\r\\n} );\\r\\n$(document).ready( function () {\\r\\n    $(\\'#table_id1\\').DataTable();\\r\\n} );\\r\\n\\r\\n$.extend( $.fn.dataTable.defaults, {\\r\\n    paging: false,\\r\\n    \"info\": false,\\r\\n    searching: false        \\r\\n} );\\r\\n</script>\\r\\n<style>\\r\\np,caption {\\r\\n  font-family: Arial, Helvetica, sans-serif;\\r\\n}\\r\\n#chartdiv {\\r\\n  width: 580px;\\r\\n  height: 400px;\\r\\n}\\r\\n#chartdiv1 {\\r\\n  width: 580px;\\r\\n  height: 400px;\\r\\n}\\r\\n#chartdiv2 {\\r\\n  width: 580px;\\r\\n  height: 400px;\\r\\n}\\r\\n</style>\\r\\n</head>\\r\\n<body style=\"margin: 0px;padding:0px;background-color:#F5F5F0;\">\\r\\n<div style=\"margin: 0 auto;width:1150px;\">\\r\\n\\r\\n<link rel=\"stylesheet\" type=\"text/css\" href=\"//cdnjs.cloudflare.com/ajax/libs/cookieconsent2/3.0.3/cookieconsent.min.css\" />\\r\\n<script src=\"//cdnjs.cloudflare.com/ajax/libs/cookieconsent2/3.0.3/cookieconsent.min.js\"></script>\\r\\n<script>\\r\\nwindow.addEventListener(\"load\", function(){\\r\\nwindow.cookieconsent.initialise({\\r\\n  \"palette\": {\\r\\n    \"popup\": {\\r\\n      \"background\": \"#000\"\\r\\n    },\\r\\n    \"button\": {\\r\\n      \"background\": \"#f1d600\"\\r\\n    }\\r\\n  },\\r\\n  \"content\": {\\r\\n    \"message\": \"This site uses cookies to analyse traffic and for ads measurement purposes.\",\\r\\n    \"href\": \"privacy.php\"\\r\\n  }\\r\\n})});\\r\\n</script>\\r\\n<div id=\"top\" style=\"background-color:#4d94ff; width:1150px;height: 100px;\">\\r\\n<div style=\"margin-left:50px;float: left; padding-top:5px; width:200px;height:90px;\">\\r\\n<a href=\\'index.php\\' >\\r\\n<img src=\"statistics.png\" alt=\"statisticstimes\" width=\"200\" height=\"90\">\\r\\n</a>\\r\\n</div>\\r\\n<script>\\r\\n  (function(i,s,o,g,r,a,m){i[\\'GoogleAnalyticsObject\\']=r;i[r]=i[r]||function(){\\r\\n  (i[r].q=i[r].q||[]).push(arguments)},i[r].l=1*new Date();a=s.createElement(o),\\r\\n  m=s.getElementsByTagName(o)[0];a.async=1;a.src=g;m.parentNode.insertBefore(a,m)\\r\\n  })(window,document,\\'script\\',\\'//www.google-analytics.com/analytics.js\\',\\'ga\\');\\r\\n\\r\\n  ga(\\'create\\', \\'UA-57003708-1\\', \\'auto\\');\\r\\n  ga(\\'send\\', \\'pageview\\');\\r\\n\\r\\n</script>\\r\\n<div class=\"navbar\">\\r\\n  <div class=\"dropdown\">\\r\\n    <button class=\"dropbtn\">Home\\r\\n      <i class=\"fa fa-caret-down\"></i>\\r\\n    </button>\\r\\n    <div class=\"dropdown-content\">\\r\\n      <a href=\"index.php\">World</a>\\r\\n      <a href=\"india.php\">India</a>\\r\\n    </div>\\r\\n  </div> \\r\\n  <div class=\"dropdown\">\\r\\n    <button class=\"dropbtn\">Economy\\r\\n      <i class=\"fa fa-caret-down\"></i>\\r\\n    </button>\\r\\n    <div class=\"dropdown-content\">\\r\\n      <a href=\"economy/world-statistics.php\">World</a>\\r\\n      <a href=\"economy/country-statistics.php\">Country</a>\\r\\n      <a href=\"economy/india-statistics.php\">India</a>\\r\\n    </div>\\r\\n  </div> \\r\\n  <div class=\"dropdown\">\\r\\n    <button class=\"dropbtn\">Demographics\\r\\n      <i class=\"fa fa-caret-down\"></i>\\r\\n    </button>\\r\\n    <div class=\"dropdown-content\">\\r\\n      <a href=\"demographics/world-statistics.php\">World</a>\\r\\n      <a href=\"demographics/country-statistics.php\">Country</a>\\r\\n      <a href=\"demographics/india-statistics.php\">India</a>\\r\\n    </div>\\r\\n  </div>\\r\\n  <a href=\"health/coronavirus-statistics.php\">Coronavirus</a>\\r\\n  <div class=\"dropdown\">\\r\\n    <button class=\"dropbtn\">Politics\\r\\n      <i class=\"fa fa-caret-down\"></i>\\r\\n    </button>\\r\\n    <div class=\"dropdown-content\">\\r\\n      <a href=\"politics/india-statistics.php\">India</a>\\r\\n    </div>\\r\\n  </div> \\r\\n  <div class=\"dropdown\">\\r\\n    <button class=\"dropbtn\">Geography\\r\\n      <i class=\"fa fa-caret-down\"></i>\\r\\n    </button>\\r\\n    <div class=\"dropdown-content\">\\r\\n      <a href=\"geography/world-statistics.php\">World</a>\\r\\n      <a href=\"geography/india-statistics.php\">India</a>\\r\\n    </div>\\r\\n  </div> \\r\\n  <a href=\"tech/world-statistics.php\">Tech</a>\\r\\n  <div class=\"dropdown\">\\r\\n    <button class=\"dropbtn\">Sports\\r\\n      <i class=\"fa fa-caret-down\"></i>\\r\\n    </button>\\r\\n    <div class=\"dropdown-content\">\\r\\n      <a href=\"sports/world-statistics.php\">World</a>\\r\\n      <a href=\"sports/india-statistics.php\">India</a>\\r\\n    </div> \\r\\n  </div>\\r\\n  <a href=\"ranking/world-statistics.php\">Ranking</a> \\r\\n  <div class=\"dropdown\">\\r\\n    <button class=\"dropbtn\">Article\\r\\n      <i class=\"fa fa-caret-down\"></i>\\r\\n    </button>\\r\\n    <div class=\"dropdown-content\">\\r\\n      <a href=\"article/world-statistics.php\">World</a>\\r\\n      <a href=\"article/india-statistics.php\">India</a>\\r\\n    </div>\\r\\n  </div> \\r\\n</div>\\r\\n</div><div itemscope itemtype=\"http://schema.org/WebPageElement\" style=\"float:left;width:1150px;background-color:#ffffff;\">\\r\\n\\r\\n<div style=\"float:left;width:1150px;margin:40px 0px 20px 0px\">\\r\\n<h1 itemprop=\"about\" style=\"text-align:center;font-size:26px\">Countries by GDP Growth 2020</h1>\\r\\n<div style=\"float:left;margin-left:20px;width:580px;\">\\r\\n<div id=\"chartdiv\" class=\"border\"></div>\\r\\n</div>\\r\\n<div style=\"float:left;margin: 0px 50px 0px 20px;width:480px;\">\\r\\n<p>With a projected gdp growth rate of 26.21% in 2020, Guyana is the fastest growing economy in the world. Guyana is \\r\\nfollowed by South Sudan (4.11%), Bangladesh (3.80%), and Egypt (3.55%). Only these four countries have a gdp growth \\r\\nrate above 3%. Twenty-six economies will experience a positive growth rate in 2020.</p>\\r\\n<p><a href=\"economy/countries-by-projected-gdp-growth.php\" class=\"more\">Read more &#187;</a></p>\\r\\n</div>\\r\\n</div> \\r\\n<div class=\"content-separator\"></div>\\r\\n\\r\\n<div style=\"float:left;width:1150px;margin:40px 0px 20px 0px\">\\r\\n<h1 itemprop=\"about\" style=\"text-align:center;font-size:26px\">List of continents by population</h1>\\r\\n<div style=\"float:left;margin-left:20px;width:580px;\">\\r\\n<div id=\"chartdiv2\" class=\"border\"></div>\\r\\n</div>\\r\\n<div style=\"float:left;margin: 0px 50px 0px 20px;width:480px;\">\\r\\n<p>Asia is the most populous continent in the world, with 4.64 billion people accounting for nearly 60% of the world \\r\\npopulation as of 2020. Africa is the second most largest continent by population, with around 1.34 billion people, or \\r\\n17% of the world\\'s population. Only these two continents have crossed one billion milestone. Asia and Africa, together \\r\\nshare about 77% of the global population</p>\\r\\n<p><a href=\"demographics/continents-by-population.php\" class=\"more\">Read more &#187;</a></p>\\r\\n</div>\\r\\n</div> \\r\\n<div class=\"content-separator\"></div>\\r\\n\\r\\n<div style=\"float:left;width:1150px;margin:40px 0px 20px 0px\">\\r\\n<h2 itemprop=\"about\" style=\"text-align:center;font-size:26px\">Gender ratio in the United States</h2>\\r\\n<div style=\"float:left;margin-left:20px;width:580px;\">\\r\\n<div id=\"chartdiv1\" class=\"border\"></div>\\r\\n</div>\\r\\n<div style=\"float:left;margin: 0px 50px 0px 20px;width:480px;\">\\r\\n<p>Gender Ratio in the United States in 2020 is 97.948 males per 100 females. There are 162,826,299 or 162.83 million \\r\\nmales and 166,238,618 or 166.24 million females in US. The percentage of female population is 52.52 percent compare to\\r\\n49.48 percent male population. The United States has 3,430,615 or 3.43 million more females than males.</p>\\r\\n<p><a href=\"demographics/country/us-sex-ratio.php\" class=\"more\">Read more &#187;</a></p>\\r\\n</div>\\r\\n</div> \\r\\n<div class=\"content-separator\"></div>\\r\\n\\r\\n<div class=\"content-separator\"></div>\\r\\n<div class=\"ad\" style=\"float:left;margin-left:200px;width:950px;margin-bottom:10px;margin-top:10px;\">\\r\\n<script async src=\"//pagead2.googlesyndication.com/pagead/js/adsbygoogle.js\"></script>\\r\\n<!-- 729_90_bottom -->\\r\\n<ins class=\"adsbygoogle\"\\r\\n     style=\"display:inline-block;width:728px;height:90px\"\\r\\n     data-ad-client=\"ca-pub-7716747007138100\"\\r\\n     data-ad-slot=\"3577735914\"></ins>\\r\\n<script>\\r\\n(adsbygoogle = window.adsbygoogle || []).push({});\\r\\n</script></div>\\r\\n\\r\\n</div>  \\r\\n<div id=\"footer\" style=\"float:left;width:1150px;\">\\r\\n<div style=\"width:100px;float:left;height:100px;\">\\n<!-- Go to www.addthis.com/dashboard to customize your tools -->\\n<div class=\"addthis_horizontal_follow_toolbox\"></div>\\n</div>\\n<div style=\"width:1050px;float:left;height:100px;\">\\n<div style=\"width:700px;float:left;padding-left:300px;padding-top:20px;\">\\n    <a href=\"about.php\" style=\"text-decoration: none;\" > About US</a> | \\n    <a href=\"termsofuse.php\" style=\"text-decoration: none;\"> Terms Of Use </a> | \\n    <a href=\"privacy.php\" style=\"text-decoration: none;\"> Privacy Policy </a> |\\n    <a href=\"contact.php\" style=\"text-decoration: none;\"> Contact Us </a>\\n</div>\\n<div style=\"width:650px;float:left;padding-left:350px;padding-top:10px;\">\\xc2\\xa9 2021 - StatisticsTimes.com</div>\\n</div>\\n<!-- Go to www.addthis.com/dashboard to customize your tools -->\\n<script src=\"//s7.addthis.com/js/300/addthis_widget.js#pubid=ra-54d4ab9b03845be6\"></script></div>\\r\\n</div>\\r\\n\\r\\n<script src=\"https://www.amcharts.com/lib/4/core.js\"></script>\\r\\n<script src=\"https://www.amcharts.com/lib/4/charts.js\"></script>\\r\\n<script src=\"https://www.amcharts.com/lib/4/maps.js\"></script>\\r\\n<script src=\"https://www.amcharts.com/lib/4/geodata/worldHigh.js\"></script>\\r\\n<script src=\"https://www.amcharts.com/lib/4/themes/animated.js\"></script>\\r\\n<script src=\"https://www.amcharts.com/lib/4/themes/kelly.js\"></script>\\r\\n\\r\\n<script>\\r\\nvar chart = am4core.create(\"chartdiv\", am4maps.MapChart);\\r\\n\\r\\nchart.geodata = am4geodata_worldHigh;\\r\\nchart.projection = new am4maps.projections.Miller();\\r\\n\\r\\nfetch(\"m/economy/json/projected-growth-map.json\")\\r\\n.then(response => response.json())\\r\\n.then(function(json) {\\r\\n\\r\\nvar polygonSeries = chart.series.push(new am4maps.MapPolygonSeries());\\r\\npolygonSeries.dataSource.url = \"m/economy/json/projected-growth-map.json\";\\r\\n\\r\\nvar includedCountries = json.map(value => value.id);\\r\\nvar excludedCountries = json.map(value => value.id);\\r\\nexcludedCountries.push(\"AQ\");\\r\\n\\r\\npolygonSeries.useGeodata = true;\\r\\npolygonSeries.include = includedCountries;\\r\\npolygonSeries.nonScalingStroke = true;\\r\\npolygonSeries.strokeWidth = 3.5;\\r\\npolygonSeries.calculateVisualCenter = true;\\r\\n\\r\\nvar polygonTemplate = polygonSeries.mapPolygons.template;\\r\\npolygonTemplate.tooltipText = \"{rank}. {name}[/]\\\\nGrowth rate : {growth}%\";\\r\\npolygonTemplate.propertyFields.fill = \"color\";\\r\\n\\r\\nvar hs = polygonTemplate.states.create(\"hover\");\\r\\nhs.propertyFields.fill = \"color\";\\r\\n\\r\\nvar polygonSeries1 = chart.series.push(new am4maps.MapPolygonSeries());\\r\\npolygonSeries1.useGeodata = true;\\r\\npolygonSeries1.exclude = excludedCountries;\\r\\npolygonSeries1.mapPolygons.template.tooltipText = \"{name}[/] : no data\";\\r\\n\\r\\n});\\r\\n  \\r\\nchart.zoomControl = new am4maps.ZoomControl();\\r\\nchart.zoomControl.slider.height = 100;\\r\\nchart.zoomControl.marginBottom = 100;\\r\\nvar button = chart.chartContainer.createChild(am4core.Button);\\r\\nbutton.padding(5, 5, 5, 5);\\r\\nbutton.marginRight = 15;\\r\\nbutton.events.on(\"hit\", function() {\\r\\n  chart.goHome();\\r\\n});\\r\\nbutton.icon = new am4core.Sprite();\\r\\nbutton.icon.path = \"M16,8 L14,8 L14,16 L10,16 L10,10 L6,10 L6,16 L2,16 L2,8 L0,8 L8,0 L16,8 Z M16,8\";\\r\\nbutton.marginBottom = 5;\\r\\nbutton.parent = chart.zoomControl;\\r\\nbutton.insertBefore(chart.zoomControl.plusButton);\\r\\n</script>\\r\\n\\r\\n<script>\\r\\n// Apply chart themes\\r\\nam4core.useTheme(am4themes_animated);\\r\\nam4core.useTheme(am4themes_kelly);\\r\\n\\r\\n// Create a container\\r\\nvar container = am4core.create(\"chartdiv1\", am4core.Container);\\r\\ncontainer.width = am4core.percent(100);\\r\\ncontainer.height = am4core.percent(100);\\r\\ncontainer.layout = \"vertical\";\\r\\n\\r\\n// Create chart instance\\r\\nvar chart1 = container.createChild(am4charts.XYChart);\\r\\nchart1.width = am4core.percent(100);\\r\\nchart1.height = 400;\\r\\n\\r\\nvar title = chart1.titles.create();\\r\\ntitle.text = \"US Gender ratio (1950-2100)\";\\r\\ntitle.fontSize = 20;\\r\\ntitle.marginBottom = 10;\\r\\n\\r\\n// Add data\\r\\n\\r\\nchart1.dataSource.url = \"m/demographics/json/country/us/sexratio.json\";\\r\\n\\r\\n// Create axes\\r\\nvar categoryAxis = chart1.xAxes.push(new am4charts.CategoryAxis());\\r\\ncategoryAxis.dataFields.category = \"year\";\\r\\ncategoryAxis.title.text = \"Year\";\\r\\ncategoryAxis.renderer.grid.template.location = 0;\\r\\ncategoryAxis.renderer.labels.template.fontSize = 12;\\r\\ncategoryAxis.cursorTooltipEnabled = false;\\r\\n\\r\\n// First value axis\\r\\nvar valueAxis = chart1.yAxes.push(new am4charts.ValueAxis());\\r\\nvalueAxis.title.text = \"Population\";\\r\\nvalueAxis.renderer.labels.template.fontSize = 12;\\r\\nvalueAxis.cursorTooltipEnabled = false;\\r\\n\\r\\n// Second value axis\\r\\nvar valueAxis2 = chart1.yAxes.push(new am4charts.ValueAxis());\\r\\nvalueAxis2.title.text = \"Gender ratio\";\\r\\nvalueAxis2.renderer.labels.template.fontSize = 12;\\r\\nvalueAxis2.renderer.opposite = true;\\r\\nvalueAxis2.cursorTooltipEnabled = false;\\r\\n\\r\\n// First series\\r\\nvar series = chart1.series.push(new am4charts.LineSeries());\\r\\nseries.dataFields.valueY = \"male\";\\r\\nseries.dataFields.categoryX = \"year\";\\r\\nseries.name = \"Male\";\\r\\nseries.strokeWidth = 2;\\r\\nseries.propertyFields.stroke = \"maleColor\";\\r\\n\\r\\n// Second series\\r\\nvar series3 = chart1.series.push(new am4charts.LineSeries());\\r\\nseries3.dataFields.valueY = \"female\";\\r\\nseries3.dataFields.categoryX = \"year\";\\r\\nseries3.name = \"Female\";\\r\\nseries3.strokeWidth = 2;\\r\\nseries3.propertyFields.stroke = \"femaleColor\";\\r\\n\\r\\n// Third series\\r\\nvar series2 = chart1.series.push(new am4charts.LineSeries());\\r\\nseries2.dataFields.valueY = \"sexratio\";\\r\\nseries2.dataFields.categoryX = \"year\";\\r\\nseries2.name = \"Male per 100 Female\";\\r\\nseries2.tooltip.getFillFromObject = false;\\r\\nseries2.tooltip.label.fill = am4core.color(\"#00\");\\r\\nseries2.tooltip.background.fill = am4core.color(\"#fff000\");\\r\\nseries2.tooltipText = \"[bold]{year} : [/]\\\\nMale : {male}\\\\nFemale : {female}\\\\nM per 100 F : {sexratio}\";\\r\\nseries2.strokeWidth = 2;\\r\\nseries2.propertyFields.stroke = \"ratioColor\";\\r\\nseries2.yAxis = valueAxis2;\\r\\nvalueAxis2.syncWithAxis = valueAxis;\\r\\n\\r\\n// Add cursor\\r\\nchart1.cursor = new am4charts.XYCursor();\\r\\nchart1.cursor.behavior = \"none\";\\r\\nchart1.cursor.lineY.disabled = true;\\r\\nchart1.cursor.lineX.disabled = true;\\r\\n</script>\\r\\n\\r\\n<script>     \\r\\nam4core.useTheme(am4themes_animated);\\r\\n\\r\\n// Create chart instance\\r\\nvar chart2 = am4core.create(\"chartdiv2\", am4charts.XYChart);\\r\\n\\r\\nvar title = chart2.titles.create();\\r\\ntitle.text = \"Continents by population (1950-2100)\";\\r\\ntitle.fontSize = 20;\\r\\ntitle.marginBottom = 10;\\r\\n\\r\\nchart2.dataSource.url = \"m/demographics/json/region/continent6.json\";\\r\\n// Create axes\\r\\nvar categoryAxis = chart2.xAxes.push(new am4charts.CategoryAxis());\\r\\ncategoryAxis.dataFields.category = \"year\";\\r\\ncategoryAxis.renderer.grid.template.location = 0;\\r\\ncategoryAxis.renderer.labels.template.fontSize = 12;\\r\\ncategoryAxis.title.text = \"Year\";\\r\\ncategoryAxis.cursorTooltipEnabled = false;\\r\\n\\r\\nvar valueAxis = chart2.yAxes.push(new am4charts.ValueAxis());\\r\\nvalueAxis.title.text = \"Population\";\\r\\nvalueAxis.renderer.inside = true;\\r\\nvalueAxis.renderer.labels.template.fontSize = 12;\\r\\nvalueAxis.cursorTooltipEnabled = false;\\r\\n\\r\\nchart2.scrollbarX = new am4core.Scrollbar();\\r\\nchart2.scrollbarY = new am4core.Scrollbar();\\r\\n\\r\\nfunction createSeries(field, name, color) {\\r\\n  var series = chart2.series.push(new am4charts.LineSeries());\\r\\n  series.dataFields.valueY = field;\\r\\n  series.dataFields.categoryX = \"year\";\\r\\n  series.name = name;\\r\\n  series.strokeWidth = 2;\\r\\n  series.stroke = color;\\r\\n  series.minBulletDistance = 8;\\r\\n  \\r\\n  // Set up tooltip\\r\\n  series.adapter.add(\"tooltipText\", function(ev) {\\r\\n    var text = \"[bold]{year} : [/]\\\\n\";\\r\\n    chart2.series.each(function(item) {\\r\\n      text += \"[\" + item.stroke.hex + \"][/] \" + item.name + \": {\" + item.dataFields.valueY + \"} \\\\n\";\\r\\n    });\\r\\n    return text;\\r\\n  });\\r\\n  \\r\\n  series.tooltip.getFillFromObject = false;\\r\\n  series.tooltip.background.fill = am4core.color(\"#fff000\");\\r\\n  series.tooltip.label.fill = am4core.color(\"#00\");\\r\\n  \\r\\n  var bullet = series.bullets.push(new am4charts.CircleBullet());\\r\\n  bullet.circle.stroke = color;\\r\\n  bullet.circle.strokeWidth = 2;\\r\\n  bullet.circle.fill = color;\\r\\n  bullet.circle.radius = 2;\\r\\n  \\r\\n  return series;\\r\\n}\\r\\n\\r\\ncreateSeries(\"asia\",\"Asia\",\"#4d1300\");\\r\\ncreateSeries(\"africa\",\"Africa\",\"#0000FF\");\\r\\ncreateSeries(\"europe\",\"Europe\",\"#FF7F50\");\\r\\ncreateSeries(\"namerica\",\"North America\",\"#006400\");\\r\\ncreateSeries(\"samerica\",\"South America\",\"#DC143C\");\\r\\ncreateSeries(\"oceania\",\"Oceania\",\"#BDB76B\");\\r\\n\\r\\nchart2.legend = new am4charts.Legend();\\r\\nchart2.cursor = new am4charts.XYCursor();\\r\\nchart2.cursor.behavior = \"none\";\\r\\nchart2.cursor.lineY.disabled = true;\\r\\nchart2.cursor.lineX.disabled = true;\\r\\nchart2.cursor.maxTooltipDistance = 0;\\r\\n</script>\\r\\n</body>\\r\\n</html>'"
      ]
     },
     "execution_count": 19,
     "metadata": {},
     "output_type": "execute_result"
    }
   ],
   "source": [
    "page.content"
   ]
  },
  {
   "cell_type": "code",
   "execution_count": 20,
   "metadata": {},
   "outputs": [],
   "source": [
    "soup=BeautifulSoup(page.content,'html.parser')"
   ]
  },
  {
   "cell_type": "code",
   "execution_count": 21,
   "metadata": {},
   "outputs": [],
   "source": [
    "Rank=[] \n",
    "State=[]\n",
    "GSDP18=[]\n",
    "GSDP17=[]\n",
    "Share2017=[]\n",
    "GDP=[]"
   ]
  },
  {
   "cell_type": "code",
   "execution_count": 22,
   "metadata": {},
   "outputs": [
    {
     "name": "stdout",
     "output_type": "stream",
     "text": [
      "Enter the product you want to search : economy\n"
     ]
    }
   ],
   "source": [
    "user_inp = input('Enter the product you want to search : ')"
   ]
  },
  {
   "cell_type": "code",
   "execution_count": 24,
   "metadata": {},
   "outputs": [
    {
     "name": "stdout",
     "output_type": "stream",
     "text": [
      "No button\n"
     ]
    },
    {
     "ename": "NoSuchElementException",
     "evalue": "Message: no such element: Unable to locate element: {\"method\":\"css selector\",\"selector\":\"[id=\"twotabsearchtextbox\"]\"}\n  (Session info: chrome=88.0.4324.104)\n",
     "output_type": "error",
     "traceback": [
      "\u001b[1;31m---------------------------------------------------------------------------\u001b[0m",
      "\u001b[1;31mNoSuchElementException\u001b[0m                    Traceback (most recent call last)",
      "\u001b[1;32m<ipython-input-24-2e8fdd4be027>\u001b[0m in \u001b[0;36m<module>\u001b[1;34m\u001b[0m\n\u001b[0;32m      6\u001b[0m \u001b[1;32mexcept\u001b[0m \u001b[0mNoSuchElementException\u001b[0m \u001b[1;33m:\u001b[0m\u001b[1;33m\u001b[0m\u001b[1;33m\u001b[0m\u001b[0m\n\u001b[0;32m      7\u001b[0m     \u001b[0mprint\u001b[0m\u001b[1;33m(\u001b[0m\u001b[1;34m\"No button\"\u001b[0m\u001b[1;33m)\u001b[0m\u001b[1;33m\u001b[0m\u001b[1;33m\u001b[0m\u001b[0m\n\u001b[1;32m----> 8\u001b[1;33m \u001b[0msearch_bar\u001b[0m \u001b[1;33m=\u001b[0m \u001b[0mdriver\u001b[0m\u001b[1;33m.\u001b[0m\u001b[0mfind_element_by_id\u001b[0m\u001b[1;33m(\u001b[0m\u001b[1;34m\"twotabsearchtextbox\"\u001b[0m\u001b[1;33m)\u001b[0m\u001b[1;33m\u001b[0m\u001b[1;33m\u001b[0m\u001b[0m\n\u001b[0m\u001b[0;32m      9\u001b[0m \u001b[0msearch_bar\u001b[0m\u001b[1;33m.\u001b[0m\u001b[0mclear\u001b[0m\u001b[1;33m(\u001b[0m\u001b[1;33m)\u001b[0m\u001b[1;33m\u001b[0m\u001b[1;33m\u001b[0m\u001b[0m\n\u001b[0;32m     10\u001b[0m \u001b[0msearch_bar\u001b[0m\u001b[1;33m.\u001b[0m\u001b[0msend_keys\u001b[0m\u001b[1;33m(\u001b[0m\u001b[0muser_inp\u001b[0m\u001b[1;33m)\u001b[0m\u001b[1;33m\u001b[0m\u001b[1;33m\u001b[0m\u001b[0m\n",
      "\u001b[1;32m~\\anaconda3\\lib\\site-packages\\selenium\\webdriver\\remote\\webdriver.py\u001b[0m in \u001b[0;36mfind_element_by_id\u001b[1;34m(self, id_)\u001b[0m\n\u001b[0;32m    358\u001b[0m             \u001b[0melement\u001b[0m \u001b[1;33m=\u001b[0m \u001b[0mdriver\u001b[0m\u001b[1;33m.\u001b[0m\u001b[0mfind_element_by_id\u001b[0m\u001b[1;33m(\u001b[0m\u001b[1;34m'foo'\u001b[0m\u001b[1;33m)\u001b[0m\u001b[1;33m\u001b[0m\u001b[1;33m\u001b[0m\u001b[0m\n\u001b[0;32m    359\u001b[0m         \"\"\"\n\u001b[1;32m--> 360\u001b[1;33m         \u001b[1;32mreturn\u001b[0m \u001b[0mself\u001b[0m\u001b[1;33m.\u001b[0m\u001b[0mfind_element\u001b[0m\u001b[1;33m(\u001b[0m\u001b[0mby\u001b[0m\u001b[1;33m=\u001b[0m\u001b[0mBy\u001b[0m\u001b[1;33m.\u001b[0m\u001b[0mID\u001b[0m\u001b[1;33m,\u001b[0m \u001b[0mvalue\u001b[0m\u001b[1;33m=\u001b[0m\u001b[0mid_\u001b[0m\u001b[1;33m)\u001b[0m\u001b[1;33m\u001b[0m\u001b[1;33m\u001b[0m\u001b[0m\n\u001b[0m\u001b[0;32m    361\u001b[0m \u001b[1;33m\u001b[0m\u001b[0m\n\u001b[0;32m    362\u001b[0m     \u001b[1;32mdef\u001b[0m \u001b[0mfind_elements_by_id\u001b[0m\u001b[1;33m(\u001b[0m\u001b[0mself\u001b[0m\u001b[1;33m,\u001b[0m \u001b[0mid_\u001b[0m\u001b[1;33m)\u001b[0m\u001b[1;33m:\u001b[0m\u001b[1;33m\u001b[0m\u001b[1;33m\u001b[0m\u001b[0m\n",
      "\u001b[1;32m~\\anaconda3\\lib\\site-packages\\selenium\\webdriver\\remote\\webdriver.py\u001b[0m in \u001b[0;36mfind_element\u001b[1;34m(self, by, value)\u001b[0m\n\u001b[0;32m    974\u001b[0m                 \u001b[0mby\u001b[0m \u001b[1;33m=\u001b[0m \u001b[0mBy\u001b[0m\u001b[1;33m.\u001b[0m\u001b[0mCSS_SELECTOR\u001b[0m\u001b[1;33m\u001b[0m\u001b[1;33m\u001b[0m\u001b[0m\n\u001b[0;32m    975\u001b[0m                 \u001b[0mvalue\u001b[0m \u001b[1;33m=\u001b[0m \u001b[1;34m'[name=\"%s\"]'\u001b[0m \u001b[1;33m%\u001b[0m \u001b[0mvalue\u001b[0m\u001b[1;33m\u001b[0m\u001b[1;33m\u001b[0m\u001b[0m\n\u001b[1;32m--> 976\u001b[1;33m         return self.execute(Command.FIND_ELEMENT, {\n\u001b[0m\u001b[0;32m    977\u001b[0m             \u001b[1;34m'using'\u001b[0m\u001b[1;33m:\u001b[0m \u001b[0mby\u001b[0m\u001b[1;33m,\u001b[0m\u001b[1;33m\u001b[0m\u001b[1;33m\u001b[0m\u001b[0m\n\u001b[0;32m    978\u001b[0m             'value': value})['value']\n",
      "\u001b[1;32m~\\anaconda3\\lib\\site-packages\\selenium\\webdriver\\remote\\webdriver.py\u001b[0m in \u001b[0;36mexecute\u001b[1;34m(self, driver_command, params)\u001b[0m\n\u001b[0;32m    319\u001b[0m         \u001b[0mresponse\u001b[0m \u001b[1;33m=\u001b[0m \u001b[0mself\u001b[0m\u001b[1;33m.\u001b[0m\u001b[0mcommand_executor\u001b[0m\u001b[1;33m.\u001b[0m\u001b[0mexecute\u001b[0m\u001b[1;33m(\u001b[0m\u001b[0mdriver_command\u001b[0m\u001b[1;33m,\u001b[0m \u001b[0mparams\u001b[0m\u001b[1;33m)\u001b[0m\u001b[1;33m\u001b[0m\u001b[1;33m\u001b[0m\u001b[0m\n\u001b[0;32m    320\u001b[0m         \u001b[1;32mif\u001b[0m \u001b[0mresponse\u001b[0m\u001b[1;33m:\u001b[0m\u001b[1;33m\u001b[0m\u001b[1;33m\u001b[0m\u001b[0m\n\u001b[1;32m--> 321\u001b[1;33m             \u001b[0mself\u001b[0m\u001b[1;33m.\u001b[0m\u001b[0merror_handler\u001b[0m\u001b[1;33m.\u001b[0m\u001b[0mcheck_response\u001b[0m\u001b[1;33m(\u001b[0m\u001b[0mresponse\u001b[0m\u001b[1;33m)\u001b[0m\u001b[1;33m\u001b[0m\u001b[1;33m\u001b[0m\u001b[0m\n\u001b[0m\u001b[0;32m    322\u001b[0m             response['value'] = self._unwrap_value(\n\u001b[0;32m    323\u001b[0m                 response.get('value', None))\n",
      "\u001b[1;32m~\\anaconda3\\lib\\site-packages\\selenium\\webdriver\\remote\\errorhandler.py\u001b[0m in \u001b[0;36mcheck_response\u001b[1;34m(self, response)\u001b[0m\n\u001b[0;32m    240\u001b[0m                 \u001b[0malert_text\u001b[0m \u001b[1;33m=\u001b[0m \u001b[0mvalue\u001b[0m\u001b[1;33m[\u001b[0m\u001b[1;34m'alert'\u001b[0m\u001b[1;33m]\u001b[0m\u001b[1;33m.\u001b[0m\u001b[0mget\u001b[0m\u001b[1;33m(\u001b[0m\u001b[1;34m'text'\u001b[0m\u001b[1;33m)\u001b[0m\u001b[1;33m\u001b[0m\u001b[1;33m\u001b[0m\u001b[0m\n\u001b[0;32m    241\u001b[0m             \u001b[1;32mraise\u001b[0m \u001b[0mexception_class\u001b[0m\u001b[1;33m(\u001b[0m\u001b[0mmessage\u001b[0m\u001b[1;33m,\u001b[0m \u001b[0mscreen\u001b[0m\u001b[1;33m,\u001b[0m \u001b[0mstacktrace\u001b[0m\u001b[1;33m,\u001b[0m \u001b[0malert_text\u001b[0m\u001b[1;33m)\u001b[0m\u001b[1;33m\u001b[0m\u001b[1;33m\u001b[0m\u001b[0m\n\u001b[1;32m--> 242\u001b[1;33m         \u001b[1;32mraise\u001b[0m \u001b[0mexception_class\u001b[0m\u001b[1;33m(\u001b[0m\u001b[0mmessage\u001b[0m\u001b[1;33m,\u001b[0m \u001b[0mscreen\u001b[0m\u001b[1;33m,\u001b[0m \u001b[0mstacktrace\u001b[0m\u001b[1;33m)\u001b[0m\u001b[1;33m\u001b[0m\u001b[1;33m\u001b[0m\u001b[0m\n\u001b[0m\u001b[0;32m    243\u001b[0m \u001b[1;33m\u001b[0m\u001b[0m\n\u001b[0;32m    244\u001b[0m     \u001b[1;32mdef\u001b[0m \u001b[0m_value_or_default\u001b[0m\u001b[1;33m(\u001b[0m\u001b[0mself\u001b[0m\u001b[1;33m,\u001b[0m \u001b[0mobj\u001b[0m\u001b[1;33m,\u001b[0m \u001b[0mkey\u001b[0m\u001b[1;33m,\u001b[0m \u001b[0mdefault\u001b[0m\u001b[1;33m)\u001b[0m\u001b[1;33m:\u001b[0m\u001b[1;33m\u001b[0m\u001b[1;33m\u001b[0m\u001b[0m\n",
      "\u001b[1;31mNoSuchElementException\u001b[0m: Message: no such element: Unable to locate element: {\"method\":\"css selector\",\"selector\":\"[id=\"twotabsearchtextbox\"]\"}\n  (Session info: chrome=88.0.4324.104)\n"
     ]
    }
   ],
   "source": [
    "time.sleep(3)\n",
    "try:\n",
    "    element=driver.find_element_by_xpath('//div[@class=\"dropdown\"]/button')\n",
    "    print(element.text)       \n",
    "    \n",
    "except NoSuchElementException : \n",
    "    print(\"No button\")\n",
    "search_bar = driver.find_element_by_id(\"twotabsearchtextbox\")    \n",
    "search_bar.clear()                                               \n",
    "search_bar.send_keys(user_inp)                                   \n",
    "search_button = driver.find_element_by_xpath('//div[@class=\"dropdown\"]/button')       \n",
    "search_button.click()       "
   ]
  },
  {
   "cell_type": "code",
   "execution_count": 26,
   "metadata": {},
   "outputs": [],
   "source": [
    "driver.close()"
   ]
  },
  {
   "cell_type": "code",
   "execution_count": 28,
   "metadata": {},
   "outputs": [],
   "source": [
    "from selenium import webdriver\n",
    "from selenium.webdriver.support.ui import WebDriverWait\n",
    "from selenium.webdriver.support import expected_conditions as EC\n",
    "from selenium.webdriver.common.by import By"
   ]
  },
  {
   "cell_type": "code",
   "execution_count": 29,
   "metadata": {},
   "outputs": [
    {
     "data": {
      "text/plain": [
       "<selenium.webdriver.remote.webelement.WebElement (session=\"fb4c473fffb02f6bb7610833da3251ea\", element=\"62b92f80-92d7-4b5a-ba19-350307659095\")>"
      ]
     },
     "execution_count": 29,
     "metadata": {},
     "output_type": "execute_result"
    }
   ],
   "source": [
    "driver=webdriver.Chrome(r'C:\\Users\\DELL\\Downloads\\chromedriver.exe')\n",
    "driver.get('http://statisticstimes.com/')\n",
    "delay=10\n",
    "WebDriverWait(driver,delay).until(EC.presence_of_element_located((By.CLASS_NAME,'dropdown')))\n",
    "element=driver.find_element_by_xpath('//div[@class=\"dropdown\"]/button')\n",
    "element"
   ]
  },
  {
   "cell_type": "code",
   "execution_count": 30,
   "metadata": {},
   "outputs": [],
   "source": [
    "driver.close()"
   ]
  },
  {
   "cell_type": "code",
   "execution_count": 31,
   "metadata": {},
   "outputs": [],
   "source": [
    "from bs4 import BeautifulSoup\n",
    "import requests"
   ]
  },
  {
   "cell_type": "code",
   "execution_count": 32,
   "metadata": {},
   "outputs": [],
   "source": [
    "page=requests.get('https://www.billiboard.com/')"
   ]
  },
  {
   "cell_type": "code",
   "execution_count": 33,
   "metadata": {},
   "outputs": [
    {
     "data": {
      "text/plain": [
       "b'<!DOCTYPE html>\\n<html lang=\"en\" class=\"html_stretched responsive av-preloader-disabled av-default-lightbox  html_header_top html_logo_left html_main_nav_header html_menu_right html_slim html_header_sticky html_header_shrinking html_header_topbar_active html_mobile_menu_phone html_header_searchicon_disabled html_content_align_center html_header_unstick_top html_header_stretch_disabled html_minimal_header html_av-submenu-hidden html_av-submenu-display-click html_av-overlay-side html_av-overlay-side-classic html_av-submenu-noclone html_entry_id_504 html_cart_at_menu av-no-preview html_text_menu_active \">\\n<head>\\n<meta charset=\"UTF-8\" />\\n\\n\\n<!-- mobile setting -->\\n<meta name=\"viewport\" content=\"width=device-width, initial-scale=1, maximum-scale=1\">\\n\\n<!-- Scripts/CSS and wp_head hook -->\\n\\n\\t<!-- This site is optimized with the Yoast SEO plugin v15.7 - https://yoast.com/wordpress/plugins/seo/ -->\\n\\t<title>Carrom Boards &amp; Accessories | North America&#039;s Largest Online Store</title>\\n\\t<meta name=\"description\" content=\"Supplying a wide range of carrom boards &amp; carrom accessories for enthusiasts &amp; novices including professional boards, coins, strikers, powder, stands &amp; more\" />\\n\\t<meta name=\"robots\" content=\"index, follow, max-snippet:-1, max-image-preview:large, max-video-preview:-1\" />\\n\\t<link rel=\"canonical\" href=\"https://www.billiboard.com/\" />\\n\\t<meta property=\"og:locale\" content=\"en_US\" />\\n\\t<meta property=\"og:type\" content=\"website\" />\\n\\t<meta property=\"og:title\" content=\"Carrom Boards &amp; Accessories | North America&#039;s Largest Online Store\" />\\n\\t<meta property=\"og:description\" content=\"Supplying a wide range of carrom boards &amp; carrom accessories for enthusiasts &amp; novices including professional boards, coins, strikers, powder, stands &amp; more\" />\\n\\t<meta property=\"og:url\" content=\"https://www.billiboard.com/\" />\\n\\t<meta property=\"og:site_name\" content=\"BilliBoards\" />\\n\\t<meta property=\"article:modified_time\" content=\"2020-12-16T15:30:18+00:00\" />\\n\\t<meta property=\"og:image\" content=\"https://www.billiboard.com/wp-content/uploads/2016/12/8SyncoTournament_IMG_0008_White.jpg\" />\\n\\t<meta property=\"og:image:width\" content=\"900\" />\\n\\t<meta property=\"og:image:height\" content=\"600\" />\\n\\t<meta name=\"twitter:card\" content=\"summary\" />\\n\\t<meta name=\"twitter:label1\" content=\"Est. reading time\">\\n\\t<meta name=\"twitter:data1\" content=\"14 minutes\">\\n\\t<script type=\"application/ld+json\" class=\"yoast-schema-graph\">{\"@context\":\"https://schema.org\",\"@graph\":[{\"@type\":\"WebSite\",\"@id\":\"https://www.billiboard.com/#website\",\"url\":\"https://www.billiboard.com/\",\"name\":\"BilliBoards\",\"description\":\"\",\"potentialAction\":[{\"@type\":\"SearchAction\",\"target\":\"https://www.billiboard.com/?s={search_term_string}\",\"query-input\":\"required name=search_term_string\"}],\"inLanguage\":\"en\"},{\"@type\":\"ImageObject\",\"@id\":\"https://www.billiboard.com/#primaryimage\",\"inLanguage\":\"en\",\"url\":\"https://www.billiboard.com/wp-content/uploads/2016/12/8SyncoTournament_IMG_0008_White.jpg\",\"width\":900,\"height\":600},{\"@type\":\"WebPage\",\"@id\":\"https://www.billiboard.com/#webpage\",\"url\":\"https://www.billiboard.com/\",\"name\":\"Carrom Boards & Accessories | North America\\'s Largest Online Store\",\"isPartOf\":{\"@id\":\"https://www.billiboard.com/#website\"},\"primaryImageOfPage\":{\"@id\":\"https://www.billiboard.com/#primaryimage\"},\"datePublished\":\"2015-03-02T13:12:12+00:00\",\"dateModified\":\"2020-12-16T15:30:18+00:00\",\"description\":\"Supplying a wide range of carrom boards & carrom accessories for enthusiasts & novices including professional boards, coins, strikers, powder, stands & more\",\"inLanguage\":\"en\",\"potentialAction\":[{\"@type\":\"ReadAction\",\"target\":[\"https://www.billiboard.com/\"]}]}]}</script>\\n\\t<!-- / Yoast SEO plugin. -->\\n\\n\\n<link rel=\\'dns-prefetch\\' href=\\'//s.w.org\\' />\\n<link rel=\"alternate\" type=\"application/rss+xml\" title=\"BilliBoards &raquo; Feed\" href=\"https://www.billiboard.com/feed/\" />\\n<link rel=\"alternate\" type=\"application/rss+xml\" title=\"BilliBoards &raquo; Comments Feed\" href=\"https://www.billiboard.com/comments/feed/\" />\\n<link rel=\"alternate\" type=\"application/rss+xml\" title=\"BilliBoards &raquo; Home Comments Feed\" href=\"https://www.billiboard.com/homepage/feed/\" />\\n\\n<!-- google webfont font replacement -->\\n<link rel=\\'stylesheet\\' id=\\'avia-google-webfont\\' href=\\'//fonts.googleapis.com/css?family=Open+Sans:400,600\\' type=\\'text/css\\' media=\\'all\\'/> \\n\\t\\t<script type=\"text/javascript\">\\n\\t\\t\\twindow._wpemojiSettings = {\"baseUrl\":\"https:\\\\/\\\\/s.w.org\\\\/images\\\\/core\\\\/emoji\\\\/13.0.1\\\\/72x72\\\\/\",\"ext\":\".png\",\"svgUrl\":\"https:\\\\/\\\\/s.w.org\\\\/images\\\\/core\\\\/emoji\\\\/13.0.1\\\\/svg\\\\/\",\"svgExt\":\".svg\",\"source\":{\"concatemoji\":\"https:\\\\/\\\\/www.billiboard.com\\\\/wp-includes\\\\/js\\\\/wp-emoji-release.min.js?ver=5.6.1\"}};\\n\\t\\t\\t!function(e,a,t){var n,r,o,i=a.createElement(\"canvas\"),p=i.getContext&&i.getContext(\"2d\");function s(e,t){var a=String.fromCharCode;p.clearRect(0,0,i.width,i.height),p.fillText(a.apply(this,e),0,0);e=i.toDataURL();return p.clearRect(0,0,i.width,i.height),p.fillText(a.apply(this,t),0,0),e===i.toDataURL()}function c(e){var t=a.createElement(\"script\");t.src=e,t.defer=t.type=\"text/javascript\",a.getElementsByTagName(\"head\")[0].appendChild(t)}for(o=Array(\"flag\",\"emoji\"),t.supports={everything:!0,everythingExceptFlag:!0},r=0;r<o.length;r++)t.supports[o[r]]=function(e){if(!p||!p.fillText)return!1;switch(p.textBaseline=\"top\",p.font=\"600 32px Arial\",e){case\"flag\":return s([127987,65039,8205,9895,65039],[127987,65039,8203,9895,65039])?!1:!s([55356,56826,55356,56819],[55356,56826,8203,55356,56819])&&!s([55356,57332,56128,56423,56128,56418,56128,56421,56128,56430,56128,56423,56128,56447],[55356,57332,8203,56128,56423,8203,56128,56418,8203,56128,56421,8203,56128,56430,8203,56128,56423,8203,56128,56447]);case\"emoji\":return!s([55357,56424,8205,55356,57212],[55357,56424,8203,55356,57212])}return!1}(o[r]),t.supports.everything=t.supports.everything&&t.supports[o[r]],\"flag\"!==o[r]&&(t.supports.everythingExceptFlag=t.supports.everythingExceptFlag&&t.supports[o[r]]);t.supports.everythingExceptFlag=t.supports.everythingExceptFlag&&!t.supports.flag,t.DOMReady=!1,t.readyCallback=function(){t.DOMReady=!0},t.supports.everything||(n=function(){t.readyCallback()},a.addEventListener?(a.addEventListener(\"DOMContentLoaded\",n,!1),e.addEventListener(\"load\",n,!1)):(e.attachEvent(\"onload\",n),a.attachEvent(\"onreadystatechange\",function(){\"complete\"===a.readyState&&t.readyCallback()})),(n=t.source||{}).concatemoji?c(n.concatemoji):n.wpemoji&&n.twemoji&&(c(n.twemoji),c(n.wpemoji)))}(window,document,window._wpemojiSettings);\\n\\t\\t</script>\\n\\t\\t<style type=\"text/css\">\\nimg.wp-smiley,\\nimg.emoji {\\n\\tdisplay: inline !important;\\n\\tborder: none !important;\\n\\tbox-shadow: none !important;\\n\\theight: 1em !important;\\n\\twidth: 1em !important;\\n\\tmargin: 0 .07em !important;\\n\\tvertical-align: -0.1em !important;\\n\\tbackground: none !important;\\n\\tpadding: 0 !important;\\n}\\n</style>\\n\\t<link rel=\\'stylesheet\\' id=\\'avia-woocommerce-css-css\\'  href=\\'https://www.billiboard.com/wp-content/themes/enfold/config-woocommerce/woocommerce-mod.css?ver=5.6.1\\' type=\\'text/css\\' media=\\'all\\' />\\n<link rel=\\'stylesheet\\' id=\\'wp-block-library-css\\'  href=\\'https://www.billiboard.com/wp-includes/css/dist/block-library/style.min.css?ver=5.6.1\\' type=\\'text/css\\' media=\\'all\\' />\\n<link rel=\\'stylesheet\\' id=\\'wc-block-vendors-style-css\\'  href=\\'https://www.billiboard.com/wp-content/plugins/woocommerce/packages/woocommerce-blocks/build/vendors-style.css?ver=4.0.0\\' type=\\'text/css\\' media=\\'all\\' />\\n<link rel=\\'stylesheet\\' id=\\'wc-block-style-css\\'  href=\\'https://www.billiboard.com/wp-content/plugins/woocommerce/packages/woocommerce-blocks/build/style.css?ver=4.0.0\\' type=\\'text/css\\' media=\\'all\\' />\\n<link rel=\\'stylesheet\\' id=\\'font-awesome-css\\'  href=\\'https://www.billiboard.com/wp-content/plugins/contact-widgets/assets/css/font-awesome.min.css?ver=4.7.0\\' type=\\'text/css\\' media=\\'all\\' />\\n<style id=\\'woocommerce-inline-inline-css\\' type=\\'text/css\\'>\\n.woocommerce form .form-row .required { visibility: visible; }\\n</style>\\n<link rel=\\'stylesheet\\' id=\\'avia-grid-css\\'  href=\\'https://www.billiboard.com/wp-content/themes/enfold/css/grid.css?ver=4.2\\' type=\\'text/css\\' media=\\'all\\' />\\n<link rel=\\'stylesheet\\' id=\\'avia-base-css\\'  href=\\'https://www.billiboard.com/wp-content/themes/enfold/css/base.css?ver=4.2\\' type=\\'text/css\\' media=\\'all\\' />\\n<link rel=\\'stylesheet\\' id=\\'avia-layout-css\\'  href=\\'https://www.billiboard.com/wp-content/themes/enfold/css/layout.css?ver=4.2\\' type=\\'text/css\\' media=\\'all\\' />\\n<link rel=\\'stylesheet\\' id=\\'avia-scs-css\\'  href=\\'https://www.billiboard.com/wp-content/themes/enfold/css/shortcodes.css?ver=4.2\\' type=\\'text/css\\' media=\\'all\\' />\\n<link rel=\\'stylesheet\\' id=\\'avia-popup-css-css\\'  href=\\'https://www.billiboard.com/wp-content/themes/enfold/js/aviapopup/magnific-popup.css?ver=4.2\\' type=\\'text/css\\' media=\\'screen\\' />\\n<link rel=\\'stylesheet\\' id=\\'avia-print-css\\'  href=\\'https://www.billiboard.com/wp-content/themes/enfold/css/print.css?ver=4.2\\' type=\\'text/css\\' media=\\'print\\' />\\n<link rel=\\'stylesheet\\' id=\\'avia-dynamic-css\\'  href=\\'https://www.billiboard.com/wp-content/uploads/dynamic_avia/enfold.css?ver=5a307a555b935\\' type=\\'text/css\\' media=\\'all\\' />\\n<link rel=\\'stylesheet\\' id=\\'avia-custom-css\\'  href=\\'https://www.billiboard.com/wp-content/themes/enfold/css/custom.css?ver=4.2\\' type=\\'text/css\\' media=\\'all\\' />\\n<script type=\\'text/javascript\\' src=\\'https://www.billiboard.com/wp-includes/js/jquery/jquery.min.js?ver=3.5.1\\' id=\\'jquery-core-js\\'></script>\\n<script type=\\'text/javascript\\' src=\\'https://www.billiboard.com/wp-includes/js/jquery/jquery-migrate.min.js?ver=3.3.2\\' id=\\'jquery-migrate-js\\'></script>\\n<script type=\\'text/javascript\\' src=\\'https://www.billiboard.com/wp-content/themes/enfold/js/avia-compat.js?ver=4.2\\' id=\\'avia-compat-js\\'></script>\\n<link rel=\"https://api.w.org/\" href=\"https://www.billiboard.com/wp-json/\" /><link rel=\"alternate\" type=\"application/json\" href=\"https://www.billiboard.com/wp-json/wp/v2/pages/504\" /><link rel=\"EditURI\" type=\"application/rsd+xml\" title=\"RSD\" href=\"https://www.billiboard.com/xmlrpc.php?rsd\" />\\n<link rel=\"wlwmanifest\" type=\"application/wlwmanifest+xml\" href=\"https://www.billiboard.com/wp-includes/wlwmanifest.xml\" /> \\n<meta name=\"generator\" content=\"WordPress 5.6.1\" />\\n<meta name=\"generator\" content=\"WooCommerce 4.9.2\" />\\n<link rel=\\'shortlink\\' href=\\'https://www.billiboard.com/\\' />\\n<link rel=\"alternate\" type=\"application/json+oembed\" href=\"https://www.billiboard.com/wp-json/oembed/1.0/embed?url=https%3A%2F%2Fwww.billiboard.com%2F\" />\\n<link rel=\"alternate\" type=\"text/xml+oembed\" href=\"https://www.billiboard.com/wp-json/oembed/1.0/embed?url=https%3A%2F%2Fwww.billiboard.com%2F&#038;format=xml\" />\\n<script type=\"text/javascript\">\\n(function(url){\\n\\tif(/(?:Chrome\\\\/26\\\\.0\\\\.1410\\\\.63 Safari\\\\/537\\\\.31|WordfenceTestMonBot)/.test(navigator.userAgent)){ return; }\\n\\tvar addEvent = function(evt, handler) {\\n\\t\\tif (window.addEventListener) {\\n\\t\\t\\tdocument.addEventListener(evt, handler, false);\\n\\t\\t} else if (window.attachEvent) {\\n\\t\\t\\tdocument.attachEvent(\\'on\\' + evt, handler);\\n\\t\\t}\\n\\t};\\n\\tvar removeEvent = function(evt, handler) {\\n\\t\\tif (window.removeEventListener) {\\n\\t\\t\\tdocument.removeEventListener(evt, handler, false);\\n\\t\\t} else if (window.detachEvent) {\\n\\t\\t\\tdocument.detachEvent(\\'on\\' + evt, handler);\\n\\t\\t}\\n\\t};\\n\\tvar evts = \\'contextmenu dblclick drag dragend dragenter dragleave dragover dragstart drop keydown keypress keyup mousedown mousemove mouseout mouseover mouseup mousewheel scroll\\'.split(\\' \\');\\n\\tvar logHuman = function() {\\n\\t\\tif (window.wfLogHumanRan) { return; }\\n\\t\\twindow.wfLogHumanRan = true;\\n\\t\\tvar wfscr = document.createElement(\\'script\\');\\n\\t\\twfscr.type = \\'text/javascript\\';\\n\\t\\twfscr.async = true;\\n\\t\\twfscr.src = url + \\'&r=\\' + Math.random();\\n\\t\\t(document.getElementsByTagName(\\'head\\')[0]||document.getElementsByTagName(\\'body\\')[0]).appendChild(wfscr);\\n\\t\\tfor (var i = 0; i < evts.length; i++) {\\n\\t\\t\\tremoveEvent(evts[i], logHuman);\\n\\t\\t}\\n\\t};\\n\\tfor (var i = 0; i < evts.length; i++) {\\n\\t\\taddEvent(evts[i], logHuman);\\n\\t}\\n})(\\'//www.billiboard.com/?wordfence_lh=1&hid=0C2442E5586A70BEBDCB2469CCA8972F\\');\\n</script><link rel=\"profile\" href=\"http://gmpg.org/xfn/11\" />\\n<link rel=\"alternate\" type=\"application/rss+xml\" title=\"BilliBoards RSS2 Feed\" href=\"https://www.billiboard.com/feed/\" />\\n<link rel=\"pingback\" href=\"https://www.billiboard.com/xmlrpc.php\" />\\n<!--[if lt IE 9]><script src=\"https://www.billiboard.com/wp-content/themes/enfold/js/html5shiv.js\"></script><![endif]-->\\n<link rel=\"icon\" href=\"https://www.billiboard.com/wp-content/uploads/2016/11/favicon.png\" type=\"image/png\">\\n\\t<noscript><style>.woocommerce-product-gallery{ opacity: 1 !important; }</style></noscript>\\n\\t\\n\\n<!--\\nDebugging Info for Theme support: \\n\\nTheme: Enfold\\nVersion: 4.2\\nInstalled: enfold\\nAviaFramework Version: 4.6\\nAviaBuilder Version: 0.9.5\\nML:512-PU:77-PLA:12\\nWP:5.6.1\\nUpdates: enabled\\n-->\\n\\n<style type=\\'text/css\\'>\\n@font-face {font-family: \\'entypo-fontello\\'; font-weight: normal; font-style: normal;\\nsrc: url(\\'https://www.billiboard.com/wp-content/themes/enfold/config-templatebuilder/avia-template-builder/assets/fonts/entypo-fontello.eot?v=3\\');\\nsrc: url(\\'https://www.billiboard.com/wp-content/themes/enfold/config-templatebuilder/avia-template-builder/assets/fonts/entypo-fontello.eot?v=3#iefix\\') format(\\'embedded-opentype\\'), \\nurl(\\'https://www.billiboard.com/wp-content/themes/enfold/config-templatebuilder/avia-template-builder/assets/fonts/entypo-fontello.woff?v=3\\') format(\\'woff\\'), \\nurl(\\'https://www.billiboard.com/wp-content/themes/enfold/config-templatebuilder/avia-template-builder/assets/fonts/entypo-fontello.ttf?v=3\\') format(\\'truetype\\'), \\nurl(\\'https://www.billiboard.com/wp-content/themes/enfold/config-templatebuilder/avia-template-builder/assets/fonts/entypo-fontello.svg?v=3#entypo-fontello\\') format(\\'svg\\');\\n} #top .avia-font-entypo-fontello, body .avia-font-entypo-fontello, html body [data-av_iconfont=\\'entypo-fontello\\']:before{ font-family: \\'entypo-fontello\\'; }\\n</style><script>\\n  (function(i,s,o,g,r,a,m){i[\\'GoogleAnalyticsObject\\']=r;i[r]=i[r]||function(){\\n  (i[r].q=i[r].q||[]).push(arguments)},i[r].l=1*new Date();a=s.createElement(o),\\n  m=s.getElementsByTagName(o)[0];a.async=1;a.src=g;m.parentNode.insertBefore(a,m)\\n  })(window,document,\\'script\\',\\'https://www.google-analytics.com/analytics.js\\',\\'ga\\');\\n\\n  ga(\\'create\\', \\'UA-104422176-1\\', \\'auto\\');\\n  ga(\\'send\\', \\'pageview\\');\\n\\n</script>\\t\\n\\t<meta name=\"google-site-verification\" content=\"vEnjrDo-bgYJFxSr45eESI4d-P9bdDtdBZ3UUlyZ08o\" />\\n\\n</head>\\n\\n\\n\\n\\n<body id=\"top\" class=\"home page-template-default page page-id-504 stretched open_sans  theme-enfold woocommerce-no-js\" itemscope=\"itemscope\" itemtype=\"https://schema.org/WebPage\" >\\n\\n\\t\\n\\t<div id=\\'wrap_all\\'>\\n\\n\\t\\r\\n<header id=\\'header\\' class=\\'all_colors header_color light_bg_color  av_header_top av_logo_left av_main_nav_header av_menu_right av_slim av_header_sticky av_header_shrinking av_header_stretch_disabled av_mobile_menu_phone av_header_searchicon_disabled av_header_unstick_top av_minimal_header av_bottom_nav_disabled  av_alternate_logo_active av_header_border_disabled\\'  role=\"banner\" itemscope=\"itemscope\" itemtype=\"https://schema.org/WPHeader\" >\\r\\n\\r\\n\\t\\t<div id=\\'header_meta\\' class=\\'container_wrap container_wrap_meta  av_secondary_right av_extra_header_active av_phone_active_left av_entry_id_504\\'>\\r\\n\\t\\t\\r\\n\\t\\t\\t      <div class=\\'container\\'>\\r\\n\\t\\t\\t      <nav class=\\'sub_menu\\'  role=\"navigation\" itemscope=\"itemscope\" itemtype=\"https://schema.org/SiteNavigationElement\" ><ul id=\"avia2-menu\" class=\"menu\"><li id=\"menu-item-674\" class=\"menu-item menu-item-type-post_type menu-item-object-page menu-item-674\"><a href=\"https://www.billiboard.com/shop/\">Shop</a></li>\\n<li id=\"menu-item-599\" class=\"menu-item menu-item-type-post_type menu-item-object-page menu-item-599\"><a href=\"https://www.billiboard.com/my-account/\">My Account</a></li>\\n<li id=\"menu-item-673\" class=\"menu-item menu-item-type-post_type menu-item-object-page menu-item-673\"><a href=\"https://www.billiboard.com/cart/\">Cart</a></li>\\n<li id=\"menu-item-600\" class=\"menu-item menu-item-type-post_type menu-item-object-page menu-item-600\"><a href=\"https://www.billiboard.com/checkout/\">Checkout</a></li>\\n</ul></nav><div class=\\'phone-info with_nav\\'><span>Give us a call now: 919-321-0217</span></div>\\t\\t\\t      </div>\\r\\n\\t\\t</div>\\r\\n\\r\\n\\t\\t<div  id=\\'header_main\\' class=\\'container_wrap container_wrap_logo\\'>\\r\\n\\t\\r\\n        <div class=\\'container av-logo-container\\'><div class=\\'inner-container\\'><span class=\\'logo\\'><a href=\\'https://www.billiboard.com/\\'><img height=\\'100\\' width=\\'300\\' src=\\'https://www.billiboard.com/wp-content/uploads/2016/11/BilliBoards-Logo-1030x270.png\\' alt=\\'BilliBoards\\' /></a></span><nav class=\\'main_menu\\' data-selectname=\\'Select a page\\'  role=\"navigation\" itemscope=\"itemscope\" itemtype=\"https://schema.org/SiteNavigationElement\" ><div class=\"avia-menu av-main-nav-wrap\"><ul id=\"avia-menu\" class=\"menu av-main-nav\"><li id=\"menu-item-663\" class=\"menu-item menu-item-type-post_type menu-item-object-page menu-item-home current-menu-item page_item page-item-504 current_page_item menu-item-top-level menu-item-top-level-1\"><a href=\"https://www.billiboard.com/\" itemprop=\"url\"><span class=\"avia-bullet\"></span><span class=\"avia-menu-text\">Home</span><span class=\"avia-menu-fx\"><span class=\"avia-arrow-wrap\"><span class=\"avia-arrow\"></span></span></span></a></li>\\n<li id=\"menu-item-665\" class=\"menu-item menu-item-type-post_type menu-item-object-page menu-item-has-children menu-item-top-level menu-item-top-level-2\"><a href=\"https://www.billiboard.com/about-2/\" itemprop=\"url\"><span class=\"avia-bullet\"></span><span class=\"avia-menu-text\">About</span><span class=\"avia-menu-fx\"><span class=\"avia-arrow-wrap\"><span class=\"avia-arrow\"></span></span></span></a>\\n\\n\\n<ul class=\"sub-menu\">\\n\\t<li id=\"menu-item-802\" class=\"menu-item menu-item-type-post_type menu-item-object-page\"><a href=\"https://www.billiboard.com/what-is-carrom/\" itemprop=\"url\"><span class=\"avia-bullet\"></span><span class=\"avia-menu-text\">What is Carrom?</span></a></li>\\n\\t<li id=\"menu-item-801\" class=\"menu-item menu-item-type-post_type menu-item-object-page\"><a href=\"https://www.billiboard.com/carrom-rules/\" itemprop=\"url\"><span class=\"avia-bullet\"></span><span class=\"avia-menu-text\">Carrom Rules</span></a></li>\\n</ul>\\n</li>\\n<li id=\"menu-item-852\" class=\"menu-item menu-item-type-post_type menu-item-object-page menu-item-has-children menu-item-top-level menu-item-top-level-3\"><a href=\"https://www.billiboard.com/carrom-boards/\" itemprop=\"url\"><span class=\"avia-bullet\"></span><span class=\"avia-menu-text\">Boards</span><span class=\"avia-menu-fx\"><span class=\"avia-arrow-wrap\"><span class=\"avia-arrow\"></span></span></span></a>\\n\\n\\n<ul class=\"sub-menu\">\\n\\t<li id=\"menu-item-848\" class=\"menu-item menu-item-type-post_type menu-item-object-page\"><a href=\"https://www.billiboard.com/tournament-carrom-boards/\" itemprop=\"url\"><span class=\"avia-bullet\"></span><span class=\"avia-menu-text\">Complete Board Listing</span></a></li>\\n\\t<li id=\"menu-item-851\" class=\"menu-item menu-item-type-post_type menu-item-object-page\"><a href=\"https://www.billiboard.com/synco-carrom-boards/\" itemprop=\"url\"><span class=\"avia-bullet\"></span><span class=\"avia-menu-text\">Synco Carrom Boards</span></a></li>\\n\\t<li id=\"menu-item-850\" class=\"menu-item menu-item-type-post_type menu-item-object-page\"><a href=\"https://www.billiboard.com/precise-carrom-boards/\" itemprop=\"url\"><span class=\"avia-bullet\"></span><span class=\"avia-menu-text\">Precise Carrom Boards</span></a></li>\\n\\t<li id=\"menu-item-2167\" class=\"menu-item menu-item-type-post_type menu-item-object-page\"><a href=\"https://www.billiboard.com/siscaa-carrom-boards/\" itemprop=\"url\"><span class=\"avia-bullet\"></span><span class=\"avia-menu-text\">Siscaa Carrom Boards</span></a></li>\\n\\t<li id=\"menu-item-849\" class=\"menu-item menu-item-type-post_type menu-item-object-page\"><a href=\"https://www.billiboard.com/surco-carrom-boards/\" itemprop=\"url\"><span class=\"avia-bullet\"></span><span class=\"avia-menu-text\">Surco Carrom Boards</span></a></li>\\n\\t<li id=\"menu-item-1169\" class=\"menu-item menu-item-type-post_type menu-item-object-page\"><a href=\"https://www.billiboard.com/compare_our_boards/\" itemprop=\"url\"><span class=\"avia-bullet\"></span><span class=\"avia-menu-text\">Compare Our Boards</span></a></li>\\n</ul>\\n</li>\\n<li id=\"menu-item-847\" class=\"menu-item menu-item-type-post_type menu-item-object-page menu-item-has-children menu-item-top-level menu-item-top-level-4\"><a href=\"https://www.billiboard.com/accessories/\" itemprop=\"url\"><span class=\"avia-bullet\"></span><span class=\"avia-menu-text\">Accessories</span><span class=\"avia-menu-fx\"><span class=\"avia-arrow-wrap\"><span class=\"avia-arrow\"></span></span></span></a>\\n\\n\\n<ul class=\"sub-menu\">\\n\\t<li id=\"menu-item-846\" class=\"menu-item menu-item-type-post_type menu-item-object-page\"><a href=\"https://www.billiboard.com/strikers-2/\" itemprop=\"url\"><span class=\"avia-bullet\"></span><span class=\"avia-menu-text\">Strikers</span></a></li>\\n\\t<li id=\"menu-item-845\" class=\"menu-item menu-item-type-post_type menu-item-object-page\"><a href=\"https://www.billiboard.com/coins/\" itemprop=\"url\"><span class=\"avia-bullet\"></span><span class=\"avia-menu-text\">Coins</span></a></li>\\n\\t<li id=\"menu-item-844\" class=\"menu-item menu-item-type-post_type menu-item-object-page\"><a href=\"https://www.billiboard.com/stands/\" itemprop=\"url\"><span class=\"avia-bullet\"></span><span class=\"avia-menu-text\">Stands</span></a></li>\\n\\t<li id=\"menu-item-843\" class=\"menu-item menu-item-type-post_type menu-item-object-page\"><a href=\"https://www.billiboard.com/powder/\" itemprop=\"url\"><span class=\"avia-bullet\"></span><span class=\"avia-menu-text\">Powder</span></a></li>\\n\\t<li id=\"menu-item-842\" class=\"menu-item menu-item-type-post_type menu-item-object-page\"><a href=\"https://www.billiboard.com/booksdvds/\" itemprop=\"url\"><span class=\"avia-bullet\"></span><span class=\"avia-menu-text\">Books/DVDs</span></a></li>\\n\\t<li id=\"menu-item-878\" class=\"menu-item menu-item-type-post_type menu-item-object-page\"><a href=\"https://www.billiboard.com/accessory-packages/\" itemprop=\"url\"><span class=\"avia-bullet\"></span><span class=\"avia-menu-text\">Accessory Packages</span></a></li>\\n</ul>\\n</li>\\n<li id=\"menu-item-1369\" class=\"menu-item menu-item-type-custom menu-item-object-custom menu-item-top-level menu-item-top-level-5\"><a href=\"https://www.billiboard.com/product-category/carrom-deals/\" itemprop=\"url\"><span class=\"avia-bullet\"></span><span class=\"avia-menu-text\">Deals</span><span class=\"avia-menu-fx\"><span class=\"avia-arrow-wrap\"><span class=\"avia-arrow\"></span></span></span></a></li>\\n<li id=\"menu-item-841\" class=\"menu-item menu-item-type-post_type menu-item-object-page av-menu-button av-menu-button-colored menu-item-top-level menu-item-top-level-6\"><a href=\"https://www.billiboard.com/packages/\" itemprop=\"url\"><span class=\"avia-bullet\"></span><span class=\"avia-menu-text\">Packages</span><span class=\"avia-menu-fx\"><span class=\"avia-arrow-wrap\"><span class=\"avia-arrow\"></span></span></span></a></li>\\n<li id=\"menu-item-664\" class=\"menu-item menu-item-type-post_type menu-item-object-page menu-item-top-level menu-item-top-level-7\"><a href=\"https://www.billiboard.com/contact-2/\" itemprop=\"url\"><span class=\"avia-bullet\"></span><span class=\"avia-menu-text\">Contact Us</span><span class=\"avia-menu-fx\"><span class=\"avia-arrow-wrap\"><span class=\"avia-arrow\"></span></span></span></a></li>\\n<li class=\"av-burger-menu-main menu-item-avia-special \">\\n\\t        \\t\\t\\t<a href=\"#\">\\n\\t\\t\\t\\t\\t\\t\\t<span class=\"av-hamburger av-hamburger--spin av-js-hamburger\">\\n\\t\\t\\t\\t\\t        <span class=\"av-hamburger-box\">\\n\\t\\t\\t\\t\\t\\t          <span class=\"av-hamburger-inner\"></span>\\n\\t\\t\\t\\t\\t\\t          <strong>Menu</strong>\\n\\t\\t\\t\\t\\t        </span>\\n\\t\\t\\t\\t\\t\\t\\t</span>\\n\\t\\t\\t\\t\\t\\t</a>\\n\\t        \\t\\t   </li></ul></div><ul id=\"menu-item-shop\" class = \\'menu-item cart_dropdown \\' data-success=\\'was added to the cart\\'><li class=\\'cart_dropdown_first\\'><a class=\\'cart_dropdown_link\\' href=\\'https://www.billiboard.com/cart/\\'><span aria-hidden=\\'true\\' data-av_icon=\\'\\xee\\xa1\\x99\\' data-av_iconfont=\\'entypo-fontello\\'></span><span class=\\'av-cart-counter\\'>0</span><span class=\\'avia_hidden_link_text\\'>Shopping Cart</span></a><!--<span class=\\'cart_subtotal\\'><span class=\"woocommerce-Price-amount amount\"><bdi><span class=\"woocommerce-Price-currencySymbol\">&#36;</span>0.00</bdi></span></span>--><div class=\\'dropdown_widget dropdown_widget_cart\\'><div class=\\'avia-arrow\\'></div><div class=\"widget_shopping_cart_content\"></div></div></li></ul></nav></div> </div> \\r\\n\\t\\t<!-- end container_wrap-->\\r\\n\\t\\t</div>\\r\\n\\t\\t\\r\\n\\t\\t<div class=\\'header_bg\\'></div>\\r\\n\\r\\n<!-- end header -->\\r\\n</header>\\r\\n\\t\\t\\n\\t<div id=\\'main\\' class=\\'all_colors\\' data-scroll-offset=\\'88\\'>\\n\\n\\t<div id=\\'fullscreen_slider_1\\' class=\\'avia-fullscreen-slider main_color   avia-builder-el-0  el_before_av_layout_row  avia-builder-el-first  container_wrap fullsize\\'   ><a href=\\'#next-section\\' title=\\'\\' class=\\'scroll-down-link \\' aria-hidden=\\'true\\' data-av_icon=\\'\\xee\\xa1\\xb7\\' data-av_iconfont=\\'entypo-fontello\\'></a><div  data-size=\\'no scaling\\'  data-lightbox_size=\\'large\\'  data-animation=\\'fade\\'  data-ids=\\'1124\\'  data-video_counter=\\'0\\'  data-autoplay=\\'false\\'  data-bg_slider=\\'true\\'  data-slide_height=\\'100\\'  data-handle=\\'av_fullscreen\\'  data-interval=\\'5\\'  data-class=\\' \\'  data-css_id=\\'fullscreen_slider_1\\'  data-scroll_down=\\'aviaTBscroll_down\\'  data-control_layout=\\'\\'  data-custom_markup=\\'\\'  data-perma_caption=\\'\\'  data-autoplay_stopper=\\'\\'  data-image_attachment=\\'\\'  data-min_height=\\'0px\\'  data-stretch=\\'\\'  class=\\'avia-slideshow avia-slideshow-1 av-slider-scroll-down-active av-default-height-applied avia-slideshow-no scaling av_fullscreen   avia-fade-slider \\'  itemscope=\"itemscope\" itemtype=\"https://schema.org/ImageObject\" ><ul class=\\'avia-slideshow-inner\\' style=\\'padding-bottom: 66.601941747573%;\\'><li style=\\'background-position:center center;\\' data-img-url=\\'https://www.billiboard.com/wp-content/uploads/2015/03/BlackEdge_About-Carrom-1030x686.jpg\\' class=\\' av-single-slide slide-1 \\' ><div data-rel=\\'slideshow-1\\' class=\\'avia-slide-wrap\\'  ><div class = \"caption_fullwidth av-slideshow-caption caption_right\"><div class = \"container caption_container\"><div class = \"slideshow_caption\"><div class = \"slideshow_inner_caption\"><div class = \"slideshow_align_caption\"><h2  style=\\'font-size:40px; color:#ffffff; \\' class=\\'avia-caption-title \\'  itemprop=\"name\" >Billiboards Carrom Game Store Welcomes you</h2><div class=\\'avia-caption-content  av_inherit_color\\'  itemprop=\"description\"   style=\\'font-size:18px; color:#f2f2f2; \\'><p>North America&#8217;s Leading Provider of Carrom Boards and ICF Approved Accessories</p>\\n</div><a href=\\'https://www.billiboard.com/product-category/precise-carrom-boards/\\'  class=\\'avia-slideshow-button avia-button avia-color-theme-color avia-multi-slideshow-button\\' data-duration=\\'800\\' data-easing=\\'easeInOutQuad\\'>Top Quality Carrom Boards</a><a href=\\'https://www.billiboard.com/product-category/carrom-game-board-packages/\\'  class=\\'avia-slideshow-button avia-button avia-color-theme-color-subtle avia-multi-slideshow-button avia-slideshow-button-2\\' data-duration=\\'800\\' data-easing=\\'easeInOutQuad\\'>Carrom Board Packages</a></div></div></div></div></div></div></li></ul></div></div>\\n<div id=\\'collections\\' class=\\'av-layout-grid-container entry-content-wrapper main_color av-flex-cells    avia-builder-el-1  el_after_av_fullscreen  el_before_av_section  submenu-not-first container_wrap fullsize\\'   >\\n<div class=\"flex_cell no_margin av_one_fifth  avia-builder-el-2  el_before_av_cell_one_fifth  avia-builder-el-first   av-zero-padding \" style=\\'vertical-align:top; padding:0px; \\'><div class=\\'flex_cell_inner\\' >\\n<div class=\\'avia-image-container  av-styling-no-styling av-hover-grow noHover  av-overlay-hover-deactivate   avia-builder-el-3  avia-builder-el-no-sibling  avia-align-center \\'  itemscope=\"itemscope\" itemtype=\"https://schema.org/ImageObject\"  ><div class=\\'avia-image-container-inner\\'><a href=\\'https://www.billiboard.com/product-category/siscaa-boards/\\' class=\\'avia_image\\'  ><div class=\\'av-image-caption-overlay\\'><div class=\\'av-caption-image-overlay-bg\\' style=\\'opacity:0.7; background-color:#6786a1; \\'></div><div class=\\'av-image-caption-overlay-position\\'><div class=\\'av-image-caption-overlay-center\\' style=\\'color:#ffffff; \\'><p>SISCAA<br />\\nCARROM BOARDS</p>\\n</div></div></div><img class=\\'avia_image \\' src=\\'https://www.billiboard.com/wp-content/uploads/2016/12/9SyncoWinitSignature_IMG_8548_White-300x200.jpg\\' alt=\\'\\' title=\\'9syncowinitsignature_img_8548_white\\'  itemprop=\"thumbnailUrl\"  /></a></div></div>\\n</div></div><div class=\"flex_cell no_margin av_one_fifth  avia-builder-el-4  el_after_av_cell_one_fifth  el_before_av_cell_one_fifth   av-zero-padding \" style=\\'vertical-align:top; padding:0px; \\'><div class=\\'flex_cell_inner\\' >\\n<div class=\\'avia-image-container  av-styling-no-styling av-hover-grow noHover  av-overlay-hover-deactivate   avia-builder-el-5  avia-builder-el-no-sibling  avia-align-center \\'  itemscope=\"itemscope\" itemtype=\"https://schema.org/ImageObject\"  ><div class=\\'avia-image-container-inner\\'><a href=\\'https://www.billiboard.com/product-category/synco-carrom-boards/\\' class=\\'avia_image\\'  ><div class=\\'av-image-caption-overlay\\'><div class=\\'av-caption-image-overlay-bg\\' style=\\'opacity:0.7; background-color:#6786a1; \\'></div><div class=\\'av-image-caption-overlay-position\\'><div class=\\'av-image-caption-overlay-center\\' style=\\'color:#ffffff; \\'><p>SYNCO<br />\\nCARROM BOARDS</p>\\n</div></div></div><img class=\\'avia_image \\' src=\\'https://www.billiboard.com/wp-content/uploads/2017/12/49CarromBilliboard_StrikingWin_120417-300x200.jpeg\\' alt=\\'\\' title=\\'49CarromBilliboard_StrikingWin_120417\\'  itemprop=\"thumbnailUrl\"  /></a></div></div>\\n</div></div><div class=\"flex_cell no_margin av_one_fifth  avia-builder-el-6  el_after_av_cell_one_fifth  el_before_av_cell_one_fifth   av-zero-padding \" style=\\'vertical-align:top; padding:0px; \\'><div class=\\'flex_cell_inner\\' >\\n<div class=\\'avia-image-container  av-styling-no-styling av-hover-grow noHover  av-overlay-hover-deactivate   avia-builder-el-7  avia-builder-el-no-sibling  avia-align-center \\'  itemscope=\"itemscope\" itemtype=\"https://schema.org/ImageObject\"  ><div class=\\'avia-image-container-inner\\'><a href=\\'https://www.billiboard.com/product-category/precise-carrom-boards/\\' class=\\'avia_image\\'  ><div class=\\'av-image-caption-overlay\\'><div class=\\'av-caption-image-overlay-bg\\' style=\\'opacity:0.7; background-color:#6786a1; \\'></div><div class=\\'av-image-caption-overlay-position\\'><div class=\\'av-image-caption-overlay-center\\' style=\\'color:#ffffff; \\'><p>PRECISE<br />\\nCARROM BOARDS</p>\\n</div></div></div><img class=\\'avia_image \\' src=\\'https://www.billiboard.com/wp-content/uploads/2016/12/4PreciseChampA-One_IMG_0111_White-300x200.jpg\\' alt=\\'\\' title=\\'4precisechampa-one_img_0111_white\\'  itemprop=\"thumbnailUrl\"  /></a></div></div>\\n</div></div><div class=\"flex_cell no_margin av_one_fifth  avia-builder-el-8  el_after_av_cell_one_fifth  el_before_av_cell_one_fifth   av-zero-padding \" style=\\'vertical-align:top; padding:0px; \\'><div class=\\'flex_cell_inner\\' >\\n<div class=\\'avia-image-container  av-styling-no-styling av-hover-grow noHover  av-overlay-hover-deactivate   avia-builder-el-9  avia-builder-el-no-sibling  avia-align-center \\'  itemscope=\"itemscope\" itemtype=\"https://schema.org/ImageObject\"  ><div class=\\'avia-image-container-inner\\'><a href=\\'https://www.billiboard.com/product-category/surco-carrom-boards/\\' class=\\'avia_image\\'  ><div class=\\'av-image-caption-overlay\\'><div class=\\'av-caption-image-overlay-bg\\' style=\\'opacity:0.7; background-color:#6786a1; \\'></div><div class=\\'av-image-caption-overlay-position\\'><div class=\\'av-image-caption-overlay-center\\' style=\\'color:#ffffff; \\'><p>SURCO<br />\\nCARROM BOARDS</p>\\n</div></div></div><img class=\\'avia_image \\' src=\\'https://www.billiboard.com/wp-content/uploads/2016/12/5SurcoWinit_IMG_0084_White-300x200.jpg\\' alt=\\'\\' title=\\'5surcowinit_img_0084_white\\'  itemprop=\"thumbnailUrl\"  /></a></div></div>\\n</div></div><div class=\"flex_cell no_margin av_one_fifth  avia-builder-el-10  el_after_av_cell_one_fifth  avia-builder-el-last   av-zero-padding \" style=\\'vertical-align:top; padding:0px; \\'><div class=\\'flex_cell_inner\\' >\\n<div class=\\'avia-image-container  av-styling-no-styling av-hover-grow noHover  av-overlay-hover-deactivate   avia-builder-el-11  avia-builder-el-no-sibling  avia-align-center \\'  itemscope=\"itemscope\" itemtype=\"https://schema.org/ImageObject\"  ><div class=\\'avia-image-container-inner\\'><a href=\\'https://www.billiboard.com/product-category/carrom-accessories/\\' class=\\'avia_image\\'  ><div class=\\'av-image-caption-overlay\\'><div class=\\'av-caption-image-overlay-bg\\' style=\\'opacity:0.7; background-color:#6786a1; \\'></div><div class=\\'av-image-caption-overlay-position\\'><div class=\\'av-image-caption-overlay-center\\' style=\\'color:#ffffff; \\'><p>CARROM BOARD ACCESSORIES</p>\\n</div></div></div><img class=\\'avia_image \\' src=\\'https://www.billiboard.com/wp-content/uploads/2016/11/Billiboards-Products-300x200.jpg\\' alt=\\'\\' title=\\'billiboards-products\\'  itemprop=\"thumbnailUrl\"  /></a></div></div>\\n</div></div>\\n</div>\\n<div id=\\'av_section_1\\' class=\\'avia-section alternate_color avia-section-default avia-no-border-styling avia-bg-style-scroll  avia-builder-el-12  el_after_av_layout_row  el_before_av_section   container_wrap fullsize\\'   ><div class=\\'container\\' ><div class=\\'template-page content  av-content-full alpha units\\'><div class=\\'post-entry post-entry-type-page post-entry-504\\'><div class=\\'entry-content-wrapper clearfix\\'>\\n<div class=\"flex_column av_one_full  flex_column_div av-zero-column-padding first  avia-builder-el-13  el_before_av_four_fifth  avia-builder-el-first  \" style=\\'border-radius:0px; \\'><div style=\\'padding-bottom:10px;\\' class=\\'av-special-heading av-special-heading-h1    avia-builder-el-14  avia-builder-el-no-sibling   \\'><h1 class=\\'av-special-heading-tag \\'  itemprop=\"headline\"  >North America\\xe2\\x80\\x99s Largest Online Carrom Board <span class=\\'special_amp\\'>&amp;</span> Carrom Accessories Inventory</h1><div class=\\'special-heading-border\\'><div class=\\'special-heading-inner-border\\' ></div></div></div></div><div class=\"flex_column av_four_fifth  flex_column_div av-zero-column-padding first  avia-builder-el-15  el_after_av_one_full  el_before_av_one_fifth  column-top-margin\" style=\\'border-radius:0px; \\'><section class=\"av_textblock_section \"  itemscope=\"itemscope\" itemtype=\"https://schema.org/CreativeWork\" ><div class=\\'avia_textblock  \\'   itemprop=\"text\" ><h2>Yes, we are still shipping during the COVID-19 crisis.</h2>\\n<h4></h4>\\n<h3>Orders placed by 12 noon on December 18 will ship before Christmas. Orders placed after that will ship on December 28.</h3>\\n<h3>New container of Synco and Precise boards due to arrive by Christmas.</h3>\\n<p>You&#8217;ll notice many of our boards have been out of stock due to the high demand of the past several months. It&#8217;s been very difficult to get new stock out of India where the lock-down is still in force. The first shipment of new boards from Siscaa arrived a couple months back with Siscaa Winnit, Tournament and Champion Fighter models in stock and ready to ship.</p>\\n<p>Synco and Precise boards are now due to arrive before Christmas. We&#8217;ve made those boards available in advance and have marked them as &#8220;on backorder&#8221; so you can place an order now. Due to our inability to guarantee delivery by Christmas on any order received after noon on 12/18, we will take a break from shipping until 12/28.</p>\\n<p><strong>Since 1989,</strong> Billiboards has been supplying a wide range of carrom boards and accessories for professionals, enthusiasts and novices. We carry a diverse line of\\xc2\\xa0professional carrom boards, coins, strikers, powder, stands and instructional books and videos.</p>\\n<p>In addition to our <a href=\"https://www.billiboard.com/product-category/carrom-deals\">Carrom Deals</a>\\xc2\\xa0and <a href=\"https://www.billiboard.com/carrom-packages\">Carrom Packages</a>, we have\\xc2\\xa0our <a href=\"https://www.billiboard.com/tournament-carrom-boards\">standard carrom board range</a>, focusing primarily on tournament-quality equipment. Purchase a stand with any board and we will make it a package by including powder. All our products are approved by the International Carrom Federation and the US Carrom Association.</p>\\n<p><strong>Why are our boards more expensive than on some other sites?</strong></p>\\n<p>First and foremost, we sell only the highest quality boards from the most reputable manufacturers. Our specialty is true professional equipment, not the cheaply made boards you can find in Indian grocery stores or at Walmart. If you are looking for a board in the $100 range, you should probably look there. As always, you get what you pay for.</p>\\n<p>Secondly, shipping by UPS Ground is included in all our carrom board and stand prices, no matter where you are in the continental United States. Accessory orders will be mailed via USPS. There is no additional cost for shipping and we take great care in ensuring the board is packaged properly and will not arrived damaged.</p>\\n<p>You may find similar carrom boards on the web that are less costly, some with model names like &#8220;Tournament&#8221; and &#8220;Professional.&#8221; But, all Indian boards are not the same and their names may not reflect their quality. We only supply boards made by the top four Indian manufacturers and we specialize in their top-of-the-line range.</p>\\n<p>The boards made for Billiboards by <strong><a href=\"https://www.billiboard.com/synco-carrom-boards/\">Synco</a>, <a href=\"https://www.billiboard.com/siscaa-carrom-boards/\">Siscaa</a> and <a href=\"https://www.billiboard.com/surco-carrom-boards/\">Surco</a></strong> feature the same high-quality manufacturing techniques pioneered by <a href=\"https://www.billiboard.com/precise-carrom-boards/\"><strong>Precise Industries</strong></a>, including frames reinforced with formica and super-smooth playing surfaces, making them the boards of choice in ICF and USCA tournaments. In addition, all our boards are waterproof and the finish on both frame and playing surface is guaranteed to be the highest quality.</p>\\n<p>Most important of all, <strong>we inspect every board</strong> to ensure that it meets our specifications. We are the only supplier to apply a straight edge to every playing surface to check for flatness, warpage and twist. Any variation beyond normal parameters (1-1.5mm) results in rejection or reclassification as an &#8220;irregular&#8221; piece to be sold at a discount. As discerning, competitive players ourselves, we are committed to providing only the finest carrom equipment, chosen for superior playing characteristics and attention to detail.</p>\\n<p><strong>Please note</strong>, however, that all our products are hand made in India and are subject to cosmetic and structural flaws, most commonly at the corner joints. As a result, there is no such thing as a &#8220;perfect piece.&#8221; Cracks, dings, stains, and other irregularities in the finish are not uncommon, especially on the frames and at the corners, but also on the playing surface. Boards with more substantial flaws are sold with a &#8220;second-quality&#8221; or &#8220;blemished&#8221; discount. Please call or email with any questions.</p>\\n<p><strong>Ordering</strong><br />\\nYou can order directly from this website if you wish, however, you may prefer to talk to someone in person before you buy. If so, just <a href=\"http://www.tobibowen.com/aboutus/contact-billiboard-carrom-store.html\">contact us</a> and someone will get back to you.</p>\\n<p><strong>The BilliBoard Guarantee</strong></p>\\n<ul>\\n<li style=\"list-style-type: none;\">\\n<ul>\\n<li style=\"list-style-type: none;\">\\n<ul>\\n<li>We inspect all products shipped from our warehouse to ensure they are first quality.</li>\\n</ul>\\n</li>\\n</ul>\\n</li>\\n</ul>\\n<ul>\\n<li style=\"list-style-type: none;\">\\n<ul>\\n<li style=\"list-style-type: none;\">\\n<ul>\\n<li>If you are not completely satisfied with your purchase, you may return the product at your expense, in &#8220;as-new&#8221; condition and with all the original packaging, and we will refund your purchase amount, minus a 10% restocking fee.</li>\\n</ul>\\n</li>\\n</ul>\\n</li>\\n</ul>\\n<ul>\\n<li style=\"list-style-type: none;\">\\n<ul>\\n<li style=\"list-style-type: none;\">\\n<ul>\\n<li>Please <a href=\"http://www.tobibowen.com/aboutus/contact-billiboard-carrom-store.html\">contact us</a> to find out more.</li>\\n</ul>\\n</li>\\n</ul>\\n</li>\\n</ul>\\n</div></section>\\n<div class=\\'avia-button-wrap avia-button-center  avia-builder-el-17  el_after_av_textblock  avia-builder-el-last \\'><a href=\\'https://www.billiboard.com/product-category/carrom-boards/\\' class=\\'avia-button   avia-icon_select-yes-left-icon avia-color-theme-color avia-size-small avia-position-center \\'   ><span class=\\'avia_button_icon avia_button_icon_left \\' aria-hidden=\\'true\\' data-av_icon=\\'\\xee\\xa2\\x9a\\' data-av_iconfont=\\'entypo-fontello\\'></span><span class=\\'avia_iconbox_title\\' >Search Carrom Boards</span></a></div></div><div class=\"flex_column av_one_fifth  flex_column_div av-zero-column-padding   avia-builder-el-18  el_after_av_four_fifth  avia-builder-el-last  column-top-margin\" style=\\'border-radius:0px; \\'><div class=\\'avia-image-container  av-styling-    avia-builder-el-19  el_before_av_hr  avia-builder-el-first  avia-align-center \\'  itemscope=\"itemscope\" itemtype=\"https://schema.org/ImageObject\"  ><div class=\\'avia-image-container-inner\\'><a href=\\'https://www.billiboard.com/product-category/carrom-boards/\\' class=\\'avia_image\\'  ><img class=\\'avia_image \\' src=\\'https://www.billiboard.com/wp-content/uploads/2016/12/9SyncoWinitSignature_IMG_8548_White-300x200.jpg\\' alt=\\'\\' title=\\'9syncowinitsignature_img_8548_white\\'  itemprop=\"thumbnailUrl\"  /></a></div></div>\\n<div  class=\\'hr hr-default   avia-builder-el-20  el_after_av_image  el_before_av_button \\'><span class=\\'hr-inner \\' ><span class=\\'hr-inner-style\\'></span></span></div>\\n<div class=\\'avia-button-wrap avia-button-center  avia-builder-el-21  el_after_av_hr  el_before_av_image \\'><a href=\\'https://www.billiboard.com/product-category/carrom-game-board-packages/\\' class=\\'avia-button   avia-icon_select-yes-left-icon avia-color-theme-color avia-size-small avia-position-center \\'   ><span class=\\'avia_button_icon avia_button_icon_left \\' aria-hidden=\\'true\\' data-av_icon=\\'\\xee\\xa2\\x9a\\' data-av_iconfont=\\'entypo-fontello\\'></span><span class=\\'avia_iconbox_title\\' >Search Carrom Packages</span></a></div>\\n<div class=\\'avia-image-container  av-styling-    avia-builder-el-22  el_after_av_button  el_before_av_hr  avia-align-center \\'  itemscope=\"itemscope\" itemtype=\"https://schema.org/ImageObject\"  ><div class=\\'avia-image-container-inner\\'><a href=\\'https://www.billiboard.com/product-category/carrom-game-board-packages/\\' class=\\'avia_image\\'  ><img class=\\'avia_image \\' src=\\'https://www.billiboard.com/wp-content/uploads/2016/12/1SyncoTourneySig_IMG_0171-300x200.jpg\\' alt=\\'\\' title=\\'1syncotourneysig_img_0171\\'  itemprop=\"thumbnailUrl\"  /></a></div></div>\\n<div  class=\\'hr hr-default   avia-builder-el-23  el_after_av_image  el_before_av_button \\'><span class=\\'hr-inner \\' ><span class=\\'hr-inner-style\\'></span></span></div>\\n<div class=\\'avia-button-wrap avia-button-center  avia-builder-el-24  el_after_av_hr  el_before_av_image \\'><a href=\\'https://www.billiboard.com/product-category/carrom-deals/\\' class=\\'avia-button   avia-icon_select-yes-left-icon avia-color-theme-color avia-size-small avia-position-center \\'   ><span class=\\'avia_button_icon avia_button_icon_left \\' aria-hidden=\\'true\\' data-av_icon=\\'\\xee\\xa2\\x9a\\' data-av_iconfont=\\'entypo-fontello\\'></span><span class=\\'avia_iconbox_title\\' >Search Carrom Deals</span></a></div>\\n<div class=\\'avia-image-container  av-styling-    avia-builder-el-25  el_after_av_button  avia-builder-el-last  avia-align-center \\'  itemscope=\"itemscope\" itemtype=\"https://schema.org/ImageObject\"  ><div class=\\'avia-image-container-inner\\'><a href=\\'https://www.billiboard.com/product-category/carrom-deals/\\' class=\\'avia_image\\'  ><img class=\\'avia_image \\' src=\\'https://www.billiboard.com/wp-content/uploads/2016/11/Billiboards-Products-300x200.jpg\\' alt=\\'\\' title=\\'billiboards-products\\'  itemprop=\"thumbnailUrl\"  /></a></div></div></div></div></div></div><!-- close content main div --></div></div><div id=\\'av_section_2\\' class=\\'avia-section alternate_color avia-section-large avia-no-border-styling avia-bg-style-scroll  avia-builder-el-26  el_after_av_section  el_before_av_section   container_wrap fullsize\\'   ><div class=\\'container\\' ><div class=\\'template-page content  av-content-full alpha units\\'><div class=\\'post-entry post-entry-type-page post-entry-504\\'><div class=\\'entry-content-wrapper clearfix\\'>\\n<div class=\"flex_column av_one_half  flex_column_div first  avia-builder-el-27  el_before_av_one_half  avia-builder-el-first  \" ><article class=\"iconbox iconbox_left_content    avia-builder-el-28  avia-builder-el-no-sibling  \"  itemscope=\"itemscope\" itemtype=\"https://schema.org/CreativeWork\" ><div class=\"iconbox_icon heading-color \" aria-hidden=\\'true\\' data-av_icon=\\'\\xee\\xa2\\xb1\\' data-av_iconfont=\\'entypo-fontello\\'  ></div><div class=\"iconbox_content\"><header class=\"entry-content-header\"><h3 class=\\'iconbox_content_title \\'  itemprop=\"headline\"  >WE SHIP ANYWHERE IN NORTH AMERICA</h3></header><div class=\\'iconbox_content_container  \\'  itemprop=\"text\"  ><p>Our choice shipper is FedEx Ground. When your order is shipped, you&#8217;ll receive an email letting you know when to expect your shipment.</p>\\n</div></div><footer class=\"entry-footer\"></footer></article></div><div class=\"flex_column av_one_half  flex_column_div av-zero-column-padding   avia-builder-el-29  el_after_av_one_half  el_before_av_one_half  \" style=\\'border-radius:0px; \\'><article class=\"iconbox iconbox_left_content    avia-builder-el-30  avia-builder-el-no-sibling  \"  itemscope=\"itemscope\" itemtype=\"https://schema.org/CreativeWork\" ><div class=\"iconbox_icon heading-color \" aria-hidden=\\'true\\' data-av_icon=\\'\\xee\\xa3\\xa2\\' data-av_iconfont=\\'entypo-fontello\\'  ></div><div class=\"iconbox_content\"><header class=\"entry-content-header\"><h3 class=\\'iconbox_content_title \\'  itemprop=\"headline\"  >FREE SHIPPING*</h3></header><div class=\\'iconbox_content_container  \\'  itemprop=\"text\"  ><p>Shipping and Handling is included in all of our prices.</p>\\n</div></div><footer class=\"entry-footer\"></footer></article></div><div class=\"flex_column av_one_half  flex_column_div first  avia-builder-el-31  el_after_av_one_half  el_before_av_one_half  column-top-margin\" ><article class=\"iconbox iconbox_left_content    avia-builder-el-32  avia-builder-el-no-sibling  \"  itemscope=\"itemscope\" itemtype=\"https://schema.org/CreativeWork\" ><div class=\"iconbox_icon heading-color \" aria-hidden=\\'true\\' data-av_icon=\\'\\xee\\xa0\\x91\\' data-av_iconfont=\\'entypo-fontello\\'  ></div><div class=\"iconbox_content\"><header class=\"entry-content-header\"><h3 class=\\'iconbox_content_title \\'  itemprop=\"headline\"  >SECURE PAYMENT</h3></header><div class=\\'iconbox_content_container  \\'  itemprop=\"text\"  ><p>You can shop with confidence knowing that your</p>\\n<p>BilliBoards is committed to providing our clients with a safe marketplace to shop. While all transactions, including transactions completed on the internet, can carry some degree of risk, we don&#8217;t want you to have to worry about transacting on BilliBoards.com.</p>\\n</div></div><footer class=\"entry-footer\"></footer></article></div><div class=\"flex_column av_one_half  flex_column_div av-zero-column-padding   avia-builder-el-33  el_after_av_one_half  avia-builder-el-last  column-top-margin\" style=\\'border-radius:0px; \\'><article class=\"iconbox iconbox_left_content    avia-builder-el-34  avia-builder-el-no-sibling  \"  itemscope=\"itemscope\" itemtype=\"https://schema.org/CreativeWork\" ><div class=\"iconbox_icon heading-color \" aria-hidden=\\'true\\' data-av_icon=\\'\\xee\\xa2\\xb9\\' data-av_iconfont=\\'entypo-fontello\\'  ></div><div class=\"iconbox_content\"><header class=\"entry-content-header\"><h3 class=\\'iconbox_content_title \\'  itemprop=\"headline\"  >EXPERT SUPPORT</h3></header><div class=\\'iconbox_content_container  \\'  itemprop=\"text\"  ><p>Our team members are well versed in the game of carrom and we can help you if you have questions as a beginner or an expert and tournament player.</p>\\n</div></div><footer class=\"entry-footer\"></footer></article></div>\\n</p>\\n</div></div></div><!-- close content main div --></div></div><div id=\\'sign-up\\' class=\\'avia-section main_color avia-section-default avia-no-shadow avia-full-stretch av-parallax-section av-section-color-overlay-active avia-bg-style-parallax  avia-builder-el-35  el_after_av_section  avia-builder-el-last   container_wrap fullsize\\'  data-section-bg-repeat=\\'stretch\\' ><div class=\\'av-parallax\\' data-avia-parallax-ratio=\\'0.3\\' ><div class=\\'av-parallax-inner main_color  avia-full-stretch\\' style = \\'background-repeat: no-repeat; background-image: url(https://www.billiboard.com/wp-content/uploads/2015/03/hipster-girls-working.jpg); background-attachment: scroll; background-position: top center; \\' ></div></div><div class=\\'av-section-color-overlay-wrap\\'><div class=\\'av-section-color-overlay\\' style=\\'opacity: 0.7; background-color: #6786a1; \\'></div><div class=\\'container\\' ><div class=\\'template-page content  av-content-full alpha units\\'><div class=\\'post-entry post-entry-type-page post-entry-504\\'><div class=\\'entry-content-wrapper clearfix\\'>\\n<div class=\"flex_column av_one_fourth  flex_column_div first  avia-builder-el-36  el_before_av_three_fourth  avia-builder-el-first  \" ><div style=\\'padding-bottom:10px;\\' class=\\'av-special-heading av-special-heading-h3    avia-builder-el-37  avia-builder-el-no-sibling   \\'><h3 class=\\'av-special-heading-tag \\'  itemprop=\"headline\"  >What is the Game of Carrom?</h3><div class=\\'special-heading-border\\'><div class=\\'special-heading-inner-border\\' ></div></div></div></div><div class=\"flex_column av_three_fourth  flex_column_div av-zero-column-padding   avia-builder-el-38  el_after_av_one_fourth  avia-builder-el-last  \" style=\\'border-radius:0px; \\'><section class=\"av_textblock_section \"  itemscope=\"itemscope\" itemtype=\"https://schema.org/CreativeWork\" ><div class=\\'avia_textblock  av_inherit_color \\'  style=\\'color:#f9f9f9; \\'  itemprop=\"text\" ><p>Carrom is a board game that requires skill, determination and practice. It can be played by players of all ages and skill levels, from novices to pros.</p>\\n<p><strong>Popularity Has Grown Across the World</strong><br />\\nWhile this board game has always been popular in Asia and the Far East, it is becoming more and more popular in the USA, with larger tournaments and competitions, bigger prizes, and many more clubs.</p>\\n<p>This phenomenon is not restricted to the US. The same is also true in much of Europe, the Middle East and South America.</p>\\n<p><em>This game is sometimes referred to as carom, karrom, karum, carrum, as well as many other variations.</em></p>\\n</div></section></div>\\n\\n</div></div></div><!-- close content main div --> <!-- section close by builder template --></div>\\t\\t</div><!--end builder template--></div><!-- close default .container_wrap element -->\\t\\t\\t\\t\\t\\t<div class=\\'container_wrap footer_color\\' id=\\'footer\\'>\\n\\n\\t\\t\\t\\t\\t<div class=\\'container\\'>\\n\\n\\t\\t\\t\\t\\t\\t<div class=\\'flex_column av_one_fourth  first el_before_av_one_fourth\\'><section id=\"search-4\" class=\"widget clearfix widget_search\">\\n\\n<form action=\"https://www.billiboard.com/\" id=\"searchform\" method=\"get\" class=\"\">\\n\\t<div>\\n\\t\\t<input type=\"submit\" value=\"\\xee\\xa0\\x83\" id=\"searchsubmit\" class=\"button avia-font-entypo-fontello\" />\\n\\t\\t<input type=\"text\" id=\"s\" name=\"s\" value=\"\" placeholder=\\'Search\\' />\\n\\t\\t\\t</div>\\n</form><span class=\"seperator extralight-border\"></span></section><section id=\"text-3\" class=\"widget clearfix widget_text\"><h3 class=\"widgettitle\">BilliBoard Enterprises</h3>\\t\\t\\t<div class=\"textwidget\"><p>3500 Bahama Road<br />\\nRougemont, NC 27572</p>\\n<p>EMAIL: carrom1@hotmail.com<br />\\nPHONE: +1 (919) 321-0217</p>\\n</div>\\n\\t\\t<span class=\"seperator extralight-border\"></span></section></div><div class=\\'flex_column av_one_fourth  el_after_av_one_fourth  el_before_av_one_fourth \\'><section id=\"text-6\" class=\"widget clearfix widget_text\"><h3 class=\"widgettitle\">Carrom Boards &#038; Carrom Accessories</h3>\\t\\t\\t<div class=\"textwidget\">We carry the largest selection of high quality carrom products in North America including products by Surco, Siscaa, Synco and Precise.\\r\\n\\r\\nWe carry a full line of carrom boards, carrom strikers, carrom coins and other carrom accessories.</div>\\n\\t\\t<span class=\"seperator extralight-border\"></span></section></div><div class=\\'flex_column av_one_fourth  el_after_av_one_fourth  el_before_av_one_fourth \\'><section id=\"text-2\" class=\"widget clearfix widget_text\"><h3 class=\"widgettitle\">We Accept</h3>\\t\\t\\t<div class=\"textwidget\"><p><a href=\"https://www.billiboard.com/wp-content/uploads/2016/08/paypal.png\"><img class=\"alignnone size-medium wp-image-696\" src=\"https://www.billiboard.com/wp-content/uploads/2016/08/paypal-300x300.png\" alt=\"paypal\" width=\"300\" height=\"300\" /></a></p>\\n</div>\\n\\t\\t<span class=\"seperator extralight-border\"></span></section></div><div class=\\'flex_column av_one_fourth  el_after_av_one_fourth  el_before_av_one_fourth \\'><section id=\"text-5\" class=\"widget clearfix widget_text\"><h3 class=\"widgettitle\">Large Shipments Will Be Received By</h3>\\t\\t\\t<div class=\"textwidget\"><p><a href=\"https://www.billiboard.com/wp-content/uploads/2016/08/fedex_shipping_boxes.png\"><img class=\"alignnone size-medium wp-image-697\" src=\"https://www.billiboard.com/wp-content/uploads/2016/08/fedex_shipping_boxes-300x300.png\" alt=\"fedex_shipping_boxes\" width=\"300\" height=\"300\" /></a></p>\\n</div>\\n\\t\\t<span class=\"seperator extralight-border\"></span></section></div>\\n\\n\\t\\t\\t\\t\\t</div>\\n\\n\\n\\t\\t\\t\\t<!-- ####### END FOOTER CONTAINER ####### -->\\n\\t\\t\\t\\t</div>\\n\\n\\t\\n\\n\\n\\t\\t\\t\\n\\n\\t\\t\\t\\n\\t\\t\\t\\t<footer class=\\'container_wrap socket_color\\' id=\\'socket\\'  role=\"contentinfo\" itemscope=\"itemscope\" itemtype=\"https://schema.org/WPFooter\" >\\n                    <div class=\\'container\\'>\\n\\n                        <span class=\\'copyright\\'>\\xc2\\xa9 Copyright 2003 - 2017 - BilliBoards  All Rights Reserved. Site designed and maintained by <a href=\"http://www.InstinctiveBranding.com\"> Instinctive Branding </a></span>\\n\\n                        \\n                    </div>\\n\\n\\t            <!-- ####### END SOCKET CONTAINER ####### -->\\n\\t\\t\\t\\t</footer>\\n\\n\\n\\t\\t\\t\\t\\t<!-- end main -->\\n\\t\\t</div>\\n\\t\\t\\n\\t\\t<!-- end wrap_all --></div>\\n\\n\\n <script type=\\'text/javascript\\'>\\n /* <![CDATA[ */  \\nvar avia_framework_globals = avia_framework_globals || {};\\n    avia_framework_globals.frameworkUrl = \\'https://www.billiboard.com/wp-content/themes/enfold/framework/\\';\\n    avia_framework_globals.installedAt = \\'https://www.billiboard.com/wp-content/themes/enfold/\\';\\n    avia_framework_globals.ajaxurl = \\'https://www.billiboard.com/wp-admin/admin-ajax.php\\';\\n/* ]]> */ \\n</script>\\n \\n \\t<script type=\"text/javascript\">\\n\\t\\t(function () {\\n\\t\\t\\tvar c = document.body.className;\\n\\t\\t\\tc = c.replace(/woocommerce-no-js/, \\'woocommerce-js\\');\\n\\t\\t\\tdocument.body.className = c;\\n\\t\\t})()\\n\\t</script>\\n\\t<script type=\\'text/javascript\\' src=\\'https://www.billiboard.com/wp-content/themes/enfold/config-woocommerce/woocommerce-mod.js?ver=1\\' id=\\'avia-woocommerce-js-js\\'></script>\\n<script type=\\'text/javascript\\' src=\\'https://www.billiboard.com/wp-content/plugins/woocommerce/assets/js/jquery-blockui/jquery.blockUI.min.js?ver=2.70\\' id=\\'jquery-blockui-js\\'></script>\\n<script type=\\'text/javascript\\' id=\\'wc-add-to-cart-js-extra\\'>\\n/* <![CDATA[ */\\nvar wc_add_to_cart_params = {\"ajax_url\":\"\\\\/wp-admin\\\\/admin-ajax.php\",\"wc_ajax_url\":\"\\\\/?wc-ajax=%%endpoint%%\",\"i18n_view_cart\":\"View cart\",\"cart_url\":\"https:\\\\/\\\\/www.billiboard.com\\\\/cart\\\\/\",\"is_cart\":\"\",\"cart_redirect_after_add\":\"no\"};\\n/* ]]> */\\n</script>\\n<script type=\\'text/javascript\\' src=\\'https://www.billiboard.com/wp-content/plugins/woocommerce/assets/js/frontend/add-to-cart.min.js?ver=4.9.2\\' id=\\'wc-add-to-cart-js\\'></script>\\n<script type=\\'text/javascript\\' src=\\'https://www.billiboard.com/wp-content/plugins/woocommerce/assets/js/js-cookie/js.cookie.min.js?ver=2.1.4\\' id=\\'js-cookie-js\\'></script>\\n<script type=\\'text/javascript\\' id=\\'woocommerce-js-extra\\'>\\n/* <![CDATA[ */\\nvar woocommerce_params = {\"ajax_url\":\"\\\\/wp-admin\\\\/admin-ajax.php\",\"wc_ajax_url\":\"\\\\/?wc-ajax=%%endpoint%%\"};\\n/* ]]> */\\n</script>\\n<script type=\\'text/javascript\\' src=\\'https://www.billiboard.com/wp-content/plugins/woocommerce/assets/js/frontend/woocommerce.min.js?ver=4.9.2\\' id=\\'woocommerce-js\\'></script>\\n<script type=\\'text/javascript\\' id=\\'wc-cart-fragments-js-extra\\'>\\n/* <![CDATA[ */\\nvar wc_cart_fragments_params = {\"ajax_url\":\"\\\\/wp-admin\\\\/admin-ajax.php\",\"wc_ajax_url\":\"\\\\/?wc-ajax=%%endpoint%%\",\"cart_hash_key\":\"wc_cart_hash_e81e3a0dedd8c25d214193342f806137\",\"fragment_name\":\"wc_fragments_e81e3a0dedd8c25d214193342f806137\",\"request_timeout\":\"5000\"};\\n/* ]]> */\\n</script>\\n<script type=\\'text/javascript\\' src=\\'https://www.billiboard.com/wp-content/plugins/woocommerce/assets/js/frontend/cart-fragments.min.js?ver=4.9.2\\' id=\\'wc-cart-fragments-js\\'></script>\\n<script type=\\'text/javascript\\' src=\\'https://www.billiboard.com/wp-content/themes/enfold/js/avia.js?ver=4.2\\' id=\\'avia-default-js\\'></script>\\n<script type=\\'text/javascript\\' src=\\'https://www.billiboard.com/wp-content/themes/enfold/js/shortcodes.js?ver=4.2\\' id=\\'avia-shortcodes-js\\'></script>\\n<script type=\\'text/javascript\\' src=\\'https://www.billiboard.com/wp-content/themes/enfold/js/aviapopup/jquery.magnific-popup.min.js?ver=4.2\\' id=\\'avia-popup-js\\'></script>\\n<script type=\\'text/javascript\\' id=\\'mediaelement-core-js-before\\'>\\nvar mejsL10n = {\"language\":\"en\",\"strings\":{\"mejs.download-file\":\"Download File\",\"mejs.install-flash\":\"You are using a browser that does not have Flash player enabled or installed. Please turn on your Flash player plugin or download the latest version from https:\\\\/\\\\/get.adobe.com\\\\/flashplayer\\\\/\",\"mejs.fullscreen\":\"Fullscreen\",\"mejs.play\":\"Play\",\"mejs.pause\":\"Pause\",\"mejs.time-slider\":\"Time Slider\",\"mejs.time-help-text\":\"Use Left\\\\/Right Arrow keys to advance one second, Up\\\\/Down arrows to advance ten seconds.\",\"mejs.live-broadcast\":\"Live Broadcast\",\"mejs.volume-help-text\":\"Use Up\\\\/Down Arrow keys to increase or decrease volume.\",\"mejs.unmute\":\"Unmute\",\"mejs.mute\":\"Mute\",\"mejs.volume-slider\":\"Volume Slider\",\"mejs.video-player\":\"Video Player\",\"mejs.audio-player\":\"Audio Player\",\"mejs.captions-subtitles\":\"Captions\\\\/Subtitles\",\"mejs.captions-chapters\":\"Chapters\",\"mejs.none\":\"None\",\"mejs.afrikaans\":\"Afrikaans\",\"mejs.albanian\":\"Albanian\",\"mejs.arabic\":\"Arabic\",\"mejs.belarusian\":\"Belarusian\",\"mejs.bulgarian\":\"Bulgarian\",\"mejs.catalan\":\"Catalan\",\"mejs.chinese\":\"Chinese\",\"mejs.chinese-simplified\":\"Chinese (Simplified)\",\"mejs.chinese-traditional\":\"Chinese (Traditional)\",\"mejs.croatian\":\"Croatian\",\"mejs.czech\":\"Czech\",\"mejs.danish\":\"Danish\",\"mejs.dutch\":\"Dutch\",\"mejs.english\":\"English\",\"mejs.estonian\":\"Estonian\",\"mejs.filipino\":\"Filipino\",\"mejs.finnish\":\"Finnish\",\"mejs.french\":\"French\",\"mejs.galician\":\"Galician\",\"mejs.german\":\"German\",\"mejs.greek\":\"Greek\",\"mejs.haitian-creole\":\"Haitian Creole\",\"mejs.hebrew\":\"Hebrew\",\"mejs.hindi\":\"Hindi\",\"mejs.hungarian\":\"Hungarian\",\"mejs.icelandic\":\"Icelandic\",\"mejs.indonesian\":\"Indonesian\",\"mejs.irish\":\"Irish\",\"mejs.italian\":\"Italian\",\"mejs.japanese\":\"Japanese\",\"mejs.korean\":\"Korean\",\"mejs.latvian\":\"Latvian\",\"mejs.lithuanian\":\"Lithuanian\",\"mejs.macedonian\":\"Macedonian\",\"mejs.malay\":\"Malay\",\"mejs.maltese\":\"Maltese\",\"mejs.norwegian\":\"Norwegian\",\"mejs.persian\":\"Persian\",\"mejs.polish\":\"Polish\",\"mejs.portuguese\":\"Portuguese\",\"mejs.romanian\":\"Romanian\",\"mejs.russian\":\"Russian\",\"mejs.serbian\":\"Serbian\",\"mejs.slovak\":\"Slovak\",\"mejs.slovenian\":\"Slovenian\",\"mejs.spanish\":\"Spanish\",\"mejs.swahili\":\"Swahili\",\"mejs.swedish\":\"Swedish\",\"mejs.tagalog\":\"Tagalog\",\"mejs.thai\":\"Thai\",\"mejs.turkish\":\"Turkish\",\"mejs.ukrainian\":\"Ukrainian\",\"mejs.vietnamese\":\"Vietnamese\",\"mejs.welsh\":\"Welsh\",\"mejs.yiddish\":\"Yiddish\"}};\\n</script>\\n<script type=\\'text/javascript\\' src=\\'https://www.billiboard.com/wp-includes/js/mediaelement/mediaelement-and-player.min.js?ver=4.2.16\\' id=\\'mediaelement-core-js\\'></script>\\n<script type=\\'text/javascript\\' src=\\'https://www.billiboard.com/wp-includes/js/mediaelement/mediaelement-migrate.min.js?ver=5.6.1\\' id=\\'mediaelement-migrate-js\\'></script>\\n<script type=\\'text/javascript\\' id=\\'mediaelement-js-extra\\'>\\n/* <![CDATA[ */\\nvar _wpmejsSettings = {\"pluginPath\":\"\\\\/wp-includes\\\\/js\\\\/mediaelement\\\\/\",\"classPrefix\":\"mejs-\",\"stretching\":\"responsive\"};\\n/* ]]> */\\n</script>\\n<script type=\\'text/javascript\\' src=\\'https://www.billiboard.com/wp-includes/js/mediaelement/wp-mediaelement.min.js?ver=5.6.1\\' id=\\'wp-mediaelement-js\\'></script>\\n<script type=\\'text/javascript\\' src=\\'https://www.billiboard.com/wp-includes/js/comment-reply.min.js?ver=5.6.1\\' id=\\'comment-reply-js\\'></script>\\n<script type=\\'text/javascript\\' src=\\'https://www.billiboard.com/wp-includes/js/wp-embed.min.js?ver=5.6.1\\' id=\\'wp-embed-js\\'></script>\\n<a href=\\'#top\\' title=\\'Scroll to top\\' id=\\'scroll-top-link\\' aria-hidden=\\'true\\' data-av_icon=\\'\\xee\\xa1\\xb6\\' data-av_iconfont=\\'entypo-fontello\\'><span class=\"avia_hidden_link_text\">Scroll to top</span></a>\\n\\n<div id=\"fb-root\"></div>\\n</body>\\n</html>\\n'"
      ]
     },
     "execution_count": 33,
     "metadata": {},
     "output_type": "execute_result"
    }
   ],
   "source": [
    "page.content"
   ]
  },
  {
   "cell_type": "code",
   "execution_count": 34,
   "metadata": {},
   "outputs": [],
   "source": [
    "import selenium\n",
    "from selenium import webdriver\n",
    "import time\n",
    "import os"
   ]
  },
  {
   "cell_type": "code",
   "execution_count": 35,
   "metadata": {},
   "outputs": [],
   "source": [
    "url = 'http://www.billboard.com/charts/hot-100'"
   ]
  },
  {
   "cell_type": "code",
   "execution_count": 36,
   "metadata": {},
   "outputs": [
    {
     "name": "stdout",
     "output_type": "stream",
     "text": [
      "Getting top songs from www.billboard.com\n",
      "\n"
     ]
    }
   ],
   "source": [
    "print(\"Getting top songs from www.billboard.com\\n\")\n",
    "soup = BeautifulSoup(page.content, 'html.parser')"
   ]
  },
  {
   "cell_type": "code",
   "execution_count": 37,
   "metadata": {},
   "outputs": [],
   "source": [
    "songs = soup.findAll(class_='chart-row__title')"
   ]
  },
  {
   "cell_type": "code",
   "execution_count": 38,
   "metadata": {},
   "outputs": [],
   "source": [
    "song_names = dict()"
   ]
  },
  {
   "cell_type": "code",
   "execution_count": 39,
   "metadata": {},
   "outputs": [
    {
     "name": "stdout",
     "output_type": "stream",
     "text": [
      "writing songs on chart\n",
      "Succesfully written songs on the text file\n",
      "\n"
     ]
    }
   ],
   "source": [
    "try:\n",
    "        \n",
    "    print('writing songs on chart')\n",
    "    open('Billboard Top Songs.txt', 'w').close()\n",
    "    file = open('Billboard Top Songs.txt', 'w')\n",
    "    count = 1\n",
    "    for s in songs:\n",
    "        artist = s.contents[3].string[33:]\n",
    "        file.write(str(count) + '. ' + s.contents[1].string + ' - ' + artist + '\\n')\n",
    "        if count < 10:\n",
    "            for a in range(len(artist)):\n",
    "                if artist[a] == ' ':\n",
    "                    singer = artist[:a]\n",
    "                    print(singer)\n",
    "                    break\n",
    "            song_names[s.contents[1].string] = singer\n",
    "        count +=1\n",
    "\n",
    "    file.close()\n",
    "    print('Succesfully written songs on the text file\\n')\n",
    "\n",
    "except:\n",
    "    print('Cannot open text file for writing the songs!\\n')\n"
   ]
  },
  {
   "cell_type": "code",
   "execution_count": 40,
   "metadata": {},
   "outputs": [
    {
     "name": "stdout",
     "output_type": "stream",
     "text": [
      "Do you want to download top 10 songs too ? y/n\n"
     ]
    },
    {
     "ename": "TypeError",
     "evalue": "'list' object is not callable",
     "output_type": "error",
     "traceback": [
      "\u001b[1;31m---------------------------------------------------------------------------\u001b[0m",
      "\u001b[1;31mTypeError\u001b[0m                                 Traceback (most recent call last)",
      "\u001b[1;32m<ipython-input-40-e4a213c8571d>\u001b[0m in \u001b[0;36m<module>\u001b[1;34m\u001b[0m\n\u001b[0;32m      1\u001b[0m \u001b[0mraw_input\u001b[0m\u001b[1;33m=\u001b[0m\u001b[1;33m[\u001b[0m\u001b[1;33m]\u001b[0m\u001b[1;33m\u001b[0m\u001b[1;33m\u001b[0m\u001b[0m\n\u001b[0;32m      2\u001b[0m \u001b[0mprint\u001b[0m\u001b[1;33m(\u001b[0m\u001b[1;34m'Do you want to download top 10 songs too ? y/n'\u001b[0m\u001b[1;33m)\u001b[0m\u001b[1;33m\u001b[0m\u001b[1;33m\u001b[0m\u001b[0m\n\u001b[1;32m----> 3\u001b[1;33m \u001b[0minp\u001b[0m \u001b[1;33m=\u001b[0m \u001b[0mraw_input\u001b[0m\u001b[1;33m(\u001b[0m\u001b[1;33m)\u001b[0m\u001b[1;33m\u001b[0m\u001b[1;33m\u001b[0m\u001b[0m\n\u001b[0m\u001b[0;32m      4\u001b[0m \u001b[1;32mif\u001b[0m \u001b[0minp\u001b[0m \u001b[1;33m==\u001b[0m \u001b[1;34m'y'\u001b[0m\u001b[1;33m:\u001b[0m\u001b[1;33m\u001b[0m\u001b[1;33m\u001b[0m\u001b[0m\n\u001b[0;32m      5\u001b[0m \u001b[1;33m\u001b[0m\u001b[0m\n",
      "\u001b[1;31mTypeError\u001b[0m: 'list' object is not callable"
     ]
    }
   ],
   "source": [
    "raw_input=[]\n",
    "print('Do you want to download top 10 songs too ? y/n')\n",
    "inp = raw_input()\n",
    "if inp == 'y':\n",
    "\n",
    "    chromedriver = \"C:/Python27/Scripts/chromedriver\"\n",
    "    os.environ[\"webdriver.chrome.driver\"] = chromedriver\n",
    "    driver = webdriver.Chrome(chromedriver)\n",
    "    count = 1\n",
    "    for n in song_names:\n",
    "        name = list(n)\n",
    "        for i in range(len(name)):\n",
    "            if name[i] == ' ':\n",
    "                name[i] = '+'\n",
    "        try:\n",
    "            url = 'http://pleer.net/search?q=' + ''.join(name) + '+' + song_names[n]\n",
    "            soup = BeautifulSoup(urllib2.urlopen(url), 'html.parser')\n",
    "            song = soup.find(class_='icon download-btn2')\n",
    "            song_download_url = 'http://pleer.net' + song.contents[1]['href']\n",
    "\n",
    "            driver.get(song_download_url)\n",
    "            download_btn = driver.find_element_by_class_name('download-btn2')\n",
    "            download_btn.click()    \n",
    "            print('Download of song %d will start shortly....'%count)\n",
    "        except:\n",
    "            print('Some error occured during download.....skipping to next song....')\n",
    "              \n",
    "        count +=1\n",
    "        if count > 10:\n",
    "            break\n",
    "\n",
    "    print('All 10 songs downloaded...')\n",
    "    driver.close()\n",
    "\n",
    "elif inp == 'n':\n",
    "    print('ok, you can see list opened at the side')\n",
    "    os.system('notepad.exe Billboard Top Songs.txt')\n",
    "else:\n",
    "    print('invalid input, considering it as no anyway...')\n",
    "    os.system('notepad.exe Billboard Top Songs.txt')"
   ]
  },
  {
   "cell_type": "code",
   "execution_count": 41,
   "metadata": {},
   "outputs": [],
   "source": [
    "import selenium\n",
    "import pandas as pd\n",
    "import time\n",
    "from bs4 import BeautifulSoup \n",
    "from selenium import webdriver\n",
    "\n",
    "from selenium.webdriver.support.ui import WebDriverWait\n",
    "from selenium.webdriver.support import expected_conditions as EC\n",
    "from selenium.webdriver.common.by import By\n",
    "from selenium.common.exceptions import StaleElementReferenceException, NoSuchElementException\n",
    "import requests\n",
    "import re"
   ]
  },
  {
   "cell_type": "code",
   "execution_count": 42,
   "metadata": {},
   "outputs": [],
   "source": [
    "driver=webdriver.Chrome(r'C:\\Users\\DELL\\Downloads\\chromedriver.exe')"
   ]
  },
  {
   "cell_type": "code",
   "execution_count": 43,
   "metadata": {},
   "outputs": [],
   "source": [
    "driver.get('https://www.naukri.com/')"
   ]
  },
  {
   "cell_type": "code",
   "execution_count": 44,
   "metadata": {},
   "outputs": [
    {
     "name": "stdout",
     "output_type": "stream",
     "text": [
      " Enter the name of the job you want to search : Data science\n"
     ]
    },
    {
     "ename": "NoSuchElementException",
     "evalue": "Message: no such element: Unable to locate element: {\"method\":\"xpath\",\"selector\":\"//*[@id=\"root\"]/div/div[1]/div[1]/div[2]/div[2]/form/div/div/input\"}\n  (Session info: chrome=88.0.4324.104)\n",
     "output_type": "error",
     "traceback": [
      "\u001b[1;31m---------------------------------------------------------------------------\u001b[0m",
      "\u001b[1;31mNoSuchElementException\u001b[0m                    Traceback (most recent call last)",
      "\u001b[1;32m<ipython-input-44-cfc62fcd5294>\u001b[0m in \u001b[0;36m<module>\u001b[1;34m\u001b[0m\n\u001b[0;32m      7\u001b[0m \u001b[1;32mexcept\u001b[0m \u001b[0mNoSuchElementException\u001b[0m \u001b[1;33m:\u001b[0m\u001b[1;33m\u001b[0m\u001b[1;33m\u001b[0m\u001b[0m\n\u001b[0;32m      8\u001b[0m     \u001b[0mprint\u001b[0m\u001b[1;33m(\u001b[0m\u001b[1;34m\"No search button\"\u001b[0m\u001b[1;33m)\u001b[0m\u001b[1;33m\u001b[0m\u001b[1;33m\u001b[0m\u001b[0m\n\u001b[1;32m----> 9\u001b[1;33m \u001b[0msearch_bar\u001b[0m \u001b[1;33m=\u001b[0m \u001b[0mdriver\u001b[0m\u001b[1;33m.\u001b[0m\u001b[0mfind_element_by_xpath\u001b[0m\u001b[1;33m(\u001b[0m\u001b[1;34m'//*[@id=\"root\"]/div/div[1]/div[1]/div[2]/div[2]/form/div/div/input'\u001b[0m\u001b[1;33m)\u001b[0m\u001b[1;33m\u001b[0m\u001b[1;33m\u001b[0m\u001b[0m\n\u001b[0m\u001b[0;32m     10\u001b[0m \u001b[0msearch_bar\u001b[0m\u001b[1;33m.\u001b[0m\u001b[0mclear\u001b[0m\u001b[1;33m(\u001b[0m\u001b[1;33m)\u001b[0m\u001b[1;33m\u001b[0m\u001b[1;33m\u001b[0m\u001b[0m\n\u001b[0;32m     11\u001b[0m \u001b[0msearch_bar\u001b[0m\u001b[1;33m.\u001b[0m\u001b[0msend_keys\u001b[0m\u001b[1;33m(\u001b[0m\u001b[0mprod\u001b[0m\u001b[1;33m)\u001b[0m\u001b[1;33m\u001b[0m\u001b[1;33m\u001b[0m\u001b[0m\n",
      "\u001b[1;32m~\\anaconda3\\lib\\site-packages\\selenium\\webdriver\\remote\\webdriver.py\u001b[0m in \u001b[0;36mfind_element_by_xpath\u001b[1;34m(self, xpath)\u001b[0m\n\u001b[0;32m    392\u001b[0m             \u001b[0melement\u001b[0m \u001b[1;33m=\u001b[0m \u001b[0mdriver\u001b[0m\u001b[1;33m.\u001b[0m\u001b[0mfind_element_by_xpath\u001b[0m\u001b[1;33m(\u001b[0m\u001b[1;34m'//div/td[1]'\u001b[0m\u001b[1;33m)\u001b[0m\u001b[1;33m\u001b[0m\u001b[1;33m\u001b[0m\u001b[0m\n\u001b[0;32m    393\u001b[0m         \"\"\"\n\u001b[1;32m--> 394\u001b[1;33m         \u001b[1;32mreturn\u001b[0m \u001b[0mself\u001b[0m\u001b[1;33m.\u001b[0m\u001b[0mfind_element\u001b[0m\u001b[1;33m(\u001b[0m\u001b[0mby\u001b[0m\u001b[1;33m=\u001b[0m\u001b[0mBy\u001b[0m\u001b[1;33m.\u001b[0m\u001b[0mXPATH\u001b[0m\u001b[1;33m,\u001b[0m \u001b[0mvalue\u001b[0m\u001b[1;33m=\u001b[0m\u001b[0mxpath\u001b[0m\u001b[1;33m)\u001b[0m\u001b[1;33m\u001b[0m\u001b[1;33m\u001b[0m\u001b[0m\n\u001b[0m\u001b[0;32m    395\u001b[0m \u001b[1;33m\u001b[0m\u001b[0m\n\u001b[0;32m    396\u001b[0m     \u001b[1;32mdef\u001b[0m \u001b[0mfind_elements_by_xpath\u001b[0m\u001b[1;33m(\u001b[0m\u001b[0mself\u001b[0m\u001b[1;33m,\u001b[0m \u001b[0mxpath\u001b[0m\u001b[1;33m)\u001b[0m\u001b[1;33m:\u001b[0m\u001b[1;33m\u001b[0m\u001b[1;33m\u001b[0m\u001b[0m\n",
      "\u001b[1;32m~\\anaconda3\\lib\\site-packages\\selenium\\webdriver\\remote\\webdriver.py\u001b[0m in \u001b[0;36mfind_element\u001b[1;34m(self, by, value)\u001b[0m\n\u001b[0;32m    974\u001b[0m                 \u001b[0mby\u001b[0m \u001b[1;33m=\u001b[0m \u001b[0mBy\u001b[0m\u001b[1;33m.\u001b[0m\u001b[0mCSS_SELECTOR\u001b[0m\u001b[1;33m\u001b[0m\u001b[1;33m\u001b[0m\u001b[0m\n\u001b[0;32m    975\u001b[0m                 \u001b[0mvalue\u001b[0m \u001b[1;33m=\u001b[0m \u001b[1;34m'[name=\"%s\"]'\u001b[0m \u001b[1;33m%\u001b[0m \u001b[0mvalue\u001b[0m\u001b[1;33m\u001b[0m\u001b[1;33m\u001b[0m\u001b[0m\n\u001b[1;32m--> 976\u001b[1;33m         return self.execute(Command.FIND_ELEMENT, {\n\u001b[0m\u001b[0;32m    977\u001b[0m             \u001b[1;34m'using'\u001b[0m\u001b[1;33m:\u001b[0m \u001b[0mby\u001b[0m\u001b[1;33m,\u001b[0m\u001b[1;33m\u001b[0m\u001b[1;33m\u001b[0m\u001b[0m\n\u001b[0;32m    978\u001b[0m             'value': value})['value']\n",
      "\u001b[1;32m~\\anaconda3\\lib\\site-packages\\selenium\\webdriver\\remote\\webdriver.py\u001b[0m in \u001b[0;36mexecute\u001b[1;34m(self, driver_command, params)\u001b[0m\n\u001b[0;32m    319\u001b[0m         \u001b[0mresponse\u001b[0m \u001b[1;33m=\u001b[0m \u001b[0mself\u001b[0m\u001b[1;33m.\u001b[0m\u001b[0mcommand_executor\u001b[0m\u001b[1;33m.\u001b[0m\u001b[0mexecute\u001b[0m\u001b[1;33m(\u001b[0m\u001b[0mdriver_command\u001b[0m\u001b[1;33m,\u001b[0m \u001b[0mparams\u001b[0m\u001b[1;33m)\u001b[0m\u001b[1;33m\u001b[0m\u001b[1;33m\u001b[0m\u001b[0m\n\u001b[0;32m    320\u001b[0m         \u001b[1;32mif\u001b[0m \u001b[0mresponse\u001b[0m\u001b[1;33m:\u001b[0m\u001b[1;33m\u001b[0m\u001b[1;33m\u001b[0m\u001b[0m\n\u001b[1;32m--> 321\u001b[1;33m             \u001b[0mself\u001b[0m\u001b[1;33m.\u001b[0m\u001b[0merror_handler\u001b[0m\u001b[1;33m.\u001b[0m\u001b[0mcheck_response\u001b[0m\u001b[1;33m(\u001b[0m\u001b[0mresponse\u001b[0m\u001b[1;33m)\u001b[0m\u001b[1;33m\u001b[0m\u001b[1;33m\u001b[0m\u001b[0m\n\u001b[0m\u001b[0;32m    322\u001b[0m             response['value'] = self._unwrap_value(\n\u001b[0;32m    323\u001b[0m                 response.get('value', None))\n",
      "\u001b[1;32m~\\anaconda3\\lib\\site-packages\\selenium\\webdriver\\remote\\errorhandler.py\u001b[0m in \u001b[0;36mcheck_response\u001b[1;34m(self, response)\u001b[0m\n\u001b[0;32m    240\u001b[0m                 \u001b[0malert_text\u001b[0m \u001b[1;33m=\u001b[0m \u001b[0mvalue\u001b[0m\u001b[1;33m[\u001b[0m\u001b[1;34m'alert'\u001b[0m\u001b[1;33m]\u001b[0m\u001b[1;33m.\u001b[0m\u001b[0mget\u001b[0m\u001b[1;33m(\u001b[0m\u001b[1;34m'text'\u001b[0m\u001b[1;33m)\u001b[0m\u001b[1;33m\u001b[0m\u001b[1;33m\u001b[0m\u001b[0m\n\u001b[0;32m    241\u001b[0m             \u001b[1;32mraise\u001b[0m \u001b[0mexception_class\u001b[0m\u001b[1;33m(\u001b[0m\u001b[0mmessage\u001b[0m\u001b[1;33m,\u001b[0m \u001b[0mscreen\u001b[0m\u001b[1;33m,\u001b[0m \u001b[0mstacktrace\u001b[0m\u001b[1;33m,\u001b[0m \u001b[0malert_text\u001b[0m\u001b[1;33m)\u001b[0m\u001b[1;33m\u001b[0m\u001b[1;33m\u001b[0m\u001b[0m\n\u001b[1;32m--> 242\u001b[1;33m         \u001b[1;32mraise\u001b[0m \u001b[0mexception_class\u001b[0m\u001b[1;33m(\u001b[0m\u001b[0mmessage\u001b[0m\u001b[1;33m,\u001b[0m \u001b[0mscreen\u001b[0m\u001b[1;33m,\u001b[0m \u001b[0mstacktrace\u001b[0m\u001b[1;33m)\u001b[0m\u001b[1;33m\u001b[0m\u001b[1;33m\u001b[0m\u001b[0m\n\u001b[0m\u001b[0;32m    243\u001b[0m \u001b[1;33m\u001b[0m\u001b[0m\n\u001b[0;32m    244\u001b[0m     \u001b[1;32mdef\u001b[0m \u001b[0m_value_or_default\u001b[0m\u001b[1;33m(\u001b[0m\u001b[0mself\u001b[0m\u001b[1;33m,\u001b[0m \u001b[0mobj\u001b[0m\u001b[1;33m,\u001b[0m \u001b[0mkey\u001b[0m\u001b[1;33m,\u001b[0m \u001b[0mdefault\u001b[0m\u001b[1;33m)\u001b[0m\u001b[1;33m:\u001b[0m\u001b[1;33m\u001b[0m\u001b[1;33m\u001b[0m\u001b[0m\n",
      "\u001b[1;31mNoSuchElementException\u001b[0m: Message: no such element: Unable to locate element: {\"method\":\"xpath\",\"selector\":\"//*[@id=\"root\"]/div/div[1]/div[1]/div[2]/div[2]/form/div/div/input\"}\n  (Session info: chrome=88.0.4324.104)\n"
     ]
    }
   ],
   "source": [
    "prod = input(\" Enter the name of the job you want to search : \")\n",
    "driver.get('https://www.naukri.com/')\n",
    "time.sleep(3)\n",
    "try:\n",
    "    search = driver.find_element_by_xpath('//button[@class=\"btn\"]')     \n",
    "    search.click()\n",
    "except NoSuchElementException : \n",
    "    print(\"No search button\")\n",
    "search_bar = driver.find_element_by_xpath('//*[@id=\"root\"]/div/div[1]/div[1]/div[2]/div[2]/form/div/div/input')    \n",
    "search_bar.clear()               \n",
    "search_bar.send_keys(prod)       \n",
    "search_button = driver.find_element_by_xpath('//i[@class=\"naukicon naukicon-search\"]')    \n",
    "search_button.click()        "
   ]
  },
  {
   "cell_type": "code",
   "execution_count": 45,
   "metadata": {},
   "outputs": [],
   "source": [
    "flip_urls = []\n",
    "urls = driver.find_elements_by_xpath('//a[@class=\"fl nLogo\"]')\n",
    "for url in urls:\n",
    "    flip_urls.append(url.get_attribute(\"href\"))"
   ]
  },
  {
   "cell_type": "code",
   "execution_count": 46,
   "metadata": {},
   "outputs": [
    {
     "data": {
      "text/plain": [
       "1"
      ]
     },
     "execution_count": 46,
     "metadata": {},
     "output_type": "execute_result"
    }
   ],
   "source": [
    "len(flip_urls)"
   ]
  },
  {
   "cell_type": "code",
   "execution_count": 47,
   "metadata": {},
   "outputs": [],
   "source": [
    "flip_dict = {}\n",
    "flip_dict[\"Name\"] = []\n",
    "flip_dict[\"Designation\"] = []\n",
    "flip_dict[\"company\"] = []\n",
    "flip_dict[\"skills\"] = []\n",
    "flip_dict[\"Location\"] = []\n",
    "flip_dict[\"URL\"]=[]"
   ]
  },
  {
   "cell_type": "code",
   "execution_count": 48,
   "metadata": {},
   "outputs": [
    {
     "name": "stdout",
     "output_type": "stream",
     "text": [
      "Scraping URL =  https://www.naukri.com/\n"
     ]
    }
   ],
   "source": [
    "for url in flip_urls:\n",
    "    driver.get(url)                                                         \n",
    "    print(\"Scraping URL = \", url)\n",
    "    flip_dict['URL'].append(url)                                                          \n",
    "    time.sleep(2)\n",
    "    \n",
    "    try:\n",
    "        read_more = driver.find_element_by_xpath('//button[@class=\"btn\"]')     \n",
    "        read_more.click()\n",
    "    except NoSuchElementException:\n",
    "        print(\"Exception Occured. Moving to next page\")\n",
    "    "
   ]
  },
  {
   "cell_type": "code",
   "execution_count": 49,
   "metadata": {},
   "outputs": [],
   "source": [
    "    try:\n",
    "        brand = driver.find_element_by_xpath('//span[@class=\"B_NuCI\"]')      \n",
    "        flip_dict['Name'].append(brand.text.split()[0])\n",
    "    except NoSuchElementException:\n",
    "        flip_dict['Name'].append('-')\n",
    "        \n",
    "    try:\n",
    "        price = driver.find_element_by_xpath('//div[@class=\"_30jeq3 _16Jk6d\"]')      \n",
    "        flip_dict['Designation'].append(price.text)\n",
    "    except NoSuchElementException:\n",
    "        flip_dict['Designation'].append('-')\n",
    "        \n",
    "    try:\n",
    "        name = driver.find_element_by_xpath('//div[@class=\"_3k-BhJ\"][1]/table/tbody/tr[3]/td[2]/ul/li')      \n",
    "        flip_dict['company'].append(name.text)\n",
    "    except NoSuchElementException:\n",
    "        flip_dict['company'].append('-')\n",
    "    \n",
    "    try:\n",
    "        color = driver.find_element_by_xpath('//div[@class=\"_3k-BhJ\"][1]/table/tbody/tr[4]/td[2]/ul/li')      \n",
    "        flip_dict['skills'].append(color.text)\n",
    "    except NoSuchElementException:\n",
    "        flip_dict['skills'].append('-')\n",
    "    try:\n",
    "        color = driver.find_element_by_xpath('//div[@class=\"_3k-BhJ\"][1]/table/tbody/tr[4]/td[2]/ul/li')    \n",
    "        flip_dict['Location'].append(color.text)\n",
    "    except NoSuchElementException:\n",
    "        flip_dict['Location'].append('-')    "
   ]
  },
  {
   "cell_type": "code",
   "execution_count": 50,
   "metadata": {},
   "outputs": [
    {
     "name": "stdout",
     "output_type": "stream",
     "text": [
      "1 1 1 1 1\n"
     ]
    }
   ],
   "source": [
    "print(len(flip_dict[\"Name\"]), len(flip_dict[\"Designation\"]), len(flip_dict[\"company\"]), len(flip_dict[\"skills\"]), len(flip_dict[\"Location\"]))"
   ]
  },
  {
   "cell_type": "code",
   "execution_count": 51,
   "metadata": {},
   "outputs": [
    {
     "data": {
      "text/html": [
       "<div>\n",
       "<style scoped>\n",
       "    .dataframe tbody tr th:only-of-type {\n",
       "        vertical-align: middle;\n",
       "    }\n",
       "\n",
       "    .dataframe tbody tr th {\n",
       "        vertical-align: top;\n",
       "    }\n",
       "\n",
       "    .dataframe thead th {\n",
       "        text-align: right;\n",
       "    }\n",
       "</style>\n",
       "<table border=\"1\" class=\"dataframe\">\n",
       "  <thead>\n",
       "    <tr style=\"text-align: right;\">\n",
       "      <th></th>\n",
       "      <th>Name</th>\n",
       "      <th>Designation</th>\n",
       "      <th>company</th>\n",
       "      <th>skills</th>\n",
       "      <th>Location</th>\n",
       "      <th>URL</th>\n",
       "    </tr>\n",
       "  </thead>\n",
       "  <tbody>\n",
       "    <tr>\n",
       "      <th>0</th>\n",
       "      <td>-</td>\n",
       "      <td>-</td>\n",
       "      <td>-</td>\n",
       "      <td>-</td>\n",
       "      <td>-</td>\n",
       "      <td>https://www.naukri.com/</td>\n",
       "    </tr>\n",
       "  </tbody>\n",
       "</table>\n",
       "</div>"
      ],
      "text/plain": [
       "  Name Designation company skills Location                      URL\n",
       "0    -           -       -      -        -  https://www.naukri.com/"
      ]
     },
     "execution_count": 51,
     "metadata": {},
     "output_type": "execute_result"
    }
   ],
   "source": [
    "flip_df = pd.DataFrame.from_dict(flip_dict)\n",
    "flip_df"
   ]
  },
  {
   "cell_type": "code",
   "execution_count": 52,
   "metadata": {},
   "outputs": [],
   "source": [
    "import selenium\n",
    "import pandas as pd\n",
    "import time\n",
    "from bs4 import BeautifulSoup \n",
    "from selenium import webdriver\n",
    "\n",
    "from selenium.webdriver.support.ui import WebDriverWait\n",
    "from selenium.webdriver.support import expected_conditions as EC\n",
    "from selenium.webdriver.common.by import By\n",
    "from selenium.common.exceptions import StaleElementReferenceException, NoSuchElementException\n",
    "import requests\n",
    "import re"
   ]
  },
  {
   "cell_type": "code",
   "execution_count": 53,
   "metadata": {},
   "outputs": [],
   "source": [
    "driver=webdriver.Chrome(r'C:\\Users\\DELL\\Downloads\\chromedriver.exe')"
   ]
  },
  {
   "cell_type": "code",
   "execution_count": 54,
   "metadata": {},
   "outputs": [],
   "source": [
    "driver.get('https://www.theguardian.com/news/datablog/2012/aug/09/best-selling-books-all-time-fifty-shades-grey-compare')"
   ]
  },
  {
   "cell_type": "code",
   "execution_count": 59,
   "metadata": {},
   "outputs": [],
   "source": [
    "Title_job=[]"
   ]
  },
  {
   "cell_type": "code",
   "execution_count": 56,
   "metadata": {},
   "outputs": [],
   "source": [
    "Title_tag=driver.find_elements_by_xpath(\"//td[@class='left']\")"
   ]
  },
  {
   "cell_type": "code",
   "execution_count": 57,
   "metadata": {},
   "outputs": [
    {
     "data": {
      "text/plain": [
       "[<selenium.webdriver.remote.webelement.WebElement (session=\"26081c8375ff0361af906d3c2bbf4132\", element=\"999d219d-99e7-48bb-af64-36f9b40c0e39\")>,\n",
       " <selenium.webdriver.remote.webelement.WebElement (session=\"26081c8375ff0361af906d3c2bbf4132\", element=\"23b6709c-b747-48c4-8e44-f2f44e955613\")>,\n",
       " <selenium.webdriver.remote.webelement.WebElement (session=\"26081c8375ff0361af906d3c2bbf4132\", element=\"a58b4267-6cf4-42fb-8516-227f21c9f0b9\")>,\n",
       " <selenium.webdriver.remote.webelement.WebElement (session=\"26081c8375ff0361af906d3c2bbf4132\", element=\"42099f10-b66a-4485-826a-0c9523ad3de1\")>,\n",
       " <selenium.webdriver.remote.webelement.WebElement (session=\"26081c8375ff0361af906d3c2bbf4132\", element=\"d502fef6-0d31-4d10-851d-0c6b01c52bd9\")>,\n",
       " <selenium.webdriver.remote.webelement.WebElement (session=\"26081c8375ff0361af906d3c2bbf4132\", element=\"60814ca7-a0bd-4ae9-8f8f-202b487759ef\")>,\n",
       " <selenium.webdriver.remote.webelement.WebElement (session=\"26081c8375ff0361af906d3c2bbf4132\", element=\"b5c79510-0792-4e0c-92d4-c3d380e46c77\")>,\n",
       " <selenium.webdriver.remote.webelement.WebElement (session=\"26081c8375ff0361af906d3c2bbf4132\", element=\"50350958-bd28-44d0-a3a4-fd8907ad1b6b\")>,\n",
       " <selenium.webdriver.remote.webelement.WebElement (session=\"26081c8375ff0361af906d3c2bbf4132\", element=\"22f2f821-8dd4-41d1-b7ad-f2de6b2dbb30\")>,\n",
       " <selenium.webdriver.remote.webelement.WebElement (session=\"26081c8375ff0361af906d3c2bbf4132\", element=\"5bbf9782-b6f3-4063-90bd-1761df122634\")>,\n",
       " <selenium.webdriver.remote.webelement.WebElement (session=\"26081c8375ff0361af906d3c2bbf4132\", element=\"d8160af0-79fd-4ec5-8b8d-a521d967a923\")>,\n",
       " <selenium.webdriver.remote.webelement.WebElement (session=\"26081c8375ff0361af906d3c2bbf4132\", element=\"f10abc13-824f-46a7-bc23-9647161f8be3\")>,\n",
       " <selenium.webdriver.remote.webelement.WebElement (session=\"26081c8375ff0361af906d3c2bbf4132\", element=\"e37e25e5-05b5-44dc-9dd1-b5529b3a2f83\")>,\n",
       " <selenium.webdriver.remote.webelement.WebElement (session=\"26081c8375ff0361af906d3c2bbf4132\", element=\"df13621b-2031-4d82-bed3-4d141b9ac67b\")>,\n",
       " <selenium.webdriver.remote.webelement.WebElement (session=\"26081c8375ff0361af906d3c2bbf4132\", element=\"eb15dafa-ef6c-4d9a-a56e-d4185c8b0e73\")>,\n",
       " <selenium.webdriver.remote.webelement.WebElement (session=\"26081c8375ff0361af906d3c2bbf4132\", element=\"72044d71-cba8-4cde-b3c3-5abc88aa4d9d\")>,\n",
       " <selenium.webdriver.remote.webelement.WebElement (session=\"26081c8375ff0361af906d3c2bbf4132\", element=\"2f401247-296a-4a93-9cc6-0829b003535a\")>,\n",
       " <selenium.webdriver.remote.webelement.WebElement (session=\"26081c8375ff0361af906d3c2bbf4132\", element=\"08f04123-c20d-4574-8f33-c0570dae6323\")>,\n",
       " <selenium.webdriver.remote.webelement.WebElement (session=\"26081c8375ff0361af906d3c2bbf4132\", element=\"3506d552-a8da-4e49-9b1f-b41258263af9\")>,\n",
       " <selenium.webdriver.remote.webelement.WebElement (session=\"26081c8375ff0361af906d3c2bbf4132\", element=\"16ea4d0d-7493-42b2-b6da-acc00c81606f\")>,\n",
       " <selenium.webdriver.remote.webelement.WebElement (session=\"26081c8375ff0361af906d3c2bbf4132\", element=\"7d87886d-a71b-4555-a764-8c11b314d0ce\")>,\n",
       " <selenium.webdriver.remote.webelement.WebElement (session=\"26081c8375ff0361af906d3c2bbf4132\", element=\"2281f4b2-1fa6-4313-9efd-a3dbbb77159d\")>,\n",
       " <selenium.webdriver.remote.webelement.WebElement (session=\"26081c8375ff0361af906d3c2bbf4132\", element=\"ccb27556-c537-4c95-a0c9-e2222d381f03\")>,\n",
       " <selenium.webdriver.remote.webelement.WebElement (session=\"26081c8375ff0361af906d3c2bbf4132\", element=\"d223b71f-58fe-4219-88ce-11c95b39ee4f\")>,\n",
       " <selenium.webdriver.remote.webelement.WebElement (session=\"26081c8375ff0361af906d3c2bbf4132\", element=\"01a29763-f507-43b9-bd8c-fe01653e99f4\")>,\n",
       " <selenium.webdriver.remote.webelement.WebElement (session=\"26081c8375ff0361af906d3c2bbf4132\", element=\"d227b8d3-000c-481d-b86a-362729e736ac\")>,\n",
       " <selenium.webdriver.remote.webelement.WebElement (session=\"26081c8375ff0361af906d3c2bbf4132\", element=\"0d73afc5-bcc6-4a71-8183-95c21df90268\")>,\n",
       " <selenium.webdriver.remote.webelement.WebElement (session=\"26081c8375ff0361af906d3c2bbf4132\", element=\"cbc0d7de-27b1-451b-bc16-6a0712185e39\")>,\n",
       " <selenium.webdriver.remote.webelement.WebElement (session=\"26081c8375ff0361af906d3c2bbf4132\", element=\"db6b5f9f-4959-4b9f-810f-7537913c0173\")>,\n",
       " <selenium.webdriver.remote.webelement.WebElement (session=\"26081c8375ff0361af906d3c2bbf4132\", element=\"1c02118e-cc5a-4e22-91ed-8cdaecff6a38\")>,\n",
       " <selenium.webdriver.remote.webelement.WebElement (session=\"26081c8375ff0361af906d3c2bbf4132\", element=\"d63641b1-c6fa-4bfd-81f9-435b5a882bf0\")>,\n",
       " <selenium.webdriver.remote.webelement.WebElement (session=\"26081c8375ff0361af906d3c2bbf4132\", element=\"5574a017-74ea-44a3-8c1a-af1758ce4af8\")>,\n",
       " <selenium.webdriver.remote.webelement.WebElement (session=\"26081c8375ff0361af906d3c2bbf4132\", element=\"a220e3c9-498f-4b7b-a3ea-78af22534374\")>,\n",
       " <selenium.webdriver.remote.webelement.WebElement (session=\"26081c8375ff0361af906d3c2bbf4132\", element=\"83afbcca-0424-436d-93b7-70cd9ffbce14\")>,\n",
       " <selenium.webdriver.remote.webelement.WebElement (session=\"26081c8375ff0361af906d3c2bbf4132\", element=\"2b872fd9-ae5a-4f1c-9f65-d2a540ce8eb3\")>,\n",
       " <selenium.webdriver.remote.webelement.WebElement (session=\"26081c8375ff0361af906d3c2bbf4132\", element=\"5fdb610a-52a4-41a2-8946-906814535074\")>,\n",
       " <selenium.webdriver.remote.webelement.WebElement (session=\"26081c8375ff0361af906d3c2bbf4132\", element=\"ec59b60d-aa77-44dd-8dce-7658e6758097\")>,\n",
       " <selenium.webdriver.remote.webelement.WebElement (session=\"26081c8375ff0361af906d3c2bbf4132\", element=\"4e412619-90a2-4ce6-8fd9-16b1901edcfc\")>,\n",
       " <selenium.webdriver.remote.webelement.WebElement (session=\"26081c8375ff0361af906d3c2bbf4132\", element=\"34a836e8-c139-49f4-82d3-6e8f6d66ea8f\")>,\n",
       " <selenium.webdriver.remote.webelement.WebElement (session=\"26081c8375ff0361af906d3c2bbf4132\", element=\"aaa62330-1179-4c5b-acd4-59fbdff0b4cc\")>,\n",
       " <selenium.webdriver.remote.webelement.WebElement (session=\"26081c8375ff0361af906d3c2bbf4132\", element=\"ce0a0848-95c0-4d4a-912f-81c2da2e133b\")>,\n",
       " <selenium.webdriver.remote.webelement.WebElement (session=\"26081c8375ff0361af906d3c2bbf4132\", element=\"dc0d9b5d-2848-4de0-8397-9cf824edbba2\")>,\n",
       " <selenium.webdriver.remote.webelement.WebElement (session=\"26081c8375ff0361af906d3c2bbf4132\", element=\"6889ce35-df39-4011-b56f-86d7c0b908ca\")>,\n",
       " <selenium.webdriver.remote.webelement.WebElement (session=\"26081c8375ff0361af906d3c2bbf4132\", element=\"8a64f8fd-fc4f-40f5-b5c5-85a974116c6c\")>,\n",
       " <selenium.webdriver.remote.webelement.WebElement (session=\"26081c8375ff0361af906d3c2bbf4132\", element=\"9911460d-c11e-4c00-b3b0-98c9a3de0116\")>,\n",
       " <selenium.webdriver.remote.webelement.WebElement (session=\"26081c8375ff0361af906d3c2bbf4132\", element=\"2649389b-0469-4f3f-bbea-df4a730c6fa6\")>,\n",
       " <selenium.webdriver.remote.webelement.WebElement (session=\"26081c8375ff0361af906d3c2bbf4132\", element=\"8ab0456b-05d3-4217-a09f-d427fffb36af\")>,\n",
       " <selenium.webdriver.remote.webelement.WebElement (session=\"26081c8375ff0361af906d3c2bbf4132\", element=\"8d721095-f153-4a78-9049-a3439aec8c4e\")>,\n",
       " <selenium.webdriver.remote.webelement.WebElement (session=\"26081c8375ff0361af906d3c2bbf4132\", element=\"55c95bbf-f2f7-4f94-8b04-9cff12828317\")>,\n",
       " <selenium.webdriver.remote.webelement.WebElement (session=\"26081c8375ff0361af906d3c2bbf4132\", element=\"5df14b96-3291-43e4-af43-0ca9adda0a14\")>,\n",
       " <selenium.webdriver.remote.webelement.WebElement (session=\"26081c8375ff0361af906d3c2bbf4132\", element=\"8fdb4072-d7d4-4915-9d04-c11f3618bbca\")>,\n",
       " <selenium.webdriver.remote.webelement.WebElement (session=\"26081c8375ff0361af906d3c2bbf4132\", element=\"b2c30755-baaa-4274-85bd-881dc1156ad6\")>,\n",
       " <selenium.webdriver.remote.webelement.WebElement (session=\"26081c8375ff0361af906d3c2bbf4132\", element=\"3b546627-f305-4266-9b92-4bfcda7bd1bc\")>,\n",
       " <selenium.webdriver.remote.webelement.WebElement (session=\"26081c8375ff0361af906d3c2bbf4132\", element=\"84219444-d1fc-4b1b-9753-9b043c918997\")>,\n",
       " <selenium.webdriver.remote.webelement.WebElement (session=\"26081c8375ff0361af906d3c2bbf4132\", element=\"5dfbd73b-f374-46bf-b6d7-9af390c9cfa1\")>,\n",
       " <selenium.webdriver.remote.webelement.WebElement (session=\"26081c8375ff0361af906d3c2bbf4132\", element=\"91b9e8f2-dea3-477e-8d95-f8055ad9eca3\")>,\n",
       " <selenium.webdriver.remote.webelement.WebElement (session=\"26081c8375ff0361af906d3c2bbf4132\", element=\"6bc57422-ec5c-4b38-b1d9-cce453cef84b\")>,\n",
       " <selenium.webdriver.remote.webelement.WebElement (session=\"26081c8375ff0361af906d3c2bbf4132\", element=\"d5ae5d46-a4db-478b-99a0-b455f9dfb5c0\")>,\n",
       " <selenium.webdriver.remote.webelement.WebElement (session=\"26081c8375ff0361af906d3c2bbf4132\", element=\"13faf3bc-a5d8-413f-ba20-c61b6858e329\")>,\n",
       " <selenium.webdriver.remote.webelement.WebElement (session=\"26081c8375ff0361af906d3c2bbf4132\", element=\"4d76a9b5-e20c-4e80-b5c1-744b05e8e014\")>,\n",
       " <selenium.webdriver.remote.webelement.WebElement (session=\"26081c8375ff0361af906d3c2bbf4132\", element=\"5c4004ad-69a1-488d-8a19-b5ca0af2cf03\")>,\n",
       " <selenium.webdriver.remote.webelement.WebElement (session=\"26081c8375ff0361af906d3c2bbf4132\", element=\"0e6e85fa-252c-4596-8502-05746a9a1aca\")>,\n",
       " <selenium.webdriver.remote.webelement.WebElement (session=\"26081c8375ff0361af906d3c2bbf4132\", element=\"29fde116-b678-486b-b585-14d889c7ce9c\")>,\n",
       " <selenium.webdriver.remote.webelement.WebElement (session=\"26081c8375ff0361af906d3c2bbf4132\", element=\"7f717bad-2163-4d03-885b-d68f8c926bdc\")>,\n",
       " <selenium.webdriver.remote.webelement.WebElement (session=\"26081c8375ff0361af906d3c2bbf4132\", element=\"92133542-b9ce-4142-b520-1c75d3e3c602\")>,\n",
       " <selenium.webdriver.remote.webelement.WebElement (session=\"26081c8375ff0361af906d3c2bbf4132\", element=\"728057b8-5114-4551-ba9d-615e7c8b8ffa\")>,\n",
       " <selenium.webdriver.remote.webelement.WebElement (session=\"26081c8375ff0361af906d3c2bbf4132\", element=\"2de428b0-c0f5-4e01-8274-12096c2835c7\")>,\n",
       " <selenium.webdriver.remote.webelement.WebElement (session=\"26081c8375ff0361af906d3c2bbf4132\", element=\"83d7fb65-e5d6-46e1-b155-d2fd47b430f4\")>,\n",
       " <selenium.webdriver.remote.webelement.WebElement (session=\"26081c8375ff0361af906d3c2bbf4132\", element=\"ea2cdf4e-eb77-4cb2-9147-5bfe237a62df\")>,\n",
       " <selenium.webdriver.remote.webelement.WebElement (session=\"26081c8375ff0361af906d3c2bbf4132\", element=\"f041bb6c-0a3c-44fe-99ee-eb9c5282e053\")>,\n",
       " <selenium.webdriver.remote.webelement.WebElement (session=\"26081c8375ff0361af906d3c2bbf4132\", element=\"e6fe5595-4915-432a-83f5-ead69cd18e16\")>,\n",
       " <selenium.webdriver.remote.webelement.WebElement (session=\"26081c8375ff0361af906d3c2bbf4132\", element=\"f66eed60-9ece-47c5-9b43-2a22ffd01f31\")>,\n",
       " <selenium.webdriver.remote.webelement.WebElement (session=\"26081c8375ff0361af906d3c2bbf4132\", element=\"afb3e63c-9b5e-41f4-aa9f-1a9f66e953a2\")>,\n",
       " <selenium.webdriver.remote.webelement.WebElement (session=\"26081c8375ff0361af906d3c2bbf4132\", element=\"78e2cabc-8d40-41b0-ac91-056e851c073d\")>,\n",
       " <selenium.webdriver.remote.webelement.WebElement (session=\"26081c8375ff0361af906d3c2bbf4132\", element=\"5b6cf00c-ac80-4a09-9fde-078d703367af\")>,\n",
       " <selenium.webdriver.remote.webelement.WebElement (session=\"26081c8375ff0361af906d3c2bbf4132\", element=\"ce16a0e4-11c9-4682-aca5-dfeea5071adf\")>,\n",
       " <selenium.webdriver.remote.webelement.WebElement (session=\"26081c8375ff0361af906d3c2bbf4132\", element=\"667a1f08-1aa7-49cb-b078-4979a1a3aac4\")>,\n",
       " <selenium.webdriver.remote.webelement.WebElement (session=\"26081c8375ff0361af906d3c2bbf4132\", element=\"9d51e4d4-6062-4f2b-8440-c7e7cbe3579c\")>,\n",
       " <selenium.webdriver.remote.webelement.WebElement (session=\"26081c8375ff0361af906d3c2bbf4132\", element=\"33e9b1ab-083e-462f-a41a-d0eb4130b02e\")>,\n",
       " <selenium.webdriver.remote.webelement.WebElement (session=\"26081c8375ff0361af906d3c2bbf4132\", element=\"a63f9f4b-b6a5-4ff3-a725-a2cb72eb92f4\")>,\n",
       " <selenium.webdriver.remote.webelement.WebElement (session=\"26081c8375ff0361af906d3c2bbf4132\", element=\"75b96735-32f6-48eb-a930-d9abeb5c168b\")>,\n",
       " <selenium.webdriver.remote.webelement.WebElement (session=\"26081c8375ff0361af906d3c2bbf4132\", element=\"e3f93121-1877-4bad-8a0d-ea442101ad02\")>,\n",
       " <selenium.webdriver.remote.webelement.WebElement (session=\"26081c8375ff0361af906d3c2bbf4132\", element=\"e7cf99c7-bfe5-419c-98a3-73341c615aa6\")>,\n",
       " <selenium.webdriver.remote.webelement.WebElement (session=\"26081c8375ff0361af906d3c2bbf4132\", element=\"082148ed-39fe-4085-8088-d2a398857d15\")>,\n",
       " <selenium.webdriver.remote.webelement.WebElement (session=\"26081c8375ff0361af906d3c2bbf4132\", element=\"1b3deed8-3015-4c6f-95b9-69b113b104c4\")>,\n",
       " <selenium.webdriver.remote.webelement.WebElement (session=\"26081c8375ff0361af906d3c2bbf4132\", element=\"f271a9e1-b865-4bfa-a2a0-01dbf5d7d727\")>,\n",
       " <selenium.webdriver.remote.webelement.WebElement (session=\"26081c8375ff0361af906d3c2bbf4132\", element=\"f67e3236-eecd-4494-945f-1fcfa0911374\")>,\n",
       " <selenium.webdriver.remote.webelement.WebElement (session=\"26081c8375ff0361af906d3c2bbf4132\", element=\"c5724746-cff3-4012-beab-d00a5790b526\")>,\n",
       " <selenium.webdriver.remote.webelement.WebElement (session=\"26081c8375ff0361af906d3c2bbf4132\", element=\"2e86f8ab-76a7-4d1b-8977-60a576ab8a8c\")>,\n",
       " <selenium.webdriver.remote.webelement.WebElement (session=\"26081c8375ff0361af906d3c2bbf4132\", element=\"c7f49f60-68bb-48bc-80f9-b45046781aeb\")>,\n",
       " <selenium.webdriver.remote.webelement.WebElement (session=\"26081c8375ff0361af906d3c2bbf4132\", element=\"98353c74-98bb-4ada-bc9f-4be6b0e70f5a\")>,\n",
       " <selenium.webdriver.remote.webelement.WebElement (session=\"26081c8375ff0361af906d3c2bbf4132\", element=\"fe7e63b4-c8c2-4af0-ba53-30ea362b3fd6\")>,\n",
       " <selenium.webdriver.remote.webelement.WebElement (session=\"26081c8375ff0361af906d3c2bbf4132\", element=\"4a9ecf65-bb9b-42ef-ba0c-c9b66853cc1e\")>,\n",
       " <selenium.webdriver.remote.webelement.WebElement (session=\"26081c8375ff0361af906d3c2bbf4132\", element=\"438677cf-f8c3-4689-8fad-c63afaa1c71c\")>,\n",
       " <selenium.webdriver.remote.webelement.WebElement (session=\"26081c8375ff0361af906d3c2bbf4132\", element=\"e06d05a8-6978-4391-977b-59d137b08782\")>,\n",
       " <selenium.webdriver.remote.webelement.WebElement (session=\"26081c8375ff0361af906d3c2bbf4132\", element=\"e7bf2cd8-fcce-460d-adca-6968761e0a35\")>,\n",
       " <selenium.webdriver.remote.webelement.WebElement (session=\"26081c8375ff0361af906d3c2bbf4132\", element=\"7303f348-757c-4783-a05a-60ce09c48914\")>,\n",
       " <selenium.webdriver.remote.webelement.WebElement (session=\"26081c8375ff0361af906d3c2bbf4132\", element=\"cf583a35-e641-4f8c-8db2-78f0c18cc853\")>,\n",
       " <selenium.webdriver.remote.webelement.WebElement (session=\"26081c8375ff0361af906d3c2bbf4132\", element=\"c8cec744-4caf-4268-a48e-62823ffa23aa\")>,\n",
       " <selenium.webdriver.remote.webelement.WebElement (session=\"26081c8375ff0361af906d3c2bbf4132\", element=\"6622275f-60f7-4378-8f75-d35017af5ab3\")>]"
      ]
     },
     "execution_count": 57,
     "metadata": {},
     "output_type": "execute_result"
    }
   ],
   "source": [
    "Title_tag[0:100]"
   ]
  },
  {
   "cell_type": "code",
   "execution_count": 60,
   "metadata": {},
   "outputs": [
    {
     "data": {
      "text/plain": [
       "['1',\n",
       " 'Da Vinci Code,The',\n",
       " 'Brown, Dan',\n",
       " '5,094,805',\n",
       " 'Transworld',\n",
       " '2',\n",
       " 'Harry Potter and the Deathly Hallows',\n",
       " 'Rowling, J.K.',\n",
       " '4,475,152',\n",
       " 'Bloomsbury',\n",
       " '3',\n",
       " \"Harry Potter and the Philosopher's Stone\",\n",
       " 'Rowling, J.K.',\n",
       " '4,200,654',\n",
       " 'Bloomsbury',\n",
       " '4',\n",
       " 'Harry Potter and the Order of the Phoenix',\n",
       " 'Rowling, J.K.',\n",
       " '4,179,479',\n",
       " 'Bloomsbury',\n",
       " '5',\n",
       " 'Fifty Shades of Grey',\n",
       " 'James, E. L.',\n",
       " '3,758,936',\n",
       " 'Random House',\n",
       " '6',\n",
       " 'Harry Potter and the Goblet of Fire',\n",
       " 'Rowling, J.K.',\n",
       " '3,583,215',\n",
       " 'Bloomsbury',\n",
       " '7',\n",
       " 'Harry Potter and the Chamber of Secrets',\n",
       " 'Rowling, J.K.',\n",
       " '3,484,047',\n",
       " 'Bloomsbury',\n",
       " '8',\n",
       " 'Harry Potter and the Prisoner of Azkaban',\n",
       " 'Rowling, J.K.',\n",
       " '3,377,906',\n",
       " 'Bloomsbury',\n",
       " '9',\n",
       " 'Angels and Demons',\n",
       " 'Brown, Dan',\n",
       " '3,193,946',\n",
       " 'Transworld',\n",
       " '10',\n",
       " \"Harry Potter and the Half-blood Prince:Children's Edition\",\n",
       " 'Rowling, J.K.',\n",
       " '2,950,264',\n",
       " 'Bloomsbury',\n",
       " '11',\n",
       " 'Fifty Shades Darker',\n",
       " 'James, E. L.',\n",
       " '2,479,784',\n",
       " 'Random House',\n",
       " '12',\n",
       " 'Twilight',\n",
       " 'Meyer, Stephenie',\n",
       " '2,315,405',\n",
       " 'Little, Brown Book',\n",
       " '13',\n",
       " 'Girl with the Dragon Tattoo,The:Millennium Trilogy',\n",
       " 'Larsson, Stieg',\n",
       " '2,233,570',\n",
       " 'Quercus',\n",
       " '14',\n",
       " 'Fifty Shades Freed',\n",
       " 'James, E. L.',\n",
       " '2,193,928',\n",
       " 'Random House',\n",
       " '15',\n",
       " 'Lost Symbol,The',\n",
       " 'Brown, Dan',\n",
       " '2,183,031',\n",
       " 'Transworld',\n",
       " '16',\n",
       " 'New Moon',\n",
       " 'Meyer, Stephenie',\n",
       " '2,152,737',\n",
       " 'Little, Brown Book',\n",
       " '17',\n",
       " 'Deception Point',\n",
       " 'Brown, Dan',\n",
       " '2,062,145',\n",
       " 'Transworld',\n",
       " '18',\n",
       " 'Eclipse',\n",
       " 'Meyer, Stephenie',\n",
       " '2,052,876',\n",
       " 'Little, Brown Book',\n",
       " '19',\n",
       " 'Lovely Bones,The',\n",
       " 'Sebold, Alice',\n",
       " '2,005,598',\n",
       " 'Pan Macmillan',\n",
       " '20',\n",
       " 'Curious Incident of the Dog in the Night-time,The',\n",
       " 'Haddon, Mark',\n",
       " '1,979,552',\n",
       " 'Random House']"
      ]
     },
     "execution_count": 60,
     "metadata": {},
     "output_type": "execute_result"
    }
   ],
   "source": [
    "for i in Title_tag:\n",
    "    title=i.text\n",
    "    Title_job.append(title)\n",
    "Title_job[0:100]  "
   ]
  },
  {
   "cell_type": "code",
   "execution_count": 61,
   "metadata": {},
   "outputs": [
    {
     "name": "stdout",
     "output_type": "stream",
     "text": [
      "500\n"
     ]
    }
   ],
   "source": [
    "print(len(Title_job))"
   ]
  },
  {
   "cell_type": "code",
   "execution_count": 62,
   "metadata": {},
   "outputs": [],
   "source": [
    "import pandas as pd\n",
    "jobs=pd.DataFrame({})\n",
    "jobs['Rank/Title/Author/volume/publisher/genre']=Title_job"
   ]
  },
  {
   "cell_type": "code",
   "execution_count": 63,
   "metadata": {},
   "outputs": [
    {
     "data": {
      "text/html": [
       "<div>\n",
       "<style scoped>\n",
       "    .dataframe tbody tr th:only-of-type {\n",
       "        vertical-align: middle;\n",
       "    }\n",
       "\n",
       "    .dataframe tbody tr th {\n",
       "        vertical-align: top;\n",
       "    }\n",
       "\n",
       "    .dataframe thead th {\n",
       "        text-align: right;\n",
       "    }\n",
       "</style>\n",
       "<table border=\"1\" class=\"dataframe\">\n",
       "  <thead>\n",
       "    <tr style=\"text-align: right;\">\n",
       "      <th></th>\n",
       "      <th>Rank/Title/Author/volume/publisher/genre</th>\n",
       "    </tr>\n",
       "  </thead>\n",
       "  <tbody>\n",
       "    <tr>\n",
       "      <th>0</th>\n",
       "      <td>1</td>\n",
       "    </tr>\n",
       "    <tr>\n",
       "      <th>1</th>\n",
       "      <td>Da Vinci Code,The</td>\n",
       "    </tr>\n",
       "    <tr>\n",
       "      <th>2</th>\n",
       "      <td>Brown, Dan</td>\n",
       "    </tr>\n",
       "    <tr>\n",
       "      <th>3</th>\n",
       "      <td>5,094,805</td>\n",
       "    </tr>\n",
       "    <tr>\n",
       "      <th>4</th>\n",
       "      <td>Transworld</td>\n",
       "    </tr>\n",
       "    <tr>\n",
       "      <th>...</th>\n",
       "      <td>...</td>\n",
       "    </tr>\n",
       "    <tr>\n",
       "      <th>495</th>\n",
       "      <td>100</td>\n",
       "    </tr>\n",
       "    <tr>\n",
       "      <th>496</th>\n",
       "      <td>Jamie's Ministry of Food:Anyone Can Learn to C...</td>\n",
       "    </tr>\n",
       "    <tr>\n",
       "      <th>497</th>\n",
       "      <td>Oliver, Jamie</td>\n",
       "    </tr>\n",
       "    <tr>\n",
       "      <th>498</th>\n",
       "      <td>791,095</td>\n",
       "    </tr>\n",
       "    <tr>\n",
       "      <th>499</th>\n",
       "      <td>Penguin</td>\n",
       "    </tr>\n",
       "  </tbody>\n",
       "</table>\n",
       "<p>500 rows × 1 columns</p>\n",
       "</div>"
      ],
      "text/plain": [
       "              Rank/Title/Author/volume/publisher/genre\n",
       "0                                                    1\n",
       "1                                    Da Vinci Code,The\n",
       "2                                           Brown, Dan\n",
       "3                                            5,094,805\n",
       "4                                           Transworld\n",
       "..                                                 ...\n",
       "495                                                100\n",
       "496  Jamie's Ministry of Food:Anyone Can Learn to C...\n",
       "497                                      Oliver, Jamie\n",
       "498                                            791,095\n",
       "499                                            Penguin\n",
       "\n",
       "[500 rows x 1 columns]"
      ]
     },
     "execution_count": 63,
     "metadata": {},
     "output_type": "execute_result"
    }
   ],
   "source": [
    "jobs"
   ]
  },
  {
   "cell_type": "code",
   "execution_count": 64,
   "metadata": {},
   "outputs": [],
   "source": [
    "from bs4 import BeautifulSoup\n",
    "import requests\n",
    "import re\n",
    "import pandas as pd"
   ]
  },
  {
   "cell_type": "code",
   "execution_count": 65,
   "metadata": {},
   "outputs": [],
   "source": [
    "url = 'http://www.imdb.com/chart/top'"
   ]
  },
  {
   "cell_type": "code",
   "execution_count": 66,
   "metadata": {},
   "outputs": [],
   "source": [
    "response = requests.get(url)"
   ]
  },
  {
   "cell_type": "code",
   "execution_count": 67,
   "metadata": {},
   "outputs": [],
   "source": [
    "soup = BeautifulSoup(response.text, 'lxml')"
   ]
  },
  {
   "cell_type": "code",
   "execution_count": 68,
   "metadata": {},
   "outputs": [],
   "source": [
    "movies = soup.select('td.titleColumn')\n",
    "links = [a.attrs.get('href') for a in soup.select('td.titleColumn a')]\n",
    "crew = [a.attrs.get('title') for a in soup.select('td.titleColumn a')]\n",
    "ratings = [b.attrs.get('data-value') for b in soup.select('td.posterColumn span[name=ir]')]\n",
    "votes = [b.attrs.get('data-value') for b in soup.select('td.ratingColumn strong')]"
   ]
  },
  {
   "cell_type": "code",
   "execution_count": 71,
   "metadata": {},
   "outputs": [],
   "source": [
    "imdb=[]"
   ]
  },
  {
   "cell_type": "code",
   "execution_count": 72,
   "metadata": {},
   "outputs": [],
   "source": [
    "for index in range(0, len(movies)):\n",
    "    movie_string = movies[index].get_text()\n",
    "    movie = (' '.join(movie_string.split()).replace('.', ''))\n",
    "    movie_title = movie[len(str(index))+1:-7]\n",
    "    year = re.search('\\((.*?)\\)', movie_string).group(1)\n",
    "    place = movie[:len(str(index))-(len(movie))]\n",
    "    data = {\"movie_title\": movie_title,\n",
    "            \"year\": year,\n",
    "            \"place\": place,\n",
    "            \"star_cast\": crew[index],\n",
    "            \"rating\": ratings[index],\n",
    "            \"vote\": votes[index],\n",
    "            \"link\": links[index]}\n",
    "    imdb.append(data)"
   ]
  },
  {
   "cell_type": "code",
   "execution_count": 73,
   "metadata": {},
   "outputs": [
    {
     "name": "stdout",
     "output_type": "stream",
     "text": [
      "1 - The Shawshank Redemption (1994) - Starring: Frank Darabont (dir.), Tim Robbins, Morgan Freeman\n",
      "2 - The Godfather (1972) - Starring: Francis Ford Coppola (dir.), Marlon Brando, Al Pacino\n",
      "3 - The Godfather: Part II (1974) - Starring: Francis Ford Coppola (dir.), Al Pacino, Robert De Niro\n",
      "4 - The Dark Knight (2008) - Starring: Christopher Nolan (dir.), Christian Bale, Heath Ledger\n",
      "5 - 12 Angry Men (1957) - Starring: Sidney Lumet (dir.), Henry Fonda, Lee J. Cobb\n",
      "6 - Schindler's List (1993) - Starring: Steven Spielberg (dir.), Liam Neeson, Ralph Fiennes\n",
      "7 - The Lord of the Rings: The Return of the King (2003) - Starring: Peter Jackson (dir.), Elijah Wood, Viggo Mortensen\n",
      "8 - Pulp Fiction (1994) - Starring: Quentin Tarantino (dir.), John Travolta, Uma Thurman\n",
      "9 - Il buono, il brutto, il cattivo (1966) - Starring: Sergio Leone (dir.), Clint Eastwood, Eli Wallach\n",
      "1 -  The Lord of the Rings: The Fellowship of the Ring (2001) - Starring: Peter Jackson (dir.), Elijah Wood, Ian McKellen\n",
      "11 - Fight Club (1999) - Starring: David Fincher (dir.), Brad Pitt, Edward Norton\n",
      "12 - Forrest Gump (1994) - Starring: Robert Zemeckis (dir.), Tom Hanks, Robin Wright\n",
      "13 - Inception (2010) - Starring: Christopher Nolan (dir.), Leonardo DiCaprio, Joseph Gordon-Levitt\n",
      "14 - The Lord of the Rings: The Two Towers (2002) - Starring: Peter Jackson (dir.), Elijah Wood, Ian McKellen\n",
      "15 - Star Wars: Episode V - The Empire Strikes Back (1980) - Starring: Irvin Kershner (dir.), Mark Hamill, Harrison Ford\n",
      "16 - The Matrix (1999) - Starring: Lana Wachowski (dir.), Keanu Reeves, Laurence Fishburne\n",
      "17 - Goodfellas (1990) - Starring: Martin Scorsese (dir.), Robert De Niro, Ray Liotta\n",
      "18 - One Flew Over the Cuckoo's Nest (1975) - Starring: Milos Forman (dir.), Jack Nicholson, Louise Fletcher\n",
      "19 - Shichinin no samurai (1954) - Starring: Akira Kurosawa (dir.), Toshirô Mifune, Takashi Shimura\n",
      "20 - Se7en (1995) - Starring: David Fincher (dir.), Morgan Freeman, Brad Pitt\n",
      "21 - La vita è bella (1997) - Starring: Roberto Benigni (dir.), Roberto Benigni, Nicoletta Braschi\n",
      "22 - Cidade de Deus (2002) - Starring: Fernando Meirelles (dir.), Alexandre Rodrigues, Leandro Firmino\n",
      "23 - The Silence of the Lambs (1991) - Starring: Jonathan Demme (dir.), Jodie Foster, Anthony Hopkins\n",
      "24 - It's a Wonderful Life (1946) - Starring: Frank Capra (dir.), James Stewart, Donna Reed\n",
      "25 - Star Wars (1977) - Starring: George Lucas (dir.), Mark Hamill, Harrison Ford\n",
      "26 - Saving Private Ryan (1998) - Starring: Steven Spielberg (dir.), Tom Hanks, Matt Damon\n",
      "27 - The Green Mile (1999) - Starring: Frank Darabont (dir.), Tom Hanks, Michael Clarke Duncan\n",
      "28 - Sen to Chihiro no kamikakushi (2001) - Starring: Hayao Miyazaki (dir.), Daveigh Chase, Suzanne Pleshette\n",
      "29 - Interstellar (2014) - Starring: Christopher Nolan (dir.), Matthew McConaughey, Anne Hathaway\n",
      "30 - Gisaengchung (2019) - Starring: Bong Joon Ho (dir.), Kang-ho Song, Lee Sun-kyun\n",
      "31 - Léon (1994) - Starring: Luc Besson (dir.), Jean Reno, Gary Oldman\n",
      "32 - Seppuku (1962) - Starring: Masaki Kobayashi (dir.), Tatsuya Nakadai, Akira Ishihama\n",
      "33 - The Usual Suspects (1995) - Starring: Bryan Singer (dir.), Kevin Spacey, Gabriel Byrne\n",
      "34 - The Lion King (1994) - Starring: Roger Allers (dir.), Matthew Broderick, Jeremy Irons\n",
      "35 - The Pianist (2002) - Starring: Roman Polanski (dir.), Adrien Brody, Thomas Kretschmann\n",
      "36 - Back to the Future (1985) - Starring: Robert Zemeckis (dir.), Michael J. Fox, Christopher Lloyd\n",
      "37 - Terminator 2: Judgment Day (1991) - Starring: James Cameron (dir.), Arnold Schwarzenegger, Linda Hamilton\n",
      "38 - American History X (1998) - Starring: Tony Kaye (dir.), Edward Norton, Edward Furlong\n",
      "39 - Modern Times (1936) - Starring: Charles Chaplin (dir.), Charles Chaplin, Paulette Goddard\n",
      "40 - Gladiator (2000) - Starring: Ridley Scott (dir.), Russell Crowe, Joaquin Phoenix\n",
      "41 - Psycho (1960) - Starring: Alfred Hitchcock (dir.), Anthony Perkins, Janet Leigh\n",
      "42 - The Departed (2006) - Starring: Martin Scorsese (dir.), Leonardo DiCaprio, Matt Damon\n",
      "43 - City Lights (1931) - Starring: Charles Chaplin (dir.), Charles Chaplin, Virginia Cherrill\n",
      "44 - The Intouchables (2011) - Starring: Olivier Nakache (dir.), François Cluzet, Omar Sy\n",
      "45 - Whiplash (2014) - Starring: Damien Chazelle (dir.), Miles Teller, J.K. Simmons\n",
      "46 - Hotaru no haka (1988) - Starring: Isao Takahata (dir.), Tsutomu Tatsumi, Ayano Shiraishi\n",
      "47 - The Prestige (2006) - Starring: Christopher Nolan (dir.), Christian Bale, Hugh Jackman\n",
      "48 - Once Upon a Time in the West (1968) - Starring: Sergio Leone (dir.), Henry Fonda, Charles Bronson\n",
      "49 - Casablanca (1942) - Starring: Michael Curtiz (dir.), Humphrey Bogart, Ingrid Bergman\n",
      "50 - Nuovo Cinema Paradiso (1988) - Starring: Giuseppe Tornatore (dir.), Philippe Noiret, Enzo Cannavale\n",
      "51 - Rear Window (1954) - Starring: Alfred Hitchcock (dir.), James Stewart, Grace Kelly\n",
      "52 - Alien (1979) - Starring: Ridley Scott (dir.), Sigourney Weaver, Tom Skerritt\n",
      "53 - Apocalypse Now (1979) - Starring: Francis Ford Coppola (dir.), Martin Sheen, Marlon Brando\n",
      "54 - Memento (2000) - Starring: Christopher Nolan (dir.), Guy Pearce, Carrie-Anne Moss\n",
      "55 - The Great Dictator (1940) - Starring: Charles Chaplin (dir.), Charles Chaplin, Paulette Goddard\n",
      "56 - Raiders of the Lost Ark (1981) - Starring: Steven Spielberg (dir.), Harrison Ford, Karen Allen\n",
      "57 - Hamilton (2020) - Starring: Thomas Kail (dir.), Lin-Manuel Miranda, Phillipa Soo\n",
      "58 - Django Unchained (2012) - Starring: Quentin Tarantino (dir.), Jamie Foxx, Christoph Waltz\n",
      "59 - The Lives of Others (2006) - Starring: Florian Henckel von Donnersmarck (dir.), Ulrich Mühe, Martina Gedeck\n",
      "60 - Paths of Glory (1957) - Starring: Stanley Kubrick (dir.), Kirk Douglas, Ralph Meeker\n",
      "61 - Joker (2019) - Starring: Todd Phillips (dir.), Joaquin Phoenix, Robert De Niro\n",
      "62 - WALL·E (2008) - Starring: Andrew Stanton (dir.), Ben Burtt, Elissa Knight\n",
      "63 - The Shining (1980) - Starring: Stanley Kubrick (dir.), Jack Nicholson, Shelley Duvall\n",
      "64 - Avengers: Infinity War (2018) - Starring: Anthony Russo (dir.), Robert Downey Jr., Chris Hemsworth\n",
      "65 - Sunset Blvd (1950) - Starring: Billy Wilder (dir.), William Holden, Gloria Swanson\n",
      "66 - Witness for the Prosecution (1957) - Starring: Billy Wilder (dir.), Tyrone Power, Marlene Dietrich\n",
      "67 - Oldeuboi (2003) - Starring: Chan-wook Park (dir.), Choi Min-sik, Yoo Ji-Tae\n",
      "68 - Mononoke-hime (1997) - Starring: Hayao Miyazaki (dir.), Yôji Matsuda, Yuriko Ishida\n",
      "69 - Spider-Man: Into the Spider-Verse (2018) - Starring: Bob Persichetti (dir.), Shameik Moore, Jake Johnson\n",
      "70 - Dr Strangelove or: How I Learned to Stop Worrying and Love the Bomb (1964) - Starring: Stanley Kubrick (dir.), Peter Sellers, George C. Scott\n",
      "71 - The Dark Knight Rises (2012) - Starring: Christopher Nolan (dir.), Christian Bale, Tom Hardy\n",
      "72 - Once Upon a Time in America (1984) - Starring: Sergio Leone (dir.), Robert De Niro, James Woods\n",
      "73 - Kimi no na wa (2016) - Starring: Makoto Shinkai (dir.), Ryûnosuke Kamiki, Mone Kamishiraishi\n",
      "74 - Aliens (1986) - Starring: James Cameron (dir.), Sigourney Weaver, Michael Biehn\n",
      "75 - Coco (2017) - Starring: Lee Unkrich (dir.), Anthony Gonzalez, Gael García Bernal\n",
      "76 - Avengers: Endgame (2019) - Starring: Anthony Russo (dir.), Robert Downey Jr., Chris Evans\n",
      "77 - American Beauty (1999) - Starring: Sam Mendes (dir.), Kevin Spacey, Annette Bening\n",
      "78 - Braveheart (1995) - Starring: Mel Gibson (dir.), Mel Gibson, Sophie Marceau\n",
      "79 - Capharnaüm (2018) - Starring: Nadine Labaki (dir.), Zain Al Rafeea, Yordanos Shiferaw\n",
      "80 - Das Boot (1981) - Starring: Wolfgang Petersen (dir.), Jürgen Prochnow, Herbert Grönemeyer\n",
      "81 - Toy Story (1995) - Starring: John Lasseter (dir.), Tom Hanks, Tim Allen\n",
      "82 - 3 Idiots (2009) - Starring: Rajkumar Hirani (dir.), Aamir Khan, Madhavan\n",
      "83 - Tengoku to jigoku (1963) - Starring: Akira Kurosawa (dir.), Toshirô Mifune, Yutaka Sada\n",
      "84 - Amadeus (1984) - Starring: Milos Forman (dir.), F. Murray Abraham, Tom Hulce\n",
      "85 - Inglourious Basterds (2009) - Starring: Quentin Tarantino (dir.), Brad Pitt, Diane Kruger\n",
      "86 - Star Wars: Episode VI - Return of the Jedi (1983) - Starring: Richard Marquand (dir.), Mark Hamill, Harrison Ford\n",
      "87 - Good Will Hunting (1997) - Starring: Gus Van Sant (dir.), Robin Williams, Matt Damon\n",
      "88 - Taare Zameen Par (2007) - Starring: Aamir Khan (dir.), Darsheel Safary, Aamir Khan\n",
      "89 - Reservoir Dogs (1992) - Starring: Quentin Tarantino (dir.), Harvey Keitel, Tim Roth\n",
      "90 - 2001: A Space Odyssey (1968) - Starring: Stanley Kubrick (dir.), Keir Dullea, Gary Lockwood\n",
      "91 - Requiem for a Dream (2000) - Starring: Darren Aronofsky (dir.), Ellen Burstyn, Jared Leto\n",
      "92 - Vertigo (1958) - Starring: Alfred Hitchcock (dir.), James Stewart, Kim Novak\n",
      "93 - M - Eine Stadt sucht einen Mörder (1931) - Starring: Fritz Lang (dir.), Peter Lorre, Ellen Widmann\n",
      "94 - Jagten (2012) - Starring: Thomas Vinterberg (dir.), Mads Mikkelsen, Thomas Bo Larsen\n",
      "95 - Eternal Sunshine of the Spotless Mind (2004) - Starring: Michel Gondry (dir.), Jim Carrey, Kate Winslet\n",
      "96 - Citizen Kane (1941) - Starring: Orson Welles (dir.), Orson Welles, Joseph Cotten\n",
      "97 - Dangal (2016) - Starring: Nitesh Tiwari (dir.), Aamir Khan, Sakshi Tanwar\n",
      "98 - Ladri di biciclette (1948) - Starring: Vittorio De Sica (dir.), Lamberto Maggiorani, Enzo Staiola\n",
      "99 - Full Metal Jacket (1987) - Starring: Stanley Kubrick (dir.), Matthew Modine, R. Lee Ermey\n",
      "10 -  Singin' in the Rain (1952) - Starring: Stanley Donen (dir.), Gene Kelly, Donald O'Connor\n",
      "101 - The Kid (1921) - Starring: Charles Chaplin (dir.), Charles Chaplin, Edna Purviance\n",
      "102 - Snatch (2000) - Starring: Guy Ritchie (dir.), Jason Statham, Brad Pitt\n",
      "103 - North by Northwest (1959) - Starring: Alfred Hitchcock (dir.), Cary Grant, Eva Marie Saint\n",
      "104 - A Clockwork Orange (1971) - Starring: Stanley Kubrick (dir.), Malcolm McDowell, Patrick Magee\n",
      "105 - Scarface (1983) - Starring: Brian De Palma (dir.), Al Pacino, Michelle Pfeiffer\n",
      "106 - Idi i smotri (1985) - Starring: Elem Klimov (dir.), Aleksey Kravchenko, Olga Mironova\n",
      "107 - 1917 (2019) - Starring: Sam Mendes (dir.), Dean-Charles Chapman, George MacKay\n",
      "108 - Ikiru (1952) - Starring: Akira Kurosawa (dir.), Takashi Shimura, Nobuo Kaneko\n",
      "109 - Taxi Driver (1976) - Starring: Martin Scorsese (dir.), Robert De Niro, Jodie Foster\n",
      "110 - Incendies (2010) - Starring: Denis Villeneuve (dir.), Lubna Azabal, Mélissa Désormeaux-Poulin\n",
      "111 - Toy Story 3 (2010) - Starring: Lee Unkrich (dir.), Tom Hanks, Tim Allen\n",
      "112 - Jodaeiye Nader az Simin (2011) - Starring: Asghar Farhadi (dir.), Payman Maadi, Leila Hatami\n",
      "113 - Lawrence of Arabia (1962) - Starring: David Lean (dir.), Peter O'Toole, Alec Guinness\n",
      "114 - Amélie (2001) - Starring: Jean-Pierre Jeunet (dir.), Audrey Tautou, Mathieu Kassovitz\n",
      "115 - The Sting (1973) - Starring: George Roy Hill (dir.), Paul Newman, Robert Redford\n",
      "116 - Metropolis (1927) - Starring: Fritz Lang (dir.), Brigitte Helm, Alfred Abel\n",
      "117 - Per qualche dollaro in più (1965) - Starring: Sergio Leone (dir.), Clint Eastwood, Lee Van Cleef\n",
      "118 - The Apartment (1960) - Starring: Billy Wilder (dir.), Jack Lemmon, Shirley MacLaine\n",
      "119 - Double Indemnity (1944) - Starring: Billy Wilder (dir.), Fred MacMurray, Barbara Stanwyck\n",
      "120 - To Kill a Mockingbird (1962) - Starring: Robert Mulligan (dir.), Gregory Peck, John Megna\n",
      "121 - Up (2009) - Starring: Pete Docter (dir.), Edward Asner, Jordan Nagai\n",
      "122 - Indiana Jones and the Last Crusade (1989) - Starring: Steven Spielberg (dir.), Harrison Ford, Sean Connery\n",
      "123 - Heat (1995) - Starring: Michael Mann (dir.), Al Pacino, Robert De Niro\n",
      "124 - LA Confidential (1997) - Starring: Curtis Hanson (dir.), Kevin Spacey, Russell Crowe\n",
      "125 - Die Hard (1988) - Starring: John McTiernan (dir.), Bruce Willis, Alan Rickman\n",
      "126 - Green Book (2018) - Starring: Peter Farrelly (dir.), Viggo Mortensen, Mahershala Ali\n",
      "127 - Monty Python and the Holy Grail (1975) - Starring: Terry Gilliam (dir.), Graham Chapman, John Cleese\n",
      "128 - Batman Begins (2005) - Starring: Christopher Nolan (dir.), Christian Bale, Michael Caine\n",
      "129 - Yôjinbô (1961) - Starring: Akira Kurosawa (dir.), Toshirô Mifune, Eijirô Tôno\n",
      "130 - Rashômon (1950) - Starring: Akira Kurosawa (dir.), Toshirô Mifune, Machiko Kyô\n",
      "131 - Der Untergang (2004) - Starring: Oliver Hirschbiegel (dir.), Bruno Ganz, Alexandra Maria Lara\n",
      "132 - Bacheha-Ye aseman (1997) - Starring: Majid Majidi (dir.), Mohammad Amir Naji, Amir Farrokh Hashemian\n",
      "133 - Unforgiven (1992) - Starring: Clint Eastwood (dir.), Clint Eastwood, Gene Hackman\n",
      "134 - Ran (1985) - Starring: Akira Kurosawa (dir.), Tatsuya Nakadai, Akira Terao\n",
      "135 - Some Like It Hot (1959) - Starring: Billy Wilder (dir.), Marilyn Monroe, Tony Curtis\n",
      "136 - Hauru no ugoku shiro (2004) - Starring: Hayao Miyazaki (dir.), Chieko Baishô, Takuya Kimura\n",
      "137 - All About Eve (1950) - Starring: Joseph L. Mankiewicz (dir.), Bette Davis, Anne Baxter\n",
      "138 - Casino (1995) - Starring: Martin Scorsese (dir.), Robert De Niro, Sharon Stone\n",
      "139 - A Beautiful Mind (2001) - Starring: Ron Howard (dir.), Russell Crowe, Ed Harris\n",
      "140 - The Great Escape (1963) - Starring: John Sturges (dir.), Steve McQueen, James Garner\n",
      "141 - The Wolf of Wall Street (2013) - Starring: Martin Scorsese (dir.), Leonardo DiCaprio, Jonah Hill\n",
      "142 - Pan's Labyrinth (2006) - Starring: Guillermo del Toro (dir.), Ivana Baquero, Ariadna Gil\n",
      "143 - El secreto de sus ojos (2009) - Starring: Juan José Campanella (dir.), Ricardo Darín, Soledad Villamil\n",
      "144 - There Will Be Blood (2007) - Starring: Paul Thomas Anderson (dir.), Daniel Day-Lewis, Paul Dano\n",
      "145 - Lock, Stock and Two Smoking Barrels (1998) - Starring: Guy Ritchie (dir.), Jason Flemyng, Dexter Fletcher\n",
      "146 - Judgment at Nuremberg (1961) - Starring: Stanley Kramer (dir.), Spencer Tracy, Burt Lancaster\n",
      "147 - Tonari no Totoro (1988) - Starring: Hayao Miyazaki (dir.), Hitoshi Takagi, Noriko Hidaka\n",
      "148 - Raging Bull (1980) - Starring: Martin Scorsese (dir.), Robert De Niro, Cathy Moriarty\n",
      "149 - The Treasure of the Sierra Madre (1948) - Starring: John Huston (dir.), Humphrey Bogart, Walter Huston\n",
      "150 - Dial M for Murder (1954) - Starring: Alfred Hitchcock (dir.), Ray Milland, Grace Kelly\n",
      "151 - Three Billboards Outside Ebbing, Missouri (2017) - Starring: Martin McDonagh (dir.), Frances McDormand, Woody Harrelson\n",
      "152 - Shutter Island (2010) - Starring: Martin Scorsese (dir.), Leonardo DiCaprio, Emily Mortimer\n",
      "153 - Chinatown (1974) - Starring: Roman Polanski (dir.), Jack Nicholson, Faye Dunaway\n",
      "154 - The Gold Rush (1925) - Starring: Charles Chaplin (dir.), Charles Chaplin, Mack Swain\n",
      "155 - Babam ve Oglum (2005) - Starring: Veysel Aslan (dir.), Eser Sariyar, Çetin Tekindor\n",
      "156 - No Country for Old Men (2007) - Starring: Ethan Coen (dir.), Tommy Lee Jones, Javier Bardem\n",
      "157 - V for Vendetta (2005) - Starring: James McTeigue (dir.), Hugo Weaving, Natalie Portman\n",
      "158 - Inside Out (2015) - Starring: Pete Docter (dir.), Amy Poehler, Bill Hader\n",
      "159 - The Thing (1982) - Starring: John Carpenter (dir.), Kurt Russell, Wilford Brimley\n",
      "160 - The Elephant Man (1980) - Starring: David Lynch (dir.), Anthony Hopkins, John Hurt\n",
      "161 - Det sjunde inseglet (1957) - Starring: Ingmar Bergman (dir.), Max von Sydow, Gunnar Björnstrand\n",
      "162 - Warrior (2011) - Starring: Gavin O'Connor (dir.), Tom Hardy, Nick Nolte\n",
      "163 - The Sixth Sense (1999) - Starring: M. Night Shyamalan (dir.), Bruce Willis, Haley Joel Osment\n",
      "164 - Trainspotting (1996) - Starring: Danny Boyle (dir.), Ewan McGregor, Ewen Bremner\n",
      "165 - Jurassic Park (1993) - Starring: Steven Spielberg (dir.), Sam Neill, Laura Dern\n",
      "166 - Klaus (2019) - Starring: Sergio Pablos (dir.), Jason Schwartzman, J.K. Simmons\n",
      "167 - The Truman Show (1998) - Starring: Peter Weir (dir.), Jim Carrey, Ed Harris\n",
      "168 - Gone with the Wind (1939) - Starring: Victor Fleming (dir.), Clark Gable, Vivien Leigh\n",
      "169 - Finding Nemo (2003) - Starring: Andrew Stanton (dir.), Albert Brooks, Ellen DeGeneres\n",
      "170 - Smultronstället (1957) - Starring: Ingmar Bergman (dir.), Victor Sjöström, Bibi Andersson\n",
      "171 - Stalker (1979) - Starring: Andrei Tarkovsky (dir.), Alisa Freyndlikh, Aleksandr Kaydanovskiy\n",
      "172 - Blade Runner (1982) - Starring: Ridley Scott (dir.), Harrison Ford, Rutger Hauer\n",
      "173 - Kill Bill: Vol 1 (2003) - Starring: Quentin Tarantino (dir.), Uma Thurman, David Carradine\n",
      "174 - Salinui chueok (2003) - Starring: Bong Joon Ho (dir.), Kang-ho Song, Kim Sang-kyung\n",
      "175 - Fargo (1996) - Starring: Joel Coen (dir.), William H. Macy, Frances McDormand\n",
      "176 - The Bridge on the River Kwai (1957) - Starring: David Lean (dir.), William Holden, Alec Guinness\n",
      "177 - Room (2015) - Starring: Lenny Abrahamson (dir.), Brie Larson, Jacob Tremblay\n",
      "178 - Relatos salvajes (2014) - Starring: Damián Szifron (dir.), Darío Grandinetti, María Marull\n",
      "179 - Gran Torino (2008) - Starring: Clint Eastwood (dir.), Clint Eastwood, Bee Vang\n",
      "180 - The Third Man (1949) - Starring: Carol Reed (dir.), Orson Welles, Joseph Cotten\n",
      "181 - Tôkyô monogatari (1953) - Starring: Yasujirô Ozu (dir.), Chishû Ryû, Chieko Higashiyama\n",
      "182 - On the Waterfront (1954) - Starring: Elia Kazan (dir.), Marlon Brando, Karl Malden\n",
      "183 - The Deer Hunter (1978) - Starring: Michael Cimino (dir.), Robert De Niro, Christopher Walken\n",
      "184 - In the Name of the Father (1993) - Starring: Jim Sheridan (dir.), Daniel Day-Lewis, Pete Postlethwaite\n",
      "185 - Mary and Max (2009) - Starring: Adam Elliot (dir.), Toni Collette, Philip Seymour Hoffman\n",
      "186 - The Grand Budapest Hotel (2014) - Starring: Wes Anderson (dir.), Ralph Fiennes, F. Murray Abraham\n",
      "187 - Before Sunrise (1995) - Starring: Richard Linklater (dir.), Ethan Hawke, Julie Delpy\n",
      "188 - Gone Girl (2014) - Starring: David Fincher (dir.), Ben Affleck, Rosamund Pike\n",
      "189 - Catch Me If You Can (2002) - Starring: Steven Spielberg (dir.), Leonardo DiCaprio, Tom Hanks\n",
      "190 - Hacksaw Ridge (2016) - Starring: Mel Gibson (dir.), Andrew Garfield, Sam Worthington\n",
      "191 - Prisoners (2013) - Starring: Denis Villeneuve (dir.), Hugh Jackman, Jake Gyllenhaal\n",
      "192 - Persona (1966) - Starring: Ingmar Bergman (dir.), Bibi Andersson, Liv Ullmann\n",
      "193 - Anand (1971) - Starring: Hrishikesh Mukherjee (dir.), Rajesh Khanna, Amitabh Bachchan\n",
      "194 - Andhadhun (2018) - Starring: Sriram Raghavan (dir.), Ayushmann Khurrana, Tabu\n",
      "195 - The Big Lebowski (1998) - Starring: Joel Coen (dir.), Jeff Bridges, John Goodman\n",
      "196 - Höstsonaten (1978) - Starring: Ingmar Bergman (dir.), Ingrid Bergman, Liv Ullmann\n",
      "197 - Sherlock Jr (1924) - Starring: Buster Keaton (dir.), Buster Keaton, Kathryn McGuire\n",
      "198 - To Be or Not to Be (1942) - Starring: Ernst Lubitsch (dir.), Carole Lombard, Jack Benny\n",
      "199 - The General (1926) - Starring: Clyde Bruckman (dir.), Buster Keaton, Marion Mack\n",
      "200 - How to Train Your Dragon (2010) - Starring: Dean DeBlois (dir.), Jay Baruchel, Gerard Butler\n",
      "201 - Barry Lyndon (1975) - Starring: Stanley Kubrick (dir.), Ryan O'Neal, Marisa Berenson\n",
      "202 - Ford v Ferrari (2019) - Starring: James Mangold (dir.), Matt Damon, Christian Bale\n",
      "203 - 12 Years a Slave (2013) - Starring: Steve McQueen (dir.), Chiwetel Ejiofor, Michael Kenneth Williams\n",
      "204 - Eskiya (1996) - Starring: Yavuz Turgul (dir.), Sener Sen, Ugur Yücel\n",
      "205 - Mr Smith Goes to Washington (1939) - Starring: Frank Capra (dir.), James Stewart, Jean Arthur\n",
      "206 - Mad Max: Fury Road (2015) - Starring: George Miller (dir.), Tom Hardy, Charlize Theron\n",
      "207 - Million Dollar Baby (2004) - Starring: Clint Eastwood (dir.), Hilary Swank, Clint Eastwood\n",
      "208 - Dead Poets Society (1989) - Starring: Peter Weir (dir.), Robin Williams, Robert Sean Leonard\n",
      "209 - Soul (2020) - Starring: Pete Docter (dir.), Jamie Foxx, Tina Fey\n",
      "210 - Network (1976) - Starring: Sidney Lumet (dir.), Faye Dunaway, William Holden\n",
      "211 - Stand by Me (1986) - Starring: Rob Reiner (dir.), Wil Wheaton, River Phoenix\n",
      "212 - Harry Potter and the Deathly Hallows: Part 2 (2011) - Starring: David Yates (dir.), Daniel Radcliffe, Emma Watson\n",
      "213 - Ben-Hur (1959) - Starring: William Wyler (dir.), Charlton Heston, Jack Hawkins\n",
      "214 - Hachi: A Dog's Tale (2009) - Starring: Lasse Hallström (dir.), Richard Gere, Joan Allen\n",
      "215 - Cool Hand Luke (1967) - Starring: Stuart Rosenberg (dir.), Paul Newman, George Kennedy\n",
      "216 - Ah-ga-ssi (2016) - Starring: Chan-wook Park (dir.), Kim Min-hee, Jung-woo Ha\n",
      "217 - Platoon (1986) - Starring: Oliver Stone (dir.), Charlie Sheen, Tom Berenger\n",
      "218 - Logan (2017) - Starring: James Mangold (dir.), Hugh Jackman, Patrick Stewart\n",
      "219 - Into the Wild (2007) - Starring: Sean Penn (dir.), Emile Hirsch, Vince Vaughn\n",
      "220 - Rush (2013) - Starring: Ron Howard (dir.), Daniel Brühl, Chris Hemsworth\n",
      "221 - Le salaire de la peur (1953) - Starring: Henri-Georges Clouzot (dir.), Yves Montand, Charles Vanel\n",
      "222 - Life of Brian (1979) - Starring: Terry Jones (dir.), Graham Chapman, John Cleese\n",
      "223 - La haine (1995) - Starring: Mathieu Kassovitz (dir.), Vincent Cassel, Hubert Koundé\n",
      "224 - Les quatre cents coups (1959) - Starring: François Truffaut (dir.), Jean-Pierre Léaud, Albert Rémy\n",
      "225 - Spotlight (2015) - Starring: Tom McCarthy (dir.), Mark Ruffalo, Michael Keaton\n",
      "226 - La passion de Jeanne d'Arc (1928) - Starring: Carl Theodor Dreyer (dir.), Maria Falconetti, Eugene Silvain\n",
      "227 - Hotel Rwanda (2004) - Starring: Terry George (dir.), Don Cheadle, Sophie Okonedo\n",
      "228 - Amores perros (2000) - Starring: Alejandro G. Iñárritu (dir.), Emilio Echevarría, Gael García Bernal\n",
      "229 - Gangs of Wasseypur (2012) - Starring: Anurag Kashyap (dir.), Manoj Bajpayee, Richa Chadha\n",
      "230 - Rocky (1976) - Starring: John G. Avildsen (dir.), Sylvester Stallone, Talia Shire\n",
      "231 - Monsters, Inc (2001) - Starring: Pete Docter (dir.), Billy Crystal, John Goodman\n",
      "232 - Andrei Rublev (1966) - Starring: Andrei Tarkovsky (dir.), Anatoliy Solonitsyn, Ivan Lapikov\n",
      "233 - Dom za vesanje (1988) - Starring: Emir Kusturica (dir.), Davor Dujmovic, Bora Todorovic\n",
      "234 - Kaze no tani no Naushika (1984) - Starring: Hayao Miyazaki (dir.), Sumi Shimamoto, Mahito Tsujimura\n",
      "235 - Rebecca (1940) - Starring: Alfred Hitchcock (dir.), Laurence Olivier, Joan Fontaine\n",
      "236 - Before Sunset (2004) - Starring: Richard Linklater (dir.), Ethan Hawke, Julie Delpy\n",
      "237 - Du rififi chez les hommes (1955) - Starring: Jules Dassin (dir.), Jean Servais, Carl Möhner\n",
      "238 - Rang De Basanti (2006) - Starring: Rakeysh Omprakash Mehra (dir.), Aamir Khan, Soha Ali Khan\n",
      "239 - Fa yeung nin wah (2000) - Starring: Kar-Wai Wong (dir.), Tony Chiu-Wai Leung, Maggie Cheung\n",
      "240 - Paris, Texas (1984) - Starring: Wim Wenders (dir.), Harry Dean Stanton, Nastassja Kinski\n",
      "241 - Portrait de la jeune fille en feu (2019) - Starring: Céline Sciamma (dir.), Noémie Merlant, Adèle Haenel\n",
      "242 - It Happened One Night (1934) - Starring: Frank Capra (dir.), Clark Gable, Claudette Colbert\n",
      "243 - Contratiempo (2016) - Starring: Oriol Paulo (dir.), Mario Casas, Ana Wagener\n",
      "244 - Koe no katachi (2016) - Starring: Naoko Yamada (dir.), Miyu Irino, Saori Hayami\n",
      "245 - The Help (2011) - Starring: Tate Taylor (dir.), Emma Stone, Viola Davis\n",
      "246 - La battaglia di Algeri (1966) - Starring: Gillo Pontecorvo (dir.), Brahim Hadjadj, Jean Martin\n",
      "247 - Drishyam (2015) - Starring: Nishikant Kamat (dir.), Ajay Devgn, Shriya Saran\n",
      "248 - Mandariinid (2013) - Starring: Zaza Urushadze (dir.), Lembit Ulfsak, Elmo Nüganen\n",
      "249 - Miracle in cell NO7 (2019) - Starring: Mehmet Ada Öztekin (dir.), Aras Bulut Iynemli, Nisa Sofiya Aksongur\n",
      "250 - The Princess Bride (1987) - Starring: Rob Reiner (dir.), Cary Elwes, Mandy Patinkin\n"
     ]
    }
   ],
   "source": [
    "for item in imdb:\n",
    "    print(item['place'], '-', item['movie_title'], '('+item['year']+') -', 'Starring:', item['star_cast'])"
   ]
  },
  {
   "cell_type": "code",
   "execution_count": 74,
   "metadata": {},
   "outputs": [],
   "source": [
    "import selenium\n",
    "import pandas as pd\n",
    "from selenium import webdriver"
   ]
  },
  {
   "cell_type": "code",
   "execution_count": 75,
   "metadata": {},
   "outputs": [],
   "source": [
    "driver=webdriver.Chrome(r'C:\\Users\\DELL\\Downloads\\chromedriver.exe')"
   ]
  },
  {
   "cell_type": "code",
   "execution_count": 76,
   "metadata": {},
   "outputs": [],
   "source": [
    "url='https://archive.ics.uci.edu/ml/index.php'"
   ]
  },
  {
   "cell_type": "code",
   "execution_count": 77,
   "metadata": {},
   "outputs": [],
   "source": [
    "driver.get(url)"
   ]
  },
  {
   "cell_type": "code",
   "execution_count": 78,
   "metadata": {},
   "outputs": [],
   "source": [
    "Dataset_title=[]"
   ]
  },
  {
   "cell_type": "code",
   "execution_count": 79,
   "metadata": {},
   "outputs": [],
   "source": [
    "title_tag=driver.find_elements_by_xpath('//span[@class=\"normal\"]')"
   ]
  },
  {
   "cell_type": "code",
   "execution_count": 80,
   "metadata": {},
   "outputs": [
    {
     "data": {
      "text/plain": [
       "[<selenium.webdriver.remote.webelement.WebElement (session=\"b2f672e0f8d7f171da241176b634df51\", element=\"e1053f03-67bb-4c10-a2f8-06649fa8c72e\")>,\n",
       " <selenium.webdriver.remote.webelement.WebElement (session=\"b2f672e0f8d7f171da241176b634df51\", element=\"494f63d4-a863-4468-aa5e-bb722c0680d1\")>,\n",
       " <selenium.webdriver.remote.webelement.WebElement (session=\"b2f672e0f8d7f171da241176b634df51\", element=\"6d126389-b3bf-4c2b-a0e6-f9b336681c2f\")>,\n",
       " <selenium.webdriver.remote.webelement.WebElement (session=\"b2f672e0f8d7f171da241176b634df51\", element=\"31637e66-beb9-4f8b-be9e-c07346564d73\")>,\n",
       " <selenium.webdriver.remote.webelement.WebElement (session=\"b2f672e0f8d7f171da241176b634df51\", element=\"b899387f-7b20-4ae9-b03b-d85dcddd551d\")>,\n",
       " <selenium.webdriver.remote.webelement.WebElement (session=\"b2f672e0f8d7f171da241176b634df51\", element=\"272f2e61-ffef-422b-a5af-8678603a6aad\")>,\n",
       " <selenium.webdriver.remote.webelement.WebElement (session=\"b2f672e0f8d7f171da241176b634df51\", element=\"4a173de6-ec39-4b70-8256-ba1d88b2e286\")>,\n",
       " <selenium.webdriver.remote.webelement.WebElement (session=\"b2f672e0f8d7f171da241176b634df51\", element=\"57129e1a-49eb-49ba-839b-b40f18d112bb\")>,\n",
       " <selenium.webdriver.remote.webelement.WebElement (session=\"b2f672e0f8d7f171da241176b634df51\", element=\"063c1193-ae1c-400b-87e7-85813de4a2a0\")>,\n",
       " <selenium.webdriver.remote.webelement.WebElement (session=\"b2f672e0f8d7f171da241176b634df51\", element=\"9727fc04-8e9c-4d89-bdff-0ad4094bcbb0\")>,\n",
       " <selenium.webdriver.remote.webelement.WebElement (session=\"b2f672e0f8d7f171da241176b634df51\", element=\"cecfc747-6baf-4f80-a7be-a0b80b5fb7b8\")>,\n",
       " <selenium.webdriver.remote.webelement.WebElement (session=\"b2f672e0f8d7f171da241176b634df51\", element=\"005485ce-804d-42a5-a2bc-65dc339a1951\")>,\n",
       " <selenium.webdriver.remote.webelement.WebElement (session=\"b2f672e0f8d7f171da241176b634df51\", element=\"83356f2f-6649-4d0b-818b-b91dc85ad46f\")>,\n",
       " <selenium.webdriver.remote.webelement.WebElement (session=\"b2f672e0f8d7f171da241176b634df51\", element=\"f7fb244e-dd0f-4e4a-be0d-db7679073426\")>,\n",
       " <selenium.webdriver.remote.webelement.WebElement (session=\"b2f672e0f8d7f171da241176b634df51\", element=\"34a5867c-5832-45e2-9ea6-866f9796d0b1\")>,\n",
       " <selenium.webdriver.remote.webelement.WebElement (session=\"b2f672e0f8d7f171da241176b634df51\", element=\"364d8e5f-72ed-48f0-923a-473a4b06c149\")>,\n",
       " <selenium.webdriver.remote.webelement.WebElement (session=\"b2f672e0f8d7f171da241176b634df51\", element=\"d58ca91f-05d8-4f62-9384-12985d87484e\")>,\n",
       " <selenium.webdriver.remote.webelement.WebElement (session=\"b2f672e0f8d7f171da241176b634df51\", element=\"b5fd6842-5fd3-4d76-b56c-c6ff0b9925be\")>,\n",
       " <selenium.webdriver.remote.webelement.WebElement (session=\"b2f672e0f8d7f171da241176b634df51\", element=\"ffd6fc15-9cf8-4295-bb8b-9c0a8ca3e067\")>,\n",
       " <selenium.webdriver.remote.webelement.WebElement (session=\"b2f672e0f8d7f171da241176b634df51\", element=\"47003808-74c3-415c-8f21-9a82cadf4b74\")>,\n",
       " <selenium.webdriver.remote.webelement.WebElement (session=\"b2f672e0f8d7f171da241176b634df51\", element=\"76bfd17e-178a-4766-a0cf-331de9911180\")>,\n",
       " <selenium.webdriver.remote.webelement.WebElement (session=\"b2f672e0f8d7f171da241176b634df51\", element=\"39dde8fc-51ee-4c85-8383-2a5f69bfb9f7\")>,\n",
       " <selenium.webdriver.remote.webelement.WebElement (session=\"b2f672e0f8d7f171da241176b634df51\", element=\"0d76d78f-228b-4aa6-a517-85540a5be0fe\")>,\n",
       " <selenium.webdriver.remote.webelement.WebElement (session=\"b2f672e0f8d7f171da241176b634df51\", element=\"2796f33f-a684-4f64-a6cf-ad2d4c37c18a\")>,\n",
       " <selenium.webdriver.remote.webelement.WebElement (session=\"b2f672e0f8d7f171da241176b634df51\", element=\"b4b6ff81-326b-4968-8a42-091042a22589\")>,\n",
       " <selenium.webdriver.remote.webelement.WebElement (session=\"b2f672e0f8d7f171da241176b634df51\", element=\"269b8345-f486-4917-9cce-83d4de7ee5da\")>,\n",
       " <selenium.webdriver.remote.webelement.WebElement (session=\"b2f672e0f8d7f171da241176b634df51\", element=\"d7bc8380-e062-407a-9468-8ec715a61f2d\")>,\n",
       " <selenium.webdriver.remote.webelement.WebElement (session=\"b2f672e0f8d7f171da241176b634df51\", element=\"029b7ba9-0a8d-43de-ba87-e77a34294f1a\")>,\n",
       " <selenium.webdriver.remote.webelement.WebElement (session=\"b2f672e0f8d7f171da241176b634df51\", element=\"40ea6660-1602-4797-9b33-2b7d5b146bc4\")>,\n",
       " <selenium.webdriver.remote.webelement.WebElement (session=\"b2f672e0f8d7f171da241176b634df51\", element=\"470d531e-eb28-4d12-ac33-0cdaf075fec9\")>,\n",
       " <selenium.webdriver.remote.webelement.WebElement (session=\"b2f672e0f8d7f171da241176b634df51\", element=\"952d544b-f1ed-453f-b577-c61b9c19359a\")>,\n",
       " <selenium.webdriver.remote.webelement.WebElement (session=\"b2f672e0f8d7f171da241176b634df51\", element=\"e73795b5-83c0-4e97-9906-821b79712fac\")>,\n",
       " <selenium.webdriver.remote.webelement.WebElement (session=\"b2f672e0f8d7f171da241176b634df51\", element=\"821d4120-350a-4c3f-b3b9-2e222db2092f\")>,\n",
       " <selenium.webdriver.remote.webelement.WebElement (session=\"b2f672e0f8d7f171da241176b634df51\", element=\"156c2673-3546-4469-ae47-71a43c2b104d\")>,\n",
       " <selenium.webdriver.remote.webelement.WebElement (session=\"b2f672e0f8d7f171da241176b634df51\", element=\"ac78e063-681a-40c1-ba55-e113e69cc975\")>,\n",
       " <selenium.webdriver.remote.webelement.WebElement (session=\"b2f672e0f8d7f171da241176b634df51\", element=\"a4ab47ec-130a-408a-b251-8af77c9267bc\")>,\n",
       " <selenium.webdriver.remote.webelement.WebElement (session=\"b2f672e0f8d7f171da241176b634df51\", element=\"97087a4c-8b56-48da-8d79-27358e30b892\")>,\n",
       " <selenium.webdriver.remote.webelement.WebElement (session=\"b2f672e0f8d7f171da241176b634df51\", element=\"84672464-eec7-4deb-a937-e7609721b514\")>,\n",
       " <selenium.webdriver.remote.webelement.WebElement (session=\"b2f672e0f8d7f171da241176b634df51\", element=\"591118f0-a653-44c5-8af8-a12c0241e4d7\")>,\n",
       " <selenium.webdriver.remote.webelement.WebElement (session=\"b2f672e0f8d7f171da241176b634df51\", element=\"e4050705-a359-4c3b-995f-e69ddfb6fb91\")>,\n",
       " <selenium.webdriver.remote.webelement.WebElement (session=\"b2f672e0f8d7f171da241176b634df51\", element=\"39208389-55a7-4c9c-93e9-36b54e62997a\")>,\n",
       " <selenium.webdriver.remote.webelement.WebElement (session=\"b2f672e0f8d7f171da241176b634df51\", element=\"52bc51eb-8b6f-4103-9c76-11a23a06937e\")>,\n",
       " <selenium.webdriver.remote.webelement.WebElement (session=\"b2f672e0f8d7f171da241176b634df51\", element=\"b930193b-3154-4e27-ae57-2f3472f20a7d\")>,\n",
       " <selenium.webdriver.remote.webelement.WebElement (session=\"b2f672e0f8d7f171da241176b634df51\", element=\"d761b1bd-2450-43b9-b2bf-3c8f1a013c46\")>,\n",
       " <selenium.webdriver.remote.webelement.WebElement (session=\"b2f672e0f8d7f171da241176b634df51\", element=\"0c3d4bd0-90ef-40a9-8a26-45dcf52f4580\")>,\n",
       " <selenium.webdriver.remote.webelement.WebElement (session=\"b2f672e0f8d7f171da241176b634df51\", element=\"b5d3512c-eff7-4bcf-ab7a-e3169f19cb17\")>,\n",
       " <selenium.webdriver.remote.webelement.WebElement (session=\"b2f672e0f8d7f171da241176b634df51\", element=\"a1140e46-434a-4ede-80f2-e59dbfa09ccb\")>,\n",
       " <selenium.webdriver.remote.webelement.WebElement (session=\"b2f672e0f8d7f171da241176b634df51\", element=\"91fad356-c56e-4e2e-a03c-4ac9684b17e8\")>,\n",
       " <selenium.webdriver.remote.webelement.WebElement (session=\"b2f672e0f8d7f171da241176b634df51\", element=\"bd790470-0ac8-4a3d-97f6-cefc42f1a897\")>,\n",
       " <selenium.webdriver.remote.webelement.WebElement (session=\"b2f672e0f8d7f171da241176b634df51\", element=\"471e4d50-94c3-43f5-8ca2-16c36755bf41\")>,\n",
       " <selenium.webdriver.remote.webelement.WebElement (session=\"b2f672e0f8d7f171da241176b634df51\", element=\"ce2963c0-0a8d-4e94-9b58-a748c6147f87\")>,\n",
       " <selenium.webdriver.remote.webelement.WebElement (session=\"b2f672e0f8d7f171da241176b634df51\", element=\"cc3d3e38-badf-4df6-a2cb-8a9e943fef90\")>,\n",
       " <selenium.webdriver.remote.webelement.WebElement (session=\"b2f672e0f8d7f171da241176b634df51\", element=\"2f8af766-457f-41a7-89ff-d5d1c9a44e8b\")>,\n",
       " <selenium.webdriver.remote.webelement.WebElement (session=\"b2f672e0f8d7f171da241176b634df51\", element=\"893cdaab-5793-4789-9856-bcc99f9ee703\")>,\n",
       " <selenium.webdriver.remote.webelement.WebElement (session=\"b2f672e0f8d7f171da241176b634df51\", element=\"b07a376b-150e-4232-8005-daabd84f7f51\")>,\n",
       " <selenium.webdriver.remote.webelement.WebElement (session=\"b2f672e0f8d7f171da241176b634df51\", element=\"cc58042e-992c-4034-9292-cf0fce50f645\")>,\n",
       " <selenium.webdriver.remote.webelement.WebElement (session=\"b2f672e0f8d7f171da241176b634df51\", element=\"40a13651-eea3-4b8a-b636-2d2b48dd8642\")>,\n",
       " <selenium.webdriver.remote.webelement.WebElement (session=\"b2f672e0f8d7f171da241176b634df51\", element=\"6ab2cf2c-6322-4d27-90e1-459d23742da3\")>,\n",
       " <selenium.webdriver.remote.webelement.WebElement (session=\"b2f672e0f8d7f171da241176b634df51\", element=\"06690554-d63c-4210-87d7-941984c6b530\")>,\n",
       " <selenium.webdriver.remote.webelement.WebElement (session=\"b2f672e0f8d7f171da241176b634df51\", element=\"1e3a269c-eefb-473b-b30f-a0ab32c33aa5\")>,\n",
       " <selenium.webdriver.remote.webelement.WebElement (session=\"b2f672e0f8d7f171da241176b634df51\", element=\"33cbdac3-1c2d-4bd3-bd04-c47500961bd5\")>,\n",
       " <selenium.webdriver.remote.webelement.WebElement (session=\"b2f672e0f8d7f171da241176b634df51\", element=\"05908373-fddc-4250-a8b4-afd075c65407\")>,\n",
       " <selenium.webdriver.remote.webelement.WebElement (session=\"b2f672e0f8d7f171da241176b634df51\", element=\"d9c2b594-1da6-419d-8d17-b55ebe59f999\")>,\n",
       " <selenium.webdriver.remote.webelement.WebElement (session=\"b2f672e0f8d7f171da241176b634df51\", element=\"5e025c51-6b61-40d3-afc6-a47206002ffa\")>,\n",
       " <selenium.webdriver.remote.webelement.WebElement (session=\"b2f672e0f8d7f171da241176b634df51\", element=\"5a92fb96-1472-4b51-bd59-1ebf35dbd0ba\")>,\n",
       " <selenium.webdriver.remote.webelement.WebElement (session=\"b2f672e0f8d7f171da241176b634df51\", element=\"c47cf1b6-d000-4521-ac99-fcc48a7a21be\")>,\n",
       " <selenium.webdriver.remote.webelement.WebElement (session=\"b2f672e0f8d7f171da241176b634df51\", element=\"1fdfc156-aa4f-493a-8864-4be792877520\")>,\n",
       " <selenium.webdriver.remote.webelement.WebElement (session=\"b2f672e0f8d7f171da241176b634df51\", element=\"37243279-1f40-4adb-8bf2-5c944e4b9e94\")>,\n",
       " <selenium.webdriver.remote.webelement.WebElement (session=\"b2f672e0f8d7f171da241176b634df51\", element=\"ee54d73a-fb53-4efd-8df9-2b1f75ea2918\")>,\n",
       " <selenium.webdriver.remote.webelement.WebElement (session=\"b2f672e0f8d7f171da241176b634df51\", element=\"2cb0cb86-44bf-47c7-b314-7a43084703ca\")>]"
      ]
     },
     "execution_count": 80,
     "metadata": {},
     "output_type": "execute_result"
    }
   ],
   "source": [
    "title_tag"
   ]
  },
  {
   "cell_type": "code",
   "execution_count": 81,
   "metadata": {},
   "outputs": [
    {
     "data": {
      "text/plain": [
       "['         Center for Machine Learning and Intelligent Systems',\n",
       " 'We currently maintain 559 data sets as a service to the machine learning community. You may view all data sets through our searchable interface. For a general overview of the Repository, please visit our About page. For information about citing data sets in publications, please read our citation policy. If you wish to donate a data set, please consult our donation policy. For any other questions, feel free to contact the Repository librarians.',\n",
       " 'Latest News:',\n",
       " '09-24-2018:',\n",
       " 'Welcome to the new Repository admins Dheeru Dua and Efi Karra Taniskidou!',\n",
       " '04-04-2013:',\n",
       " 'Welcome to the new Repository admins Kevin Bache and Moshe Lichman!',\n",
       " '03-01-2010:',\n",
       " 'Note from donor regarding Netflix data',\n",
       " '10-16-2009:',\n",
       " 'Two new data sets have been added.',\n",
       " '09-14-2009:',\n",
       " 'Several data sets have been added.',\n",
       " '03-24-2008:',\n",
       " 'New data sets have been added!',\n",
       " '06-25-2007:',\n",
       " 'Two new data sets have been added: UJI Pen Characters, MAGIC Gamma Telescope',\n",
       " 'Featured Data Set:  Yeast\\n\\nTask: Classification\\nData Type: Multivariate\\n# Attributes: 8\\n# Instances: 1484',\n",
       " 'Predicting the Cellular Localization Sites of Proteins',\n",
       " 'Newest Data Sets:',\n",
       " '10-03-2020:',\n",
       " 'Codon usage',\n",
       " '09-03-2020:',\n",
       " 'Intelligent Media Accelerometer and Gyroscope (IM-AccGyro) Dataset',\n",
       " '07-22-2020:',\n",
       " 'Facebook Large Page-Page Network',\n",
       " '07-17-2020:',\n",
       " 'Amphibians',\n",
       " '07-12-2020:',\n",
       " 'Early stage diabetes risk prediction dataset.',\n",
       " '06-28-2020:',\n",
       " 'Taiwanese Bankruptcy Prediction',\n",
       " '06-20-2020:',\n",
       " 'South German Credit (UPDATE)',\n",
       " '06-17-2020:',\n",
       " 'BitcoinHeistRansomwareAddressDataset',\n",
       " '06-16-2020:',\n",
       " 'Crop mapping using fused optical-radar data set',\n",
       " '06-16-2020:',\n",
       " 'Swarm Behaviour',\n",
       " '06-15-2020:',\n",
       " 'selfBACK',\n",
       " '06-10-2020:',\n",
       " 'HCV data',\n",
       " 'Most Popular Data Sets (hits since 2007):',\n",
       " '3822453:',\n",
       " 'Iris',\n",
       " '2069554:',\n",
       " 'Adult',\n",
       " '1600006:',\n",
       " 'Wine',\n",
       " '1441402:',\n",
       " 'Heart Disease',\n",
       " '1434347:',\n",
       " 'Breast Cancer Wisconsin (Diagnostic)',\n",
       " '1433084:',\n",
       " 'Wine Quality',\n",
       " '1396214:',\n",
       " 'Bank Marketing',\n",
       " '1325384:',\n",
       " 'Car Evaluation',\n",
       " '1088150:',\n",
       " 'Human Activity Recognition Using Smartphones',\n",
       " '1052564:',\n",
       " 'Abalone',\n",
       " '975690:',\n",
       " 'Forest Fires',\n",
       " '874734:',\n",
       " 'Student Performance',\n",
       " 'About  ||  Citation Policy  ||  Donation Policy  ||  Contact  ||  CML']"
      ]
     },
     "execution_count": 81,
     "metadata": {},
     "output_type": "execute_result"
    }
   ],
   "source": [
    "for i in title_tag:\n",
    "    title=i.text\n",
    "    Dataset_title.append(title)\n",
    "Dataset_title    "
   ]
  },
  {
   "cell_type": "code",
   "execution_count": 82,
   "metadata": {},
   "outputs": [],
   "source": [
    "import pandas as pd\n",
    "UCI=pd.DataFrame({})\n",
    "UCI['DatasetName','data','task','attribute','NoOfInstances','NoOfAttribute','Year']=Dataset_title"
   ]
  },
  {
   "cell_type": "code",
   "execution_count": 83,
   "metadata": {},
   "outputs": [
    {
     "data": {
      "text/html": [
       "<div>\n",
       "<style scoped>\n",
       "    .dataframe tbody tr th:only-of-type {\n",
       "        vertical-align: middle;\n",
       "    }\n",
       "\n",
       "    .dataframe tbody tr th {\n",
       "        vertical-align: top;\n",
       "    }\n",
       "\n",
       "    .dataframe thead th {\n",
       "        text-align: right;\n",
       "    }\n",
       "</style>\n",
       "<table border=\"1\" class=\"dataframe\">\n",
       "  <thead>\n",
       "    <tr style=\"text-align: right;\">\n",
       "      <th></th>\n",
       "      <th>(DatasetName, data, task, attribute, NoOfInstances, NoOfAttribute, Year)</th>\n",
       "    </tr>\n",
       "  </thead>\n",
       "  <tbody>\n",
       "    <tr>\n",
       "      <th>0</th>\n",
       "      <td>Center for Machine Learning and Intel...</td>\n",
       "    </tr>\n",
       "    <tr>\n",
       "      <th>1</th>\n",
       "      <td>We currently maintain 559 data sets as a servi...</td>\n",
       "    </tr>\n",
       "    <tr>\n",
       "      <th>2</th>\n",
       "      <td>Latest News:</td>\n",
       "    </tr>\n",
       "    <tr>\n",
       "      <th>3</th>\n",
       "      <td>09-24-2018:</td>\n",
       "    </tr>\n",
       "    <tr>\n",
       "      <th>4</th>\n",
       "      <td>Welcome to the new Repository admins Dheeru Du...</td>\n",
       "    </tr>\n",
       "    <tr>\n",
       "      <th>...</th>\n",
       "      <td>...</td>\n",
       "    </tr>\n",
       "    <tr>\n",
       "      <th>65</th>\n",
       "      <td>975690:</td>\n",
       "    </tr>\n",
       "    <tr>\n",
       "      <th>66</th>\n",
       "      <td>Forest Fires</td>\n",
       "    </tr>\n",
       "    <tr>\n",
       "      <th>67</th>\n",
       "      <td>874734:</td>\n",
       "    </tr>\n",
       "    <tr>\n",
       "      <th>68</th>\n",
       "      <td>Student Performance</td>\n",
       "    </tr>\n",
       "    <tr>\n",
       "      <th>69</th>\n",
       "      <td>About  ||  Citation Policy  ||  Donation Polic...</td>\n",
       "    </tr>\n",
       "  </tbody>\n",
       "</table>\n",
       "<p>70 rows × 1 columns</p>\n",
       "</div>"
      ],
      "text/plain": [
       "   (DatasetName, data, task, attribute, NoOfInstances, NoOfAttribute, Year)\n",
       "0            Center for Machine Learning and Intel...                      \n",
       "1   We currently maintain 559 data sets as a servi...                      \n",
       "2                                        Latest News:                      \n",
       "3                                         09-24-2018:                      \n",
       "4   Welcome to the new Repository admins Dheeru Du...                      \n",
       "..                                                ...                      \n",
       "65                                            975690:                      \n",
       "66                                       Forest Fires                      \n",
       "67                                            874734:                      \n",
       "68                                Student Performance                      \n",
       "69  About  ||  Citation Policy  ||  Donation Polic...                      \n",
       "\n",
       "[70 rows x 1 columns]"
      ]
     },
     "execution_count": 83,
     "metadata": {},
     "output_type": "execute_result"
    }
   ],
   "source": [
    "UCI"
   ]
  },
  {
   "cell_type": "code",
   "execution_count": null,
   "metadata": {},
   "outputs": [],
   "source": []
  }
 ],
 "metadata": {
  "kernelspec": {
   "display_name": "Python 3",
   "language": "python",
   "name": "python3"
  },
  "language_info": {
   "codemirror_mode": {
    "name": "ipython",
    "version": 3
   },
   "file_extension": ".py",
   "mimetype": "text/x-python",
   "name": "python",
   "nbconvert_exporter": "python",
   "pygments_lexer": "ipython3",
   "version": "3.8.3"
  }
 },
 "nbformat": 4,
 "nbformat_minor": 4
}
