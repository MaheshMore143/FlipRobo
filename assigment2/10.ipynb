{
 "cells": [
  {
   "cell_type": "code",
   "execution_count": 1,
   "metadata": {},
   "outputs": [],
   "source": [
    "import selenium\n",
    "import pandas as pd\n",
    "from selenium import webdriver"
   ]
  },
  {
   "cell_type": "code",
   "execution_count": 2,
   "metadata": {},
   "outputs": [],
   "source": [
    "driver=webdriver.Chrome(r'C:\\Users\\DELL\\Downloads\\chromedriver.exe')"
   ]
  },
  {
   "cell_type": "code",
   "execution_count": 3,
   "metadata": {},
   "outputs": [],
   "source": [
    "url='https://www.amazon.in/s?k=Laptop&i=computers&rh=n%3A1375424031%2Cp_n_feature_thirteen_browse-bin%3A12598163031%7C16757432031&dc&qid=1611838401&rnid=12598141031&ref=sr_nr_p_n_feature_thirteen_browse-bin_17'"
   ]
  },
  {
   "cell_type": "code",
   "execution_count": 4,
   "metadata": {},
   "outputs": [],
   "source": [
    "driver.get(url)"
   ]
  },
  {
   "cell_type": "code",
   "execution_count": 5,
   "metadata": {},
   "outputs": [],
   "source": [
    "product_title=[]\n",
    "product_rating=[]\n",
    "product_price=[]"
   ]
  },
  {
   "cell_type": "code",
   "execution_count": 6,
   "metadata": {},
   "outputs": [],
   "source": [
    "title_tag=driver.find_elements_by_xpath(\"//h2[@class='a-size-mini a-spacing-none a-color-base s-line-clamp-2']\")"
   ]
  },
  {
   "cell_type": "code",
   "execution_count": 7,
   "metadata": {},
   "outputs": [
    {
     "data": {
      "text/plain": [
       "[<selenium.webdriver.remote.webelement.WebElement (session=\"e622b97e612b007ce93d6209f3e94d2e\", element=\"a9fe6a56-58b4-4db7-9046-4bd55aa699e8\")>,\n",
       " <selenium.webdriver.remote.webelement.WebElement (session=\"e622b97e612b007ce93d6209f3e94d2e\", element=\"044afa60-26e3-4661-be6d-a0a9a2aa4b66\")>,\n",
       " <selenium.webdriver.remote.webelement.WebElement (session=\"e622b97e612b007ce93d6209f3e94d2e\", element=\"3a7a305d-89fa-4334-9535-7c41f8020c51\")>,\n",
       " <selenium.webdriver.remote.webelement.WebElement (session=\"e622b97e612b007ce93d6209f3e94d2e\", element=\"f28dcafb-28d2-4404-92f6-556c223c93eb\")>,\n",
       " <selenium.webdriver.remote.webelement.WebElement (session=\"e622b97e612b007ce93d6209f3e94d2e\", element=\"c97e1e2f-1bf4-462d-a72b-a7d437465532\")>,\n",
       " <selenium.webdriver.remote.webelement.WebElement (session=\"e622b97e612b007ce93d6209f3e94d2e\", element=\"3e026e8b-3200-48af-9254-cd2f6b2116f4\")>,\n",
       " <selenium.webdriver.remote.webelement.WebElement (session=\"e622b97e612b007ce93d6209f3e94d2e\", element=\"17cd6bed-82f6-4ed7-9360-d66b1cfc63df\")>,\n",
       " <selenium.webdriver.remote.webelement.WebElement (session=\"e622b97e612b007ce93d6209f3e94d2e\", element=\"2f9fe64c-fc05-4f42-aba9-9b7fb49efcb4\")>,\n",
       " <selenium.webdriver.remote.webelement.WebElement (session=\"e622b97e612b007ce93d6209f3e94d2e\", element=\"c30df1c1-b5cf-485a-86a0-a3ff991ffdef\")>,\n",
       " <selenium.webdriver.remote.webelement.WebElement (session=\"e622b97e612b007ce93d6209f3e94d2e\", element=\"114e617a-7597-4241-be4d-77407c504211\")>]"
      ]
     },
     "execution_count": 7,
     "metadata": {},
     "output_type": "execute_result"
    }
   ],
   "source": [
    "title_tag[0:10]"
   ]
  },
  {
   "cell_type": "code",
   "execution_count": 8,
   "metadata": {},
   "outputs": [
    {
     "data": {
      "text/plain": [
       "['Dell Inspiron 5501 15.6 Inch FHD Laptop (10th Gen i7-1065G7/8 GB/512 SSD/2 GB Nvidia Graphics/Win 10 + MS Office H&S 2019/Silver) D560213WIN9S',\n",
       " 'Dell XPS 9570 15.6-inch FHD Laptop (8th Gen Core i7-8750H/16GB/512 GB SSD/Windows 10 + MS Office/ Nvidia GTX 1050Ti 4GB Graphics/Silver)',\n",
       " 'Mi Notebook Horizon Edition 14 Intel Core i5-10210U 10th Gen Thin and Light Laptop(8GB/512GB SSD/Windows 10/Nvidia MX350 2GB Graphics/Grey/1.35Kg), XMA1904-AR+Webcam',\n",
       " '(Renewed) Dell Latitude E7470 14-inch Laptop (Core i7 6th Gen/16GB/1 TB HDD/Windows 10/MS Office Pro 2019/Intel Graphics), Black',\n",
       " '(Renewed) Dell Latitude E7470 14-inch Laptop (Core i7 6th Gen/8GB(Up to 16)/1 TB HDD/Windows 10/MS Office Pro 2019/Intel Graphics), Black',\n",
       " '(Renewed) Dell Latitude E7470 14-inch Laptop (Core i7 6th Gen/8GB(Up to 16)/500 GB HDD/Windows 10/MS Office Pro 2019/Intel Graphics), Black',\n",
       " '(Renewed) Dell Latitude E7470 14-inch Laptop (Core i7 6th Gen/16GB/500 GB HDD/Windows 10/MS Office Pro 2019/Intel Graphics), Black',\n",
       " 'MSI Gaming GL65 Leopard , Intel 9th Gen. i7-9750H, 15.6\" FHD Gaming Laptop (8GB/512GB NVMe SSD/Windows 10 Home/Nvidia GTX 1650/ Black/2.3Kg) 9SCXK-076IN',\n",
       " 'Lenovo Yoga S740 Intel Core i7 10th Gen 14 inch UHD Ultra Thin and Light Laptop (16GB/1TB SSD/Windows/Office/NVIDIA MX250 2GB/Iron Grey/1.4Kg), 81RS00B0IN',\n",
       " '(Renewed) MSI Prestige PE62 Core i7 7th Gen 15.6\" FHD Laptop Nvidia GeForce GTX 1050 Ti 4GB GDDR5 (8GB/1TB + 125 GB NVMe SSD/DOS OS/Silver/2.2Kg) 7RE-2024XIN']"
      ]
     },
     "execution_count": 8,
     "metadata": {},
     "output_type": "execute_result"
    }
   ],
   "source": [
    "for i in title_tag:\n",
    "    title=i.text\n",
    "    product_title.append(title)\n",
    "product_title[0:10]    "
   ]
  },
  {
   "cell_type": "code",
   "execution_count": 9,
   "metadata": {},
   "outputs": [],
   "source": [
    "rating_tag=driver.find_elements_by_xpath(\"//div[@class='a-section a-spacing-none a-spacing-top-micro']\")"
   ]
  },
  {
   "cell_type": "code",
   "execution_count": 10,
   "metadata": {},
   "outputs": [
    {
     "data": {
      "text/plain": [
       "[<selenium.webdriver.remote.webelement.WebElement (session=\"e622b97e612b007ce93d6209f3e94d2e\", element=\"7393e90d-c40b-4cd9-9e09-5a3ea33b2555\")>,\n",
       " <selenium.webdriver.remote.webelement.WebElement (session=\"e622b97e612b007ce93d6209f3e94d2e\", element=\"e85a988e-1a75-4a66-85eb-171d7588f379\")>,\n",
       " <selenium.webdriver.remote.webelement.WebElement (session=\"e622b97e612b007ce93d6209f3e94d2e\", element=\"d315b80e-b4dd-4acc-b1e6-e600dcbe73cc\")>,\n",
       " <selenium.webdriver.remote.webelement.WebElement (session=\"e622b97e612b007ce93d6209f3e94d2e\", element=\"a55200c6-dec4-4eca-a3aa-24175d1cab8d\")>,\n",
       " <selenium.webdriver.remote.webelement.WebElement (session=\"e622b97e612b007ce93d6209f3e94d2e\", element=\"1fb244b2-61e7-40f1-b879-f329506c5dec\")>,\n",
       " <selenium.webdriver.remote.webelement.WebElement (session=\"e622b97e612b007ce93d6209f3e94d2e\", element=\"4fed98c5-b567-4189-85ec-e202e1007ec6\")>,\n",
       " <selenium.webdriver.remote.webelement.WebElement (session=\"e622b97e612b007ce93d6209f3e94d2e\", element=\"fa03a31f-e817-4d13-bf45-08dd2084f8d1\")>,\n",
       " <selenium.webdriver.remote.webelement.WebElement (session=\"e622b97e612b007ce93d6209f3e94d2e\", element=\"654880df-7c77-445b-ada6-f3f3581e921e\")>,\n",
       " <selenium.webdriver.remote.webelement.WebElement (session=\"e622b97e612b007ce93d6209f3e94d2e\", element=\"a7136f27-b556-4401-ba26-71e631208974\")>,\n",
       " <selenium.webdriver.remote.webelement.WebElement (session=\"e622b97e612b007ce93d6209f3e94d2e\", element=\"8492fc9f-435c-4c42-9854-116e03afe7a0\")>]"
      ]
     },
     "execution_count": 10,
     "metadata": {},
     "output_type": "execute_result"
    }
   ],
   "source": [
    "rating_tag[0:10]"
   ]
  },
  {
   "cell_type": "code",
   "execution_count": 11,
   "metadata": {},
   "outputs": [
    {
     "data": {
      "text/plain": [
       "['9',\n",
       " 'Get it by Sunday, January 31\\nFREE Delivery by Amazon',\n",
       " '21',\n",
       " 'Get it by Sunday, January 31\\nFREE Delivery by Amazon',\n",
       " '383',\n",
       " 'FREE Delivery by Amazon',\n",
       " 'Get it by Sunday, January 31\\nFREE Delivery by Amazon',\n",
       " 'Get it by Sunday, January 31\\nFREE Delivery by Amazon',\n",
       " 'Get it by Sunday, January 31\\nFREE Delivery by Amazon',\n",
       " 'Get it by Sunday, January 31\\nFREE Delivery by Amazon']"
      ]
     },
     "execution_count": 11,
     "metadata": {},
     "output_type": "execute_result"
    }
   ],
   "source": [
    "for i in rating_tag:\n",
    "    rating=i.text\n",
    "    product_rating.append(rating)\n",
    "product_rating[0:10]    "
   ]
  },
  {
   "cell_type": "code",
   "execution_count": 12,
   "metadata": {},
   "outputs": [],
   "source": [
    "price_tag=driver.find_elements_by_xpath(\"//span[@class='a-price-whole']\")"
   ]
  },
  {
   "cell_type": "code",
   "execution_count": 13,
   "metadata": {},
   "outputs": [
    {
     "data": {
      "text/plain": [
       "[<selenium.webdriver.remote.webelement.WebElement (session=\"e622b97e612b007ce93d6209f3e94d2e\", element=\"dabc6ba3-30e1-430c-aaa1-f7de09cb1105\")>,\n",
       " <selenium.webdriver.remote.webelement.WebElement (session=\"e622b97e612b007ce93d6209f3e94d2e\", element=\"b688dfd8-0f76-42c0-9b9c-da98ff9ee8a2\")>,\n",
       " <selenium.webdriver.remote.webelement.WebElement (session=\"e622b97e612b007ce93d6209f3e94d2e\", element=\"16eee39d-f601-4237-a9b2-849f3d15dc9d\")>,\n",
       " <selenium.webdriver.remote.webelement.WebElement (session=\"e622b97e612b007ce93d6209f3e94d2e\", element=\"7a2f01ff-5302-4c1f-b3e8-4a0d4083f6e0\")>,\n",
       " <selenium.webdriver.remote.webelement.WebElement (session=\"e622b97e612b007ce93d6209f3e94d2e\", element=\"76449aea-23c1-40f2-811f-f2bb05d26465\")>,\n",
       " <selenium.webdriver.remote.webelement.WebElement (session=\"e622b97e612b007ce93d6209f3e94d2e\", element=\"a367311b-a2f7-47bc-9da9-814d861e0e41\")>,\n",
       " <selenium.webdriver.remote.webelement.WebElement (session=\"e622b97e612b007ce93d6209f3e94d2e\", element=\"302d3639-5b1b-4cf1-933f-2f620ea96515\")>,\n",
       " <selenium.webdriver.remote.webelement.WebElement (session=\"e622b97e612b007ce93d6209f3e94d2e\", element=\"3fac3ca6-ccaa-4a38-abec-98650c20e88a\")>,\n",
       " <selenium.webdriver.remote.webelement.WebElement (session=\"e622b97e612b007ce93d6209f3e94d2e\", element=\"4289de9a-e4d2-493c-9f67-f0725c409b82\")>,\n",
       " <selenium.webdriver.remote.webelement.WebElement (session=\"e622b97e612b007ce93d6209f3e94d2e\", element=\"ea11126d-4a3c-4e27-ba28-2a30ee743026\")>]"
      ]
     },
     "execution_count": 13,
     "metadata": {},
     "output_type": "execute_result"
    }
   ],
   "source": [
    "price_tag[0:10]"
   ]
  },
  {
   "cell_type": "code",
   "execution_count": 14,
   "metadata": {},
   "outputs": [
    {
     "data": {
      "text/plain": [
       "['85,890',\n",
       " '1,27,990',\n",
       " '54,899',\n",
       " '55,299',\n",
       " '53,599',\n",
       " '52,699',\n",
       " '54,399',\n",
       " '96,450',\n",
       " '55,990',\n",
       " '1,24,990']"
      ]
     },
     "execution_count": 14,
     "metadata": {},
     "output_type": "execute_result"
    }
   ],
   "source": [
    "for i in price_tag:\n",
    "    price=i.text\n",
    "    product_price.append(price)\n",
    "product_price[0:10] "
   ]
  },
  {
   "cell_type": "code",
   "execution_count": 15,
   "metadata": {},
   "outputs": [
    {
     "name": "stdout",
     "output_type": "stream",
     "text": [
      "29 42 27\n"
     ]
    }
   ],
   "source": [
    "print(len(product_title),len(product_rating),len(product_price))"
   ]
  },
  {
   "cell_type": "code",
   "execution_count": null,
   "metadata": {},
   "outputs": [],
   "source": []
  }
 ],
 "metadata": {
  "kernelspec": {
   "display_name": "Python 3",
   "language": "python",
   "name": "python3"
  },
  "language_info": {
   "codemirror_mode": {
    "name": "ipython",
    "version": 3
   },
   "file_extension": ".py",
   "mimetype": "text/x-python",
   "name": "python",
   "nbconvert_exporter": "python",
   "pygments_lexer": "ipython3",
   "version": "3.8.3"
  }
 },
 "nbformat": 4,
 "nbformat_minor": 4
}
