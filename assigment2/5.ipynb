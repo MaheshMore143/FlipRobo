{
 "cells": [
  {
   "cell_type": "code",
   "execution_count": 1,
   "metadata": {},
   "outputs": [],
   "source": [
    "import selenium\n",
    "import pandas as pd\n",
    "from selenium import webdriver"
   ]
  },
  {
   "cell_type": "code",
   "execution_count": 2,
   "metadata": {},
   "outputs": [],
   "source": [
    "driver=webdriver.Chrome(r'C:\\Users\\DELL\\Downloads\\chromedriver.exe')"
   ]
  },
  {
   "cell_type": "code",
   "execution_count": 3,
   "metadata": {},
   "outputs": [],
   "source": [
    "url='https://www.glassdoor.co.in/Salaries/new-delhi-data-scientist-salary-SRCH_IL.0,9_IM1083_KO10,24.htm?clickSource=searchBtn'"
   ]
  },
  {
   "cell_type": "code",
   "execution_count": 4,
   "metadata": {},
   "outputs": [],
   "source": [
    "driver.get(url)"
   ]
  },
  {
   "cell_type": "code",
   "execution_count": 5,
   "metadata": {},
   "outputs": [],
   "source": [
    "company_name=[]\n",
    "min_salary=[]\n",
    "max_salary=[]\n",
    "Avg_salary=[]"
   ]
  },
  {
   "cell_type": "code",
   "execution_count": 6,
   "metadata": {},
   "outputs": [],
   "source": [
    "name_tag=driver.find_elements_by_xpath(\"//p[@class='m-0 ']\")"
   ]
  },
  {
   "cell_type": "code",
   "execution_count": 7,
   "metadata": {},
   "outputs": [
    {
     "data": {
      "text/plain": [
       "[<selenium.webdriver.remote.webelement.WebElement (session=\"3d2bfe9efeff1fa3671ebdeee9975d6c\", element=\"9b5dc315-5c47-4458-b205-345432a1117a\")>,\n",
       " <selenium.webdriver.remote.webelement.WebElement (session=\"3d2bfe9efeff1fa3671ebdeee9975d6c\", element=\"e1b48fea-5de2-48c8-aaa0-9fe310b9974e\")>,\n",
       " <selenium.webdriver.remote.webelement.WebElement (session=\"3d2bfe9efeff1fa3671ebdeee9975d6c\", element=\"b9decce8-58cc-4f45-b3c0-cc43a7797734\")>,\n",
       " <selenium.webdriver.remote.webelement.WebElement (session=\"3d2bfe9efeff1fa3671ebdeee9975d6c\", element=\"dcb1c450-1587-414a-b4db-97d5deec658c\")>,\n",
       " <selenium.webdriver.remote.webelement.WebElement (session=\"3d2bfe9efeff1fa3671ebdeee9975d6c\", element=\"abdcba7c-46bb-498d-a816-04f53ac7af70\")>,\n",
       " <selenium.webdriver.remote.webelement.WebElement (session=\"3d2bfe9efeff1fa3671ebdeee9975d6c\", element=\"609c2f14-3d34-4b33-94d5-58c17bdb174d\")>,\n",
       " <selenium.webdriver.remote.webelement.WebElement (session=\"3d2bfe9efeff1fa3671ebdeee9975d6c\", element=\"fe302ccc-200b-48d6-a06f-f9c116a9b0b9\")>,\n",
       " <selenium.webdriver.remote.webelement.WebElement (session=\"3d2bfe9efeff1fa3671ebdeee9975d6c\", element=\"6205ed76-7a1b-4014-83a7-91302079787f\")>,\n",
       " <selenium.webdriver.remote.webelement.WebElement (session=\"3d2bfe9efeff1fa3671ebdeee9975d6c\", element=\"94e3a9c1-bc59-48cf-ab52-3db71eeb84fb\")>,\n",
       " <selenium.webdriver.remote.webelement.WebElement (session=\"3d2bfe9efeff1fa3671ebdeee9975d6c\", element=\"b9dd9541-3908-4c4b-a3dd-0d4663987fe5\")>]"
      ]
     },
     "execution_count": 7,
     "metadata": {},
     "output_type": "execute_result"
    }
   ],
   "source": [
    "name_tag[0:10]"
   ]
  },
  {
   "cell_type": "code",
   "execution_count": 8,
   "metadata": {},
   "outputs": [
    {
     "data": {
      "text/plain": [
       "['Delhivery',\n",
       " 'Ericsson-Worldwide',\n",
       " 'Accenture',\n",
       " 'Tata Consultancy Services',\n",
       " 'IBM',\n",
       " 'UnitedHealth Group',\n",
       " 'Valiance Solutions',\n",
       " 'Innovaccer',\n",
       " 'Cognizant Technology Solutions',\n",
       " 'ZS Associates']"
      ]
     },
     "execution_count": 8,
     "metadata": {},
     "output_type": "execute_result"
    }
   ],
   "source": [
    "for i in name_tag:\n",
    "    name=i.text\n",
    "    company_name.append(name)\n",
    "company_name[0:10]    "
   ]
  },
  {
   "cell_type": "code",
   "execution_count": 12,
   "metadata": {},
   "outputs": [],
   "source": [
    "min_tag=driver.find_elements_by_xpath(\"//div[@class='common__RangeBarStyle__values common__flex__justifySpaceBetween common__flex__container ']/span[1]\")"
   ]
  },
  {
   "cell_type": "code",
   "execution_count": 13,
   "metadata": {},
   "outputs": [
    {
     "data": {
      "text/plain": [
       "[<selenium.webdriver.remote.webelement.WebElement (session=\"3d2bfe9efeff1fa3671ebdeee9975d6c\", element=\"8a4df32d-5c63-4071-b2a9-c161cb836147\")>,\n",
       " <selenium.webdriver.remote.webelement.WebElement (session=\"3d2bfe9efeff1fa3671ebdeee9975d6c\", element=\"b2d88c4f-bb92-4a1b-8eda-03d1587f9b6e\")>,\n",
       " <selenium.webdriver.remote.webelement.WebElement (session=\"3d2bfe9efeff1fa3671ebdeee9975d6c\", element=\"c207783e-99c3-4525-beac-ab1ec43b36bd\")>,\n",
       " <selenium.webdriver.remote.webelement.WebElement (session=\"3d2bfe9efeff1fa3671ebdeee9975d6c\", element=\"535e237f-2ceb-4fdb-a6b8-0f9766a9edd6\")>,\n",
       " <selenium.webdriver.remote.webelement.WebElement (session=\"3d2bfe9efeff1fa3671ebdeee9975d6c\", element=\"0f4db56e-79ae-42bb-8d43-505ce1e67b07\")>,\n",
       " <selenium.webdriver.remote.webelement.WebElement (session=\"3d2bfe9efeff1fa3671ebdeee9975d6c\", element=\"e8b5b2e3-3144-4232-bb34-a5e16c55f3a3\")>,\n",
       " <selenium.webdriver.remote.webelement.WebElement (session=\"3d2bfe9efeff1fa3671ebdeee9975d6c\", element=\"8bfeb965-fd88-465d-9125-8e3db6274dce\")>,\n",
       " <selenium.webdriver.remote.webelement.WebElement (session=\"3d2bfe9efeff1fa3671ebdeee9975d6c\", element=\"dffc029a-259d-4879-9690-fe8766f642a0\")>,\n",
       " <selenium.webdriver.remote.webelement.WebElement (session=\"3d2bfe9efeff1fa3671ebdeee9975d6c\", element=\"ebcc0f0b-bbda-4df4-bcd3-ecf580fc88db\")>,\n",
       " <selenium.webdriver.remote.webelement.WebElement (session=\"3d2bfe9efeff1fa3671ebdeee9975d6c\", element=\"e2780a6e-724e-44df-b22f-6b2a795aaf34\")>]"
      ]
     },
     "execution_count": 13,
     "metadata": {},
     "output_type": "execute_result"
    }
   ],
   "source": [
    "min_tag[0:10]"
   ]
  },
  {
   "cell_type": "code",
   "execution_count": 14,
   "metadata": {},
   "outputs": [
    {
     "data": {
      "text/plain": [
       "['₹456K',\n",
       " '₹420K',\n",
       " '₹585K',\n",
       " '₹336K',\n",
       " '₹595K',\n",
       " '₹727K',\n",
       " '₹509K',\n",
       " '₹629K',\n",
       " '₹804K',\n",
       " '₹205K']"
      ]
     },
     "execution_count": 14,
     "metadata": {},
     "output_type": "execute_result"
    }
   ],
   "source": [
    "for i in min_tag:\n",
    "    min=i.text\n",
    "    min_salary.append(min)\n",
    "min_salary[0:10]    "
   ]
  },
  {
   "cell_type": "code",
   "execution_count": 15,
   "metadata": {},
   "outputs": [],
   "source": [
    "max_tag=driver.find_elements_by_xpath(\"//div[@class='common__RangeBarStyle__values common__flex__justifySpaceBetween common__flex__container ']/span[2]\")"
   ]
  },
  {
   "cell_type": "code",
   "execution_count": 16,
   "metadata": {},
   "outputs": [
    {
     "data": {
      "text/plain": [
       "[<selenium.webdriver.remote.webelement.WebElement (session=\"3d2bfe9efeff1fa3671ebdeee9975d6c\", element=\"904476ef-8932-49c1-8e55-9cc9241a1dea\")>,\n",
       " <selenium.webdriver.remote.webelement.WebElement (session=\"3d2bfe9efeff1fa3671ebdeee9975d6c\", element=\"699cc021-5053-47d0-b9a6-54152f47adc8\")>,\n",
       " <selenium.webdriver.remote.webelement.WebElement (session=\"3d2bfe9efeff1fa3671ebdeee9975d6c\", element=\"a5d6bf6a-442e-4843-8c35-5500e9c08050\")>,\n",
       " <selenium.webdriver.remote.webelement.WebElement (session=\"3d2bfe9efeff1fa3671ebdeee9975d6c\", element=\"76376852-2a5b-4903-bbef-94f1cbab6d50\")>,\n",
       " <selenium.webdriver.remote.webelement.WebElement (session=\"3d2bfe9efeff1fa3671ebdeee9975d6c\", element=\"8365622b-4e30-4131-bb1b-324b12b2287f\")>,\n",
       " <selenium.webdriver.remote.webelement.WebElement (session=\"3d2bfe9efeff1fa3671ebdeee9975d6c\", element=\"62ccaab0-34bd-4d8a-9dde-7eb73ca96f53\")>,\n",
       " <selenium.webdriver.remote.webelement.WebElement (session=\"3d2bfe9efeff1fa3671ebdeee9975d6c\", element=\"5a25b675-1c6a-4024-8d1a-9f8ad73f2604\")>,\n",
       " <selenium.webdriver.remote.webelement.WebElement (session=\"3d2bfe9efeff1fa3671ebdeee9975d6c\", element=\"f72e767d-a498-4544-9236-494d4b832b87\")>,\n",
       " <selenium.webdriver.remote.webelement.WebElement (session=\"3d2bfe9efeff1fa3671ebdeee9975d6c\", element=\"b641e69c-596e-4698-ad61-c432459a8946\")>,\n",
       " <selenium.webdriver.remote.webelement.WebElement (session=\"3d2bfe9efeff1fa3671ebdeee9975d6c\", element=\"d72c68b5-8781-486f-bdcd-27fe30ec1337\")>]"
      ]
     },
     "execution_count": 16,
     "metadata": {},
     "output_type": "execute_result"
    }
   ],
   "source": [
    "max_tag[0:10]"
   ]
  },
  {
   "cell_type": "code",
   "execution_count": 17,
   "metadata": {},
   "outputs": [
    {
     "data": {
      "text/plain": [
       "['₹11,789K',\n",
       " '₹1,636K',\n",
       " '₹2,200K',\n",
       " '₹1,024K',\n",
       " '₹2,769K',\n",
       " '₹1,597K',\n",
       " '₹1,168K',\n",
       " '₹1,719K',\n",
       " '₹1,281K',\n",
       " '₹1,835K']"
      ]
     },
     "execution_count": 17,
     "metadata": {},
     "output_type": "execute_result"
    }
   ],
   "source": [
    "for i in max_tag:\n",
    "    max=i.text\n",
    "    max_salary.append(max)\n",
    "max_salary[0:10]    "
   ]
  },
  {
   "cell_type": "code",
   "execution_count": 18,
   "metadata": {},
   "outputs": [],
   "source": [
    "avg_tag=driver.find_elements_by_xpath(\"//div[@class='col-2 d-none d-md-flex flex-row justify-content-end']\")"
   ]
  },
  {
   "cell_type": "code",
   "execution_count": 19,
   "metadata": {},
   "outputs": [
    {
     "data": {
      "text/plain": [
       "[<selenium.webdriver.remote.webelement.WebElement (session=\"3d2bfe9efeff1fa3671ebdeee9975d6c\", element=\"bbfd22b2-63f2-4151-a314-2e974d0fd0ed\")>,\n",
       " <selenium.webdriver.remote.webelement.WebElement (session=\"3d2bfe9efeff1fa3671ebdeee9975d6c\", element=\"f02ea441-b439-46f3-8810-bec04b2d4eef\")>,\n",
       " <selenium.webdriver.remote.webelement.WebElement (session=\"3d2bfe9efeff1fa3671ebdeee9975d6c\", element=\"b40215cf-68ee-43e5-b433-c13607f74e60\")>,\n",
       " <selenium.webdriver.remote.webelement.WebElement (session=\"3d2bfe9efeff1fa3671ebdeee9975d6c\", element=\"4cea6a3e-739f-403b-9f5a-4afd2c28d454\")>,\n",
       " <selenium.webdriver.remote.webelement.WebElement (session=\"3d2bfe9efeff1fa3671ebdeee9975d6c\", element=\"3f83613f-5826-4aa1-80e7-db4b4625b1de\")>,\n",
       " <selenium.webdriver.remote.webelement.WebElement (session=\"3d2bfe9efeff1fa3671ebdeee9975d6c\", element=\"735af170-998c-473b-a1b2-dc7e06ab149a\")>,\n",
       " <selenium.webdriver.remote.webelement.WebElement (session=\"3d2bfe9efeff1fa3671ebdeee9975d6c\", element=\"86ee99a0-14c5-4b22-aa60-ceac56d95c55\")>,\n",
       " <selenium.webdriver.remote.webelement.WebElement (session=\"3d2bfe9efeff1fa3671ebdeee9975d6c\", element=\"74696391-8428-410c-af3f-7ab727fbba6f\")>,\n",
       " <selenium.webdriver.remote.webelement.WebElement (session=\"3d2bfe9efeff1fa3671ebdeee9975d6c\", element=\"e553febd-1b07-4e17-b56e-383fa280af70\")>,\n",
       " <selenium.webdriver.remote.webelement.WebElement (session=\"3d2bfe9efeff1fa3671ebdeee9975d6c\", element=\"39e168b8-74d9-407b-a8bd-4357d0a668b6\")>]"
      ]
     },
     "execution_count": 19,
     "metadata": {},
     "output_type": "execute_result"
    }
   ],
   "source": [
    "avg_tag[0:10]"
   ]
  },
  {
   "cell_type": "code",
   "execution_count": 21,
   "metadata": {},
   "outputs": [
    {
     "data": {
      "text/plain": [
       "['₹ 12,81,419\\n/yr',\n",
       " '₹ 7,52,052\\n/yr',\n",
       " '₹ 9,98,925\\n/yr',\n",
       " '₹ 6,02,000\\n/yr',\n",
       " '₹ 7,71,657\\n/yr',\n",
       " '₹ 12,22,902\\n/yr',\n",
       " '₹ 7,91,015\\n/yr',\n",
       " '₹ 12,15,138\\n/yr',\n",
       " '₹ 10,21,889\\n/yr',\n",
       " '₹ 10,00,000\\n/yr']"
      ]
     },
     "execution_count": 21,
     "metadata": {},
     "output_type": "execute_result"
    }
   ],
   "source": [
    "for i in avg_tag:\n",
    "    avg=i.text\n",
    "    Avg_salary.append(avg)\n",
    "Avg_salary[0:10]    "
   ]
  },
  {
   "cell_type": "code",
   "execution_count": 22,
   "metadata": {},
   "outputs": [
    {
     "name": "stdout",
     "output_type": "stream",
     "text": [
      "20 20 20 20\n"
     ]
    }
   ],
   "source": [
    "print(len(company_name),len(max_salary),len(min_salary),len(Avg_salary))"
   ]
  },
  {
   "cell_type": "code",
   "execution_count": 23,
   "metadata": {},
   "outputs": [],
   "source": [
    "import pandas as pd\n",
    "jobs=pd.DataFrame({})\n",
    "jobs['company']=company_name\n",
    "jobs['minimum salary']=min_salary\n",
    "jobs['maximum salary']=max_salary\n",
    "jobs['average salary']=Avg_salary"
   ]
  },
  {
   "cell_type": "code",
   "execution_count": 24,
   "metadata": {},
   "outputs": [
    {
     "data": {
      "text/html": [
       "<div>\n",
       "<style scoped>\n",
       "    .dataframe tbody tr th:only-of-type {\n",
       "        vertical-align: middle;\n",
       "    }\n",
       "\n",
       "    .dataframe tbody tr th {\n",
       "        vertical-align: top;\n",
       "    }\n",
       "\n",
       "    .dataframe thead th {\n",
       "        text-align: right;\n",
       "    }\n",
       "</style>\n",
       "<table border=\"1\" class=\"dataframe\">\n",
       "  <thead>\n",
       "    <tr style=\"text-align: right;\">\n",
       "      <th></th>\n",
       "      <th>company</th>\n",
       "      <th>minimum salary</th>\n",
       "      <th>maximum salary</th>\n",
       "      <th>average salary</th>\n",
       "    </tr>\n",
       "  </thead>\n",
       "  <tbody>\n",
       "    <tr>\n",
       "      <th>0</th>\n",
       "      <td>Delhivery</td>\n",
       "      <td>₹456K</td>\n",
       "      <td>₹11,789K</td>\n",
       "      <td>₹ 12,81,419\\n/yr</td>\n",
       "    </tr>\n",
       "    <tr>\n",
       "      <th>1</th>\n",
       "      <td>Ericsson-Worldwide</td>\n",
       "      <td>₹420K</td>\n",
       "      <td>₹1,636K</td>\n",
       "      <td>₹ 7,52,052\\n/yr</td>\n",
       "    </tr>\n",
       "    <tr>\n",
       "      <th>2</th>\n",
       "      <td>Accenture</td>\n",
       "      <td>₹585K</td>\n",
       "      <td>₹2,200K</td>\n",
       "      <td>₹ 9,98,925\\n/yr</td>\n",
       "    </tr>\n",
       "    <tr>\n",
       "      <th>3</th>\n",
       "      <td>Tata Consultancy Services</td>\n",
       "      <td>₹336K</td>\n",
       "      <td>₹1,024K</td>\n",
       "      <td>₹ 6,02,000\\n/yr</td>\n",
       "    </tr>\n",
       "    <tr>\n",
       "      <th>4</th>\n",
       "      <td>IBM</td>\n",
       "      <td>₹595K</td>\n",
       "      <td>₹2,769K</td>\n",
       "      <td>₹ 7,71,657\\n/yr</td>\n",
       "    </tr>\n",
       "    <tr>\n",
       "      <th>5</th>\n",
       "      <td>UnitedHealth Group</td>\n",
       "      <td>₹727K</td>\n",
       "      <td>₹1,597K</td>\n",
       "      <td>₹ 12,22,902\\n/yr</td>\n",
       "    </tr>\n",
       "    <tr>\n",
       "      <th>6</th>\n",
       "      <td>Valiance Solutions</td>\n",
       "      <td>₹509K</td>\n",
       "      <td>₹1,168K</td>\n",
       "      <td>₹ 7,91,015\\n/yr</td>\n",
       "    </tr>\n",
       "    <tr>\n",
       "      <th>7</th>\n",
       "      <td>Innovaccer</td>\n",
       "      <td>₹629K</td>\n",
       "      <td>₹1,719K</td>\n",
       "      <td>₹ 12,15,138\\n/yr</td>\n",
       "    </tr>\n",
       "    <tr>\n",
       "      <th>8</th>\n",
       "      <td>Cognizant Technology Solutions</td>\n",
       "      <td>₹804K</td>\n",
       "      <td>₹1,281K</td>\n",
       "      <td>₹ 10,21,889\\n/yr</td>\n",
       "    </tr>\n",
       "    <tr>\n",
       "      <th>9</th>\n",
       "      <td>ZS Associates</td>\n",
       "      <td>₹205K</td>\n",
       "      <td>₹1,835K</td>\n",
       "      <td>₹ 10,00,000\\n/yr</td>\n",
       "    </tr>\n",
       "    <tr>\n",
       "      <th>10</th>\n",
       "      <td>OYO</td>\n",
       "      <td>₹985K</td>\n",
       "      <td>₹1,911K</td>\n",
       "      <td>₹ 14,33,387\\n/yr</td>\n",
       "    </tr>\n",
       "    <tr>\n",
       "      <th>11</th>\n",
       "      <td>EXL Service</td>\n",
       "      <td>₹583K</td>\n",
       "      <td>₹1,227K</td>\n",
       "      <td>₹ 11,42,351\\n/yr</td>\n",
       "    </tr>\n",
       "    <tr>\n",
       "      <th>12</th>\n",
       "      <td>Optum</td>\n",
       "      <td>₹819K</td>\n",
       "      <td>₹1,592K</td>\n",
       "      <td>₹ 12,57,579\\n/yr</td>\n",
       "    </tr>\n",
       "    <tr>\n",
       "      <th>13</th>\n",
       "      <td>Sprinklr</td>\n",
       "      <td>₹1,554K</td>\n",
       "      <td>₹3,283K</td>\n",
       "      <td>₹ 15,53,977\\n/yr</td>\n",
       "    </tr>\n",
       "    <tr>\n",
       "      <th>14</th>\n",
       "      <td>dunnhumby</td>\n",
       "      <td>₹829K</td>\n",
       "      <td>₹2,035K</td>\n",
       "      <td>₹ 13,09,262\\n/yr</td>\n",
       "    </tr>\n",
       "    <tr>\n",
       "      <th>15</th>\n",
       "      <td>Algo8.ai</td>\n",
       "      <td>₹87K</td>\n",
       "      <td>₹1,377K</td>\n",
       "      <td>₹ 5,96,779\\n/yr</td>\n",
       "    </tr>\n",
       "    <tr>\n",
       "      <th>16</th>\n",
       "      <td>Tech Mahindra</td>\n",
       "      <td>₹478K</td>\n",
       "      <td>₹1,681K</td>\n",
       "      <td>₹ 10,67,848\\n/yr</td>\n",
       "    </tr>\n",
       "    <tr>\n",
       "      <th>17</th>\n",
       "      <td>Publicis Sapient</td>\n",
       "      <td>₹936K</td>\n",
       "      <td>₹1,807K</td>\n",
       "      <td>₹ 17,00,000\\n/yr</td>\n",
       "    </tr>\n",
       "    <tr>\n",
       "      <th>18</th>\n",
       "      <td>Nagarro</td>\n",
       "      <td>₹641K</td>\n",
       "      <td>₹1,140K</td>\n",
       "      <td>₹ 9,75,474\\n/yr</td>\n",
       "    </tr>\n",
       "    <tr>\n",
       "      <th>19</th>\n",
       "      <td>Times Internet</td>\n",
       "      <td>₹1,442K</td>\n",
       "      <td>₹3,561K</td>\n",
       "      <td>₹ 35,11,792\\n/yr</td>\n",
       "    </tr>\n",
       "  </tbody>\n",
       "</table>\n",
       "</div>"
      ],
      "text/plain": [
       "                           company minimum salary maximum salary  \\\n",
       "0                        Delhivery          ₹456K       ₹11,789K   \n",
       "1               Ericsson-Worldwide          ₹420K        ₹1,636K   \n",
       "2                        Accenture          ₹585K        ₹2,200K   \n",
       "3        Tata Consultancy Services          ₹336K        ₹1,024K   \n",
       "4                              IBM          ₹595K        ₹2,769K   \n",
       "5               UnitedHealth Group          ₹727K        ₹1,597K   \n",
       "6               Valiance Solutions          ₹509K        ₹1,168K   \n",
       "7                       Innovaccer          ₹629K        ₹1,719K   \n",
       "8   Cognizant Technology Solutions          ₹804K        ₹1,281K   \n",
       "9                    ZS Associates          ₹205K        ₹1,835K   \n",
       "10                             OYO          ₹985K        ₹1,911K   \n",
       "11                     EXL Service          ₹583K        ₹1,227K   \n",
       "12                           Optum          ₹819K        ₹1,592K   \n",
       "13                        Sprinklr        ₹1,554K        ₹3,283K   \n",
       "14                       dunnhumby          ₹829K        ₹2,035K   \n",
       "15                        Algo8.ai           ₹87K        ₹1,377K   \n",
       "16                   Tech Mahindra          ₹478K        ₹1,681K   \n",
       "17                Publicis Sapient          ₹936K        ₹1,807K   \n",
       "18                         Nagarro          ₹641K        ₹1,140K   \n",
       "19                  Times Internet        ₹1,442K        ₹3,561K   \n",
       "\n",
       "      average salary  \n",
       "0   ₹ 12,81,419\\n/yr  \n",
       "1    ₹ 7,52,052\\n/yr  \n",
       "2    ₹ 9,98,925\\n/yr  \n",
       "3    ₹ 6,02,000\\n/yr  \n",
       "4    ₹ 7,71,657\\n/yr  \n",
       "5   ₹ 12,22,902\\n/yr  \n",
       "6    ₹ 7,91,015\\n/yr  \n",
       "7   ₹ 12,15,138\\n/yr  \n",
       "8   ₹ 10,21,889\\n/yr  \n",
       "9   ₹ 10,00,000\\n/yr  \n",
       "10  ₹ 14,33,387\\n/yr  \n",
       "11  ₹ 11,42,351\\n/yr  \n",
       "12  ₹ 12,57,579\\n/yr  \n",
       "13  ₹ 15,53,977\\n/yr  \n",
       "14  ₹ 13,09,262\\n/yr  \n",
       "15   ₹ 5,96,779\\n/yr  \n",
       "16  ₹ 10,67,848\\n/yr  \n",
       "17  ₹ 17,00,000\\n/yr  \n",
       "18   ₹ 9,75,474\\n/yr  \n",
       "19  ₹ 35,11,792\\n/yr  "
      ]
     },
     "execution_count": 24,
     "metadata": {},
     "output_type": "execute_result"
    }
   ],
   "source": [
    "jobs"
   ]
  },
  {
   "cell_type": "code",
   "execution_count": null,
   "metadata": {},
   "outputs": [],
   "source": []
  }
 ],
 "metadata": {
  "kernelspec": {
   "display_name": "Python 3",
   "language": "python",
   "name": "python3"
  },
  "language_info": {
   "codemirror_mode": {
    "name": "ipython",
    "version": 3
   },
   "file_extension": ".py",
   "mimetype": "text/x-python",
   "name": "python",
   "nbconvert_exporter": "python",
   "pygments_lexer": "ipython3",
   "version": "3.8.3"
  }
 },
 "nbformat": 4,
 "nbformat_minor": 4
}
