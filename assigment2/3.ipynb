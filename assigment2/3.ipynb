{
 "cells": [
  {
   "cell_type": "code",
   "execution_count": 1,
   "metadata": {},
   "outputs": [],
   "source": [
    "import selenium\n",
    "import pandas as pd\n",
    "from selenium import webdriver"
   ]
  },
  {
   "cell_type": "code",
   "execution_count": 2,
   "metadata": {},
   "outputs": [],
   "source": [
    "driver=webdriver.Chrome(r'C:\\Users\\DELL\\Downloads\\chromedriver.exe')"
   ]
  },
  {
   "cell_type": "code",
   "execution_count": 3,
   "metadata": {},
   "outputs": [],
   "source": [
    "url='https://www.naukri.com/data-scientist-jobs?k=data%20scientist&cityType=25.9.31&ctcFilter=3to6'"
   ]
  },
  {
   "cell_type": "code",
   "execution_count": 4,
   "metadata": {},
   "outputs": [],
   "source": [
    "driver.get(url)"
   ]
  },
  {
   "cell_type": "code",
   "execution_count": 5,
   "metadata": {},
   "outputs": [],
   "source": [
    "job_title=[]\n",
    "company_name=[]\n",
    "job_location=[]\n",
    "experience_required=[]"
   ]
  },
  {
   "cell_type": "code",
   "execution_count": 6,
   "metadata": {},
   "outputs": [],
   "source": [
    "titles_tag=driver.find_elements_by_xpath(\"//a[@class='title fw500 ellipsis']\")"
   ]
  },
  {
   "cell_type": "code",
   "execution_count": 7,
   "metadata": {},
   "outputs": [
    {
     "data": {
      "text/plain": [
       "[<selenium.webdriver.remote.webelement.WebElement (session=\"1c141cbf429aab6026c8beb7e2db9339\", element=\"12a273ba-ef7b-4009-ad79-e3d9d709c5e6\")>,\n",
       " <selenium.webdriver.remote.webelement.WebElement (session=\"1c141cbf429aab6026c8beb7e2db9339\", element=\"b669f7df-3790-4341-948d-17ca938fb17e\")>,\n",
       " <selenium.webdriver.remote.webelement.WebElement (session=\"1c141cbf429aab6026c8beb7e2db9339\", element=\"d9dba095-8084-4af3-aff9-6e2fc3bc255e\")>,\n",
       " <selenium.webdriver.remote.webelement.WebElement (session=\"1c141cbf429aab6026c8beb7e2db9339\", element=\"455668b7-5e67-4e03-93fc-86586cb74991\")>,\n",
       " <selenium.webdriver.remote.webelement.WebElement (session=\"1c141cbf429aab6026c8beb7e2db9339\", element=\"3b66e3a0-f85d-4328-a517-17fd2fe9b43f\")>,\n",
       " <selenium.webdriver.remote.webelement.WebElement (session=\"1c141cbf429aab6026c8beb7e2db9339\", element=\"5cf29ec7-9277-4623-a80c-afbfeaea4c26\")>,\n",
       " <selenium.webdriver.remote.webelement.WebElement (session=\"1c141cbf429aab6026c8beb7e2db9339\", element=\"71868396-85b7-4077-aafa-cc0917677f85\")>,\n",
       " <selenium.webdriver.remote.webelement.WebElement (session=\"1c141cbf429aab6026c8beb7e2db9339\", element=\"2cc60ab8-e36f-46fb-932f-6eb88941f6e4\")>,\n",
       " <selenium.webdriver.remote.webelement.WebElement (session=\"1c141cbf429aab6026c8beb7e2db9339\", element=\"1f51359e-4aed-4b87-aec9-fcb37d279a76\")>,\n",
       " <selenium.webdriver.remote.webelement.WebElement (session=\"1c141cbf429aab6026c8beb7e2db9339\", element=\"c0a32074-1db7-4e84-9df6-87385d122be9\")>]"
      ]
     },
     "execution_count": 7,
     "metadata": {},
     "output_type": "execute_result"
    }
   ],
   "source": [
    "titles_tag[0:10]"
   ]
  },
  {
   "cell_type": "code",
   "execution_count": 8,
   "metadata": {},
   "outputs": [
    {
     "data": {
      "text/plain": [
       "['Data Scientist - Python/Machine Learning',\n",
       " 'Tech Mahindra hiring For Data Scientist- Noida',\n",
       " 'Data Scientist - Commercial Planning and Analysis',\n",
       " 'Data Scientist',\n",
       " 'Data Scientist - Machine Learning/ Artificial Intelligence - IT',\n",
       " 'GCP Skilled Analytics Resources (Data engineer / Data scientists)',\n",
       " 'Data Scientist',\n",
       " 'Data Scientist Machine Learning',\n",
       " 'Data Scientist',\n",
       " 'Business Analyst - Data Scientist']"
      ]
     },
     "execution_count": 8,
     "metadata": {},
     "output_type": "execute_result"
    }
   ],
   "source": [
    "for i in titles_tag:\n",
    "    title=i.text\n",
    "    job_title.append(title)\n",
    "job_title[0:10]  "
   ]
  },
  {
   "cell_type": "code",
   "execution_count": 9,
   "metadata": {},
   "outputs": [],
   "source": [
    "company_tag=driver.find_elements_by_xpath(\"//a[@class='subTitle ellipsis fleft']\")"
   ]
  },
  {
   "cell_type": "code",
   "execution_count": 10,
   "metadata": {},
   "outputs": [
    {
     "data": {
      "text/plain": [
       "[<selenium.webdriver.remote.webelement.WebElement (session=\"1c141cbf429aab6026c8beb7e2db9339\", element=\"2bfb019d-a423-4729-90e2-bab5c2b9aa06\")>,\n",
       " <selenium.webdriver.remote.webelement.WebElement (session=\"1c141cbf429aab6026c8beb7e2db9339\", element=\"7cb782ac-b1d0-444c-8c5d-143620377160\")>,\n",
       " <selenium.webdriver.remote.webelement.WebElement (session=\"1c141cbf429aab6026c8beb7e2db9339\", element=\"ba00fa26-c219-42e1-aed2-3a6151217fdb\")>,\n",
       " <selenium.webdriver.remote.webelement.WebElement (session=\"1c141cbf429aab6026c8beb7e2db9339\", element=\"bf816678-919d-4d5a-87e8-b673e3e56e8c\")>,\n",
       " <selenium.webdriver.remote.webelement.WebElement (session=\"1c141cbf429aab6026c8beb7e2db9339\", element=\"f46a487b-abf2-4b88-98b9-22d713fa9280\")>,\n",
       " <selenium.webdriver.remote.webelement.WebElement (session=\"1c141cbf429aab6026c8beb7e2db9339\", element=\"9f7b8a04-4b52-4583-947d-1ab03f37dce9\")>,\n",
       " <selenium.webdriver.remote.webelement.WebElement (session=\"1c141cbf429aab6026c8beb7e2db9339\", element=\"6dc749e3-7e3d-4296-bda3-430b989652fe\")>,\n",
       " <selenium.webdriver.remote.webelement.WebElement (session=\"1c141cbf429aab6026c8beb7e2db9339\", element=\"66a171a0-5748-4b7e-a985-724d3df19329\")>,\n",
       " <selenium.webdriver.remote.webelement.WebElement (session=\"1c141cbf429aab6026c8beb7e2db9339\", element=\"7a7a2969-b8ea-4687-8e90-3cd3a6acc0a8\")>,\n",
       " <selenium.webdriver.remote.webelement.WebElement (session=\"1c141cbf429aab6026c8beb7e2db9339\", element=\"b0603127-fb43-46dc-a0ef-d72545a5d064\")>]"
      ]
     },
     "execution_count": 10,
     "metadata": {},
     "output_type": "execute_result"
    }
   ],
   "source": [
    "company_tag[0:10]"
   ]
  },
  {
   "cell_type": "code",
   "execution_count": 11,
   "metadata": {},
   "outputs": [
    {
     "data": {
      "text/plain": [
       "['Jubna',\n",
       " 'tech mahindra ltd',\n",
       " 'Air Asia India Limited',\n",
       " 'Amity University',\n",
       " 'Talent Acceleration Corridor',\n",
       " 'Aerial Telecom Solutions Pvt. Ltd.',\n",
       " 'IBM India Pvt. Limited',\n",
       " 'Delhivery',\n",
       " 'Eighteen Pixels India Private Limited',\n",
       " 'HyreFox Consultants Pvt Ltd']"
      ]
     },
     "execution_count": 11,
     "metadata": {},
     "output_type": "execute_result"
    }
   ],
   "source": [
    "for i in company_tag:\n",
    "    company=i.text\n",
    "    company_name.append(company)\n",
    "company_name[0:10]    "
   ]
  },
  {
   "cell_type": "code",
   "execution_count": 12,
   "metadata": {},
   "outputs": [],
   "source": [
    "location_tag=driver.find_elements_by_xpath(\"//li[@class='fleft grey-text br2 placeHolderLi location']/span[1]\")"
   ]
  },
  {
   "cell_type": "code",
   "execution_count": 13,
   "metadata": {},
   "outputs": [
    {
     "data": {
      "text/plain": [
       "[<selenium.webdriver.remote.webelement.WebElement (session=\"1c141cbf429aab6026c8beb7e2db9339\", element=\"01312462-0610-4942-8319-b06e2ddc4149\")>,\n",
       " <selenium.webdriver.remote.webelement.WebElement (session=\"1c141cbf429aab6026c8beb7e2db9339\", element=\"60b7d70c-1b3c-4187-aa35-b7cacfd4d1e0\")>,\n",
       " <selenium.webdriver.remote.webelement.WebElement (session=\"1c141cbf429aab6026c8beb7e2db9339\", element=\"8caa1044-5895-4aa7-a109-c3c792f0cf0d\")>,\n",
       " <selenium.webdriver.remote.webelement.WebElement (session=\"1c141cbf429aab6026c8beb7e2db9339\", element=\"17e27516-60ce-4c3e-843d-884e3bb24b5f\")>,\n",
       " <selenium.webdriver.remote.webelement.WebElement (session=\"1c141cbf429aab6026c8beb7e2db9339\", element=\"39d56120-d8cf-41ac-9013-1ceab3f72268\")>,\n",
       " <selenium.webdriver.remote.webelement.WebElement (session=\"1c141cbf429aab6026c8beb7e2db9339\", element=\"8da5996f-c981-4fd8-a977-7268da6dfb4b\")>,\n",
       " <selenium.webdriver.remote.webelement.WebElement (session=\"1c141cbf429aab6026c8beb7e2db9339\", element=\"739fd701-b94d-4f9f-989d-2169cd8cfe18\")>,\n",
       " <selenium.webdriver.remote.webelement.WebElement (session=\"1c141cbf429aab6026c8beb7e2db9339\", element=\"e5ce580d-9a84-41e4-8e2d-b69c28e8fe19\")>,\n",
       " <selenium.webdriver.remote.webelement.WebElement (session=\"1c141cbf429aab6026c8beb7e2db9339\", element=\"c2d6138d-78e4-4ba2-acee-a3e51e293f9d\")>,\n",
       " <selenium.webdriver.remote.webelement.WebElement (session=\"1c141cbf429aab6026c8beb7e2db9339\", element=\"737d1b19-04e0-4ccc-a289-3e4bf396a9de\")>]"
      ]
     },
     "execution_count": 13,
     "metadata": {},
     "output_type": "execute_result"
    }
   ],
   "source": [
    "location_tag[0:10]"
   ]
  },
  {
   "cell_type": "code",
   "execution_count": 14,
   "metadata": {},
   "outputs": [
    {
     "data": {
      "text/plain": [
       "['Noida',\n",
       " 'Noida',\n",
       " 'Delhi NCR, Gurgaon',\n",
       " 'Faridabad, Delhi NCR, Ghaziabad',\n",
       " 'Delhi/NCR Delhi NCR, Noida',\n",
       " 'Pune, Bengaluru, Gurgaon',\n",
       " 'Gurgaon Gurugram',\n",
       " 'Gurgaon',\n",
       " 'Delhi NCR',\n",
       " 'Gurgaon']"
      ]
     },
     "execution_count": 14,
     "metadata": {},
     "output_type": "execute_result"
    }
   ],
   "source": [
    "for i in location_tag:\n",
    "    location=i.text\n",
    "    job_location.append(location)\n",
    "job_location[0:10]"
   ]
  },
  {
   "cell_type": "code",
   "execution_count": 15,
   "metadata": {},
   "outputs": [],
   "source": [
    "experience_tag=driver.find_elements_by_xpath(\"//li[@class='fleft grey-text br2 placeHolderLi experience']/span[1]\")"
   ]
  },
  {
   "cell_type": "code",
   "execution_count": 16,
   "metadata": {},
   "outputs": [
    {
     "data": {
      "text/plain": [
       "[<selenium.webdriver.remote.webelement.WebElement (session=\"1c141cbf429aab6026c8beb7e2db9339\", element=\"005029b2-fedf-4a29-8d62-29d3bdb90bd9\")>,\n",
       " <selenium.webdriver.remote.webelement.WebElement (session=\"1c141cbf429aab6026c8beb7e2db9339\", element=\"c96eeaaf-daf7-4f13-9e2b-a6986341958d\")>,\n",
       " <selenium.webdriver.remote.webelement.WebElement (session=\"1c141cbf429aab6026c8beb7e2db9339\", element=\"828708ef-7a7b-4789-a8cb-ea46fe187af0\")>,\n",
       " <selenium.webdriver.remote.webelement.WebElement (session=\"1c141cbf429aab6026c8beb7e2db9339\", element=\"94a14ff7-298d-4c45-a5ec-fdc5adc825b3\")>,\n",
       " <selenium.webdriver.remote.webelement.WebElement (session=\"1c141cbf429aab6026c8beb7e2db9339\", element=\"083ba017-57f5-4bbc-afff-afd0c480bc73\")>,\n",
       " <selenium.webdriver.remote.webelement.WebElement (session=\"1c141cbf429aab6026c8beb7e2db9339\", element=\"c11df88c-533d-47d5-bf52-088ac86aa09e\")>,\n",
       " <selenium.webdriver.remote.webelement.WebElement (session=\"1c141cbf429aab6026c8beb7e2db9339\", element=\"0bdadc9c-5251-4f20-b2a0-df12933c4827\")>,\n",
       " <selenium.webdriver.remote.webelement.WebElement (session=\"1c141cbf429aab6026c8beb7e2db9339\", element=\"016f8b43-4592-474c-94cd-2fa7a46d90b1\")>,\n",
       " <selenium.webdriver.remote.webelement.WebElement (session=\"1c141cbf429aab6026c8beb7e2db9339\", element=\"742482b6-4cf2-457c-8652-839b5efcbb2f\")>,\n",
       " <selenium.webdriver.remote.webelement.WebElement (session=\"1c141cbf429aab6026c8beb7e2db9339\", element=\"0b63645b-dbaa-47ff-a808-b01512f0b522\")>]"
      ]
     },
     "execution_count": 16,
     "metadata": {},
     "output_type": "execute_result"
    }
   ],
   "source": [
    "experience_tag[0:10]"
   ]
  },
  {
   "cell_type": "code",
   "execution_count": 17,
   "metadata": {},
   "outputs": [
    {
     "data": {
      "text/plain": [
       "['5-8 Yrs',\n",
       " '5-10 Yrs',\n",
       " '1-6 Yrs',\n",
       " '6-8 Yrs',\n",
       " '6-11 Yrs',\n",
       " '3-8 Yrs',\n",
       " '3-5 Yrs',\n",
       " '1-3 Yrs',\n",
       " '2-6 Yrs',\n",
       " '3-5 Yrs']"
      ]
     },
     "execution_count": 17,
     "metadata": {},
     "output_type": "execute_result"
    }
   ],
   "source": [
    "for i in experience_tag:\n",
    "    experience=i.text\n",
    "    experience_required.append(experience)\n",
    "experience_required[0:10]    "
   ]
  },
  {
   "cell_type": "code",
   "execution_count": 18,
   "metadata": {},
   "outputs": [
    {
     "name": "stdout",
     "output_type": "stream",
     "text": [
      "20 20 20 20\n"
     ]
    }
   ],
   "source": [
    "print(len(job_title),len(company_name),len(job_location),len(experience_required))"
   ]
  },
  {
   "cell_type": "code",
   "execution_count": 19,
   "metadata": {},
   "outputs": [],
   "source": [
    "import pandas as pd\n",
    "jobs=pd.DataFrame({})\n",
    "jobs['title']=job_title\n",
    "jobs['company']=company_name\n",
    "jobs['location']=job_location\n",
    "jobs['experience']=experience_required"
   ]
  },
  {
   "cell_type": "code",
   "execution_count": 20,
   "metadata": {},
   "outputs": [
    {
     "data": {
      "text/html": [
       "<div>\n",
       "<style scoped>\n",
       "    .dataframe tbody tr th:only-of-type {\n",
       "        vertical-align: middle;\n",
       "    }\n",
       "\n",
       "    .dataframe tbody tr th {\n",
       "        vertical-align: top;\n",
       "    }\n",
       "\n",
       "    .dataframe thead th {\n",
       "        text-align: right;\n",
       "    }\n",
       "</style>\n",
       "<table border=\"1\" class=\"dataframe\">\n",
       "  <thead>\n",
       "    <tr style=\"text-align: right;\">\n",
       "      <th></th>\n",
       "      <th>title</th>\n",
       "      <th>company</th>\n",
       "      <th>location</th>\n",
       "      <th>experience</th>\n",
       "    </tr>\n",
       "  </thead>\n",
       "  <tbody>\n",
       "    <tr>\n",
       "      <th>0</th>\n",
       "      <td>Data Scientist - Python/Machine Learning</td>\n",
       "      <td>Jubna</td>\n",
       "      <td>Noida</td>\n",
       "      <td>5-8 Yrs</td>\n",
       "    </tr>\n",
       "    <tr>\n",
       "      <th>1</th>\n",
       "      <td>Tech Mahindra hiring For Data Scientist- Noida</td>\n",
       "      <td>tech mahindra ltd</td>\n",
       "      <td>Noida</td>\n",
       "      <td>5-10 Yrs</td>\n",
       "    </tr>\n",
       "    <tr>\n",
       "      <th>2</th>\n",
       "      <td>Data Scientist - Commercial Planning and Analysis</td>\n",
       "      <td>Air Asia India Limited</td>\n",
       "      <td>Delhi NCR, Gurgaon</td>\n",
       "      <td>1-6 Yrs</td>\n",
       "    </tr>\n",
       "    <tr>\n",
       "      <th>3</th>\n",
       "      <td>Data Scientist</td>\n",
       "      <td>Amity University</td>\n",
       "      <td>Faridabad, Delhi NCR, Ghaziabad</td>\n",
       "      <td>6-8 Yrs</td>\n",
       "    </tr>\n",
       "    <tr>\n",
       "      <th>4</th>\n",
       "      <td>Data Scientist - Machine Learning/ Artificial ...</td>\n",
       "      <td>Talent Acceleration Corridor</td>\n",
       "      <td>Delhi/NCR Delhi NCR, Noida</td>\n",
       "      <td>6-11 Yrs</td>\n",
       "    </tr>\n",
       "    <tr>\n",
       "      <th>5</th>\n",
       "      <td>GCP Skilled Analytics Resources (Data engineer...</td>\n",
       "      <td>Aerial Telecom Solutions Pvt. Ltd.</td>\n",
       "      <td>Pune, Bengaluru, Gurgaon</td>\n",
       "      <td>3-8 Yrs</td>\n",
       "    </tr>\n",
       "    <tr>\n",
       "      <th>6</th>\n",
       "      <td>Data Scientist</td>\n",
       "      <td>IBM India Pvt. Limited</td>\n",
       "      <td>Gurgaon Gurugram</td>\n",
       "      <td>3-5 Yrs</td>\n",
       "    </tr>\n",
       "    <tr>\n",
       "      <th>7</th>\n",
       "      <td>Data Scientist Machine Learning</td>\n",
       "      <td>Delhivery</td>\n",
       "      <td>Gurgaon</td>\n",
       "      <td>1-3 Yrs</td>\n",
       "    </tr>\n",
       "    <tr>\n",
       "      <th>8</th>\n",
       "      <td>Data Scientist</td>\n",
       "      <td>Eighteen Pixels India Private Limited</td>\n",
       "      <td>Delhi NCR</td>\n",
       "      <td>2-6 Yrs</td>\n",
       "    </tr>\n",
       "    <tr>\n",
       "      <th>9</th>\n",
       "      <td>Business Analyst - Data Scientist</td>\n",
       "      <td>HyreFox Consultants Pvt Ltd</td>\n",
       "      <td>Gurgaon</td>\n",
       "      <td>3-5 Yrs</td>\n",
       "    </tr>\n",
       "    <tr>\n",
       "      <th>10</th>\n",
       "      <td>Analyst - Data Scientist</td>\n",
       "      <td>HyreFox Consultants Pvt Ltd</td>\n",
       "      <td>Gurgaon</td>\n",
       "      <td>1-3 Yrs</td>\n",
       "    </tr>\n",
       "    <tr>\n",
       "      <th>11</th>\n",
       "      <td>Only Fresher / Data Scientist / Data Analyst /...</td>\n",
       "      <td>GABA Consultancy services</td>\n",
       "      <td>Delhi NCR, Noida, Gurgaon</td>\n",
       "      <td>0-0 Yrs</td>\n",
       "    </tr>\n",
       "    <tr>\n",
       "      <th>12</th>\n",
       "      <td>Senior Data Scientist</td>\n",
       "      <td>iNICU</td>\n",
       "      <td>Delhi</td>\n",
       "      <td>1-5 Yrs</td>\n",
       "    </tr>\n",
       "    <tr>\n",
       "      <th>13</th>\n",
       "      <td>Data Scientist</td>\n",
       "      <td>Sentieo</td>\n",
       "      <td>Delhi</td>\n",
       "      <td>2-7 Yrs</td>\n",
       "    </tr>\n",
       "    <tr>\n",
       "      <th>14</th>\n",
       "      <td>Data Scientist</td>\n",
       "      <td>Mahajan Imaging</td>\n",
       "      <td>Delhi</td>\n",
       "      <td>2-6 Yrs</td>\n",
       "    </tr>\n",
       "    <tr>\n",
       "      <th>15</th>\n",
       "      <td>Data Scientist</td>\n",
       "      <td>Mahajan Imaging</td>\n",
       "      <td>Delhi</td>\n",
       "      <td>2-6 Yrs</td>\n",
       "    </tr>\n",
       "    <tr>\n",
       "      <th>16</th>\n",
       "      <td>Data Scientist</td>\n",
       "      <td>World Wide Technology</td>\n",
       "      <td>Gurgaon</td>\n",
       "      <td>3-8 Yrs</td>\n",
       "    </tr>\n",
       "    <tr>\n",
       "      <th>17</th>\n",
       "      <td>Data Scientist</td>\n",
       "      <td>T &amp; A Solutions</td>\n",
       "      <td>Gurgaon</td>\n",
       "      <td>1-6 Yrs</td>\n",
       "    </tr>\n",
       "    <tr>\n",
       "      <th>18</th>\n",
       "      <td>Data Scientist</td>\n",
       "      <td>itForte Staffing Services Private Ltd.</td>\n",
       "      <td>Gurgaon</td>\n",
       "      <td>3-8 Yrs</td>\n",
       "    </tr>\n",
       "    <tr>\n",
       "      <th>19</th>\n",
       "      <td>Lead Data Scientist</td>\n",
       "      <td>NEC CORPORATION INDIA PRIVATE LTD</td>\n",
       "      <td>Delhi NCR, Noida(Sector-142 Noida)</td>\n",
       "      <td>9-14 Yrs</td>\n",
       "    </tr>\n",
       "  </tbody>\n",
       "</table>\n",
       "</div>"
      ],
      "text/plain": [
       "                                                title  \\\n",
       "0            Data Scientist - Python/Machine Learning   \n",
       "1      Tech Mahindra hiring For Data Scientist- Noida   \n",
       "2   Data Scientist - Commercial Planning and Analysis   \n",
       "3                                      Data Scientist   \n",
       "4   Data Scientist - Machine Learning/ Artificial ...   \n",
       "5   GCP Skilled Analytics Resources (Data engineer...   \n",
       "6                                      Data Scientist   \n",
       "7                     Data Scientist Machine Learning   \n",
       "8                                      Data Scientist   \n",
       "9                   Business Analyst - Data Scientist   \n",
       "10                           Analyst - Data Scientist   \n",
       "11  Only Fresher / Data Scientist / Data Analyst /...   \n",
       "12                              Senior Data Scientist   \n",
       "13                                     Data Scientist   \n",
       "14                                     Data Scientist   \n",
       "15                                     Data Scientist   \n",
       "16                                     Data Scientist   \n",
       "17                                     Data Scientist   \n",
       "18                                     Data Scientist   \n",
       "19                                Lead Data Scientist   \n",
       "\n",
       "                                   company  \\\n",
       "0                                    Jubna   \n",
       "1                        tech mahindra ltd   \n",
       "2                   Air Asia India Limited   \n",
       "3                         Amity University   \n",
       "4             Talent Acceleration Corridor   \n",
       "5       Aerial Telecom Solutions Pvt. Ltd.   \n",
       "6                   IBM India Pvt. Limited   \n",
       "7                                Delhivery   \n",
       "8    Eighteen Pixels India Private Limited   \n",
       "9              HyreFox Consultants Pvt Ltd   \n",
       "10             HyreFox Consultants Pvt Ltd   \n",
       "11               GABA Consultancy services   \n",
       "12                                   iNICU   \n",
       "13                                 Sentieo   \n",
       "14                         Mahajan Imaging   \n",
       "15                         Mahajan Imaging   \n",
       "16                   World Wide Technology   \n",
       "17                         T & A Solutions   \n",
       "18  itForte Staffing Services Private Ltd.   \n",
       "19       NEC CORPORATION INDIA PRIVATE LTD   \n",
       "\n",
       "                              location experience  \n",
       "0                                Noida    5-8 Yrs  \n",
       "1                                Noida   5-10 Yrs  \n",
       "2                   Delhi NCR, Gurgaon    1-6 Yrs  \n",
       "3      Faridabad, Delhi NCR, Ghaziabad    6-8 Yrs  \n",
       "4           Delhi/NCR Delhi NCR, Noida   6-11 Yrs  \n",
       "5             Pune, Bengaluru, Gurgaon    3-8 Yrs  \n",
       "6                     Gurgaon Gurugram    3-5 Yrs  \n",
       "7                              Gurgaon    1-3 Yrs  \n",
       "8                            Delhi NCR    2-6 Yrs  \n",
       "9                              Gurgaon    3-5 Yrs  \n",
       "10                             Gurgaon    1-3 Yrs  \n",
       "11           Delhi NCR, Noida, Gurgaon    0-0 Yrs  \n",
       "12                               Delhi    1-5 Yrs  \n",
       "13                               Delhi    2-7 Yrs  \n",
       "14                               Delhi    2-6 Yrs  \n",
       "15                               Delhi    2-6 Yrs  \n",
       "16                             Gurgaon    3-8 Yrs  \n",
       "17                             Gurgaon    1-6 Yrs  \n",
       "18                             Gurgaon    3-8 Yrs  \n",
       "19  Delhi NCR, Noida(Sector-142 Noida)   9-14 Yrs  "
      ]
     },
     "execution_count": 20,
     "metadata": {},
     "output_type": "execute_result"
    }
   ],
   "source": [
    "jobs"
   ]
  },
  {
   "cell_type": "code",
   "execution_count": null,
   "metadata": {},
   "outputs": [],
   "source": []
  }
 ],
 "metadata": {
  "kernelspec": {
   "display_name": "Python 3",
   "language": "python",
   "name": "python3"
  },
  "language_info": {
   "codemirror_mode": {
    "name": "ipython",
    "version": 3
   },
   "file_extension": ".py",
   "mimetype": "text/x-python",
   "name": "python",
   "nbconvert_exporter": "python",
   "pygments_lexer": "ipython3",
   "version": "3.8.3"
  }
 },
 "nbformat": 4,
 "nbformat_minor": 4
}
