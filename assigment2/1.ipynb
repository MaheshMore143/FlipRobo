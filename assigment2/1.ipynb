{
 "cells": [
  {
   "cell_type": "code",
   "execution_count": 23,
   "metadata": {},
   "outputs": [
    {
     "name": "stdout",
     "output_type": "stream",
     "text": [
      "Requirement already satisfied: selenium in c:\\users\\dell\\anaconda3\\lib\\site-packages (3.141.0)\n",
      "Requirement already satisfied: urllib3 in c:\\users\\dell\\anaconda3\\lib\\site-packages (from selenium) (1.25.9)\n"
     ]
    }
   ],
   "source": [
    "!pip install selenium"
   ]
  },
  {
   "cell_type": "code",
   "execution_count": 24,
   "metadata": {},
   "outputs": [],
   "source": [
    "import selenium\n",
    "import pandas as pd\n",
    "from selenium import webdriver"
   ]
  },
  {
   "cell_type": "code",
   "execution_count": 25,
   "metadata": {},
   "outputs": [],
   "source": [
    "driver=webdriver.Chrome(r'C:\\Users\\DELL\\Downloads\\chromedriver.exe')"
   ]
  },
  {
   "cell_type": "code",
   "execution_count": 26,
   "metadata": {},
   "outputs": [],
   "source": [
    "url='https://www.naukri.com/data-analyst-jobs-in-bangalore?k=data%20analyst&l=bangalore'"
   ]
  },
  {
   "cell_type": "code",
   "execution_count": 27,
   "metadata": {},
   "outputs": [],
   "source": [
    "driver.get(url)"
   ]
  },
  {
   "cell_type": "code",
   "execution_count": 28,
   "metadata": {},
   "outputs": [],
   "source": [
    "job_title=[]\n",
    "company_name=[]\n",
    "job_location=[]\n",
    "experience_required=[]"
   ]
  },
  {
   "cell_type": "code",
   "execution_count": 29,
   "metadata": {},
   "outputs": [],
   "source": [
    "titles_tag=driver.find_elements_by_xpath(\"//a[@class='title fw500 ellipsis']\")"
   ]
  },
  {
   "cell_type": "code",
   "execution_count": 30,
   "metadata": {},
   "outputs": [
    {
     "data": {
      "text/plain": [
       "[<selenium.webdriver.remote.webelement.WebElement (session=\"5926ec6d2cd969183b01bd698f4cd247\", element=\"549c2412-2a14-4f51-9639-ab625df3b4e6\")>,\n",
       " <selenium.webdriver.remote.webelement.WebElement (session=\"5926ec6d2cd969183b01bd698f4cd247\", element=\"b9ce4e3a-0c8c-46a3-8d6e-315f533fdf6f\")>,\n",
       " <selenium.webdriver.remote.webelement.WebElement (session=\"5926ec6d2cd969183b01bd698f4cd247\", element=\"9594e8c4-4948-4c83-8c1c-6fc031ff5614\")>,\n",
       " <selenium.webdriver.remote.webelement.WebElement (session=\"5926ec6d2cd969183b01bd698f4cd247\", element=\"2c161a95-0d9d-4f50-8c91-cc29db992f3f\")>,\n",
       " <selenium.webdriver.remote.webelement.WebElement (session=\"5926ec6d2cd969183b01bd698f4cd247\", element=\"e12f385d-3cdc-46df-af21-bad46112367f\")>,\n",
       " <selenium.webdriver.remote.webelement.WebElement (session=\"5926ec6d2cd969183b01bd698f4cd247\", element=\"f182e5fd-abf0-4994-bdae-1af6631cd301\")>,\n",
       " <selenium.webdriver.remote.webelement.WebElement (session=\"5926ec6d2cd969183b01bd698f4cd247\", element=\"ac160a5e-0a64-4f89-9a1a-463820d88285\")>,\n",
       " <selenium.webdriver.remote.webelement.WebElement (session=\"5926ec6d2cd969183b01bd698f4cd247\", element=\"b4c8c32e-6e4d-4e57-8aff-45fcd96ab946\")>,\n",
       " <selenium.webdriver.remote.webelement.WebElement (session=\"5926ec6d2cd969183b01bd698f4cd247\", element=\"8b94fdf2-929f-4599-9291-f3caad027f17\")>,\n",
       " <selenium.webdriver.remote.webelement.WebElement (session=\"5926ec6d2cd969183b01bd698f4cd247\", element=\"a923314a-b8dd-480f-a22f-a732bb9ba173\")>]"
      ]
     },
     "execution_count": 30,
     "metadata": {},
     "output_type": "execute_result"
    }
   ],
   "source": [
    "titles_tag[0:10]"
   ]
  },
  {
   "cell_type": "code",
   "execution_count": 31,
   "metadata": {},
   "outputs": [
    {
     "data": {
      "text/plain": [
       "['Data Scientist/Data Analyst-immediate',\n",
       " 'Data Analyst',\n",
       " 'Data Analyst',\n",
       " 'ID&A - Data Analyst - Informatica MDM',\n",
       " 'Data Analyst',\n",
       " 'Data Analyst',\n",
       " 'Data Analyst',\n",
       " 'Data Analyst - O2C - Bangalore',\n",
       " 'Business Data Analyst - Database Design/Mining',\n",
       " 'Data Analyst - MySQL/PostgreSQL']"
      ]
     },
     "execution_count": 31,
     "metadata": {},
     "output_type": "execute_result"
    }
   ],
   "source": [
    "for i in titles_tag:\n",
    "    title=i.text\n",
    "    job_title.append(title)\n",
    "job_title[0:10]    "
   ]
  },
  {
   "cell_type": "code",
   "execution_count": 32,
   "metadata": {},
   "outputs": [],
   "source": [
    "company_tag=driver.find_elements_by_xpath(\"//a[@class='subTitle ellipsis fleft']\")"
   ]
  },
  {
   "cell_type": "code",
   "execution_count": 33,
   "metadata": {},
   "outputs": [
    {
     "data": {
      "text/plain": [
       "[<selenium.webdriver.remote.webelement.WebElement (session=\"5926ec6d2cd969183b01bd698f4cd247\", element=\"d083246c-344a-467c-89aa-c6ac23af1eac\")>,\n",
       " <selenium.webdriver.remote.webelement.WebElement (session=\"5926ec6d2cd969183b01bd698f4cd247\", element=\"8f3715eb-4c07-4a94-a4a2-5799b2002d9a\")>,\n",
       " <selenium.webdriver.remote.webelement.WebElement (session=\"5926ec6d2cd969183b01bd698f4cd247\", element=\"506a1a28-c0f3-45e5-9945-a2271755a9fc\")>,\n",
       " <selenium.webdriver.remote.webelement.WebElement (session=\"5926ec6d2cd969183b01bd698f4cd247\", element=\"0c76e934-e761-49eb-bf48-57986086f913\")>,\n",
       " <selenium.webdriver.remote.webelement.WebElement (session=\"5926ec6d2cd969183b01bd698f4cd247\", element=\"5e129b7a-9a0c-402f-a899-708fdf910ddb\")>,\n",
       " <selenium.webdriver.remote.webelement.WebElement (session=\"5926ec6d2cd969183b01bd698f4cd247\", element=\"a657c73c-cf89-484e-832a-0879de230007\")>,\n",
       " <selenium.webdriver.remote.webelement.WebElement (session=\"5926ec6d2cd969183b01bd698f4cd247\", element=\"bdc50d9d-2b99-43ba-94b1-94a57f703ece\")>,\n",
       " <selenium.webdriver.remote.webelement.WebElement (session=\"5926ec6d2cd969183b01bd698f4cd247\", element=\"0fa88a64-1b4a-4755-ae09-908b0c92cc36\")>,\n",
       " <selenium.webdriver.remote.webelement.WebElement (session=\"5926ec6d2cd969183b01bd698f4cd247\", element=\"2880becf-f6e6-47c8-962d-ff8d57700bdd\")>,\n",
       " <selenium.webdriver.remote.webelement.WebElement (session=\"5926ec6d2cd969183b01bd698f4cd247\", element=\"6704306d-a269-438d-a2db-133c66901c1f\")>]"
      ]
     },
     "execution_count": 33,
     "metadata": {},
     "output_type": "execute_result"
    }
   ],
   "source": [
    "company_tag[0:10]"
   ]
  },
  {
   "cell_type": "code",
   "execution_count": 34,
   "metadata": {},
   "outputs": [
    {
     "data": {
      "text/plain": [
       "['CAIA-Center For Artificial Intelligence & Advanced Analytics',\n",
       " 'Applied Materials',\n",
       " 'Cognizant Technology Solutions India Pvt Ltd',\n",
       " 'Shell India Markets Private Limited',\n",
       " 'GlaxoSmithKline Pharmaceuticals Limited',\n",
       " 'Cognizant Technology Solutions India Pvt Ltd',\n",
       " 'Shell India Markets Private Limited',\n",
       " 'RANDSTAD INDIA PVT LTD',\n",
       " 'AugmatrixGo',\n",
       " 'Astegic']"
      ]
     },
     "execution_count": 34,
     "metadata": {},
     "output_type": "execute_result"
    }
   ],
   "source": [
    "for i in company_tag:\n",
    "    company=i.text\n",
    "    company_name.append(company)\n",
    "company_name[0:10]    "
   ]
  },
  {
   "cell_type": "code",
   "execution_count": 35,
   "metadata": {},
   "outputs": [],
   "source": [
    "location_tag=driver.find_elements_by_xpath(\"//li[@class='fleft grey-text br2 placeHolderLi location']/span[1]\")"
   ]
  },
  {
   "cell_type": "code",
   "execution_count": 36,
   "metadata": {},
   "outputs": [
    {
     "data": {
      "text/plain": [
       "[<selenium.webdriver.remote.webelement.WebElement (session=\"5926ec6d2cd969183b01bd698f4cd247\", element=\"c402c2d0-957d-457e-b03f-83106c71c804\")>,\n",
       " <selenium.webdriver.remote.webelement.WebElement (session=\"5926ec6d2cd969183b01bd698f4cd247\", element=\"94042c6e-01a0-450b-b937-76e0a840da9f\")>,\n",
       " <selenium.webdriver.remote.webelement.WebElement (session=\"5926ec6d2cd969183b01bd698f4cd247\", element=\"29a92d83-3731-4d27-8a92-c013427c3bb1\")>,\n",
       " <selenium.webdriver.remote.webelement.WebElement (session=\"5926ec6d2cd969183b01bd698f4cd247\", element=\"556649d7-e297-4951-9c2d-aedf762198cd\")>,\n",
       " <selenium.webdriver.remote.webelement.WebElement (session=\"5926ec6d2cd969183b01bd698f4cd247\", element=\"9f572f84-5ac1-4c14-9cfe-9eff1d448bb6\")>,\n",
       " <selenium.webdriver.remote.webelement.WebElement (session=\"5926ec6d2cd969183b01bd698f4cd247\", element=\"3a0795c4-8f49-43fb-8dd5-2505a9eaaee8\")>,\n",
       " <selenium.webdriver.remote.webelement.WebElement (session=\"5926ec6d2cd969183b01bd698f4cd247\", element=\"d9d70490-8da7-4c0f-a7e1-14320da738ad\")>,\n",
       " <selenium.webdriver.remote.webelement.WebElement (session=\"5926ec6d2cd969183b01bd698f4cd247\", element=\"2fc46988-d786-4b16-a6b3-c83efd5ba6c2\")>,\n",
       " <selenium.webdriver.remote.webelement.WebElement (session=\"5926ec6d2cd969183b01bd698f4cd247\", element=\"74f83e75-2a1e-4e47-a0cb-3967a9cc4a08\")>,\n",
       " <selenium.webdriver.remote.webelement.WebElement (session=\"5926ec6d2cd969183b01bd698f4cd247\", element=\"825e2aeb-0e88-46c7-8774-569ac6f74d7b\")>]"
      ]
     },
     "execution_count": 36,
     "metadata": {},
     "output_type": "execute_result"
    }
   ],
   "source": [
    "location_tag[0:10]"
   ]
  },
  {
   "cell_type": "code",
   "execution_count": 37,
   "metadata": {},
   "outputs": [
    {
     "data": {
      "text/plain": [
       "['Chennai, Pune, Bengaluru, Hyderabad',\n",
       " 'Bengaluru',\n",
       " 'Mumbai, Bengaluru, Hyderabad',\n",
       " 'Bengaluru',\n",
       " 'Bengaluru',\n",
       " 'Bengaluru, Kolkata',\n",
       " 'Bengaluru',\n",
       " 'Bengaluru',\n",
       " 'Bengaluru',\n",
       " 'Pune, Mumbai, Bengaluru, Hyderabad, Noida, Jaipur']"
      ]
     },
     "execution_count": 37,
     "metadata": {},
     "output_type": "execute_result"
    }
   ],
   "source": [
    "for i in location_tag:\n",
    "    location=i.text\n",
    "    job_location.append(location)\n",
    "job_location[0:10]"
   ]
  },
  {
   "cell_type": "code",
   "execution_count": 38,
   "metadata": {},
   "outputs": [],
   "source": [
    "experience_tag=driver.find_elements_by_xpath(\"//li[@class='fleft grey-text br2 placeHolderLi experience']/span[1]\")"
   ]
  },
  {
   "cell_type": "code",
   "execution_count": 39,
   "metadata": {},
   "outputs": [
    {
     "data": {
      "text/plain": [
       "[<selenium.webdriver.remote.webelement.WebElement (session=\"5926ec6d2cd969183b01bd698f4cd247\", element=\"d4bff378-d1dd-44a4-b056-31aa4027bf37\")>,\n",
       " <selenium.webdriver.remote.webelement.WebElement (session=\"5926ec6d2cd969183b01bd698f4cd247\", element=\"e2a053a3-1146-4c3d-80c1-d877b1a60492\")>,\n",
       " <selenium.webdriver.remote.webelement.WebElement (session=\"5926ec6d2cd969183b01bd698f4cd247\", element=\"e3490ab6-747e-4749-af4b-5eb196fa0899\")>,\n",
       " <selenium.webdriver.remote.webelement.WebElement (session=\"5926ec6d2cd969183b01bd698f4cd247\", element=\"60b18dd0-5c5c-42b5-b720-5924b5ae5c31\")>,\n",
       " <selenium.webdriver.remote.webelement.WebElement (session=\"5926ec6d2cd969183b01bd698f4cd247\", element=\"34b67c2a-6787-4577-bd32-a32f3e0fa30c\")>,\n",
       " <selenium.webdriver.remote.webelement.WebElement (session=\"5926ec6d2cd969183b01bd698f4cd247\", element=\"1a09eaf3-0bcb-42f5-b7ab-163ddd5c1271\")>,\n",
       " <selenium.webdriver.remote.webelement.WebElement (session=\"5926ec6d2cd969183b01bd698f4cd247\", element=\"7e915fd6-213d-439a-9f42-d217328fb1e2\")>,\n",
       " <selenium.webdriver.remote.webelement.WebElement (session=\"5926ec6d2cd969183b01bd698f4cd247\", element=\"3ce50d7a-4635-4d6e-a068-2ff67074f421\")>,\n",
       " <selenium.webdriver.remote.webelement.WebElement (session=\"5926ec6d2cd969183b01bd698f4cd247\", element=\"c1937373-7cd7-4847-a0d7-3009eebfd478\")>,\n",
       " <selenium.webdriver.remote.webelement.WebElement (session=\"5926ec6d2cd969183b01bd698f4cd247\", element=\"c0755a4d-128d-47e2-835c-362eb9866aaa\")>]"
      ]
     },
     "execution_count": 39,
     "metadata": {},
     "output_type": "execute_result"
    }
   ],
   "source": [
    "experience_tag[0:10]"
   ]
  },
  {
   "cell_type": "code",
   "execution_count": 40,
   "metadata": {},
   "outputs": [
    {
     "data": {
      "text/plain": [
       "['0-3 Yrs',\n",
       " '6-11 Yrs',\n",
       " '2-3 Yrs',\n",
       " '6-9 Yrs',\n",
       " '2-7 Yrs',\n",
       " '3-4 Yrs',\n",
       " '5-8 Yrs',\n",
       " '2-4 Yrs',\n",
       " '2-5 Yrs',\n",
       " '5-10 Yrs']"
      ]
     },
     "execution_count": 40,
     "metadata": {},
     "output_type": "execute_result"
    }
   ],
   "source": [
    "for i in experience_tag:\n",
    "    experience=i.text\n",
    "    experience_required.append(experience)\n",
    "experience_required[0:10]    "
   ]
  },
  {
   "cell_type": "code",
   "execution_count": 41,
   "metadata": {},
   "outputs": [
    {
     "name": "stdout",
     "output_type": "stream",
     "text": [
      "20 20 20 20\n"
     ]
    }
   ],
   "source": [
    "print(len(job_title),len(company_name),len(job_location),len(experience_required))"
   ]
  },
  {
   "cell_type": "code",
   "execution_count": 42,
   "metadata": {},
   "outputs": [],
   "source": [
    "import pandas as pd\n",
    "jobs=pd.DataFrame({})\n",
    "jobs['title']=job_title\n",
    "jobs['company']=company_name\n",
    "jobs['location']=job_location\n",
    "jobs['experience']=experience_required"
   ]
  },
  {
   "cell_type": "code",
   "execution_count": 43,
   "metadata": {},
   "outputs": [
    {
     "data": {
      "text/html": [
       "<div>\n",
       "<style scoped>\n",
       "    .dataframe tbody tr th:only-of-type {\n",
       "        vertical-align: middle;\n",
       "    }\n",
       "\n",
       "    .dataframe tbody tr th {\n",
       "        vertical-align: top;\n",
       "    }\n",
       "\n",
       "    .dataframe thead th {\n",
       "        text-align: right;\n",
       "    }\n",
       "</style>\n",
       "<table border=\"1\" class=\"dataframe\">\n",
       "  <thead>\n",
       "    <tr style=\"text-align: right;\">\n",
       "      <th></th>\n",
       "      <th>title</th>\n",
       "      <th>company</th>\n",
       "      <th>location</th>\n",
       "      <th>experience</th>\n",
       "    </tr>\n",
       "  </thead>\n",
       "  <tbody>\n",
       "    <tr>\n",
       "      <th>0</th>\n",
       "      <td>Data Scientist/Data Analyst-immediate</td>\n",
       "      <td>CAIA-Center For Artificial Intelligence &amp; Adva...</td>\n",
       "      <td>Chennai, Pune, Bengaluru, Hyderabad</td>\n",
       "      <td>0-3 Yrs</td>\n",
       "    </tr>\n",
       "    <tr>\n",
       "      <th>1</th>\n",
       "      <td>Data Analyst</td>\n",
       "      <td>Applied Materials</td>\n",
       "      <td>Bengaluru</td>\n",
       "      <td>6-11 Yrs</td>\n",
       "    </tr>\n",
       "    <tr>\n",
       "      <th>2</th>\n",
       "      <td>Data Analyst</td>\n",
       "      <td>Cognizant Technology Solutions India Pvt Ltd</td>\n",
       "      <td>Mumbai, Bengaluru, Hyderabad</td>\n",
       "      <td>2-3 Yrs</td>\n",
       "    </tr>\n",
       "    <tr>\n",
       "      <th>3</th>\n",
       "      <td>ID&amp;A - Data Analyst - Informatica MDM</td>\n",
       "      <td>Shell India Markets Private Limited</td>\n",
       "      <td>Bengaluru</td>\n",
       "      <td>6-9 Yrs</td>\n",
       "    </tr>\n",
       "    <tr>\n",
       "      <th>4</th>\n",
       "      <td>Data Analyst</td>\n",
       "      <td>GlaxoSmithKline Pharmaceuticals Limited</td>\n",
       "      <td>Bengaluru</td>\n",
       "      <td>2-7 Yrs</td>\n",
       "    </tr>\n",
       "    <tr>\n",
       "      <th>5</th>\n",
       "      <td>Data Analyst</td>\n",
       "      <td>Cognizant Technology Solutions India Pvt Ltd</td>\n",
       "      <td>Bengaluru, Kolkata</td>\n",
       "      <td>3-4 Yrs</td>\n",
       "    </tr>\n",
       "    <tr>\n",
       "      <th>6</th>\n",
       "      <td>Data Analyst</td>\n",
       "      <td>Shell India Markets Private Limited</td>\n",
       "      <td>Bengaluru</td>\n",
       "      <td>5-8 Yrs</td>\n",
       "    </tr>\n",
       "    <tr>\n",
       "      <th>7</th>\n",
       "      <td>Data Analyst - O2C - Bangalore</td>\n",
       "      <td>RANDSTAD INDIA PVT LTD</td>\n",
       "      <td>Bengaluru</td>\n",
       "      <td>2-4 Yrs</td>\n",
       "    </tr>\n",
       "    <tr>\n",
       "      <th>8</th>\n",
       "      <td>Business Data Analyst - Database Design/Mining</td>\n",
       "      <td>AugmatrixGo</td>\n",
       "      <td>Bengaluru</td>\n",
       "      <td>2-5 Yrs</td>\n",
       "    </tr>\n",
       "    <tr>\n",
       "      <th>9</th>\n",
       "      <td>Data Analyst - MySQL/PostgreSQL</td>\n",
       "      <td>Astegic</td>\n",
       "      <td>Pune, Mumbai, Bengaluru, Hyderabad, Noida, Jaipur</td>\n",
       "      <td>5-10 Yrs</td>\n",
       "    </tr>\n",
       "    <tr>\n",
       "      <th>10</th>\n",
       "      <td>Hiring For Data Analyst On Contractual Role</td>\n",
       "      <td>Flipkart Internet Private Limited</td>\n",
       "      <td>Bengaluru</td>\n",
       "      <td>1-3 Yrs</td>\n",
       "    </tr>\n",
       "    <tr>\n",
       "      <th>11</th>\n",
       "      <td>Data Analyst (Telcom domain)</td>\n",
       "      <td>Oracle India Pvt. Ltd.</td>\n",
       "      <td>Bengaluru</td>\n",
       "      <td>5-10 Yrs</td>\n",
       "    </tr>\n",
       "    <tr>\n",
       "      <th>12</th>\n",
       "      <td>Data Analyst</td>\n",
       "      <td>IBM India Pvt. Limited</td>\n",
       "      <td>Bengaluru</td>\n",
       "      <td>5-8 Yrs</td>\n",
       "    </tr>\n",
       "    <tr>\n",
       "      <th>13</th>\n",
       "      <td>Hiring For Data Analyst (On Contractual Role)</td>\n",
       "      <td>Flipkart Internet Private Limited</td>\n",
       "      <td>Bengaluru</td>\n",
       "      <td>2-4 Yrs</td>\n",
       "    </tr>\n",
       "    <tr>\n",
       "      <th>14</th>\n",
       "      <td>SENIOR DATA ANALYST</td>\n",
       "      <td>McAfee Software (India) Pvt. Ltd</td>\n",
       "      <td>Bengaluru</td>\n",
       "      <td>4-7 Yrs</td>\n",
       "    </tr>\n",
       "    <tr>\n",
       "      <th>15</th>\n",
       "      <td>Sr Data Analyst - Contractual Role | Nike</td>\n",
       "      <td>ANSR GLOBAL CORPORATION PRIVATE LIMITED</td>\n",
       "      <td>Bengaluru</td>\n",
       "      <td>5-8 Yrs</td>\n",
       "    </tr>\n",
       "    <tr>\n",
       "      <th>16</th>\n",
       "      <td>Data Analyst</td>\n",
       "      <td>Snaphunt</td>\n",
       "      <td>Bengaluru</td>\n",
       "      <td>3-5 Yrs</td>\n",
       "    </tr>\n",
       "    <tr>\n",
       "      <th>17</th>\n",
       "      <td>Data Analyst / Scientist</td>\n",
       "      <td>Instamojo</td>\n",
       "      <td>Bengaluru</td>\n",
       "      <td>2-5 Yrs</td>\n",
       "    </tr>\n",
       "    <tr>\n",
       "      <th>18</th>\n",
       "      <td>Data Analyst / Scientist</td>\n",
       "      <td>Blisaura Events Studio Pvt Ltd</td>\n",
       "      <td>Bengaluru</td>\n",
       "      <td>2-5 Yrs</td>\n",
       "    </tr>\n",
       "    <tr>\n",
       "      <th>19</th>\n",
       "      <td>Data Analyst</td>\n",
       "      <td>reach52</td>\n",
       "      <td>Bengaluru</td>\n",
       "      <td>4-6 Yrs</td>\n",
       "    </tr>\n",
       "  </tbody>\n",
       "</table>\n",
       "</div>"
      ],
      "text/plain": [
       "                                             title  \\\n",
       "0            Data Scientist/Data Analyst-immediate   \n",
       "1                                     Data Analyst   \n",
       "2                                     Data Analyst   \n",
       "3            ID&A - Data Analyst - Informatica MDM   \n",
       "4                                     Data Analyst   \n",
       "5                                     Data Analyst   \n",
       "6                                     Data Analyst   \n",
       "7                   Data Analyst - O2C - Bangalore   \n",
       "8   Business Data Analyst - Database Design/Mining   \n",
       "9                  Data Analyst - MySQL/PostgreSQL   \n",
       "10     Hiring For Data Analyst On Contractual Role   \n",
       "11                    Data Analyst (Telcom domain)   \n",
       "12                                    Data Analyst   \n",
       "13   Hiring For Data Analyst (On Contractual Role)   \n",
       "14                             SENIOR DATA ANALYST   \n",
       "15       Sr Data Analyst - Contractual Role | Nike   \n",
       "16                                    Data Analyst   \n",
       "17                        Data Analyst / Scientist   \n",
       "18                        Data Analyst / Scientist   \n",
       "19                                    Data Analyst   \n",
       "\n",
       "                                              company  \\\n",
       "0   CAIA-Center For Artificial Intelligence & Adva...   \n",
       "1                                   Applied Materials   \n",
       "2        Cognizant Technology Solutions India Pvt Ltd   \n",
       "3                 Shell India Markets Private Limited   \n",
       "4             GlaxoSmithKline Pharmaceuticals Limited   \n",
       "5        Cognizant Technology Solutions India Pvt Ltd   \n",
       "6                 Shell India Markets Private Limited   \n",
       "7                              RANDSTAD INDIA PVT LTD   \n",
       "8                                         AugmatrixGo   \n",
       "9                                             Astegic   \n",
       "10                  Flipkart Internet Private Limited   \n",
       "11                             Oracle India Pvt. Ltd.   \n",
       "12                             IBM India Pvt. Limited   \n",
       "13                  Flipkart Internet Private Limited   \n",
       "14                   McAfee Software (India) Pvt. Ltd   \n",
       "15            ANSR GLOBAL CORPORATION PRIVATE LIMITED   \n",
       "16                                           Snaphunt   \n",
       "17                                          Instamojo   \n",
       "18                     Blisaura Events Studio Pvt Ltd   \n",
       "19                                            reach52   \n",
       "\n",
       "                                             location experience  \n",
       "0                 Chennai, Pune, Bengaluru, Hyderabad    0-3 Yrs  \n",
       "1                                           Bengaluru   6-11 Yrs  \n",
       "2                        Mumbai, Bengaluru, Hyderabad    2-3 Yrs  \n",
       "3                                           Bengaluru    6-9 Yrs  \n",
       "4                                           Bengaluru    2-7 Yrs  \n",
       "5                                  Bengaluru, Kolkata    3-4 Yrs  \n",
       "6                                           Bengaluru    5-8 Yrs  \n",
       "7                                           Bengaluru    2-4 Yrs  \n",
       "8                                           Bengaluru    2-5 Yrs  \n",
       "9   Pune, Mumbai, Bengaluru, Hyderabad, Noida, Jaipur   5-10 Yrs  \n",
       "10                                          Bengaluru    1-3 Yrs  \n",
       "11                                          Bengaluru   5-10 Yrs  \n",
       "12                                          Bengaluru    5-8 Yrs  \n",
       "13                                          Bengaluru    2-4 Yrs  \n",
       "14                                          Bengaluru    4-7 Yrs  \n",
       "15                                          Bengaluru    5-8 Yrs  \n",
       "16                                          Bengaluru    3-5 Yrs  \n",
       "17                                          Bengaluru    2-5 Yrs  \n",
       "18                                          Bengaluru    2-5 Yrs  \n",
       "19                                          Bengaluru    4-6 Yrs  "
      ]
     },
     "execution_count": 43,
     "metadata": {},
     "output_type": "execute_result"
    }
   ],
   "source": [
    "jobs"
   ]
  },
  {
   "cell_type": "code",
   "execution_count": null,
   "metadata": {},
   "outputs": [],
   "source": []
  }
 ],
 "metadata": {
  "kernelspec": {
   "display_name": "Python 3",
   "language": "python",
   "name": "python3"
  },
  "language_info": {
   "codemirror_mode": {
    "name": "ipython",
    "version": 3
   },
   "file_extension": ".py",
   "mimetype": "text/x-python",
   "name": "python",
   "nbconvert_exporter": "python",
   "pygments_lexer": "ipython3",
   "version": "3.8.3"
  }
 },
 "nbformat": 4,
 "nbformat_minor": 4
}
