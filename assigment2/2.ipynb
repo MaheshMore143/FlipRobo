{
 "cells": [
  {
   "cell_type": "code",
   "execution_count": 1,
   "metadata": {},
   "outputs": [],
   "source": [
    "import selenium\n",
    "import pandas as pd\n",
    "from selenium import webdriver"
   ]
  },
  {
   "cell_type": "code",
   "execution_count": 2,
   "metadata": {},
   "outputs": [],
   "source": [
    "driver=webdriver.Chrome(r'C:\\Users\\DELL\\Downloads\\chromedriver.exe')"
   ]
  },
  {
   "cell_type": "code",
   "execution_count": 3,
   "metadata": {},
   "outputs": [],
   "source": [
    "url='https://www.naukri.com/data-scientist-jobs-in-banglore?k=data%20scientist&l=banglore'"
   ]
  },
  {
   "cell_type": "code",
   "execution_count": 4,
   "metadata": {},
   "outputs": [],
   "source": [
    "driver.get(url)"
   ]
  },
  {
   "cell_type": "code",
   "execution_count": 5,
   "metadata": {},
   "outputs": [],
   "source": [
    "job_title=[]\n",
    "company_name=[]\n",
    "job_location=[]\n",
    "job_description=[]"
   ]
  },
  {
   "cell_type": "code",
   "execution_count": 6,
   "metadata": {},
   "outputs": [],
   "source": [
    "titles_tag=driver.find_elements_by_xpath(\"//a[@class='title fw500 ellipsis']\")"
   ]
  },
  {
   "cell_type": "code",
   "execution_count": 7,
   "metadata": {},
   "outputs": [
    {
     "data": {
      "text/plain": [
       "[<selenium.webdriver.remote.webelement.WebElement (session=\"666637561a46b96cfd52d6481aa4c8f1\", element=\"ebdf6400-23e4-4835-a20c-c6755283e7d7\")>,\n",
       " <selenium.webdriver.remote.webelement.WebElement (session=\"666637561a46b96cfd52d6481aa4c8f1\", element=\"04130396-5f8c-457c-9144-c4172c34916a\")>,\n",
       " <selenium.webdriver.remote.webelement.WebElement (session=\"666637561a46b96cfd52d6481aa4c8f1\", element=\"218a6533-aab1-4193-a5a6-35a91cdadf7b\")>,\n",
       " <selenium.webdriver.remote.webelement.WebElement (session=\"666637561a46b96cfd52d6481aa4c8f1\", element=\"4225744d-1170-4e92-8760-e71fa7411943\")>,\n",
       " <selenium.webdriver.remote.webelement.WebElement (session=\"666637561a46b96cfd52d6481aa4c8f1\", element=\"8a5f2640-bc93-4a3e-974c-78fc7f32931b\")>,\n",
       " <selenium.webdriver.remote.webelement.WebElement (session=\"666637561a46b96cfd52d6481aa4c8f1\", element=\"daadfb40-bc05-447d-9248-d88a5bb78b5f\")>,\n",
       " <selenium.webdriver.remote.webelement.WebElement (session=\"666637561a46b96cfd52d6481aa4c8f1\", element=\"0ccf0a7a-7c0d-4e40-8158-3753fcf7eeb5\")>,\n",
       " <selenium.webdriver.remote.webelement.WebElement (session=\"666637561a46b96cfd52d6481aa4c8f1\", element=\"ad2e2a17-eb8e-4850-83fe-a44ddfb7809a\")>,\n",
       " <selenium.webdriver.remote.webelement.WebElement (session=\"666637561a46b96cfd52d6481aa4c8f1\", element=\"cc6a90b2-f424-46af-862a-3bce075b7e51\")>,\n",
       " <selenium.webdriver.remote.webelement.WebElement (session=\"666637561a46b96cfd52d6481aa4c8f1\", element=\"2072d8f8-0f93-4f5e-b760-a7186a214f77\")>]"
      ]
     },
     "execution_count": 7,
     "metadata": {},
     "output_type": "execute_result"
    }
   ],
   "source": [
    "titles_tag[0:10]"
   ]
  },
  {
   "cell_type": "code",
   "execution_count": 8,
   "metadata": {},
   "outputs": [
    {
     "data": {
      "text/plain": [
       "['Data Scientist - Machine Learning - Remote Working',\n",
       " 'Data Scientist/Data Analyst-immediate',\n",
       " 'HCL hiring Data scientist with exp in machine learning &SQL-Bangalore!',\n",
       " 'Data Scientist - Machine Learning',\n",
       " 'Senior Associate - Data Scientist/ML Engineer',\n",
       " 'Senior Data Scientist',\n",
       " 'Software Developer - Data Scientist / NLP / Machine Learning',\n",
       " 'Sr. Data Scientist',\n",
       " 'Data Scientist - Machine Learning',\n",
       " 'Data Scientist - Machine Learning']"
      ]
     },
     "execution_count": 8,
     "metadata": {},
     "output_type": "execute_result"
    }
   ],
   "source": [
    "for i in titles_tag:\n",
    "    title=i.text\n",
    "    job_title.append(title)\n",
    "job_title[0:10]    "
   ]
  },
  {
   "cell_type": "code",
   "execution_count": 9,
   "metadata": {},
   "outputs": [],
   "source": [
    "company_tag=driver.find_elements_by_xpath(\"//a[@class='subTitle ellipsis fleft']\")"
   ]
  },
  {
   "cell_type": "code",
   "execution_count": 10,
   "metadata": {},
   "outputs": [
    {
     "data": {
      "text/plain": [
       "[<selenium.webdriver.remote.webelement.WebElement (session=\"666637561a46b96cfd52d6481aa4c8f1\", element=\"6dccb5cb-ba2f-4e43-842f-6aed538b5895\")>,\n",
       " <selenium.webdriver.remote.webelement.WebElement (session=\"666637561a46b96cfd52d6481aa4c8f1\", element=\"7bb20d7b-8173-4f3a-a77e-1352682746fe\")>,\n",
       " <selenium.webdriver.remote.webelement.WebElement (session=\"666637561a46b96cfd52d6481aa4c8f1\", element=\"4b34dddf-f4bb-4186-bdec-6b11ae3ee036\")>,\n",
       " <selenium.webdriver.remote.webelement.WebElement (session=\"666637561a46b96cfd52d6481aa4c8f1\", element=\"3636e451-31e5-416d-a182-ac65a41300eb\")>,\n",
       " <selenium.webdriver.remote.webelement.WebElement (session=\"666637561a46b96cfd52d6481aa4c8f1\", element=\"2ff1159a-f550-4d7a-9aa6-9427dc5b6ed3\")>,\n",
       " <selenium.webdriver.remote.webelement.WebElement (session=\"666637561a46b96cfd52d6481aa4c8f1\", element=\"0882328d-e16b-42a2-a6c3-a716e692f566\")>,\n",
       " <selenium.webdriver.remote.webelement.WebElement (session=\"666637561a46b96cfd52d6481aa4c8f1\", element=\"fc6efc59-387d-4937-b1ca-eaa3c365a452\")>,\n",
       " <selenium.webdriver.remote.webelement.WebElement (session=\"666637561a46b96cfd52d6481aa4c8f1\", element=\"fecf8493-bfb8-4f25-a42d-5a274923fbaa\")>,\n",
       " <selenium.webdriver.remote.webelement.WebElement (session=\"666637561a46b96cfd52d6481aa4c8f1\", element=\"3c48da5c-c325-4ffd-9312-7fdda44353c4\")>,\n",
       " <selenium.webdriver.remote.webelement.WebElement (session=\"666637561a46b96cfd52d6481aa4c8f1\", element=\"c40d0304-ce5d-49f6-81ed-f5579798341c\")>]"
      ]
     },
     "execution_count": 10,
     "metadata": {},
     "output_type": "execute_result"
    }
   ],
   "source": [
    "company_tag[0:10]"
   ]
  },
  {
   "cell_type": "code",
   "execution_count": 11,
   "metadata": {},
   "outputs": [
    {
     "data": {
      "text/plain": [
       "['Doji Ltd',\n",
       " 'CAIA-Center For Artificial Intelligence & Advanced Analytics',\n",
       " 'HCL Technologies Limited',\n",
       " 'AugmatrixGo',\n",
       " 'Pricewaterhouse Coopers Private Limited',\n",
       " 'Philips India Limited',\n",
       " 'Cunesoft India Private Limited',\n",
       " 'NetApp',\n",
       " 'BLUE YONDER INDIA PRIVATE LIMITED',\n",
       " 'BLUE YONDER INDIA PRIVATE LIMITED']"
      ]
     },
     "execution_count": 11,
     "metadata": {},
     "output_type": "execute_result"
    }
   ],
   "source": [
    "for i in company_tag:\n",
    "    company=i.text\n",
    "    company_name.append(company)\n",
    "company_name[0:10]    "
   ]
  },
  {
   "cell_type": "code",
   "execution_count": 13,
   "metadata": {},
   "outputs": [],
   "source": [
    "location_tag=driver.find_elements_by_xpath(\"//li[@class='fleft grey-text br2 placeHolderLi location']/span[1]\")"
   ]
  },
  {
   "cell_type": "code",
   "execution_count": 14,
   "metadata": {},
   "outputs": [
    {
     "data": {
      "text/plain": [
       "[<selenium.webdriver.remote.webelement.WebElement (session=\"666637561a46b96cfd52d6481aa4c8f1\", element=\"2cbdae42-f84f-4644-9f25-fb31afda60a8\")>,\n",
       " <selenium.webdriver.remote.webelement.WebElement (session=\"666637561a46b96cfd52d6481aa4c8f1\", element=\"aedfd79c-33a5-4f3d-9340-6bd5f8e7e9e9\")>,\n",
       " <selenium.webdriver.remote.webelement.WebElement (session=\"666637561a46b96cfd52d6481aa4c8f1\", element=\"315f897b-18aa-4613-bb96-5ed6801ab35b\")>,\n",
       " <selenium.webdriver.remote.webelement.WebElement (session=\"666637561a46b96cfd52d6481aa4c8f1\", element=\"663898a0-b073-4efd-a4db-dc52379edf4f\")>,\n",
       " <selenium.webdriver.remote.webelement.WebElement (session=\"666637561a46b96cfd52d6481aa4c8f1\", element=\"82c0c169-edc2-464c-905f-a590dad91581\")>,\n",
       " <selenium.webdriver.remote.webelement.WebElement (session=\"666637561a46b96cfd52d6481aa4c8f1\", element=\"78ad5733-a309-4592-8193-6488d46aec99\")>,\n",
       " <selenium.webdriver.remote.webelement.WebElement (session=\"666637561a46b96cfd52d6481aa4c8f1\", element=\"756b9278-17d3-4713-843e-5bcc18f4e718\")>,\n",
       " <selenium.webdriver.remote.webelement.WebElement (session=\"666637561a46b96cfd52d6481aa4c8f1\", element=\"81a5b8fe-6032-4df1-af04-7ba1df0a7a6c\")>,\n",
       " <selenium.webdriver.remote.webelement.WebElement (session=\"666637561a46b96cfd52d6481aa4c8f1\", element=\"0b4a54be-82a1-4c8d-915e-f92a98e38e42\")>,\n",
       " <selenium.webdriver.remote.webelement.WebElement (session=\"666637561a46b96cfd52d6481aa4c8f1\", element=\"e9b8e9a9-bbba-40d4-8004-58e9890217cf\")>]"
      ]
     },
     "execution_count": 14,
     "metadata": {},
     "output_type": "execute_result"
    }
   ],
   "source": [
    "location_tag[0:10]"
   ]
  },
  {
   "cell_type": "code",
   "execution_count": 16,
   "metadata": {},
   "outputs": [
    {
     "data": {
      "text/plain": [
       "['Delhi NCR, Bengaluru, Anywhere in India',\n",
       " 'Chennai, Pune, Bengaluru, Hyderabad',\n",
       " 'Bengaluru',\n",
       " 'Bengaluru',\n",
       " 'Bengaluru',\n",
       " 'Bengaluru',\n",
       " 'Bengaluru / Bangalore',\n",
       " 'Bengaluru',\n",
       " 'Bengaluru',\n",
       " 'Bengaluru']"
      ]
     },
     "execution_count": 16,
     "metadata": {},
     "output_type": "execute_result"
    }
   ],
   "source": [
    "for i in location_tag:\n",
    "    location=i.text\n",
    "    job_location.append(location)\n",
    "job_location[0:10]"
   ]
  },
  {
   "cell_type": "code",
   "execution_count": 17,
   "metadata": {},
   "outputs": [],
   "source": [
    "description_tag=driver.find_elements_by_xpath(\"//div[@class='job-description fs12 grey-text']\")"
   ]
  },
  {
   "cell_type": "code",
   "execution_count": 19,
   "metadata": {},
   "outputs": [
    {
     "data": {
      "text/plain": [
       "[<selenium.webdriver.remote.webelement.WebElement (session=\"666637561a46b96cfd52d6481aa4c8f1\", element=\"087d2fb3-d5fa-448b-ba25-52d9646d1eb1\")>,\n",
       " <selenium.webdriver.remote.webelement.WebElement (session=\"666637561a46b96cfd52d6481aa4c8f1\", element=\"bc283e73-dbef-4da2-9194-7a664291087a\")>,\n",
       " <selenium.webdriver.remote.webelement.WebElement (session=\"666637561a46b96cfd52d6481aa4c8f1\", element=\"7f595c85-db8a-4633-b9c6-2f4a88e7317a\")>,\n",
       " <selenium.webdriver.remote.webelement.WebElement (session=\"666637561a46b96cfd52d6481aa4c8f1\", element=\"ddc98f25-f295-43e1-87a5-6c4cecc2df51\")>,\n",
       " <selenium.webdriver.remote.webelement.WebElement (session=\"666637561a46b96cfd52d6481aa4c8f1\", element=\"6750dc78-f90b-408d-9d05-ad94e125c606\")>,\n",
       " <selenium.webdriver.remote.webelement.WebElement (session=\"666637561a46b96cfd52d6481aa4c8f1\", element=\"8e8f33eb-a8d2-4439-9b11-a662ed93b05f\")>,\n",
       " <selenium.webdriver.remote.webelement.WebElement (session=\"666637561a46b96cfd52d6481aa4c8f1\", element=\"443f3dc8-3c82-4d97-95cd-ba4ecdeb4762\")>,\n",
       " <selenium.webdriver.remote.webelement.WebElement (session=\"666637561a46b96cfd52d6481aa4c8f1\", element=\"86385559-a6fe-4f3e-aa33-7b6e49a848f9\")>,\n",
       " <selenium.webdriver.remote.webelement.WebElement (session=\"666637561a46b96cfd52d6481aa4c8f1\", element=\"ab1fa852-70a3-4e00-a421-8ad9091f48e2\")>,\n",
       " <selenium.webdriver.remote.webelement.WebElement (session=\"666637561a46b96cfd52d6481aa4c8f1\", element=\"8ec8f1ea-4cae-4c3a-a22d-af2aa6da5280\")>]"
      ]
     },
     "execution_count": 19,
     "metadata": {},
     "output_type": "execute_result"
    }
   ],
   "source": [
    "description_tag[0:10]"
   ]
  },
  {
   "cell_type": "code",
   "execution_count": 20,
   "metadata": {},
   "outputs": [
    {
     "data": {
      "text/plain": [
       "['Direct experience in performing statistical analyses or building a variety of machine l...',\n",
       " 'In case you are trying to shift your career to Analytics and / or AI domain please do c...',\n",
       " 'Experience of end to end implementation of predictive analytics projects for at least 1...',\n",
       " 'BTech / MTech degree in from reputed institutes like IIT / NIT / BITSSkills Required : ...',\n",
       " 'Bachelor s or Master s Degree in Computer Science, Engineering or other technical disci...',\n",
       " 'Hands on experience in the one or more databases like Hadoop, AWS Redshift, Snowflake e...',\n",
       " 'Roles and Responsibilities We are looking for a competent and enthusiastic candidate wi...',\n",
       " 'A bachelor s degree in engineering or science is requiredKnowledge of public cloud-base...',\n",
       " 'Roles and ResponsibilitiesUnder guidance, or independently, design and implement machin...',\n",
       " 'Experience working with some of the following frameworks and libraries: Pandas, Numpy, ...']"
      ]
     },
     "execution_count": 20,
     "metadata": {},
     "output_type": "execute_result"
    }
   ],
   "source": [
    "for i in description_tag:\n",
    "    description=i.text\n",
    "    job_description.append(description)\n",
    "job_description[0:10]    "
   ]
  },
  {
   "cell_type": "code",
   "execution_count": 21,
   "metadata": {},
   "outputs": [
    {
     "name": "stdout",
     "output_type": "stream",
     "text": [
      "20 20 20 20\n"
     ]
    }
   ],
   "source": [
    "print(len(job_title),len(company_name),len(job_location),len(job_description))"
   ]
  },
  {
   "cell_type": "code",
   "execution_count": 22,
   "metadata": {},
   "outputs": [],
   "source": [
    "import pandas as pd\n",
    "jobs=pd.DataFrame({})\n",
    "jobs['title']=job_title\n",
    "jobs['company']=company_name\n",
    "jobs['location']=job_location\n",
    "jobs['description']=job_description"
   ]
  },
  {
   "cell_type": "code",
   "execution_count": 23,
   "metadata": {},
   "outputs": [
    {
     "data": {
      "text/html": [
       "<div>\n",
       "<style scoped>\n",
       "    .dataframe tbody tr th:only-of-type {\n",
       "        vertical-align: middle;\n",
       "    }\n",
       "\n",
       "    .dataframe tbody tr th {\n",
       "        vertical-align: top;\n",
       "    }\n",
       "\n",
       "    .dataframe thead th {\n",
       "        text-align: right;\n",
       "    }\n",
       "</style>\n",
       "<table border=\"1\" class=\"dataframe\">\n",
       "  <thead>\n",
       "    <tr style=\"text-align: right;\">\n",
       "      <th></th>\n",
       "      <th>title</th>\n",
       "      <th>company</th>\n",
       "      <th>location</th>\n",
       "      <th>description</th>\n",
       "    </tr>\n",
       "  </thead>\n",
       "  <tbody>\n",
       "    <tr>\n",
       "      <th>0</th>\n",
       "      <td>Data Scientist - Machine Learning - Remote Wor...</td>\n",
       "      <td>Doji Ltd</td>\n",
       "      <td>Delhi NCR, Bengaluru, Anywhere in India</td>\n",
       "      <td>Direct experience in performing statistical an...</td>\n",
       "    </tr>\n",
       "    <tr>\n",
       "      <th>1</th>\n",
       "      <td>Data Scientist/Data Analyst-immediate</td>\n",
       "      <td>CAIA-Center For Artificial Intelligence &amp; Adva...</td>\n",
       "      <td>Chennai, Pune, Bengaluru, Hyderabad</td>\n",
       "      <td>In case you are trying to shift your career to...</td>\n",
       "    </tr>\n",
       "    <tr>\n",
       "      <th>2</th>\n",
       "      <td>HCL hiring Data scientist with exp in machine ...</td>\n",
       "      <td>HCL Technologies Limited</td>\n",
       "      <td>Bengaluru</td>\n",
       "      <td>Experience of end to end implementation of pre...</td>\n",
       "    </tr>\n",
       "    <tr>\n",
       "      <th>3</th>\n",
       "      <td>Data Scientist - Machine Learning</td>\n",
       "      <td>AugmatrixGo</td>\n",
       "      <td>Bengaluru</td>\n",
       "      <td>BTech / MTech degree in from reputed institute...</td>\n",
       "    </tr>\n",
       "    <tr>\n",
       "      <th>4</th>\n",
       "      <td>Senior Associate - Data Scientist/ML Engineer</td>\n",
       "      <td>Pricewaterhouse Coopers Private Limited</td>\n",
       "      <td>Bengaluru</td>\n",
       "      <td>Bachelor s or Master s Degree in Computer Scie...</td>\n",
       "    </tr>\n",
       "    <tr>\n",
       "      <th>5</th>\n",
       "      <td>Senior Data Scientist</td>\n",
       "      <td>Philips India Limited</td>\n",
       "      <td>Bengaluru</td>\n",
       "      <td>Hands on experience in the one or more databas...</td>\n",
       "    </tr>\n",
       "    <tr>\n",
       "      <th>6</th>\n",
       "      <td>Software Developer - Data Scientist / NLP / Ma...</td>\n",
       "      <td>Cunesoft India Private Limited</td>\n",
       "      <td>Bengaluru / Bangalore</td>\n",
       "      <td>Roles and Responsibilities We are looking for ...</td>\n",
       "    </tr>\n",
       "    <tr>\n",
       "      <th>7</th>\n",
       "      <td>Sr. Data Scientist</td>\n",
       "      <td>NetApp</td>\n",
       "      <td>Bengaluru</td>\n",
       "      <td>A bachelor s degree in engineering or science ...</td>\n",
       "    </tr>\n",
       "    <tr>\n",
       "      <th>8</th>\n",
       "      <td>Data Scientist - Machine Learning</td>\n",
       "      <td>BLUE YONDER INDIA PRIVATE LIMITED</td>\n",
       "      <td>Bengaluru</td>\n",
       "      <td>Roles and ResponsibilitiesUnder guidance, or i...</td>\n",
       "    </tr>\n",
       "    <tr>\n",
       "      <th>9</th>\n",
       "      <td>Data Scientist - Machine Learning</td>\n",
       "      <td>BLUE YONDER INDIA PRIVATE LIMITED</td>\n",
       "      <td>Bengaluru</td>\n",
       "      <td>Experience working with some of the following ...</td>\n",
       "    </tr>\n",
       "    <tr>\n",
       "      <th>10</th>\n",
       "      <td>Data Scientist</td>\n",
       "      <td>GENPACT India Private Limited</td>\n",
       "      <td>Bengaluru</td>\n",
       "      <td>We are inviting applications for the role of D...</td>\n",
       "    </tr>\n",
       "    <tr>\n",
       "      <th>11</th>\n",
       "      <td>Advanced Architect - Data Scientist</td>\n",
       "      <td>Mphasis Limited</td>\n",
       "      <td>Bengaluru</td>\n",
       "      <td>Experience working with enterprise architectur...</td>\n",
       "    </tr>\n",
       "    <tr>\n",
       "      <th>12</th>\n",
       "      <td>Data Scientist (Healthcare/Pharma Domain prefe...</td>\n",
       "      <td>GENPACT India Private Limited</td>\n",
       "      <td>Bengaluru</td>\n",
       "      <td>Should have expertise on predictive modeling t...</td>\n",
       "    </tr>\n",
       "    <tr>\n",
       "      <th>13</th>\n",
       "      <td>Data Scientist</td>\n",
       "      <td>24/7 Customer</td>\n",
       "      <td>Bengaluru</td>\n",
       "      <td>As a data scientist, you d be working towards ...</td>\n",
       "    </tr>\n",
       "    <tr>\n",
       "      <th>14</th>\n",
       "      <td>AI Resident - Data Scientist</td>\n",
       "      <td>Shell India Markets Private Limited</td>\n",
       "      <td>Bengaluru</td>\n",
       "      <td>Preferably expertise Deep Learning, Bayesian L...</td>\n",
       "    </tr>\n",
       "    <tr>\n",
       "      <th>15</th>\n",
       "      <td>AI Resident Data Scientist Stats. Consl.</td>\n",
       "      <td>Shell India Markets Private Limited</td>\n",
       "      <td>Bengaluru</td>\n",
       "      <td>Hands-on experience incoding statistical model...</td>\n",
       "    </tr>\n",
       "    <tr>\n",
       "      <th>16</th>\n",
       "      <td>Data Scientist (ON Contract)</td>\n",
       "      <td>Sandvik Asia Pvt. Ltd.</td>\n",
       "      <td>Bengaluru</td>\n",
       "      <td>The main responsibilities are as follows: Rese...</td>\n",
       "    </tr>\n",
       "    <tr>\n",
       "      <th>17</th>\n",
       "      <td>Senior Data Scientist</td>\n",
       "      <td>UpGrad</td>\n",
       "      <td>Mumbai, Bengaluru</td>\n",
       "      <td>Bachelors degree in Computer Science, Data Sci...</td>\n",
       "    </tr>\n",
       "    <tr>\n",
       "      <th>18</th>\n",
       "      <td>Data Scientist</td>\n",
       "      <td>Applied Materials</td>\n",
       "      <td>Bengaluru</td>\n",
       "      <td>Work experience as a Semiconductor process eng...</td>\n",
       "    </tr>\n",
       "    <tr>\n",
       "      <th>19</th>\n",
       "      <td>Lead Data Scientist</td>\n",
       "      <td>COLLABERA</td>\n",
       "      <td>Bengaluru</td>\n",
       "      <td>Masters preferredProficient in Python &amp; SQL wi...</td>\n",
       "    </tr>\n",
       "  </tbody>\n",
       "</table>\n",
       "</div>"
      ],
      "text/plain": [
       "                                                title  \\\n",
       "0   Data Scientist - Machine Learning - Remote Wor...   \n",
       "1               Data Scientist/Data Analyst-immediate   \n",
       "2   HCL hiring Data scientist with exp in machine ...   \n",
       "3                   Data Scientist - Machine Learning   \n",
       "4       Senior Associate - Data Scientist/ML Engineer   \n",
       "5                               Senior Data Scientist   \n",
       "6   Software Developer - Data Scientist / NLP / Ma...   \n",
       "7                                  Sr. Data Scientist   \n",
       "8                   Data Scientist - Machine Learning   \n",
       "9                   Data Scientist - Machine Learning   \n",
       "10                                     Data Scientist   \n",
       "11                Advanced Architect - Data Scientist   \n",
       "12  Data Scientist (Healthcare/Pharma Domain prefe...   \n",
       "13                                     Data Scientist   \n",
       "14                       AI Resident - Data Scientist   \n",
       "15           AI Resident Data Scientist Stats. Consl.   \n",
       "16                       Data Scientist (ON Contract)   \n",
       "17                              Senior Data Scientist   \n",
       "18                                     Data Scientist   \n",
       "19                                Lead Data Scientist   \n",
       "\n",
       "                                              company  \\\n",
       "0                                            Doji Ltd   \n",
       "1   CAIA-Center For Artificial Intelligence & Adva...   \n",
       "2                            HCL Technologies Limited   \n",
       "3                                         AugmatrixGo   \n",
       "4             Pricewaterhouse Coopers Private Limited   \n",
       "5                               Philips India Limited   \n",
       "6                      Cunesoft India Private Limited   \n",
       "7                                              NetApp   \n",
       "8                   BLUE YONDER INDIA PRIVATE LIMITED   \n",
       "9                   BLUE YONDER INDIA PRIVATE LIMITED   \n",
       "10                      GENPACT India Private Limited   \n",
       "11                                    Mphasis Limited   \n",
       "12                      GENPACT India Private Limited   \n",
       "13                                      24/7 Customer   \n",
       "14                Shell India Markets Private Limited   \n",
       "15                Shell India Markets Private Limited   \n",
       "16                             Sandvik Asia Pvt. Ltd.   \n",
       "17                                             UpGrad   \n",
       "18                                  Applied Materials   \n",
       "19                                          COLLABERA   \n",
       "\n",
       "                                   location  \\\n",
       "0   Delhi NCR, Bengaluru, Anywhere in India   \n",
       "1       Chennai, Pune, Bengaluru, Hyderabad   \n",
       "2                                 Bengaluru   \n",
       "3                                 Bengaluru   \n",
       "4                                 Bengaluru   \n",
       "5                                 Bengaluru   \n",
       "6                     Bengaluru / Bangalore   \n",
       "7                                 Bengaluru   \n",
       "8                                 Bengaluru   \n",
       "9                                 Bengaluru   \n",
       "10                                Bengaluru   \n",
       "11                                Bengaluru   \n",
       "12                                Bengaluru   \n",
       "13                                Bengaluru   \n",
       "14                                Bengaluru   \n",
       "15                                Bengaluru   \n",
       "16                                Bengaluru   \n",
       "17                        Mumbai, Bengaluru   \n",
       "18                                Bengaluru   \n",
       "19                                Bengaluru   \n",
       "\n",
       "                                          description  \n",
       "0   Direct experience in performing statistical an...  \n",
       "1   In case you are trying to shift your career to...  \n",
       "2   Experience of end to end implementation of pre...  \n",
       "3   BTech / MTech degree in from reputed institute...  \n",
       "4   Bachelor s or Master s Degree in Computer Scie...  \n",
       "5   Hands on experience in the one or more databas...  \n",
       "6   Roles and Responsibilities We are looking for ...  \n",
       "7   A bachelor s degree in engineering or science ...  \n",
       "8   Roles and ResponsibilitiesUnder guidance, or i...  \n",
       "9   Experience working with some of the following ...  \n",
       "10  We are inviting applications for the role of D...  \n",
       "11  Experience working with enterprise architectur...  \n",
       "12  Should have expertise on predictive modeling t...  \n",
       "13  As a data scientist, you d be working towards ...  \n",
       "14  Preferably expertise Deep Learning, Bayesian L...  \n",
       "15  Hands-on experience incoding statistical model...  \n",
       "16  The main responsibilities are as follows: Rese...  \n",
       "17  Bachelors degree in Computer Science, Data Sci...  \n",
       "18  Work experience as a Semiconductor process eng...  \n",
       "19  Masters preferredProficient in Python & SQL wi...  "
      ]
     },
     "execution_count": 23,
     "metadata": {},
     "output_type": "execute_result"
    }
   ],
   "source": [
    "jobs"
   ]
  },
  {
   "cell_type": "code",
   "execution_count": null,
   "metadata": {},
   "outputs": [],
   "source": []
  }
 ],
 "metadata": {
  "kernelspec": {
   "display_name": "Python 3",
   "language": "python",
   "name": "python3"
  },
  "language_info": {
   "codemirror_mode": {
    "name": "ipython",
    "version": 3
   },
   "file_extension": ".py",
   "mimetype": "text/x-python",
   "name": "python",
   "nbconvert_exporter": "python",
   "pygments_lexer": "ipython3",
   "version": "3.8.3"
  }
 },
 "nbformat": 4,
 "nbformat_minor": 4
}
