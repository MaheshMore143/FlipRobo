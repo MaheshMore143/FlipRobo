{
 "cells": [
  {
   "cell_type": "code",
   "execution_count": 1,
   "metadata": {},
   "outputs": [],
   "source": [
    "import selenium\n",
    "import pandas as pd\n",
    "from selenium import webdriver"
   ]
  },
  {
   "cell_type": "code",
   "execution_count": 2,
   "metadata": {},
   "outputs": [],
   "source": [
    "driver=webdriver.Chrome(r'C:\\Users\\DELL\\Downloads\\chromedriver.exe')"
   ]
  },
  {
   "cell_type": "code",
   "execution_count": 3,
   "metadata": {},
   "outputs": [],
   "source": [
    "url='https://www.glassdoor.co.in/Job/noida-data-scientist-jobs-SRCH_IL.0,5_IC4477468_KO6,20.htm?srs=RECENT_SEARCHES'"
   ]
  },
  {
   "cell_type": "code",
   "execution_count": 4,
   "metadata": {},
   "outputs": [],
   "source": [
    "driver.get(url)"
   ]
  },
  {
   "cell_type": "code",
   "execution_count": 5,
   "metadata": {},
   "outputs": [],
   "source": [
    "company_name=[]\n",
    "days_posted=[]\n",
    "company_rating=[]"
   ]
  },
  {
   "cell_type": "code",
   "execution_count": 6,
   "metadata": {},
   "outputs": [],
   "source": [
    "name_tag=driver.find_elements_by_xpath(\"//div[@class='jobHeader d-flex justify-content-between align-items-start']\")"
   ]
  },
  {
   "cell_type": "code",
   "execution_count": 7,
   "metadata": {},
   "outputs": [
    {
     "data": {
      "text/plain": [
       "[<selenium.webdriver.remote.webelement.WebElement (session=\"0caef4f76722066d1922e563f434de44\", element=\"b47a7fa6-a391-4507-9911-1cfd2b0b24a2\")>,\n",
       " <selenium.webdriver.remote.webelement.WebElement (session=\"0caef4f76722066d1922e563f434de44\", element=\"c30afbd5-56e2-4217-a4f4-29d0d83fddc5\")>,\n",
       " <selenium.webdriver.remote.webelement.WebElement (session=\"0caef4f76722066d1922e563f434de44\", element=\"094c8855-8b27-42ed-bed8-a9c2fbc169c9\")>,\n",
       " <selenium.webdriver.remote.webelement.WebElement (session=\"0caef4f76722066d1922e563f434de44\", element=\"363610eb-be3d-4031-9807-bba9bd594961\")>,\n",
       " <selenium.webdriver.remote.webelement.WebElement (session=\"0caef4f76722066d1922e563f434de44\", element=\"19dd0d13-d10c-4739-aa3d-1e72c12096c2\")>,\n",
       " <selenium.webdriver.remote.webelement.WebElement (session=\"0caef4f76722066d1922e563f434de44\", element=\"a019787c-1e0f-48dc-8db2-b0466f51221d\")>,\n",
       " <selenium.webdriver.remote.webelement.WebElement (session=\"0caef4f76722066d1922e563f434de44\", element=\"54f9cc3f-840c-4d35-8cb0-f4676271e71b\")>,\n",
       " <selenium.webdriver.remote.webelement.WebElement (session=\"0caef4f76722066d1922e563f434de44\", element=\"de0c07ff-8197-4537-90db-fc33147e4289\")>,\n",
       " <selenium.webdriver.remote.webelement.WebElement (session=\"0caef4f76722066d1922e563f434de44\", element=\"a8bf5927-ae83-4fb9-aa04-dab0307ea1a9\")>,\n",
       " <selenium.webdriver.remote.webelement.WebElement (session=\"0caef4f76722066d1922e563f434de44\", element=\"d22ae705-4fe5-4ca5-96a1-5798fd5cce95\")>]"
      ]
     },
     "execution_count": 7,
     "metadata": {},
     "output_type": "execute_result"
    }
   ],
   "source": [
    "name_tag[0:10]"
   ]
  },
  {
   "cell_type": "code",
   "execution_count": 8,
   "metadata": {},
   "outputs": [
    {
     "data": {
      "text/plain": [
       "['HDFC Bank',\n",
       " 'Salasar New Age Technologies',\n",
       " 'Biz2Credit Inc',\n",
       " 'Simpplr Software India Pvt. Ltd.',\n",
       " 'WSD Consultant',\n",
       " 'QuantumIT',\n",
       " 'Dürr Somac GmbH',\n",
       " 'Techlive',\n",
       " 'Salasar New Age Technologies',\n",
       " 'Emerging India Group']"
      ]
     },
     "execution_count": 8,
     "metadata": {},
     "output_type": "execute_result"
    }
   ],
   "source": [
    "for i in name_tag:\n",
    "    name=i.text\n",
    "    company_name.append(name)\n",
    "company_name[0:10]  "
   ]
  },
  {
   "cell_type": "code",
   "execution_count": 9,
   "metadata": {},
   "outputs": [],
   "source": [
    "posted_tag=driver.find_elements_by_xpath(\"//div[@class='d-flex align-items-end pl-std css-mi55ob']\")"
   ]
  },
  {
   "cell_type": "code",
   "execution_count": 10,
   "metadata": {},
   "outputs": [
    {
     "data": {
      "text/plain": [
       "[<selenium.webdriver.remote.webelement.WebElement (session=\"0caef4f76722066d1922e563f434de44\", element=\"2b6a7acd-e613-485e-9ef9-e5f5e754a265\")>,\n",
       " <selenium.webdriver.remote.webelement.WebElement (session=\"0caef4f76722066d1922e563f434de44\", element=\"a3d06ad6-8ac6-4f42-9eef-2112500ee0f5\")>,\n",
       " <selenium.webdriver.remote.webelement.WebElement (session=\"0caef4f76722066d1922e563f434de44\", element=\"f0063061-7951-4ee2-9724-c8fae2438661\")>,\n",
       " <selenium.webdriver.remote.webelement.WebElement (session=\"0caef4f76722066d1922e563f434de44\", element=\"5437d146-2200-4f07-a459-869578c920aa\")>,\n",
       " <selenium.webdriver.remote.webelement.WebElement (session=\"0caef4f76722066d1922e563f434de44\", element=\"4e539e49-9473-45ac-8400-d67019c724ba\")>,\n",
       " <selenium.webdriver.remote.webelement.WebElement (session=\"0caef4f76722066d1922e563f434de44\", element=\"eb65c536-512e-4a0d-bd8d-f713850ffaf9\")>,\n",
       " <selenium.webdriver.remote.webelement.WebElement (session=\"0caef4f76722066d1922e563f434de44\", element=\"5bfd22e1-6ada-44ab-ade8-8114d2c45ea8\")>,\n",
       " <selenium.webdriver.remote.webelement.WebElement (session=\"0caef4f76722066d1922e563f434de44\", element=\"3d93a07d-c23d-42c6-80ba-b2ecc3310974\")>,\n",
       " <selenium.webdriver.remote.webelement.WebElement (session=\"0caef4f76722066d1922e563f434de44\", element=\"a9d94c41-4524-4412-8e12-b05349409ae1\")>,\n",
       " <selenium.webdriver.remote.webelement.WebElement (session=\"0caef4f76722066d1922e563f434de44\", element=\"83c88058-3f63-4a4e-8eb6-ab00043d9bed\")>]"
      ]
     },
     "execution_count": 10,
     "metadata": {},
     "output_type": "execute_result"
    }
   ],
   "source": [
    "posted_tag[0:10]"
   ]
  },
  {
   "cell_type": "code",
   "execution_count": 11,
   "metadata": {},
   "outputs": [
    {
     "data": {
      "text/plain": [
       "['2d', '30d+', '30d+', '24h', '30d+', '15d', '30d+', '30d+', '30d+', '26d']"
      ]
     },
     "execution_count": 11,
     "metadata": {},
     "output_type": "execute_result"
    }
   ],
   "source": [
    "for i in posted_tag:\n",
    "    posted=i.text\n",
    "    days_posted.append(posted)\n",
    "days_posted[0:10]    "
   ]
  },
  {
   "cell_type": "code",
   "execution_count": 14,
   "metadata": {},
   "outputs": [],
   "source": [
    "rating_tag=driver.find_elements_by_xpath(\"//a[@class='jobLink']/span[1]\")"
   ]
  },
  {
   "cell_type": "code",
   "execution_count": 15,
   "metadata": {},
   "outputs": [
    {
     "data": {
      "text/plain": [
       "[<selenium.webdriver.remote.webelement.WebElement (session=\"0caef4f76722066d1922e563f434de44\", element=\"452aed44-8c6c-4df0-b1b9-739df02b62d1\")>,\n",
       " <selenium.webdriver.remote.webelement.WebElement (session=\"0caef4f76722066d1922e563f434de44\", element=\"10e86de7-0e7e-45fe-9093-c6ddab6183e4\")>,\n",
       " <selenium.webdriver.remote.webelement.WebElement (session=\"0caef4f76722066d1922e563f434de44\", element=\"ea612888-bce7-4259-8162-bb8c3b54b851\")>,\n",
       " <selenium.webdriver.remote.webelement.WebElement (session=\"0caef4f76722066d1922e563f434de44\", element=\"e1e30bf7-43b3-49ed-816b-4f42bbbbb16d\")>,\n",
       " <selenium.webdriver.remote.webelement.WebElement (session=\"0caef4f76722066d1922e563f434de44\", element=\"d3da4aac-27a9-4856-adb5-ca51c6b736bc\")>,\n",
       " <selenium.webdriver.remote.webelement.WebElement (session=\"0caef4f76722066d1922e563f434de44\", element=\"aebef61f-3763-4e71-8c44-3e5f0b6b4428\")>,\n",
       " <selenium.webdriver.remote.webelement.WebElement (session=\"0caef4f76722066d1922e563f434de44\", element=\"03d24ce5-ec78-4d99-8b22-e89ae0c7ccf6\")>,\n",
       " <selenium.webdriver.remote.webelement.WebElement (session=\"0caef4f76722066d1922e563f434de44\", element=\"d83d1e90-11b7-41a5-9e6c-450d4bef4305\")>,\n",
       " <selenium.webdriver.remote.webelement.WebElement (session=\"0caef4f76722066d1922e563f434de44\", element=\"2d40c969-60b1-4f0b-b995-d73f03fb708c\")>,\n",
       " <selenium.webdriver.remote.webelement.WebElement (session=\"0caef4f76722066d1922e563f434de44\", element=\"a0d9ee84-c572-4715-ab55-b8ed75c281e6\")>]"
      ]
     },
     "execution_count": 15,
     "metadata": {},
     "output_type": "execute_result"
    }
   ],
   "source": [
    "rating_tag[0:10]"
   ]
  },
  {
   "cell_type": "code",
   "execution_count": 16,
   "metadata": {},
   "outputs": [
    {
     "data": {
      "text/plain": [
       "['', '', '', '', '', '', '', '', '', '']"
      ]
     },
     "execution_count": 16,
     "metadata": {},
     "output_type": "execute_result"
    }
   ],
   "source": [
    "for i in rating_tag:\n",
    "    rating=i.text\n",
    "    company_rating.append(rating)\n",
    "company_rating[0:10]    "
   ]
  },
  {
   "cell_type": "code",
   "execution_count": 17,
   "metadata": {},
   "outputs": [
    {
     "name": "stdout",
     "output_type": "stream",
     "text": [
      "30 30 30\n"
     ]
    }
   ],
   "source": [
    "print(len(company_name),len(days_posted),len(company_rating))"
   ]
  },
  {
   "cell_type": "code",
   "execution_count": 18,
   "metadata": {},
   "outputs": [],
   "source": [
    "import pandas as pd\n",
    "jobs=pd.DataFrame({})\n",
    "jobs['company']=company_name\n",
    "jobs['No.of days ago posted']=days_posted\n",
    "jobs['rating']=company_rating"
   ]
  },
  {
   "cell_type": "code",
   "execution_count": 19,
   "metadata": {},
   "outputs": [
    {
     "data": {
      "text/html": [
       "<div>\n",
       "<style scoped>\n",
       "    .dataframe tbody tr th:only-of-type {\n",
       "        vertical-align: middle;\n",
       "    }\n",
       "\n",
       "    .dataframe tbody tr th {\n",
       "        vertical-align: top;\n",
       "    }\n",
       "\n",
       "    .dataframe thead th {\n",
       "        text-align: right;\n",
       "    }\n",
       "</style>\n",
       "<table border=\"1\" class=\"dataframe\">\n",
       "  <thead>\n",
       "    <tr style=\"text-align: right;\">\n",
       "      <th></th>\n",
       "      <th>company</th>\n",
       "      <th>No.of days ago posted</th>\n",
       "      <th>rating</th>\n",
       "    </tr>\n",
       "  </thead>\n",
       "  <tbody>\n",
       "    <tr>\n",
       "      <th>0</th>\n",
       "      <td>HDFC Bank</td>\n",
       "      <td>2d</td>\n",
       "      <td></td>\n",
       "    </tr>\n",
       "    <tr>\n",
       "      <th>1</th>\n",
       "      <td>Salasar New Age Technologies</td>\n",
       "      <td>30d+</td>\n",
       "      <td></td>\n",
       "    </tr>\n",
       "    <tr>\n",
       "      <th>2</th>\n",
       "      <td>Biz2Credit Inc</td>\n",
       "      <td>30d+</td>\n",
       "      <td></td>\n",
       "    </tr>\n",
       "    <tr>\n",
       "      <th>3</th>\n",
       "      <td>Simpplr Software India Pvt. Ltd.</td>\n",
       "      <td>24h</td>\n",
       "      <td></td>\n",
       "    </tr>\n",
       "    <tr>\n",
       "      <th>4</th>\n",
       "      <td>WSD Consultant</td>\n",
       "      <td>30d+</td>\n",
       "      <td></td>\n",
       "    </tr>\n",
       "    <tr>\n",
       "      <th>5</th>\n",
       "      <td>QuantumIT</td>\n",
       "      <td>15d</td>\n",
       "      <td></td>\n",
       "    </tr>\n",
       "    <tr>\n",
       "      <th>6</th>\n",
       "      <td>Dürr Somac GmbH</td>\n",
       "      <td>30d+</td>\n",
       "      <td></td>\n",
       "    </tr>\n",
       "    <tr>\n",
       "      <th>7</th>\n",
       "      <td>Techlive</td>\n",
       "      <td>30d+</td>\n",
       "      <td></td>\n",
       "    </tr>\n",
       "    <tr>\n",
       "      <th>8</th>\n",
       "      <td>Salasar New Age Technologies</td>\n",
       "      <td>30d+</td>\n",
       "      <td></td>\n",
       "    </tr>\n",
       "    <tr>\n",
       "      <th>9</th>\n",
       "      <td>Emerging India Group</td>\n",
       "      <td>26d</td>\n",
       "      <td></td>\n",
       "    </tr>\n",
       "    <tr>\n",
       "      <th>10</th>\n",
       "      <td>Angel &amp; Genie</td>\n",
       "      <td>20d</td>\n",
       "      <td></td>\n",
       "    </tr>\n",
       "    <tr>\n",
       "      <th>11</th>\n",
       "      <td>ANI Calls India Private Limited</td>\n",
       "      <td>30d+</td>\n",
       "      <td></td>\n",
       "    </tr>\n",
       "    <tr>\n",
       "      <th>12</th>\n",
       "      <td>SearchUrCollege</td>\n",
       "      <td>30d+</td>\n",
       "      <td></td>\n",
       "    </tr>\n",
       "    <tr>\n",
       "      <th>13</th>\n",
       "      <td>THSTI</td>\n",
       "      <td>22d</td>\n",
       "      <td></td>\n",
       "    </tr>\n",
       "    <tr>\n",
       "      <th>14</th>\n",
       "      <td>Black Console Technologies</td>\n",
       "      <td>7d</td>\n",
       "      <td></td>\n",
       "    </tr>\n",
       "    <tr>\n",
       "      <th>15</th>\n",
       "      <td>Dürr AG</td>\n",
       "      <td>30d+</td>\n",
       "      <td></td>\n",
       "    </tr>\n",
       "    <tr>\n",
       "      <th>16</th>\n",
       "      <td>Genpact</td>\n",
       "      <td>30d+</td>\n",
       "      <td></td>\n",
       "    </tr>\n",
       "    <tr>\n",
       "      <th>17</th>\n",
       "      <td>ANI Calls India Private Limited</td>\n",
       "      <td>30d+</td>\n",
       "      <td></td>\n",
       "    </tr>\n",
       "    <tr>\n",
       "      <th>18</th>\n",
       "      <td>ZIGRAM</td>\n",
       "      <td>11d</td>\n",
       "      <td></td>\n",
       "    </tr>\n",
       "    <tr>\n",
       "      <th>19</th>\n",
       "      <td>xtLytics</td>\n",
       "      <td>30d+</td>\n",
       "      <td></td>\n",
       "    </tr>\n",
       "    <tr>\n",
       "      <th>20</th>\n",
       "      <td>GreenTech Intelligent Transportation System LLP</td>\n",
       "      <td>12d</td>\n",
       "      <td></td>\n",
       "    </tr>\n",
       "    <tr>\n",
       "      <th>21</th>\n",
       "      <td>Gauge Data Solutions</td>\n",
       "      <td>30d+</td>\n",
       "      <td></td>\n",
       "    </tr>\n",
       "    <tr>\n",
       "      <th>22</th>\n",
       "      <td>iGloble Solutions</td>\n",
       "      <td>15d</td>\n",
       "      <td></td>\n",
       "    </tr>\n",
       "    <tr>\n",
       "      <th>23</th>\n",
       "      <td>ANI Calls India Private Limited</td>\n",
       "      <td>30d+</td>\n",
       "      <td></td>\n",
       "    </tr>\n",
       "    <tr>\n",
       "      <th>24</th>\n",
       "      <td>xtLytics</td>\n",
       "      <td>30d+</td>\n",
       "      <td></td>\n",
       "    </tr>\n",
       "    <tr>\n",
       "      <th>25</th>\n",
       "      <td>ANI Calls India Private Limited</td>\n",
       "      <td>30d+</td>\n",
       "      <td></td>\n",
       "    </tr>\n",
       "    <tr>\n",
       "      <th>26</th>\n",
       "      <td>IElevate Institute</td>\n",
       "      <td>7d</td>\n",
       "      <td></td>\n",
       "    </tr>\n",
       "    <tr>\n",
       "      <th>27</th>\n",
       "      <td>ANI Calls India Private Limited</td>\n",
       "      <td>30d+</td>\n",
       "      <td></td>\n",
       "    </tr>\n",
       "    <tr>\n",
       "      <th>28</th>\n",
       "      <td>Priority Vendor</td>\n",
       "      <td>30d+</td>\n",
       "      <td></td>\n",
       "    </tr>\n",
       "    <tr>\n",
       "      <th>29</th>\n",
       "      <td>Great Learning</td>\n",
       "      <td>13d</td>\n",
       "      <td></td>\n",
       "    </tr>\n",
       "  </tbody>\n",
       "</table>\n",
       "</div>"
      ],
      "text/plain": [
       "                                            company No.of days ago posted  \\\n",
       "0                                         HDFC Bank                    2d   \n",
       "1                      Salasar New Age Technologies                  30d+   \n",
       "2                                    Biz2Credit Inc                  30d+   \n",
       "3                  Simpplr Software India Pvt. Ltd.                   24h   \n",
       "4                                    WSD Consultant                  30d+   \n",
       "5                                         QuantumIT                   15d   \n",
       "6                                   Dürr Somac GmbH                  30d+   \n",
       "7                                          Techlive                  30d+   \n",
       "8                      Salasar New Age Technologies                  30d+   \n",
       "9                              Emerging India Group                   26d   \n",
       "10                                    Angel & Genie                   20d   \n",
       "11                  ANI Calls India Private Limited                  30d+   \n",
       "12                                  SearchUrCollege                  30d+   \n",
       "13                                            THSTI                   22d   \n",
       "14                       Black Console Technologies                    7d   \n",
       "15                                          Dürr AG                  30d+   \n",
       "16                                          Genpact                  30d+   \n",
       "17                  ANI Calls India Private Limited                  30d+   \n",
       "18                                           ZIGRAM                   11d   \n",
       "19                                         xtLytics                  30d+   \n",
       "20  GreenTech Intelligent Transportation System LLP                   12d   \n",
       "21                             Gauge Data Solutions                  30d+   \n",
       "22                                iGloble Solutions                   15d   \n",
       "23                  ANI Calls India Private Limited                  30d+   \n",
       "24                                         xtLytics                  30d+   \n",
       "25                  ANI Calls India Private Limited                  30d+   \n",
       "26                               IElevate Institute                    7d   \n",
       "27                  ANI Calls India Private Limited                  30d+   \n",
       "28                                  Priority Vendor                  30d+   \n",
       "29                                   Great Learning                   13d   \n",
       "\n",
       "   rating  \n",
       "0          \n",
       "1          \n",
       "2          \n",
       "3          \n",
       "4          \n",
       "5          \n",
       "6          \n",
       "7          \n",
       "8          \n",
       "9          \n",
       "10         \n",
       "11         \n",
       "12         \n",
       "13         \n",
       "14         \n",
       "15         \n",
       "16         \n",
       "17         \n",
       "18         \n",
       "19         \n",
       "20         \n",
       "21         \n",
       "22         \n",
       "23         \n",
       "24         \n",
       "25         \n",
       "26         \n",
       "27         \n",
       "28         \n",
       "29         "
      ]
     },
     "execution_count": 19,
     "metadata": {},
     "output_type": "execute_result"
    }
   ],
   "source": [
    "jobs"
   ]
  },
  {
   "cell_type": "code",
   "execution_count": null,
   "metadata": {},
   "outputs": [],
   "source": []
  }
 ],
 "metadata": {
  "kernelspec": {
   "display_name": "Python 3",
   "language": "python",
   "name": "python3"
  },
  "language_info": {
   "codemirror_mode": {
    "name": "ipython",
    "version": 3
   },
   "file_extension": ".py",
   "mimetype": "text/x-python",
   "name": "python",
   "nbconvert_exporter": "python",
   "pygments_lexer": "ipython3",
   "version": "3.8.3"
  }
 },
 "nbformat": 4,
 "nbformat_minor": 4
}
